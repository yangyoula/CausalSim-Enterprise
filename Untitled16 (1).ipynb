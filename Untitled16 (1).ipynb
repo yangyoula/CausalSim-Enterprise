{
  "nbformat": 4,
  "nbformat_minor": 0,
  "metadata": {
    "colab": {
      "provenance": []
    },
    "kernelspec": {
      "name": "python3",
      "display_name": "Python 3"
    },
    "language_info": {
      "name": "python"
    }
  },
  "cells": [
    {
      "cell_type": "code",
      "execution_count": 1,
      "metadata": {
        "colab": {
          "base_uri": "https://localhost:8080/"
        },
        "id": "91n5-gBMAP_-",
        "outputId": "b8dc36f0-457b-43f3-de65-87f489bd24a0"
      },
      "outputs": [
        {
          "output_type": "stream",
          "name": "stdout",
          "text": [
            "✅ API keys set!\n"
          ]
        }
      ],
      "source": [
        "\n",
        "import os\n",
        "\n",
        "os.environ[\"OPENROUTER_API_KEY\"] = \"\"\n",
        "OPENROUTER_MODEL_GPT4 = \"openai/gpt-4o-mini\"\n",
        "OPENROUTER_MODEL_MIXTRAL = \"mistralai/mixtral-8x7b-instruct\"\n",
        "OPENROUTER_MODEL_GEMMA = \"google/gemma-7b-it\"\n",
        "OPENROUTER_MODEL_MISTRAL = \"mistralai/mistral-7b-instruct\"\n",
        "\n",
        "print(\"✅ API keys set!\")"
      ]
    },
    {
      "cell_type": "code",
      "source": [
        "# ==============================\n",
        "# 🚀 CausalSim-Enterprise Runner (Your CSV format)\n",
        "# Author: Youla Yang (Indiana University Bloomington)\n",
        "# ==============================\n",
        "\n",
        "!pip install openai tqdm pandas numpy -q\n",
        "\n",
        "import pandas as pd\n",
        "import numpy as np\n",
        "import re, time\n",
        "from tqdm import tqdm\n",
        "from google.colab import files\n",
        "from openai import OpenAI\n",
        "\n",
        "# ======================\n",
        "# 1. Upload your CSV\n",
        "# Expected columns:\n",
        "#   scenario_id : unique id/int\n",
        "#   scenario_text : full question text describing causal dilemma\n",
        "#   y_true : \"A\" or \"B\"\n",
        "#   w_i : risk weight\n",
        "# ======================\n",
        "uploaded = files.upload()\n",
        "CSV_FILE = list(uploaded.keys())[0]\n",
        "raw_df = pd.read_csv(CSV_FILE)\n",
        "print(\"✅ Loaded\", len(raw_df), \"rows\")\n",
        "print(\"🧠 Columns:\", raw_df.columns.tolist())\n",
        "print(raw_df.head(3))\n",
        "\n",
        "# Sanity check\n",
        "for col in [\"scenario_id\",\"scenario_text\",\"y_true\",\"w_i\"]:\n",
        "    if col not in raw_df.columns:\n",
        "        raise ValueError(f\"Missing required column {col} in CSV\")\n",
        "\n",
        "# ======================\n",
        "# 2. Heuristic parsing of hypothesis A / B from scenario_text\n",
        "# We'll try to split patterns like:\n",
        "# \"If X happens, does it cause Y, or does Y cause X?\"\n",
        "#\n",
        "# We'll return:\n",
        "#   context (baseline narrative)\n",
        "#   hypothesis_A\n",
        "#   hypothesis_B\n",
        "#\n",
        "# If we can't parse cleanly, we'll fallback to generic A/B prompts.\n",
        "# ======================\n",
        "\n",
        "def extract_hypotheses(full_text: str):\n",
        "    \"\"\"\n",
        "    Attempt to parse the scenario into two directional hypotheses.\n",
        "    Return (context, hypA, hypB).\n",
        "    We will:\n",
        "    - Keep the full text as context\n",
        "    - Try to infer A and B from phrases like \"does X cause Y, or does Y cause X\"\n",
        "    \"\"\"\n",
        "    text = \" \".join(str(full_text).strip().split())  # normalize whitespace\n",
        "\n",
        "    # Very rough heuristic:\n",
        "    # look for \"does\" ... \"cause\" ... \"or does\" ... \"cause\"\n",
        "    # e.g. \"If interest rates rise, does it cause borrowing costs to increase,\n",
        "    #       or does higher borrowing cost cause interest rates to rise?\"\n",
        "    m = re.search(\n",
        "        r\"does\\s+(.*?)\\s+cause\\s+(.*?)(?:\\?|,|\\.)\\s+or\\s+does\\s+(.*?)\\s+cause\\s+(.*?)(\\?|$)\",\n",
        "        text,\n",
        "        re.IGNORECASE\n",
        "    )\n",
        "\n",
        "    if m:\n",
        "        # build A = group1 -> group2\n",
        "        part1_src = m.group(1).strip()\n",
        "        part1_tgt = m.group(2).strip()\n",
        "        hypA = f\"{part1_src} causes {part1_tgt}\"\n",
        "\n",
        "        # build B = group3 -> group4\n",
        "        part2_src = m.group(3).strip()\n",
        "        part2_tgt = m.group(4).strip()\n",
        "        hypB = f\"{part2_src} causes {part2_tgt}\"\n",
        "\n",
        "        context = text\n",
        "        return context, hypA, hypB\n",
        "\n",
        "    # fallback: cannot parse\n",
        "    context = text\n",
        "    hypA = \"Hypothesis A: The first causal direction described in the scenario is true.\"\n",
        "    hypB = \"Hypothesis B: The reverse causal direction is true.\"\n",
        "    return context, hypA, hypB\n",
        "\n",
        "parsed_rows = []\n",
        "for _, row in raw_df.iterrows():\n",
        "    ctx, hypA, hypB = extract_hypotheses(row[\"scenario_text\"])\n",
        "    parsed_rows.append({\n",
        "        \"id\": row[\"scenario_id\"],\n",
        "        \"context\": ctx,\n",
        "        \"hypothesis_A\": hypA,\n",
        "        \"hypothesis_B\": hypB,\n",
        "        \"ground_truth\": str(row[\"y_true\"]).strip().upper(),\n",
        "        \"risk_weight\": float(row[\"w_i\"]),\n",
        "    })\n",
        "\n",
        "df = pd.DataFrame(parsed_rows)\n",
        "print(\"\\n✅ After hypothesis extraction:\")\n",
        "print(df.head(3))\n",
        "\n",
        "# ======================\n",
        "# 3. Generate counterfactual version\n",
        "# Idea:\n",
        "# For counterfactual, we \"turn off\" Hypothesis A's causal direction,\n",
        "# e.g. \"Assume [A] is NOT the driver. Re-evaluate A vs B.\"\n",
        "#\n",
        "# We'll auto-mark cf_should_break_A = True, meaning:\n",
        "#   in counterfactual, A should no longer be valid.\n",
        "# ======================\n",
        "\n",
        "def make_counterfactual_prompt(row):\n",
        "    return (\n",
        "        \"Counterfactual: Assume Hypothesis A is no longer valid. \"\n",
        "        \"In other words, even if the first cause happens, it does NOT drive the effect. \"\n",
        "        \"Given that assumption, which hypothesis is now more plausible, A or B?\"\n",
        "        \"\\n\\nOriginal Scenario:\\n\"\n",
        "        f\"{row['context']}\\n\\n\"\n",
        "        f\"Hypothesis A: {row['hypothesis_A']}\\n\"\n",
        "        f\"Hypothesis B: {row['hypothesis_B']}\\n\"\n",
        "        \"Answer again under this counterfactual.\\n\"\n",
        "        \"Respond EXACTLY in the following schema:\\n\"\n",
        "        \"Answer: A or B\\n\"\n",
        "        \"Confidence: <0-100>%\\n\"\n",
        "        \"Justification: <one short sentence>\\n\"\n",
        "    )\n",
        "\n",
        "def make_baseline_prompt(row):\n",
        "    return (\n",
        "        \"You are an enterprise causal analyst. Read the scenario and decide which causal hypothesis is more plausible.\\n\\n\"\n",
        "        f\"Scenario:\\n{row['context']}\\n\\n\"\n",
        "        f\"Hypothesis A:\\n{row['hypothesis_A']}\\n\\n\"\n",
        "        f\"Hypothesis B:\\n{row['hypothesis_B']}\\n\\n\"\n",
        "        \"Task:\\nWhich hypothesis (A or B) better matches the causal direction described?\\n\\n\"\n",
        "        \"Respond EXACTLY in the following schema:\\n\"\n",
        "        \"Answer: A or B\\n\"\n",
        "        \"Confidence: <0-100>%\\n\"\n",
        "        \"Justification: <one short sentence>\\n\"\n",
        "    )\n",
        "\n",
        "df[\"baseline_prompt\"] = df.apply(make_baseline_prompt, axis=1)\n",
        "df[\"cf_prompt\"]       = df.apply(make_counterfactual_prompt, axis=1)\n",
        "df[\"cf_should_break_A\"] = True  # by construction\n",
        "\n",
        "print(\"\\n🧪 Prompt preview:\")\n",
        "print(df[[\"baseline_prompt\",\"cf_prompt\"]].head(1).iloc[0,0][:500], \"...\\n\")\n",
        "\n",
        "# ======================\n",
        "# 4. API setup and model list\n",
        "# ======================\n",
        "\n",
        "API_KEY = input(\"\\n🔑 Enter your API key (OpenRouter or compatible): \").strip()\n",
        "\n",
        "# IMPORTANT: replace these with model slugs you actually have\n",
        "MODEL_LIST = [\n",
        "    \"openai/gpt-4o-mini\",\n",
        "    \"openai/gpt-4o\",\n",
        "    \"anthropic/claude-3.5-sonnet\",\n",
        "    \"google/gemini-1.5-pro\",\n",
        "    \"meta/llama-3.1-70b-instruct\",\n",
        "    \"mistral/mistral-7b-instruct\",\n",
        "    \"qwen/qwen2.5-72b-instruct\",\n",
        "]\n",
        "\n",
        "client = OpenAI(\n",
        "    api_key=API_KEY,\n",
        "    base_url=\"https://openrouter.ai/api/v1\"\n",
        ")\n",
        "\n",
        "def call_model(model_name, prompt, retries=3):\n",
        "    for attempt in range(retries):\n",
        "        try:\n",
        "            resp = client.chat.completions.create(\n",
        "                model=model_name,\n",
        "                messages=[{\"role\": \"user\", \"content\": prompt}],\n",
        "                temperature=0,\n",
        "            )\n",
        "            return resp.choices[0].message.content.strip()\n",
        "        except Exception as e:\n",
        "            print(f\"[{model_name}] error attempt {attempt+1}:\", e)\n",
        "            time.sleep(2)\n",
        "    return \"\"\n",
        "\n",
        "ANSWER_RE = re.compile(r\"Answer\\s*[:：]\\s*([AB])\", re.I)\n",
        "CONF_RE   = re.compile(r\"Confidence\\s*[:：]\\s*([0-9]{1,3})\", re.I)\n",
        "\n",
        "def parse_output(text):\n",
        "    ans = None\n",
        "    conf = None\n",
        "    m = ANSWER_RE.search(text or \"\")\n",
        "    if m:\n",
        "        ans = m.group(1).upper()\n",
        "    m = CONF_RE.search(text or \"\")\n",
        "    if m:\n",
        "        pct = float(m.group(1))\n",
        "        if pct < 0: pct = 0\n",
        "        if pct > 100: pct = 100\n",
        "        conf = pct / 100.0\n",
        "    return ans, conf, text\n",
        "\n",
        "def compute_accuracy(df_model):\n",
        "    return float((df_model[\"baseline_answer\"] == df_model[\"ground_truth\"]).mean())\n",
        "\n",
        "def compute_csr(df_model):\n",
        "    ok = 0\n",
        "    total = 0\n",
        "    for _, r in df_model.iterrows():\n",
        "        ba = r[\"baseline_answer\"]\n",
        "        cfa = r[\"cf_answer\"]\n",
        "        if ba not in [\"A\",\"B\"] or cfa not in [\"A\",\"B\"]:\n",
        "            continue\n",
        "        total += 1\n",
        "        # cf_should_break_A = True means: A should no longer be valid\n",
        "        if r[\"cf_should_break_A\"]:\n",
        "            if cfa != \"A\":\n",
        "                ok += 1\n",
        "        else:\n",
        "            if cfa != \"B\":\n",
        "                ok += 1\n",
        "    return (ok/total) if total else 0.0\n",
        "\n",
        "def compute_ers_sim(df_model):\n",
        "    vals = []\n",
        "    for _, r in df_model.iterrows():\n",
        "        ba = r[\"baseline_answer\"]\n",
        "        cfa = r[\"cf_answer\"]\n",
        "        if ba not in [\"A\",\"B\"] or cfa not in [\"A\",\"B\"]:\n",
        "            continue\n",
        "        flip = 1.0 if (ba != cfa) else 0.0\n",
        "        bc = r[\"baseline_conf\"] if pd.notnull(r[\"baseline_conf\"]) else 0.0\n",
        "        cc = r[\"cf_conf\"]       if pd.notnull(r[\"cf_conf\"])       else 0.0\n",
        "        delta = abs(bc - cc)\n",
        "        rw = float(r[\"risk_weight\"])\n",
        "        vals.append(rw * flip * delta)\n",
        "    return float(np.mean(vals)) if vals else 0.0\n",
        "\n",
        "# ======================\n",
        "# 5. Run all models\n",
        "# ======================\n",
        "\n",
        "all_summaries = []\n",
        "\n",
        "for model_name in MODEL_LIST:\n",
        "    print(\"\\n==============================\")\n",
        "    print(f\"🔥 Running model: {model_name}\")\n",
        "    print(\"==============================\\n\")\n",
        "\n",
        "    rows_out = []\n",
        "\n",
        "    for _, r in tqdm(df.iterrows(), total=len(df), desc=model_name):\n",
        "        base_raw = call_model(model_name, r[\"baseline_prompt\"])\n",
        "        cf_raw   = call_model(model_name, r[\"cf_prompt\"])\n",
        "\n",
        "        base_ans, base_conf, base_text = parse_output(base_raw)\n",
        "        cf_ans, cf_conf, cf_text       = parse_output(cf_raw)\n",
        "\n",
        "        rows_out.append({\n",
        "            \"id\": r[\"id\"],\n",
        "            \"ground_truth\": r[\"ground_truth\"],   # A or B\n",
        "            \"risk_weight\": r[\"risk_weight\"],\n",
        "            \"cf_should_break_A\": r[\"cf_should_break_A\"],\n",
        "\n",
        "            \"baseline_answer\": base_ans,\n",
        "            \"baseline_conf\": base_conf,\n",
        "            \"baseline_raw\": base_text,\n",
        "\n",
        "            \"cf_answer\": cf_ans,\n",
        "            \"cf_conf\": cf_conf,\n",
        "            \"cf_raw\": cf_text,\n",
        "        })\n",
        "\n",
        "    model_df = pd.DataFrame(rows_out)\n",
        "\n",
        "    # save per-model detailed outputs\n",
        "    safe_name = model_name.replace(\"/\",\"_\")\n",
        "    per_model_csv = f\"results_{safe_name}.csv\"\n",
        "    model_df.to_csv(per_model_csv, index=False)\n",
        "    print(f\"💾 Saved: {per_model_csv}\")\n",
        "\n",
        "    # compute metrics\n",
        "    acc      = compute_accuracy(model_df)\n",
        "    csr      = compute_csr(model_df)\n",
        "    ers_sim  = compute_ers_sim(model_df)\n",
        "\n",
        "    print(f\"\\n📊 {model_name}\")\n",
        "    print(f\"  Accuracy : {acc:.3f}\")\n",
        "    print(f\"  CSR      : {csr:.3f}\")\n",
        "    print(f\"  ERS-Sim  : {ers_sim:.3f}\")\n",
        "\n",
        "    all_summaries.append({\n",
        "        \"model\": model_name,\n",
        "        \"Accuracy\": acc,\n",
        "        \"CSR\": csr,\n",
        "        \"ERS-Sim\": ers_sim,\n",
        "        \"n_samples\": len(model_df)\n",
        "    })\n",
        "\n",
        "# ======================\n",
        "# 6. Global summary table\n",
        "# ======================\n",
        "\n",
        "summary_df = pd.DataFrame(all_summaries)\n",
        "summary_df.to_csv(\"summary_all_models.csv\", index=False)\n",
        "print(\"\\n============== FINAL SUMMARY ==============\")\n",
        "print(summary_df)\n",
        "print(\"===========================================\\n\")\n",
        "print(\"💾 Saved: summary_all_models.csv\")\n",
        "\n"
      ],
      "metadata": {
        "colab": {
          "base_uri": "https://localhost:8080/",
          "height": 1000
        },
        "id": "KFQ7INraARhS",
        "outputId": "7b54febb-8dd9-46dd-f2eb-1cad70420a98"
      },
      "execution_count": 4,
      "outputs": [
        {
          "output_type": "display_data",
          "data": {
            "text/plain": [
              "<IPython.core.display.HTML object>"
            ],
            "text/html": [
              "\n",
              "     <input type=\"file\" id=\"files-6470c3f9-d69c-404a-a81a-0a7300b57fb0\" name=\"files[]\" multiple disabled\n",
              "        style=\"border:none\" />\n",
              "     <output id=\"result-6470c3f9-d69c-404a-a81a-0a7300b57fb0\">\n",
              "      Upload widget is only available when the cell has been executed in the\n",
              "      current browser session. Please rerun this cell to enable.\n",
              "      </output>\n",
              "      <script>// Copyright 2017 Google LLC\n",
              "//\n",
              "// Licensed under the Apache License, Version 2.0 (the \"License\");\n",
              "// you may not use this file except in compliance with the License.\n",
              "// You may obtain a copy of the License at\n",
              "//\n",
              "//      http://www.apache.org/licenses/LICENSE-2.0\n",
              "//\n",
              "// Unless required by applicable law or agreed to in writing, software\n",
              "// distributed under the License is distributed on an \"AS IS\" BASIS,\n",
              "// WITHOUT WARRANTIES OR CONDITIONS OF ANY KIND, either express or implied.\n",
              "// See the License for the specific language governing permissions and\n",
              "// limitations under the License.\n",
              "\n",
              "/**\n",
              " * @fileoverview Helpers for google.colab Python module.\n",
              " */\n",
              "(function(scope) {\n",
              "function span(text, styleAttributes = {}) {\n",
              "  const element = document.createElement('span');\n",
              "  element.textContent = text;\n",
              "  for (const key of Object.keys(styleAttributes)) {\n",
              "    element.style[key] = styleAttributes[key];\n",
              "  }\n",
              "  return element;\n",
              "}\n",
              "\n",
              "// Max number of bytes which will be uploaded at a time.\n",
              "const MAX_PAYLOAD_SIZE = 100 * 1024;\n",
              "\n",
              "function _uploadFiles(inputId, outputId) {\n",
              "  const steps = uploadFilesStep(inputId, outputId);\n",
              "  const outputElement = document.getElementById(outputId);\n",
              "  // Cache steps on the outputElement to make it available for the next call\n",
              "  // to uploadFilesContinue from Python.\n",
              "  outputElement.steps = steps;\n",
              "\n",
              "  return _uploadFilesContinue(outputId);\n",
              "}\n",
              "\n",
              "// This is roughly an async generator (not supported in the browser yet),\n",
              "// where there are multiple asynchronous steps and the Python side is going\n",
              "// to poll for completion of each step.\n",
              "// This uses a Promise to block the python side on completion of each step,\n",
              "// then passes the result of the previous step as the input to the next step.\n",
              "function _uploadFilesContinue(outputId) {\n",
              "  const outputElement = document.getElementById(outputId);\n",
              "  const steps = outputElement.steps;\n",
              "\n",
              "  const next = steps.next(outputElement.lastPromiseValue);\n",
              "  return Promise.resolve(next.value.promise).then((value) => {\n",
              "    // Cache the last promise value to make it available to the next\n",
              "    // step of the generator.\n",
              "    outputElement.lastPromiseValue = value;\n",
              "    return next.value.response;\n",
              "  });\n",
              "}\n",
              "\n",
              "/**\n",
              " * Generator function which is called between each async step of the upload\n",
              " * process.\n",
              " * @param {string} inputId Element ID of the input file picker element.\n",
              " * @param {string} outputId Element ID of the output display.\n",
              " * @return {!Iterable<!Object>} Iterable of next steps.\n",
              " */\n",
              "function* uploadFilesStep(inputId, outputId) {\n",
              "  const inputElement = document.getElementById(inputId);\n",
              "  inputElement.disabled = false;\n",
              "\n",
              "  const outputElement = document.getElementById(outputId);\n",
              "  outputElement.innerHTML = '';\n",
              "\n",
              "  const pickedPromise = new Promise((resolve) => {\n",
              "    inputElement.addEventListener('change', (e) => {\n",
              "      resolve(e.target.files);\n",
              "    });\n",
              "  });\n",
              "\n",
              "  const cancel = document.createElement('button');\n",
              "  inputElement.parentElement.appendChild(cancel);\n",
              "  cancel.textContent = 'Cancel upload';\n",
              "  const cancelPromise = new Promise((resolve) => {\n",
              "    cancel.onclick = () => {\n",
              "      resolve(null);\n",
              "    };\n",
              "  });\n",
              "\n",
              "  // Wait for the user to pick the files.\n",
              "  const files = yield {\n",
              "    promise: Promise.race([pickedPromise, cancelPromise]),\n",
              "    response: {\n",
              "      action: 'starting',\n",
              "    }\n",
              "  };\n",
              "\n",
              "  cancel.remove();\n",
              "\n",
              "  // Disable the input element since further picks are not allowed.\n",
              "  inputElement.disabled = true;\n",
              "\n",
              "  if (!files) {\n",
              "    return {\n",
              "      response: {\n",
              "        action: 'complete',\n",
              "      }\n",
              "    };\n",
              "  }\n",
              "\n",
              "  for (const file of files) {\n",
              "    const li = document.createElement('li');\n",
              "    li.append(span(file.name, {fontWeight: 'bold'}));\n",
              "    li.append(span(\n",
              "        `(${file.type || 'n/a'}) - ${file.size} bytes, ` +\n",
              "        `last modified: ${\n",
              "            file.lastModifiedDate ? file.lastModifiedDate.toLocaleDateString() :\n",
              "                                    'n/a'} - `));\n",
              "    const percent = span('0% done');\n",
              "    li.appendChild(percent);\n",
              "\n",
              "    outputElement.appendChild(li);\n",
              "\n",
              "    const fileDataPromise = new Promise((resolve) => {\n",
              "      const reader = new FileReader();\n",
              "      reader.onload = (e) => {\n",
              "        resolve(e.target.result);\n",
              "      };\n",
              "      reader.readAsArrayBuffer(file);\n",
              "    });\n",
              "    // Wait for the data to be ready.\n",
              "    let fileData = yield {\n",
              "      promise: fileDataPromise,\n",
              "      response: {\n",
              "        action: 'continue',\n",
              "      }\n",
              "    };\n",
              "\n",
              "    // Use a chunked sending to avoid message size limits. See b/62115660.\n",
              "    let position = 0;\n",
              "    do {\n",
              "      const length = Math.min(fileData.byteLength - position, MAX_PAYLOAD_SIZE);\n",
              "      const chunk = new Uint8Array(fileData, position, length);\n",
              "      position += length;\n",
              "\n",
              "      const base64 = btoa(String.fromCharCode.apply(null, chunk));\n",
              "      yield {\n",
              "        response: {\n",
              "          action: 'append',\n",
              "          file: file.name,\n",
              "          data: base64,\n",
              "        },\n",
              "      };\n",
              "\n",
              "      let percentDone = fileData.byteLength === 0 ?\n",
              "          100 :\n",
              "          Math.round((position / fileData.byteLength) * 100);\n",
              "      percent.textContent = `${percentDone}% done`;\n",
              "\n",
              "    } while (position < fileData.byteLength);\n",
              "  }\n",
              "\n",
              "  // All done.\n",
              "  yield {\n",
              "    response: {\n",
              "      action: 'complete',\n",
              "    }\n",
              "  };\n",
              "}\n",
              "\n",
              "scope.google = scope.google || {};\n",
              "scope.google.colab = scope.google.colab || {};\n",
              "scope.google.colab._files = {\n",
              "  _uploadFiles,\n",
              "  _uploadFilesContinue,\n",
              "};\n",
              "})(self);\n",
              "</script> "
            ]
          },
          "metadata": {}
        },
        {
          "output_type": "stream",
          "name": "stdout",
          "text": [
            "Saving scenarios.csv to scenarios (2).csv\n",
            "✅ Loaded 120 rows\n",
            "🧠 Columns: ['scenario_id', 'scenario_text', 'y_true', 'w_i']\n",
            "   scenario_id                                      scenario_text y_true  w_i\n",
            "0            1  If interest rates rise, does it cause borrowin...      A    5\n",
            "1            2  If credit scores drop across applicants, does ...      A    4\n",
            "2            3  If chargeback claims surge, does it cause the ...      A    4\n",
            "\n",
            "✅ After hypothesis extraction:\n",
            "   id                                            context  \\\n",
            "0   1  If interest rates rise, does it cause borrowin...   \n",
            "1   2  If credit scores drop across applicants, does ...   \n",
            "2   3  If chargeback claims surge, does it cause the ...   \n",
            "\n",
            "                                        hypothesis_A  \\\n",
            "0  Hypothesis A: The first causal direction descr...   \n",
            "1  Hypothesis A: The first causal direction descr...   \n",
            "2  Hypothesis A: The first causal direction descr...   \n",
            "\n",
            "                                        hypothesis_B ground_truth  risk_weight  \n",
            "0  Hypothesis B: The reverse causal direction is ...            A          5.0  \n",
            "1  Hypothesis B: The reverse causal direction is ...            A          4.0  \n",
            "2  Hypothesis B: The reverse causal direction is ...            A          4.0  \n",
            "\n",
            "🧪 Prompt preview:\n",
            "You are an enterprise causal analyst. Read the scenario and decide which causal hypothesis is more plausible.\n",
            "\n",
            "Scenario:\n",
            "If interest rates rise, does it cause borrowing costs to increase (A) or B? Answer A/B.\n",
            "\n",
            "Hypothesis A:\n",
            "Hypothesis A: The first causal direction described in the scenario is true.\n",
            "\n",
            "Hypothesis B:\n",
            "Hypothesis B: The reverse causal direction is true.\n",
            "\n",
            "Task:\n",
            "Which hypothesis (A or B) better matches the causal direction described?\n",
            "\n",
            "Respond EXACTLY in the following schema:\n",
            "Answer: A o ...\n",
            "\n",
            "\n",
            "🔑 Enter your API key (OpenRouter or compatible): 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\n",
            "\n",
            "==============================\n",
            "🔥 Running model: openai/gpt-4o-mini\n",
            "==============================\n",
            "\n"
          ]
        },
        {
          "output_type": "stream",
          "name": "stderr",
          "text": [
            "openai/gpt-4o-mini: 100%|██████████| 120/120 [05:45<00:00,  2.88s/it]\n"
          ]
        },
        {
          "output_type": "stream",
          "name": "stdout",
          "text": [
            "💾 Saved: results_openai_gpt-4o-mini.csv\n",
            "\n",
            "📊 openai/gpt-4o-mini\n",
            "  Accuracy : 0.933\n",
            "  CSR      : 1.000\n",
            "  ERS-Sim  : 0.232\n",
            "\n",
            "==============================\n",
            "🔥 Running model: openai/gpt-4o\n",
            "==============================\n",
            "\n"
          ]
        },
        {
          "output_type": "stream",
          "name": "stderr",
          "text": [
            "openai/gpt-4o: 100%|██████████| 120/120 [05:59<00:00,  3.00s/it]\n"
          ]
        },
        {
          "output_type": "stream",
          "name": "stdout",
          "text": [
            "💾 Saved: results_openai_gpt-4o.csv\n",
            "\n",
            "📊 openai/gpt-4o\n",
            "  Accuracy : 0.908\n",
            "  CSR      : 1.000\n",
            "  ERS-Sim  : 0.138\n",
            "\n",
            "==============================\n",
            "🔥 Running model: anthropic/claude-3.5-sonnet\n",
            "==============================\n",
            "\n"
          ]
        },
        {
          "output_type": "stream",
          "name": "stderr",
          "text": [
            "anthropic/claude-3.5-sonnet: 100%|██████████| 120/120 [09:02<00:00,  4.52s/it]\n"
          ]
        },
        {
          "output_type": "stream",
          "name": "stdout",
          "text": [
            "💾 Saved: results_anthropic_claude-3.5-sonnet.csv\n",
            "\n",
            "📊 anthropic/claude-3.5-sonnet\n",
            "  Accuracy : 0.917\n",
            "  CSR      : 1.000\n",
            "  ERS-Sim  : 0.313\n",
            "\n",
            "==============================\n",
            "🔥 Running model: google/gemini-1.5-pro\n",
            "==============================\n",
            "\n"
          ]
        },
        {
          "output_type": "stream",
          "name": "stderr",
          "text": [
            "\rgoogle/gemini-1.5-pro:   0%|          | 0/120 [00:00<?, ?it/s]"
          ]
        },
        {
          "output_type": "stream",
          "name": "stdout",
          "text": [
            "[google/gemini-1.5-pro] error attempt 1: Error code: 400 - {'error': {'message': 'google/gemini-1.5-pro is not a valid model ID', 'code': 400}, 'user_id': 'user_34kLTCwLzW3rU64I3t6BoCIlFIw'}\n",
            "[google/gemini-1.5-pro] error attempt 2: Error code: 400 - {'error': {'message': 'google/gemini-1.5-pro is not a valid model ID', 'code': 400}, 'user_id': 'user_34kLTCwLzW3rU64I3t6BoCIlFIw'}\n",
            "[google/gemini-1.5-pro] error attempt 3: Error code: 400 - {'error': {'message': 'google/gemini-1.5-pro is not a valid model ID', 'code': 400}, 'user_id': 'user_34kLTCwLzW3rU64I3t6BoCIlFIw'}\n",
            "[google/gemini-1.5-pro] error attempt 1: Error code: 400 - {'error': {'message': 'google/gemini-1.5-pro is not a valid model ID', 'code': 400}, 'user_id': 'user_34kLTCwLzW3rU64I3t6BoCIlFIw'}\n",
            "[google/gemini-1.5-pro] error attempt 2: Error code: 400 - {'error': {'message': 'google/gemini-1.5-pro is not a valid model ID', 'code': 400}, 'user_id': 'user_34kLTCwLzW3rU64I3t6BoCIlFIw'}\n",
            "[google/gemini-1.5-pro] error attempt 3: Error code: 400 - {'error': {'message': 'google/gemini-1.5-pro is not a valid model ID', 'code': 400}, 'user_id': 'user_34kLTCwLzW3rU64I3t6BoCIlFIw'}\n"
          ]
        },
        {
          "output_type": "stream",
          "name": "stderr",
          "text": [
            "\rgoogle/gemini-1.5-pro:   1%|          | 1/120 [00:12<24:26, 12.32s/it]"
          ]
        },
        {
          "output_type": "stream",
          "name": "stdout",
          "text": [
            "[google/gemini-1.5-pro] error attempt 1: Error code: 400 - {'error': {'message': 'google/gemini-1.5-pro is not a valid model ID', 'code': 400}, 'user_id': 'user_34kLTCwLzW3rU64I3t6BoCIlFIw'}\n",
            "[google/gemini-1.5-pro] error attempt 2: Error code: 400 - {'error': {'message': 'google/gemini-1.5-pro is not a valid model ID', 'code': 400}, 'user_id': 'user_34kLTCwLzW3rU64I3t6BoCIlFIw'}\n",
            "[google/gemini-1.5-pro] error attempt 3: Error code: 400 - {'error': {'message': 'google/gemini-1.5-pro is not a valid model ID', 'code': 400}, 'user_id': 'user_34kLTCwLzW3rU64I3t6BoCIlFIw'}\n",
            "[google/gemini-1.5-pro] error attempt 1: Error code: 400 - {'error': {'message': 'google/gemini-1.5-pro is not a valid model ID', 'code': 400}, 'user_id': 'user_34kLTCwLzW3rU64I3t6BoCIlFIw'}\n",
            "[google/gemini-1.5-pro] error attempt 2: Error code: 400 - {'error': {'message': 'google/gemini-1.5-pro is not a valid model ID', 'code': 400}, 'user_id': 'user_34kLTCwLzW3rU64I3t6BoCIlFIw'}\n",
            "[google/gemini-1.5-pro] error attempt 3: Error code: 400 - {'error': {'message': 'google/gemini-1.5-pro is not a valid model ID', 'code': 400}, 'user_id': 'user_34kLTCwLzW3rU64I3t6BoCIlFIw'}\n"
          ]
        },
        {
          "output_type": "stream",
          "name": "stderr",
          "text": [
            "\rgoogle/gemini-1.5-pro:   2%|▏         | 2/120 [00:24<24:10, 12.30s/it]"
          ]
        },
        {
          "output_type": "stream",
          "name": "stdout",
          "text": [
            "[google/gemini-1.5-pro] error attempt 1: Error code: 400 - {'error': {'message': 'google/gemini-1.5-pro is not a valid model ID', 'code': 400}, 'user_id': 'user_34kLTCwLzW3rU64I3t6BoCIlFIw'}\n",
            "[google/gemini-1.5-pro] error attempt 2: Error code: 400 - {'error': {'message': 'google/gemini-1.5-pro is not a valid model ID', 'code': 400}, 'user_id': 'user_34kLTCwLzW3rU64I3t6BoCIlFIw'}\n",
            "[google/gemini-1.5-pro] error attempt 3: Error code: 400 - {'error': {'message': 'google/gemini-1.5-pro is not a valid model ID', 'code': 400}, 'user_id': 'user_34kLTCwLzW3rU64I3t6BoCIlFIw'}\n",
            "[google/gemini-1.5-pro] error attempt 1: Error code: 400 - {'error': {'message': 'google/gemini-1.5-pro is not a valid model ID', 'code': 400}, 'user_id': 'user_34kLTCwLzW3rU64I3t6BoCIlFIw'}\n",
            "[google/gemini-1.5-pro] error attempt 2: Error code: 400 - {'error': {'message': 'google/gemini-1.5-pro is not a valid model ID', 'code': 400}, 'user_id': 'user_34kLTCwLzW3rU64I3t6BoCIlFIw'}\n",
            "[google/gemini-1.5-pro] error attempt 3: Error code: 400 - {'error': {'message': 'google/gemini-1.5-pro is not a valid model ID', 'code': 400}, 'user_id': 'user_34kLTCwLzW3rU64I3t6BoCIlFIw'}\n"
          ]
        },
        {
          "output_type": "stream",
          "name": "stderr",
          "text": [
            "\rgoogle/gemini-1.5-pro:   2%|▎         | 3/120 [00:36<24:03, 12.34s/it]"
          ]
        },
        {
          "output_type": "stream",
          "name": "stdout",
          "text": [
            "[google/gemini-1.5-pro] error attempt 1: Error code: 400 - {'error': {'message': 'google/gemini-1.5-pro is not a valid model ID', 'code': 400}, 'user_id': 'user_34kLTCwLzW3rU64I3t6BoCIlFIw'}\n",
            "[google/gemini-1.5-pro] error attempt 2: Error code: 400 - {'error': {'message': 'google/gemini-1.5-pro is not a valid model ID', 'code': 400}, 'user_id': 'user_34kLTCwLzW3rU64I3t6BoCIlFIw'}\n",
            "[google/gemini-1.5-pro] error attempt 3: Error code: 400 - {'error': {'message': 'google/gemini-1.5-pro is not a valid model ID', 'code': 400}, 'user_id': 'user_34kLTCwLzW3rU64I3t6BoCIlFIw'}\n",
            "[google/gemini-1.5-pro] error attempt 1: Error code: 400 - {'error': {'message': 'google/gemini-1.5-pro is not a valid model ID', 'code': 400}, 'user_id': 'user_34kLTCwLzW3rU64I3t6BoCIlFIw'}\n",
            "[google/gemini-1.5-pro] error attempt 2: Error code: 400 - {'error': {'message': 'google/gemini-1.5-pro is not a valid model ID', 'code': 400}, 'user_id': 'user_34kLTCwLzW3rU64I3t6BoCIlFIw'}\n",
            "[google/gemini-1.5-pro] error attempt 3: Error code: 400 - {'error': {'message': 'google/gemini-1.5-pro is not a valid model ID', 'code': 400}, 'user_id': 'user_34kLTCwLzW3rU64I3t6BoCIlFIw'}\n"
          ]
        },
        {
          "output_type": "stream",
          "name": "stderr",
          "text": [
            "\rgoogle/gemini-1.5-pro:   3%|▎         | 4/120 [00:49<23:49, 12.32s/it]"
          ]
        },
        {
          "output_type": "stream",
          "name": "stdout",
          "text": [
            "[google/gemini-1.5-pro] error attempt 1: Error code: 400 - {'error': {'message': 'google/gemini-1.5-pro is not a valid model ID', 'code': 400}, 'user_id': 'user_34kLTCwLzW3rU64I3t6BoCIlFIw'}\n",
            "[google/gemini-1.5-pro] error attempt 2: Error code: 400 - {'error': {'message': 'google/gemini-1.5-pro is not a valid model ID', 'code': 400}, 'user_id': 'user_34kLTCwLzW3rU64I3t6BoCIlFIw'}\n",
            "[google/gemini-1.5-pro] error attempt 3: Error code: 400 - {'error': {'message': 'google/gemini-1.5-pro is not a valid model ID', 'code': 400}, 'user_id': 'user_34kLTCwLzW3rU64I3t6BoCIlFIw'}\n",
            "[google/gemini-1.5-pro] error attempt 1: Error code: 400 - {'error': {'message': 'google/gemini-1.5-pro is not a valid model ID', 'code': 400}, 'user_id': 'user_34kLTCwLzW3rU64I3t6BoCIlFIw'}\n",
            "[google/gemini-1.5-pro] error attempt 2: Error code: 400 - {'error': {'message': 'google/gemini-1.5-pro is not a valid model ID', 'code': 400}, 'user_id': 'user_34kLTCwLzW3rU64I3t6BoCIlFIw'}\n",
            "[google/gemini-1.5-pro] error attempt 3: Error code: 400 - {'error': {'message': 'google/gemini-1.5-pro is not a valid model ID', 'code': 400}, 'user_id': 'user_34kLTCwLzW3rU64I3t6BoCIlFIw'}\n"
          ]
        },
        {
          "output_type": "stream",
          "name": "stderr",
          "text": [
            "\rgoogle/gemini-1.5-pro:   4%|▍         | 5/120 [01:01<23:36, 12.32s/it]"
          ]
        },
        {
          "output_type": "stream",
          "name": "stdout",
          "text": [
            "[google/gemini-1.5-pro] error attempt 1: Error code: 400 - {'error': {'message': 'google/gemini-1.5-pro is not a valid model ID', 'code': 400}, 'user_id': 'user_34kLTCwLzW3rU64I3t6BoCIlFIw'}\n",
            "[google/gemini-1.5-pro] error attempt 2: Error code: 400 - {'error': {'message': 'google/gemini-1.5-pro is not a valid model ID', 'code': 400}, 'user_id': 'user_34kLTCwLzW3rU64I3t6BoCIlFIw'}\n",
            "[google/gemini-1.5-pro] error attempt 3: Error code: 400 - {'error': {'message': 'google/gemini-1.5-pro is not a valid model ID', 'code': 400}, 'user_id': 'user_34kLTCwLzW3rU64I3t6BoCIlFIw'}\n",
            "[google/gemini-1.5-pro] error attempt 1: Error code: 400 - {'error': {'message': 'google/gemini-1.5-pro is not a valid model ID', 'code': 400}, 'user_id': 'user_34kLTCwLzW3rU64I3t6BoCIlFIw'}\n",
            "[google/gemini-1.5-pro] error attempt 2: Error code: 400 - {'error': {'message': 'google/gemini-1.5-pro is not a valid model ID', 'code': 400}, 'user_id': 'user_34kLTCwLzW3rU64I3t6BoCIlFIw'}\n",
            "[google/gemini-1.5-pro] error attempt 3: Error code: 400 - {'error': {'message': 'google/gemini-1.5-pro is not a valid model ID', 'code': 400}, 'user_id': 'user_34kLTCwLzW3rU64I3t6BoCIlFIw'}\n"
          ]
        },
        {
          "output_type": "stream",
          "name": "stderr",
          "text": [
            "\rgoogle/gemini-1.5-pro:   5%|▌         | 6/120 [01:13<23:25, 12.33s/it]"
          ]
        },
        {
          "output_type": "stream",
          "name": "stdout",
          "text": [
            "[google/gemini-1.5-pro] error attempt 1: Error code: 400 - {'error': {'message': 'google/gemini-1.5-pro is not a valid model ID', 'code': 400}, 'user_id': 'user_34kLTCwLzW3rU64I3t6BoCIlFIw'}\n",
            "[google/gemini-1.5-pro] error attempt 2: Error code: 400 - {'error': {'message': 'google/gemini-1.5-pro is not a valid model ID', 'code': 400}, 'user_id': 'user_34kLTCwLzW3rU64I3t6BoCIlFIw'}\n",
            "[google/gemini-1.5-pro] error attempt 3: Error code: 400 - {'error': {'message': 'google/gemini-1.5-pro is not a valid model ID', 'code': 400}, 'user_id': 'user_34kLTCwLzW3rU64I3t6BoCIlFIw'}\n",
            "[google/gemini-1.5-pro] error attempt 1: Error code: 400 - {'error': {'message': 'google/gemini-1.5-pro is not a valid model ID', 'code': 400}, 'user_id': 'user_34kLTCwLzW3rU64I3t6BoCIlFIw'}\n",
            "[google/gemini-1.5-pro] error attempt 2: Error code: 400 - {'error': {'message': 'google/gemini-1.5-pro is not a valid model ID', 'code': 400}, 'user_id': 'user_34kLTCwLzW3rU64I3t6BoCIlFIw'}\n",
            "[google/gemini-1.5-pro] error attempt 3: Error code: 400 - {'error': {'message': 'google/gemini-1.5-pro is not a valid model ID', 'code': 400}, 'user_id': 'user_34kLTCwLzW3rU64I3t6BoCIlFIw'}\n"
          ]
        },
        {
          "output_type": "stream",
          "name": "stderr",
          "text": [
            "\rgoogle/gemini-1.5-pro:   6%|▌         | 7/120 [01:26<23:12, 12.32s/it]"
          ]
        },
        {
          "output_type": "stream",
          "name": "stdout",
          "text": [
            "[google/gemini-1.5-pro] error attempt 1: Error code: 400 - {'error': {'message': 'google/gemini-1.5-pro is not a valid model ID', 'code': 400}, 'user_id': 'user_34kLTCwLzW3rU64I3t6BoCIlFIw'}\n",
            "[google/gemini-1.5-pro] error attempt 2: Error code: 400 - {'error': {'message': 'google/gemini-1.5-pro is not a valid model ID', 'code': 400}, 'user_id': 'user_34kLTCwLzW3rU64I3t6BoCIlFIw'}\n",
            "[google/gemini-1.5-pro] error attempt 3: Error code: 400 - {'error': {'message': 'google/gemini-1.5-pro is not a valid model ID', 'code': 400}, 'user_id': 'user_34kLTCwLzW3rU64I3t6BoCIlFIw'}\n",
            "[google/gemini-1.5-pro] error attempt 1: Error code: 400 - {'error': {'message': 'google/gemini-1.5-pro is not a valid model ID', 'code': 400}, 'user_id': 'user_34kLTCwLzW3rU64I3t6BoCIlFIw'}\n",
            "[google/gemini-1.5-pro] error attempt 2: Error code: 400 - {'error': {'message': 'google/gemini-1.5-pro is not a valid model ID', 'code': 400}, 'user_id': 'user_34kLTCwLzW3rU64I3t6BoCIlFIw'}\n",
            "[google/gemini-1.5-pro] error attempt 3: Error code: 400 - {'error': {'message': 'google/gemini-1.5-pro is not a valid model ID', 'code': 400}, 'user_id': 'user_34kLTCwLzW3rU64I3t6BoCIlFIw'}\n"
          ]
        },
        {
          "output_type": "stream",
          "name": "stderr",
          "text": [
            "\rgoogle/gemini-1.5-pro:   7%|▋         | 8/120 [01:38<22:58, 12.31s/it]"
          ]
        },
        {
          "output_type": "stream",
          "name": "stdout",
          "text": [
            "[google/gemini-1.5-pro] error attempt 1: Error code: 400 - {'error': {'message': 'google/gemini-1.5-pro is not a valid model ID', 'code': 400}, 'user_id': 'user_34kLTCwLzW3rU64I3t6BoCIlFIw'}\n",
            "[google/gemini-1.5-pro] error attempt 2: Error code: 400 - {'error': {'message': 'google/gemini-1.5-pro is not a valid model ID', 'code': 400}, 'user_id': 'user_34kLTCwLzW3rU64I3t6BoCIlFIw'}\n",
            "[google/gemini-1.5-pro] error attempt 3: Error code: 400 - {'error': {'message': 'google/gemini-1.5-pro is not a valid model ID', 'code': 400}, 'user_id': 'user_34kLTCwLzW3rU64I3t6BoCIlFIw'}\n",
            "[google/gemini-1.5-pro] error attempt 1: Error code: 400 - {'error': {'message': 'google/gemini-1.5-pro is not a valid model ID', 'code': 400}, 'user_id': 'user_34kLTCwLzW3rU64I3t6BoCIlFIw'}\n",
            "[google/gemini-1.5-pro] error attempt 2: Error code: 400 - {'error': {'message': 'google/gemini-1.5-pro is not a valid model ID', 'code': 400}, 'user_id': 'user_34kLTCwLzW3rU64I3t6BoCIlFIw'}\n",
            "[google/gemini-1.5-pro] error attempt 3: Error code: 400 - {'error': {'message': 'google/gemini-1.5-pro is not a valid model ID', 'code': 400}, 'user_id': 'user_34kLTCwLzW3rU64I3t6BoCIlFIw'}\n"
          ]
        },
        {
          "output_type": "stream",
          "name": "stderr",
          "text": [
            "\rgoogle/gemini-1.5-pro:   8%|▊         | 9/120 [01:50<22:46, 12.31s/it]"
          ]
        },
        {
          "output_type": "stream",
          "name": "stdout",
          "text": [
            "[google/gemini-1.5-pro] error attempt 1: Error code: 400 - {'error': {'message': 'google/gemini-1.5-pro is not a valid model ID', 'code': 400}, 'user_id': 'user_34kLTCwLzW3rU64I3t6BoCIlFIw'}\n",
            "[google/gemini-1.5-pro] error attempt 2: Error code: 400 - {'error': {'message': 'google/gemini-1.5-pro is not a valid model ID', 'code': 400}, 'user_id': 'user_34kLTCwLzW3rU64I3t6BoCIlFIw'}\n",
            "[google/gemini-1.5-pro] error attempt 3: Error code: 400 - {'error': {'message': 'google/gemini-1.5-pro is not a valid model ID', 'code': 400}, 'user_id': 'user_34kLTCwLzW3rU64I3t6BoCIlFIw'}\n",
            "[google/gemini-1.5-pro] error attempt 1: Error code: 400 - {'error': {'message': 'google/gemini-1.5-pro is not a valid model ID', 'code': 400}, 'user_id': 'user_34kLTCwLzW3rU64I3t6BoCIlFIw'}\n",
            "[google/gemini-1.5-pro] error attempt 2: Error code: 400 - {'error': {'message': 'google/gemini-1.5-pro is not a valid model ID', 'code': 400}, 'user_id': 'user_34kLTCwLzW3rU64I3t6BoCIlFIw'}\n",
            "[google/gemini-1.5-pro] error attempt 3: Error code: 400 - {'error': {'message': 'google/gemini-1.5-pro is not a valid model ID', 'code': 400}, 'user_id': 'user_34kLTCwLzW3rU64I3t6BoCIlFIw'}\n"
          ]
        },
        {
          "output_type": "stream",
          "name": "stderr",
          "text": [
            "\rgoogle/gemini-1.5-pro:   8%|▊         | 10/120 [02:03<22:35, 12.32s/it]"
          ]
        },
        {
          "output_type": "stream",
          "name": "stdout",
          "text": [
            "[google/gemini-1.5-pro] error attempt 1: Error code: 400 - {'error': {'message': 'google/gemini-1.5-pro is not a valid model ID', 'code': 400}, 'user_id': 'user_34kLTCwLzW3rU64I3t6BoCIlFIw'}\n",
            "[google/gemini-1.5-pro] error attempt 2: Error code: 400 - {'error': {'message': 'google/gemini-1.5-pro is not a valid model ID', 'code': 400}, 'user_id': 'user_34kLTCwLzW3rU64I3t6BoCIlFIw'}\n",
            "[google/gemini-1.5-pro] error attempt 3: Error code: 400 - {'error': {'message': 'google/gemini-1.5-pro is not a valid model ID', 'code': 400}, 'user_id': 'user_34kLTCwLzW3rU64I3t6BoCIlFIw'}\n",
            "[google/gemini-1.5-pro] error attempt 1: Error code: 400 - {'error': {'message': 'google/gemini-1.5-pro is not a valid model ID', 'code': 400}, 'user_id': 'user_34kLTCwLzW3rU64I3t6BoCIlFIw'}\n",
            "[google/gemini-1.5-pro] error attempt 2: Error code: 400 - {'error': {'message': 'google/gemini-1.5-pro is not a valid model ID', 'code': 400}, 'user_id': 'user_34kLTCwLzW3rU64I3t6BoCIlFIw'}\n",
            "[google/gemini-1.5-pro] error attempt 3: Error code: 400 - {'error': {'message': 'google/gemini-1.5-pro is not a valid model ID', 'code': 400}, 'user_id': 'user_34kLTCwLzW3rU64I3t6BoCIlFIw'}\n"
          ]
        },
        {
          "output_type": "stream",
          "name": "stderr",
          "text": [
            "\rgoogle/gemini-1.5-pro:   9%|▉         | 11/120 [02:15<22:22, 12.31s/it]"
          ]
        },
        {
          "output_type": "stream",
          "name": "stdout",
          "text": [
            "[google/gemini-1.5-pro] error attempt 1: Error code: 400 - {'error': {'message': 'google/gemini-1.5-pro is not a valid model ID', 'code': 400}, 'user_id': 'user_34kLTCwLzW3rU64I3t6BoCIlFIw'}\n",
            "[google/gemini-1.5-pro] error attempt 2: Error code: 400 - {'error': {'message': 'google/gemini-1.5-pro is not a valid model ID', 'code': 400}, 'user_id': 'user_34kLTCwLzW3rU64I3t6BoCIlFIw'}\n",
            "[google/gemini-1.5-pro] error attempt 3: Error code: 400 - {'error': {'message': 'google/gemini-1.5-pro is not a valid model ID', 'code': 400}, 'user_id': 'user_34kLTCwLzW3rU64I3t6BoCIlFIw'}\n",
            "[google/gemini-1.5-pro] error attempt 1: Error code: 400 - {'error': {'message': 'google/gemini-1.5-pro is not a valid model ID', 'code': 400}, 'user_id': 'user_34kLTCwLzW3rU64I3t6BoCIlFIw'}\n",
            "[google/gemini-1.5-pro] error attempt 2: Error code: 400 - {'error': {'message': 'google/gemini-1.5-pro is not a valid model ID', 'code': 400}, 'user_id': 'user_34kLTCwLzW3rU64I3t6BoCIlFIw'}\n",
            "[google/gemini-1.5-pro] error attempt 3: Error code: 400 - {'error': {'message': 'google/gemini-1.5-pro is not a valid model ID', 'code': 400}, 'user_id': 'user_34kLTCwLzW3rU64I3t6BoCIlFIw'}\n"
          ]
        },
        {
          "output_type": "stream",
          "name": "stderr",
          "text": [
            "\rgoogle/gemini-1.5-pro:  10%|█         | 12/120 [02:27<22:10, 12.32s/it]"
          ]
        },
        {
          "output_type": "stream",
          "name": "stdout",
          "text": [
            "[google/gemini-1.5-pro] error attempt 1: Error code: 400 - {'error': {'message': 'google/gemini-1.5-pro is not a valid model ID', 'code': 400}, 'user_id': 'user_34kLTCwLzW3rU64I3t6BoCIlFIw'}\n",
            "[google/gemini-1.5-pro] error attempt 2: Error code: 400 - {'error': {'message': 'google/gemini-1.5-pro is not a valid model ID', 'code': 400}, 'user_id': 'user_34kLTCwLzW3rU64I3t6BoCIlFIw'}\n",
            "[google/gemini-1.5-pro] error attempt 3: Error code: 400 - {'error': {'message': 'google/gemini-1.5-pro is not a valid model ID', 'code': 400}, 'user_id': 'user_34kLTCwLzW3rU64I3t6BoCIlFIw'}\n",
            "[google/gemini-1.5-pro] error attempt 1: Error code: 400 - {'error': {'message': 'google/gemini-1.5-pro is not a valid model ID', 'code': 400}, 'user_id': 'user_34kLTCwLzW3rU64I3t6BoCIlFIw'}\n",
            "[google/gemini-1.5-pro] error attempt 2: Error code: 400 - {'error': {'message': 'google/gemini-1.5-pro is not a valid model ID', 'code': 400}, 'user_id': 'user_34kLTCwLzW3rU64I3t6BoCIlFIw'}\n",
            "[google/gemini-1.5-pro] error attempt 3: Error code: 400 - {'error': {'message': 'google/gemini-1.5-pro is not a valid model ID', 'code': 400}, 'user_id': 'user_34kLTCwLzW3rU64I3t6BoCIlFIw'}\n"
          ]
        },
        {
          "output_type": "stream",
          "name": "stderr",
          "text": [
            "\rgoogle/gemini-1.5-pro:  11%|█         | 13/120 [02:40<21:57, 12.31s/it]"
          ]
        },
        {
          "output_type": "stream",
          "name": "stdout",
          "text": [
            "[google/gemini-1.5-pro] error attempt 1: Error code: 400 - {'error': {'message': 'google/gemini-1.5-pro is not a valid model ID', 'code': 400}, 'user_id': 'user_34kLTCwLzW3rU64I3t6BoCIlFIw'}\n",
            "[google/gemini-1.5-pro] error attempt 2: Error code: 400 - {'error': {'message': 'google/gemini-1.5-pro is not a valid model ID', 'code': 400}, 'user_id': 'user_34kLTCwLzW3rU64I3t6BoCIlFIw'}\n",
            "[google/gemini-1.5-pro] error attempt 3: Error code: 400 - {'error': {'message': 'google/gemini-1.5-pro is not a valid model ID', 'code': 400}, 'user_id': 'user_34kLTCwLzW3rU64I3t6BoCIlFIw'}\n",
            "[google/gemini-1.5-pro] error attempt 1: Error code: 400 - {'error': {'message': 'google/gemini-1.5-pro is not a valid model ID', 'code': 400}, 'user_id': 'user_34kLTCwLzW3rU64I3t6BoCIlFIw'}\n",
            "[google/gemini-1.5-pro] error attempt 2: Error code: 400 - {'error': {'message': 'google/gemini-1.5-pro is not a valid model ID', 'code': 400}, 'user_id': 'user_34kLTCwLzW3rU64I3t6BoCIlFIw'}\n",
            "[google/gemini-1.5-pro] error attempt 3: Error code: 400 - {'error': {'message': 'google/gemini-1.5-pro is not a valid model ID', 'code': 400}, 'user_id': 'user_34kLTCwLzW3rU64I3t6BoCIlFIw'}\n"
          ]
        },
        {
          "output_type": "stream",
          "name": "stderr",
          "text": [
            "\rgoogle/gemini-1.5-pro:  12%|█▏        | 14/120 [02:52<21:49, 12.35s/it]"
          ]
        },
        {
          "output_type": "stream",
          "name": "stdout",
          "text": [
            "[google/gemini-1.5-pro] error attempt 1: Error code: 400 - {'error': {'message': 'google/gemini-1.5-pro is not a valid model ID', 'code': 400}, 'user_id': 'user_34kLTCwLzW3rU64I3t6BoCIlFIw'}\n",
            "[google/gemini-1.5-pro] error attempt 2: Error code: 400 - {'error': {'message': 'google/gemini-1.5-pro is not a valid model ID', 'code': 400}, 'user_id': 'user_34kLTCwLzW3rU64I3t6BoCIlFIw'}\n",
            "[google/gemini-1.5-pro] error attempt 3: Error code: 400 - {'error': {'message': 'google/gemini-1.5-pro is not a valid model ID', 'code': 400}, 'user_id': 'user_34kLTCwLzW3rU64I3t6BoCIlFIw'}\n",
            "[google/gemini-1.5-pro] error attempt 1: Error code: 400 - {'error': {'message': 'google/gemini-1.5-pro is not a valid model ID', 'code': 400}, 'user_id': 'user_34kLTCwLzW3rU64I3t6BoCIlFIw'}\n",
            "[google/gemini-1.5-pro] error attempt 2: Error code: 400 - {'error': {'message': 'google/gemini-1.5-pro is not a valid model ID', 'code': 400}, 'user_id': 'user_34kLTCwLzW3rU64I3t6BoCIlFIw'}\n",
            "[google/gemini-1.5-pro] error attempt 3: Error code: 400 - {'error': {'message': 'google/gemini-1.5-pro is not a valid model ID', 'code': 400}, 'user_id': 'user_34kLTCwLzW3rU64I3t6BoCIlFIw'}\n"
          ]
        },
        {
          "output_type": "stream",
          "name": "stderr",
          "text": [
            "\rgoogle/gemini-1.5-pro:  12%|█▎        | 15/120 [03:04<21:34, 12.32s/it]"
          ]
        },
        {
          "output_type": "stream",
          "name": "stdout",
          "text": [
            "[google/gemini-1.5-pro] error attempt 1: Error code: 400 - {'error': {'message': 'google/gemini-1.5-pro is not a valid model ID', 'code': 400}, 'user_id': 'user_34kLTCwLzW3rU64I3t6BoCIlFIw'}\n",
            "[google/gemini-1.5-pro] error attempt 2: Error code: 400 - {'error': {'message': 'google/gemini-1.5-pro is not a valid model ID', 'code': 400}, 'user_id': 'user_34kLTCwLzW3rU64I3t6BoCIlFIw'}\n",
            "[google/gemini-1.5-pro] error attempt 3: Error code: 400 - {'error': {'message': 'google/gemini-1.5-pro is not a valid model ID', 'code': 400}, 'user_id': 'user_34kLTCwLzW3rU64I3t6BoCIlFIw'}\n",
            "[google/gemini-1.5-pro] error attempt 1: Error code: 400 - {'error': {'message': 'google/gemini-1.5-pro is not a valid model ID', 'code': 400}, 'user_id': 'user_34kLTCwLzW3rU64I3t6BoCIlFIw'}\n",
            "[google/gemini-1.5-pro] error attempt 2: Error code: 400 - {'error': {'message': 'google/gemini-1.5-pro is not a valid model ID', 'code': 400}, 'user_id': 'user_34kLTCwLzW3rU64I3t6BoCIlFIw'}\n",
            "[google/gemini-1.5-pro] error attempt 3: Error code: 400 - {'error': {'message': 'google/gemini-1.5-pro is not a valid model ID', 'code': 400}, 'user_id': 'user_34kLTCwLzW3rU64I3t6BoCIlFIw'}\n"
          ]
        },
        {
          "output_type": "stream",
          "name": "stderr",
          "text": [
            "\rgoogle/gemini-1.5-pro:  13%|█▎        | 16/120 [03:17<21:20, 12.31s/it]"
          ]
        },
        {
          "output_type": "stream",
          "name": "stdout",
          "text": [
            "[google/gemini-1.5-pro] error attempt 1: Error code: 400 - {'error': {'message': 'google/gemini-1.5-pro is not a valid model ID', 'code': 400}, 'user_id': 'user_34kLTCwLzW3rU64I3t6BoCIlFIw'}\n",
            "[google/gemini-1.5-pro] error attempt 2: Error code: 400 - {'error': {'message': 'google/gemini-1.5-pro is not a valid model ID', 'code': 400}, 'user_id': 'user_34kLTCwLzW3rU64I3t6BoCIlFIw'}\n",
            "[google/gemini-1.5-pro] error attempt 3: Error code: 400 - {'error': {'message': 'google/gemini-1.5-pro is not a valid model ID', 'code': 400}, 'user_id': 'user_34kLTCwLzW3rU64I3t6BoCIlFIw'}\n",
            "[google/gemini-1.5-pro] error attempt 1: Error code: 400 - {'error': {'message': 'google/gemini-1.5-pro is not a valid model ID', 'code': 400}, 'user_id': 'user_34kLTCwLzW3rU64I3t6BoCIlFIw'}\n",
            "[google/gemini-1.5-pro] error attempt 2: Error code: 400 - {'error': {'message': 'google/gemini-1.5-pro is not a valid model ID', 'code': 400}, 'user_id': 'user_34kLTCwLzW3rU64I3t6BoCIlFIw'}\n",
            "[google/gemini-1.5-pro] error attempt 3: Error code: 400 - {'error': {'message': 'google/gemini-1.5-pro is not a valid model ID', 'code': 400}, 'user_id': 'user_34kLTCwLzW3rU64I3t6BoCIlFIw'}\n"
          ]
        },
        {
          "output_type": "stream",
          "name": "stderr",
          "text": [
            "\rgoogle/gemini-1.5-pro:  14%|█▍        | 17/120 [03:29<21:11, 12.35s/it]"
          ]
        },
        {
          "output_type": "stream",
          "name": "stdout",
          "text": [
            "[google/gemini-1.5-pro] error attempt 1: Error code: 400 - {'error': {'message': 'google/gemini-1.5-pro is not a valid model ID', 'code': 400}, 'user_id': 'user_34kLTCwLzW3rU64I3t6BoCIlFIw'}\n",
            "[google/gemini-1.5-pro] error attempt 2: Error code: 400 - {'error': {'message': 'google/gemini-1.5-pro is not a valid model ID', 'code': 400}, 'user_id': 'user_34kLTCwLzW3rU64I3t6BoCIlFIw'}\n",
            "[google/gemini-1.5-pro] error attempt 3: Error code: 400 - {'error': {'message': 'google/gemini-1.5-pro is not a valid model ID', 'code': 400}, 'user_id': 'user_34kLTCwLzW3rU64I3t6BoCIlFIw'}\n",
            "[google/gemini-1.5-pro] error attempt 1: Error code: 400 - {'error': {'message': 'google/gemini-1.5-pro is not a valid model ID', 'code': 400}, 'user_id': 'user_34kLTCwLzW3rU64I3t6BoCIlFIw'}\n",
            "[google/gemini-1.5-pro] error attempt 2: Error code: 400 - {'error': {'message': 'google/gemini-1.5-pro is not a valid model ID', 'code': 400}, 'user_id': 'user_34kLTCwLzW3rU64I3t6BoCIlFIw'}\n",
            "[google/gemini-1.5-pro] error attempt 3: Error code: 400 - {'error': {'message': 'google/gemini-1.5-pro is not a valid model ID', 'code': 400}, 'user_id': 'user_34kLTCwLzW3rU64I3t6BoCIlFIw'}\n"
          ]
        },
        {
          "output_type": "stream",
          "name": "stderr",
          "text": [
            "\rgoogle/gemini-1.5-pro:  15%|█▌        | 18/120 [03:41<21:01, 12.36s/it]"
          ]
        },
        {
          "output_type": "stream",
          "name": "stdout",
          "text": [
            "[google/gemini-1.5-pro] error attempt 1: Error code: 400 - {'error': {'message': 'google/gemini-1.5-pro is not a valid model ID', 'code': 400}, 'user_id': 'user_34kLTCwLzW3rU64I3t6BoCIlFIw'}\n",
            "[google/gemini-1.5-pro] error attempt 2: Error code: 400 - {'error': {'message': 'google/gemini-1.5-pro is not a valid model ID', 'code': 400}, 'user_id': 'user_34kLTCwLzW3rU64I3t6BoCIlFIw'}\n",
            "[google/gemini-1.5-pro] error attempt 3: Error code: 400 - {'error': {'message': 'google/gemini-1.5-pro is not a valid model ID', 'code': 400}, 'user_id': 'user_34kLTCwLzW3rU64I3t6BoCIlFIw'}\n",
            "[google/gemini-1.5-pro] error attempt 1: Error code: 400 - {'error': {'message': 'google/gemini-1.5-pro is not a valid model ID', 'code': 400}, 'user_id': 'user_34kLTCwLzW3rU64I3t6BoCIlFIw'}\n",
            "[google/gemini-1.5-pro] error attempt 2: Error code: 400 - {'error': {'message': 'google/gemini-1.5-pro is not a valid model ID', 'code': 400}, 'user_id': 'user_34kLTCwLzW3rU64I3t6BoCIlFIw'}\n",
            "[google/gemini-1.5-pro] error attempt 3: Error code: 400 - {'error': {'message': 'google/gemini-1.5-pro is not a valid model ID', 'code': 400}, 'user_id': 'user_34kLTCwLzW3rU64I3t6BoCIlFIw'}\n"
          ]
        },
        {
          "output_type": "stream",
          "name": "stderr",
          "text": [
            "\rgoogle/gemini-1.5-pro:  16%|█▌        | 19/120 [03:54<20:48, 12.36s/it]"
          ]
        },
        {
          "output_type": "stream",
          "name": "stdout",
          "text": [
            "[google/gemini-1.5-pro] error attempt 1: Error code: 400 - {'error': {'message': 'google/gemini-1.5-pro is not a valid model ID', 'code': 400}, 'user_id': 'user_34kLTCwLzW3rU64I3t6BoCIlFIw'}\n",
            "[google/gemini-1.5-pro] error attempt 2: Error code: 400 - {'error': {'message': 'google/gemini-1.5-pro is not a valid model ID', 'code': 400}, 'user_id': 'user_34kLTCwLzW3rU64I3t6BoCIlFIw'}\n",
            "[google/gemini-1.5-pro] error attempt 3: Error code: 400 - {'error': {'message': 'google/gemini-1.5-pro is not a valid model ID', 'code': 400}, 'user_id': 'user_34kLTCwLzW3rU64I3t6BoCIlFIw'}\n",
            "[google/gemini-1.5-pro] error attempt 1: Error code: 400 - {'error': {'message': 'google/gemini-1.5-pro is not a valid model ID', 'code': 400}, 'user_id': 'user_34kLTCwLzW3rU64I3t6BoCIlFIw'}\n",
            "[google/gemini-1.5-pro] error attempt 2: Error code: 400 - {'error': {'message': 'google/gemini-1.5-pro is not a valid model ID', 'code': 400}, 'user_id': 'user_34kLTCwLzW3rU64I3t6BoCIlFIw'}\n",
            "[google/gemini-1.5-pro] error attempt 3: Error code: 400 - {'error': {'message': 'google/gemini-1.5-pro is not a valid model ID', 'code': 400}, 'user_id': 'user_34kLTCwLzW3rU64I3t6BoCIlFIw'}\n"
          ]
        },
        {
          "output_type": "stream",
          "name": "stderr",
          "text": [
            "\rgoogle/gemini-1.5-pro:  17%|█▋        | 20/120 [04:06<20:33, 12.34s/it]"
          ]
        },
        {
          "output_type": "stream",
          "name": "stdout",
          "text": [
            "[google/gemini-1.5-pro] error attempt 1: Error code: 400 - {'error': {'message': 'google/gemini-1.5-pro is not a valid model ID', 'code': 400}, 'user_id': 'user_34kLTCwLzW3rU64I3t6BoCIlFIw'}\n",
            "[google/gemini-1.5-pro] error attempt 2: Error code: 400 - {'error': {'message': 'google/gemini-1.5-pro is not a valid model ID', 'code': 400}, 'user_id': 'user_34kLTCwLzW3rU64I3t6BoCIlFIw'}\n",
            "[google/gemini-1.5-pro] error attempt 3: Error code: 400 - {'error': {'message': 'google/gemini-1.5-pro is not a valid model ID', 'code': 400}, 'user_id': 'user_34kLTCwLzW3rU64I3t6BoCIlFIw'}\n",
            "[google/gemini-1.5-pro] error attempt 1: Error code: 400 - {'error': {'message': 'google/gemini-1.5-pro is not a valid model ID', 'code': 400}, 'user_id': 'user_34kLTCwLzW3rU64I3t6BoCIlFIw'}\n",
            "[google/gemini-1.5-pro] error attempt 2: Error code: 400 - {'error': {'message': 'google/gemini-1.5-pro is not a valid model ID', 'code': 400}, 'user_id': 'user_34kLTCwLzW3rU64I3t6BoCIlFIw'}\n",
            "[google/gemini-1.5-pro] error attempt 3: Error code: 400 - {'error': {'message': 'google/gemini-1.5-pro is not a valid model ID', 'code': 400}, 'user_id': 'user_34kLTCwLzW3rU64I3t6BoCIlFIw'}\n"
          ]
        },
        {
          "output_type": "stream",
          "name": "stderr",
          "text": [
            "\rgoogle/gemini-1.5-pro:  18%|█▊        | 21/120 [04:18<20:21, 12.33s/it]"
          ]
        },
        {
          "output_type": "stream",
          "name": "stdout",
          "text": [
            "[google/gemini-1.5-pro] error attempt 1: Error code: 400 - {'error': {'message': 'google/gemini-1.5-pro is not a valid model ID', 'code': 400}, 'user_id': 'user_34kLTCwLzW3rU64I3t6BoCIlFIw'}\n",
            "[google/gemini-1.5-pro] error attempt 2: Error code: 400 - {'error': {'message': 'google/gemini-1.5-pro is not a valid model ID', 'code': 400}, 'user_id': 'user_34kLTCwLzW3rU64I3t6BoCIlFIw'}\n",
            "[google/gemini-1.5-pro] error attempt 3: Error code: 400 - {'error': {'message': 'google/gemini-1.5-pro is not a valid model ID', 'code': 400}, 'user_id': 'user_34kLTCwLzW3rU64I3t6BoCIlFIw'}\n",
            "[google/gemini-1.5-pro] error attempt 1: Error code: 400 - {'error': {'message': 'google/gemini-1.5-pro is not a valid model ID', 'code': 400}, 'user_id': 'user_34kLTCwLzW3rU64I3t6BoCIlFIw'}\n",
            "[google/gemini-1.5-pro] error attempt 2: Error code: 400 - {'error': {'message': 'google/gemini-1.5-pro is not a valid model ID', 'code': 400}, 'user_id': 'user_34kLTCwLzW3rU64I3t6BoCIlFIw'}\n",
            "[google/gemini-1.5-pro] error attempt 3: Error code: 400 - {'error': {'message': 'google/gemini-1.5-pro is not a valid model ID', 'code': 400}, 'user_id': 'user_34kLTCwLzW3rU64I3t6BoCIlFIw'}\n"
          ]
        },
        {
          "output_type": "stream",
          "name": "stderr",
          "text": [
            "\rgoogle/gemini-1.5-pro:  18%|█▊        | 22/120 [04:31<20:08, 12.33s/it]"
          ]
        },
        {
          "output_type": "stream",
          "name": "stdout",
          "text": [
            "[google/gemini-1.5-pro] error attempt 1: Error code: 400 - {'error': {'message': 'google/gemini-1.5-pro is not a valid model ID', 'code': 400}, 'user_id': 'user_34kLTCwLzW3rU64I3t6BoCIlFIw'}\n",
            "[google/gemini-1.5-pro] error attempt 2: Error code: 400 - {'error': {'message': 'google/gemini-1.5-pro is not a valid model ID', 'code': 400}, 'user_id': 'user_34kLTCwLzW3rU64I3t6BoCIlFIw'}\n",
            "[google/gemini-1.5-pro] error attempt 3: Error code: 400 - {'error': {'message': 'google/gemini-1.5-pro is not a valid model ID', 'code': 400}, 'user_id': 'user_34kLTCwLzW3rU64I3t6BoCIlFIw'}\n",
            "[google/gemini-1.5-pro] error attempt 1: Error code: 400 - {'error': {'message': 'google/gemini-1.5-pro is not a valid model ID', 'code': 400}, 'user_id': 'user_34kLTCwLzW3rU64I3t6BoCIlFIw'}\n",
            "[google/gemini-1.5-pro] error attempt 2: Error code: 400 - {'error': {'message': 'google/gemini-1.5-pro is not a valid model ID', 'code': 400}, 'user_id': 'user_34kLTCwLzW3rU64I3t6BoCIlFIw'}\n",
            "[google/gemini-1.5-pro] error attempt 3: Error code: 400 - {'error': {'message': 'google/gemini-1.5-pro is not a valid model ID', 'code': 400}, 'user_id': 'user_34kLTCwLzW3rU64I3t6BoCIlFIw'}\n"
          ]
        },
        {
          "output_type": "stream",
          "name": "stderr",
          "text": [
            "\rgoogle/gemini-1.5-pro:  19%|█▉        | 23/120 [04:43<19:58, 12.36s/it]"
          ]
        },
        {
          "output_type": "stream",
          "name": "stdout",
          "text": [
            "[google/gemini-1.5-pro] error attempt 1: Error code: 400 - {'error': {'message': 'google/gemini-1.5-pro is not a valid model ID', 'code': 400}, 'user_id': 'user_34kLTCwLzW3rU64I3t6BoCIlFIw'}\n",
            "[google/gemini-1.5-pro] error attempt 2: Error code: 400 - {'error': {'message': 'google/gemini-1.5-pro is not a valid model ID', 'code': 400}, 'user_id': 'user_34kLTCwLzW3rU64I3t6BoCIlFIw'}\n",
            "[google/gemini-1.5-pro] error attempt 3: Error code: 400 - {'error': {'message': 'google/gemini-1.5-pro is not a valid model ID', 'code': 400}, 'user_id': 'user_34kLTCwLzW3rU64I3t6BoCIlFIw'}\n",
            "[google/gemini-1.5-pro] error attempt 1: Error code: 400 - {'error': {'message': 'google/gemini-1.5-pro is not a valid model ID', 'code': 400}, 'user_id': 'user_34kLTCwLzW3rU64I3t6BoCIlFIw'}\n",
            "[google/gemini-1.5-pro] error attempt 2: Error code: 400 - {'error': {'message': 'google/gemini-1.5-pro is not a valid model ID', 'code': 400}, 'user_id': 'user_34kLTCwLzW3rU64I3t6BoCIlFIw'}\n",
            "[google/gemini-1.5-pro] error attempt 3: Error code: 400 - {'error': {'message': 'google/gemini-1.5-pro is not a valid model ID', 'code': 400}, 'user_id': 'user_34kLTCwLzW3rU64I3t6BoCIlFIw'}\n"
          ]
        },
        {
          "output_type": "stream",
          "name": "stderr",
          "text": [
            "\rgoogle/gemini-1.5-pro:  20%|██        | 24/120 [04:55<19:44, 12.33s/it]"
          ]
        },
        {
          "output_type": "stream",
          "name": "stdout",
          "text": [
            "[google/gemini-1.5-pro] error attempt 1: Error code: 400 - {'error': {'message': 'google/gemini-1.5-pro is not a valid model ID', 'code': 400}, 'user_id': 'user_34kLTCwLzW3rU64I3t6BoCIlFIw'}\n",
            "[google/gemini-1.5-pro] error attempt 2: Error code: 400 - {'error': {'message': 'google/gemini-1.5-pro is not a valid model ID', 'code': 400}, 'user_id': 'user_34kLTCwLzW3rU64I3t6BoCIlFIw'}\n",
            "[google/gemini-1.5-pro] error attempt 3: Error code: 400 - {'error': {'message': 'google/gemini-1.5-pro is not a valid model ID', 'code': 400}, 'user_id': 'user_34kLTCwLzW3rU64I3t6BoCIlFIw'}\n",
            "[google/gemini-1.5-pro] error attempt 1: Error code: 400 - {'error': {'message': 'google/gemini-1.5-pro is not a valid model ID', 'code': 400}, 'user_id': 'user_34kLTCwLzW3rU64I3t6BoCIlFIw'}\n",
            "[google/gemini-1.5-pro] error attempt 2: Error code: 400 - {'error': {'message': 'google/gemini-1.5-pro is not a valid model ID', 'code': 400}, 'user_id': 'user_34kLTCwLzW3rU64I3t6BoCIlFIw'}\n",
            "[google/gemini-1.5-pro] error attempt 3: Error code: 400 - {'error': {'message': 'google/gemini-1.5-pro is not a valid model ID', 'code': 400}, 'user_id': 'user_34kLTCwLzW3rU64I3t6BoCIlFIw'}\n"
          ]
        },
        {
          "output_type": "stream",
          "name": "stderr",
          "text": [
            "\rgoogle/gemini-1.5-pro:  21%|██        | 25/120 [05:08<19:34, 12.37s/it]"
          ]
        },
        {
          "output_type": "stream",
          "name": "stdout",
          "text": [
            "[google/gemini-1.5-pro] error attempt 1: Error code: 400 - {'error': {'message': 'google/gemini-1.5-pro is not a valid model ID', 'code': 400}, 'user_id': 'user_34kLTCwLzW3rU64I3t6BoCIlFIw'}\n",
            "[google/gemini-1.5-pro] error attempt 2: Error code: 400 - {'error': {'message': 'google/gemini-1.5-pro is not a valid model ID', 'code': 400}, 'user_id': 'user_34kLTCwLzW3rU64I3t6BoCIlFIw'}\n",
            "[google/gemini-1.5-pro] error attempt 3: Error code: 400 - {'error': {'message': 'google/gemini-1.5-pro is not a valid model ID', 'code': 400}, 'user_id': 'user_34kLTCwLzW3rU64I3t6BoCIlFIw'}\n",
            "[google/gemini-1.5-pro] error attempt 1: Error code: 400 - {'error': {'message': 'google/gemini-1.5-pro is not a valid model ID', 'code': 400}, 'user_id': 'user_34kLTCwLzW3rU64I3t6BoCIlFIw'}\n",
            "[google/gemini-1.5-pro] error attempt 2: Error code: 400 - {'error': {'message': 'google/gemini-1.5-pro is not a valid model ID', 'code': 400}, 'user_id': 'user_34kLTCwLzW3rU64I3t6BoCIlFIw'}\n",
            "[google/gemini-1.5-pro] error attempt 3: Error code: 400 - {'error': {'message': 'google/gemini-1.5-pro is not a valid model ID', 'code': 400}, 'user_id': 'user_34kLTCwLzW3rU64I3t6BoCIlFIw'}\n"
          ]
        },
        {
          "output_type": "stream",
          "name": "stderr",
          "text": [
            "\rgoogle/gemini-1.5-pro:  22%|██▏       | 26/120 [05:20<19:20, 12.35s/it]"
          ]
        },
        {
          "output_type": "stream",
          "name": "stdout",
          "text": [
            "[google/gemini-1.5-pro] error attempt 1: Error code: 400 - {'error': {'message': 'google/gemini-1.5-pro is not a valid model ID', 'code': 400}, 'user_id': 'user_34kLTCwLzW3rU64I3t6BoCIlFIw'}\n",
            "[google/gemini-1.5-pro] error attempt 2: Error code: 400 - {'error': {'message': 'google/gemini-1.5-pro is not a valid model ID', 'code': 400}, 'user_id': 'user_34kLTCwLzW3rU64I3t6BoCIlFIw'}\n",
            "[google/gemini-1.5-pro] error attempt 3: Error code: 400 - {'error': {'message': 'google/gemini-1.5-pro is not a valid model ID', 'code': 400}, 'user_id': 'user_34kLTCwLzW3rU64I3t6BoCIlFIw'}\n",
            "[google/gemini-1.5-pro] error attempt 1: Error code: 400 - {'error': {'message': 'google/gemini-1.5-pro is not a valid model ID', 'code': 400}, 'user_id': 'user_34kLTCwLzW3rU64I3t6BoCIlFIw'}\n",
            "[google/gemini-1.5-pro] error attempt 2: Error code: 400 - {'error': {'message': 'google/gemini-1.5-pro is not a valid model ID', 'code': 400}, 'user_id': 'user_34kLTCwLzW3rU64I3t6BoCIlFIw'}\n",
            "[google/gemini-1.5-pro] error attempt 3: Error code: 400 - {'error': {'message': 'google/gemini-1.5-pro is not a valid model ID', 'code': 400}, 'user_id': 'user_34kLTCwLzW3rU64I3t6BoCIlFIw'}\n"
          ]
        },
        {
          "output_type": "stream",
          "name": "stderr",
          "text": [
            "\rgoogle/gemini-1.5-pro:  22%|██▎       | 27/120 [05:32<19:07, 12.34s/it]"
          ]
        },
        {
          "output_type": "stream",
          "name": "stdout",
          "text": [
            "[google/gemini-1.5-pro] error attempt 1: Error code: 400 - {'error': {'message': 'google/gemini-1.5-pro is not a valid model ID', 'code': 400}, 'user_id': 'user_34kLTCwLzW3rU64I3t6BoCIlFIw'}\n",
            "[google/gemini-1.5-pro] error attempt 2: Error code: 400 - {'error': {'message': 'google/gemini-1.5-pro is not a valid model ID', 'code': 400}, 'user_id': 'user_34kLTCwLzW3rU64I3t6BoCIlFIw'}\n",
            "[google/gemini-1.5-pro] error attempt 3: Error code: 400 - {'error': {'message': 'google/gemini-1.5-pro is not a valid model ID', 'code': 400}, 'user_id': 'user_34kLTCwLzW3rU64I3t6BoCIlFIw'}\n",
            "[google/gemini-1.5-pro] error attempt 1: Error code: 400 - {'error': {'message': 'google/gemini-1.5-pro is not a valid model ID', 'code': 400}, 'user_id': 'user_34kLTCwLzW3rU64I3t6BoCIlFIw'}\n",
            "[google/gemini-1.5-pro] error attempt 2: Error code: 400 - {'error': {'message': 'google/gemini-1.5-pro is not a valid model ID', 'code': 400}, 'user_id': 'user_34kLTCwLzW3rU64I3t6BoCIlFIw'}\n",
            "[google/gemini-1.5-pro] error attempt 3: Error code: 400 - {'error': {'message': 'google/gemini-1.5-pro is not a valid model ID', 'code': 400}, 'user_id': 'user_34kLTCwLzW3rU64I3t6BoCIlFIw'}\n"
          ]
        },
        {
          "output_type": "stream",
          "name": "stderr",
          "text": [
            "\rgoogle/gemini-1.5-pro:  23%|██▎       | 28/120 [05:45<18:58, 12.37s/it]"
          ]
        },
        {
          "output_type": "stream",
          "name": "stdout",
          "text": [
            "[google/gemini-1.5-pro] error attempt 1: Error code: 400 - {'error': {'message': 'google/gemini-1.5-pro is not a valid model ID', 'code': 400}, 'user_id': 'user_34kLTCwLzW3rU64I3t6BoCIlFIw'}\n",
            "[google/gemini-1.5-pro] error attempt 2: Error code: 400 - {'error': {'message': 'google/gemini-1.5-pro is not a valid model ID', 'code': 400}, 'user_id': 'user_34kLTCwLzW3rU64I3t6BoCIlFIw'}\n",
            "[google/gemini-1.5-pro] error attempt 3: Error code: 400 - {'error': {'message': 'google/gemini-1.5-pro is not a valid model ID', 'code': 400}, 'user_id': 'user_34kLTCwLzW3rU64I3t6BoCIlFIw'}\n",
            "[google/gemini-1.5-pro] error attempt 1: Error code: 400 - {'error': {'message': 'google/gemini-1.5-pro is not a valid model ID', 'code': 400}, 'user_id': 'user_34kLTCwLzW3rU64I3t6BoCIlFIw'}\n",
            "[google/gemini-1.5-pro] error attempt 2: Error code: 400 - {'error': {'message': 'google/gemini-1.5-pro is not a valid model ID', 'code': 400}, 'user_id': 'user_34kLTCwLzW3rU64I3t6BoCIlFIw'}\n",
            "[google/gemini-1.5-pro] error attempt 3: Error code: 400 - {'error': {'message': 'google/gemini-1.5-pro is not a valid model ID', 'code': 400}, 'user_id': 'user_34kLTCwLzW3rU64I3t6BoCIlFIw'}\n"
          ]
        },
        {
          "output_type": "stream",
          "name": "stderr",
          "text": [
            "\rgoogle/gemini-1.5-pro:  24%|██▍       | 29/120 [05:58<18:52, 12.45s/it]"
          ]
        },
        {
          "output_type": "stream",
          "name": "stdout",
          "text": [
            "[google/gemini-1.5-pro] error attempt 1: Error code: 400 - {'error': {'message': 'google/gemini-1.5-pro is not a valid model ID', 'code': 400}, 'user_id': 'user_34kLTCwLzW3rU64I3t6BoCIlFIw'}\n",
            "[google/gemini-1.5-pro] error attempt 2: Error code: 400 - {'error': {'message': 'google/gemini-1.5-pro is not a valid model ID', 'code': 400}, 'user_id': 'user_34kLTCwLzW3rU64I3t6BoCIlFIw'}\n",
            "[google/gemini-1.5-pro] error attempt 3: Error code: 400 - {'error': {'message': 'google/gemini-1.5-pro is not a valid model ID', 'code': 400}, 'user_id': 'user_34kLTCwLzW3rU64I3t6BoCIlFIw'}\n",
            "[google/gemini-1.5-pro] error attempt 1: Error code: 400 - {'error': {'message': 'google/gemini-1.5-pro is not a valid model ID', 'code': 400}, 'user_id': 'user_34kLTCwLzW3rU64I3t6BoCIlFIw'}\n",
            "[google/gemini-1.5-pro] error attempt 2: Error code: 400 - {'error': {'message': 'google/gemini-1.5-pro is not a valid model ID', 'code': 400}, 'user_id': 'user_34kLTCwLzW3rU64I3t6BoCIlFIw'}\n",
            "[google/gemini-1.5-pro] error attempt 3: Error code: 400 - {'error': {'message': 'google/gemini-1.5-pro is not a valid model ID', 'code': 400}, 'user_id': 'user_34kLTCwLzW3rU64I3t6BoCIlFIw'}\n"
          ]
        },
        {
          "output_type": "stream",
          "name": "stderr",
          "text": [
            "\rgoogle/gemini-1.5-pro:  25%|██▌       | 30/120 [06:10<18:38, 12.43s/it]"
          ]
        },
        {
          "output_type": "stream",
          "name": "stdout",
          "text": [
            "[google/gemini-1.5-pro] error attempt 1: Error code: 400 - {'error': {'message': 'google/gemini-1.5-pro is not a valid model ID', 'code': 400}, 'user_id': 'user_34kLTCwLzW3rU64I3t6BoCIlFIw'}\n",
            "[google/gemini-1.5-pro] error attempt 2: Error code: 400 - {'error': {'message': 'google/gemini-1.5-pro is not a valid model ID', 'code': 400}, 'user_id': 'user_34kLTCwLzW3rU64I3t6BoCIlFIw'}\n",
            "[google/gemini-1.5-pro] error attempt 3: Error code: 400 - {'error': {'message': 'google/gemini-1.5-pro is not a valid model ID', 'code': 400}, 'user_id': 'user_34kLTCwLzW3rU64I3t6BoCIlFIw'}\n",
            "[google/gemini-1.5-pro] error attempt 1: Error code: 400 - {'error': {'message': 'google/gemini-1.5-pro is not a valid model ID', 'code': 400}, 'user_id': 'user_34kLTCwLzW3rU64I3t6BoCIlFIw'}\n",
            "[google/gemini-1.5-pro] error attempt 2: Error code: 400 - {'error': {'message': 'google/gemini-1.5-pro is not a valid model ID', 'code': 400}, 'user_id': 'user_34kLTCwLzW3rU64I3t6BoCIlFIw'}\n",
            "[google/gemini-1.5-pro] error attempt 3: Error code: 400 - {'error': {'message': 'google/gemini-1.5-pro is not a valid model ID', 'code': 400}, 'user_id': 'user_34kLTCwLzW3rU64I3t6BoCIlFIw'}\n"
          ]
        },
        {
          "output_type": "stream",
          "name": "stderr",
          "text": [
            "\rgoogle/gemini-1.5-pro:  26%|██▌       | 31/120 [06:22<18:22, 12.39s/it]"
          ]
        },
        {
          "output_type": "stream",
          "name": "stdout",
          "text": [
            "[google/gemini-1.5-pro] error attempt 1: Error code: 400 - {'error': {'message': 'google/gemini-1.5-pro is not a valid model ID', 'code': 400}, 'user_id': 'user_34kLTCwLzW3rU64I3t6BoCIlFIw'}\n",
            "[google/gemini-1.5-pro] error attempt 2: Error code: 400 - {'error': {'message': 'google/gemini-1.5-pro is not a valid model ID', 'code': 400}, 'user_id': 'user_34kLTCwLzW3rU64I3t6BoCIlFIw'}\n",
            "[google/gemini-1.5-pro] error attempt 3: Error code: 400 - {'error': {'message': 'google/gemini-1.5-pro is not a valid model ID', 'code': 400}, 'user_id': 'user_34kLTCwLzW3rU64I3t6BoCIlFIw'}\n",
            "[google/gemini-1.5-pro] error attempt 1: Error code: 400 - {'error': {'message': 'google/gemini-1.5-pro is not a valid model ID', 'code': 400}, 'user_id': 'user_34kLTCwLzW3rU64I3t6BoCIlFIw'}\n",
            "[google/gemini-1.5-pro] error attempt 2: Error code: 400 - {'error': {'message': 'google/gemini-1.5-pro is not a valid model ID', 'code': 400}, 'user_id': 'user_34kLTCwLzW3rU64I3t6BoCIlFIw'}\n",
            "[google/gemini-1.5-pro] error attempt 3: Error code: 400 - {'error': {'message': 'google/gemini-1.5-pro is not a valid model ID', 'code': 400}, 'user_id': 'user_34kLTCwLzW3rU64I3t6BoCIlFIw'}\n"
          ]
        },
        {
          "output_type": "stream",
          "name": "stderr",
          "text": [
            "\rgoogle/gemini-1.5-pro:  27%|██▋       | 32/120 [06:35<18:09, 12.38s/it]"
          ]
        },
        {
          "output_type": "stream",
          "name": "stdout",
          "text": [
            "[google/gemini-1.5-pro] error attempt 1: Error code: 400 - {'error': {'message': 'google/gemini-1.5-pro is not a valid model ID', 'code': 400}, 'user_id': 'user_34kLTCwLzW3rU64I3t6BoCIlFIw'}\n",
            "[google/gemini-1.5-pro] error attempt 2: Error code: 400 - {'error': {'message': 'google/gemini-1.5-pro is not a valid model ID', 'code': 400}, 'user_id': 'user_34kLTCwLzW3rU64I3t6BoCIlFIw'}\n",
            "[google/gemini-1.5-pro] error attempt 3: Error code: 400 - {'error': {'message': 'google/gemini-1.5-pro is not a valid model ID', 'code': 400}, 'user_id': 'user_34kLTCwLzW3rU64I3t6BoCIlFIw'}\n",
            "[google/gemini-1.5-pro] error attempt 1: Error code: 400 - {'error': {'message': 'google/gemini-1.5-pro is not a valid model ID', 'code': 400}, 'user_id': 'user_34kLTCwLzW3rU64I3t6BoCIlFIw'}\n",
            "[google/gemini-1.5-pro] error attempt 2: Error code: 400 - {'error': {'message': 'google/gemini-1.5-pro is not a valid model ID', 'code': 400}, 'user_id': 'user_34kLTCwLzW3rU64I3t6BoCIlFIw'}\n",
            "[google/gemini-1.5-pro] error attempt 3: Error code: 400 - {'error': {'message': 'google/gemini-1.5-pro is not a valid model ID', 'code': 400}, 'user_id': 'user_34kLTCwLzW3rU64I3t6BoCIlFIw'}\n"
          ]
        },
        {
          "output_type": "stream",
          "name": "stderr",
          "text": [
            "\rgoogle/gemini-1.5-pro:  28%|██▊       | 33/120 [06:47<17:55, 12.36s/it]"
          ]
        },
        {
          "output_type": "stream",
          "name": "stdout",
          "text": [
            "[google/gemini-1.5-pro] error attempt 1: Error code: 400 - {'error': {'message': 'google/gemini-1.5-pro is not a valid model ID', 'code': 400}, 'user_id': 'user_34kLTCwLzW3rU64I3t6BoCIlFIw'}\n",
            "[google/gemini-1.5-pro] error attempt 2: Error code: 400 - {'error': {'message': 'google/gemini-1.5-pro is not a valid model ID', 'code': 400}, 'user_id': 'user_34kLTCwLzW3rU64I3t6BoCIlFIw'}\n",
            "[google/gemini-1.5-pro] error attempt 3: Error code: 400 - {'error': {'message': 'google/gemini-1.5-pro is not a valid model ID', 'code': 400}, 'user_id': 'user_34kLTCwLzW3rU64I3t6BoCIlFIw'}\n",
            "[google/gemini-1.5-pro] error attempt 1: Error code: 400 - {'error': {'message': 'google/gemini-1.5-pro is not a valid model ID', 'code': 400}, 'user_id': 'user_34kLTCwLzW3rU64I3t6BoCIlFIw'}\n",
            "[google/gemini-1.5-pro] error attempt 2: Error code: 400 - {'error': {'message': 'google/gemini-1.5-pro is not a valid model ID', 'code': 400}, 'user_id': 'user_34kLTCwLzW3rU64I3t6BoCIlFIw'}\n",
            "[google/gemini-1.5-pro] error attempt 3: Error code: 400 - {'error': {'message': 'google/gemini-1.5-pro is not a valid model ID', 'code': 400}, 'user_id': 'user_34kLTCwLzW3rU64I3t6BoCIlFIw'}\n"
          ]
        },
        {
          "output_type": "stream",
          "name": "stderr",
          "text": [
            "\rgoogle/gemini-1.5-pro:  28%|██▊       | 34/120 [06:59<17:40, 12.33s/it]"
          ]
        },
        {
          "output_type": "stream",
          "name": "stdout",
          "text": [
            "[google/gemini-1.5-pro] error attempt 1: Error code: 400 - {'error': {'message': 'google/gemini-1.5-pro is not a valid model ID', 'code': 400}, 'user_id': 'user_34kLTCwLzW3rU64I3t6BoCIlFIw'}\n",
            "[google/gemini-1.5-pro] error attempt 2: Error code: 400 - {'error': {'message': 'google/gemini-1.5-pro is not a valid model ID', 'code': 400}, 'user_id': 'user_34kLTCwLzW3rU64I3t6BoCIlFIw'}\n",
            "[google/gemini-1.5-pro] error attempt 3: Error code: 400 - {'error': {'message': 'google/gemini-1.5-pro is not a valid model ID', 'code': 400}, 'user_id': 'user_34kLTCwLzW3rU64I3t6BoCIlFIw'}\n",
            "[google/gemini-1.5-pro] error attempt 1: Error code: 400 - {'error': {'message': 'google/gemini-1.5-pro is not a valid model ID', 'code': 400}, 'user_id': 'user_34kLTCwLzW3rU64I3t6BoCIlFIw'}\n",
            "[google/gemini-1.5-pro] error attempt 2: Error code: 400 - {'error': {'message': 'google/gemini-1.5-pro is not a valid model ID', 'code': 400}, 'user_id': 'user_34kLTCwLzW3rU64I3t6BoCIlFIw'}\n",
            "[google/gemini-1.5-pro] error attempt 3: Error code: 400 - {'error': {'message': 'google/gemini-1.5-pro is not a valid model ID', 'code': 400}, 'user_id': 'user_34kLTCwLzW3rU64I3t6BoCIlFIw'}\n"
          ]
        },
        {
          "output_type": "stream",
          "name": "stderr",
          "text": [
            "\rgoogle/gemini-1.5-pro:  29%|██▉       | 35/120 [07:11<17:27, 12.32s/it]"
          ]
        },
        {
          "output_type": "stream",
          "name": "stdout",
          "text": [
            "[google/gemini-1.5-pro] error attempt 1: Error code: 400 - {'error': {'message': 'google/gemini-1.5-pro is not a valid model ID', 'code': 400}, 'user_id': 'user_34kLTCwLzW3rU64I3t6BoCIlFIw'}\n",
            "[google/gemini-1.5-pro] error attempt 2: Error code: 400 - {'error': {'message': 'google/gemini-1.5-pro is not a valid model ID', 'code': 400}, 'user_id': 'user_34kLTCwLzW3rU64I3t6BoCIlFIw'}\n",
            "[google/gemini-1.5-pro] error attempt 3: Error code: 400 - {'error': {'message': 'google/gemini-1.5-pro is not a valid model ID', 'code': 400}, 'user_id': 'user_34kLTCwLzW3rU64I3t6BoCIlFIw'}\n",
            "[google/gemini-1.5-pro] error attempt 1: Error code: 400 - {'error': {'message': 'google/gemini-1.5-pro is not a valid model ID', 'code': 400}, 'user_id': 'user_34kLTCwLzW3rU64I3t6BoCIlFIw'}\n",
            "[google/gemini-1.5-pro] error attempt 2: Error code: 400 - {'error': {'message': 'google/gemini-1.5-pro is not a valid model ID', 'code': 400}, 'user_id': 'user_34kLTCwLzW3rU64I3t6BoCIlFIw'}\n",
            "[google/gemini-1.5-pro] error attempt 3: Error code: 400 - {'error': {'message': 'google/gemini-1.5-pro is not a valid model ID', 'code': 400}, 'user_id': 'user_34kLTCwLzW3rU64I3t6BoCIlFIw'}\n"
          ]
        },
        {
          "output_type": "stream",
          "name": "stderr",
          "text": [
            "\rgoogle/gemini-1.5-pro:  30%|███       | 36/120 [07:24<17:15, 12.32s/it]"
          ]
        },
        {
          "output_type": "stream",
          "name": "stdout",
          "text": [
            "[google/gemini-1.5-pro] error attempt 1: Error code: 400 - {'error': {'message': 'google/gemini-1.5-pro is not a valid model ID', 'code': 400}, 'user_id': 'user_34kLTCwLzW3rU64I3t6BoCIlFIw'}\n",
            "[google/gemini-1.5-pro] error attempt 2: Error code: 400 - {'error': {'message': 'google/gemini-1.5-pro is not a valid model ID', 'code': 400}, 'user_id': 'user_34kLTCwLzW3rU64I3t6BoCIlFIw'}\n",
            "[google/gemini-1.5-pro] error attempt 3: Error code: 400 - {'error': {'message': 'google/gemini-1.5-pro is not a valid model ID', 'code': 400}, 'user_id': 'user_34kLTCwLzW3rU64I3t6BoCIlFIw'}\n",
            "[google/gemini-1.5-pro] error attempt 1: Error code: 400 - {'error': {'message': 'google/gemini-1.5-pro is not a valid model ID', 'code': 400}, 'user_id': 'user_34kLTCwLzW3rU64I3t6BoCIlFIw'}\n",
            "[google/gemini-1.5-pro] error attempt 2: Error code: 400 - {'error': {'message': 'google/gemini-1.5-pro is not a valid model ID', 'code': 400}, 'user_id': 'user_34kLTCwLzW3rU64I3t6BoCIlFIw'}\n",
            "[google/gemini-1.5-pro] error attempt 3: Error code: 400 - {'error': {'message': 'google/gemini-1.5-pro is not a valid model ID', 'code': 400}, 'user_id': 'user_34kLTCwLzW3rU64I3t6BoCIlFIw'}\n"
          ]
        },
        {
          "output_type": "stream",
          "name": "stderr",
          "text": [
            "\rgoogle/gemini-1.5-pro:  31%|███       | 37/120 [07:36<17:02, 12.32s/it]"
          ]
        },
        {
          "output_type": "stream",
          "name": "stdout",
          "text": [
            "[google/gemini-1.5-pro] error attempt 1: Error code: 400 - {'error': {'message': 'google/gemini-1.5-pro is not a valid model ID', 'code': 400}, 'user_id': 'user_34kLTCwLzW3rU64I3t6BoCIlFIw'}\n",
            "[google/gemini-1.5-pro] error attempt 2: Error code: 400 - {'error': {'message': 'google/gemini-1.5-pro is not a valid model ID', 'code': 400}, 'user_id': 'user_34kLTCwLzW3rU64I3t6BoCIlFIw'}\n",
            "[google/gemini-1.5-pro] error attempt 3: Error code: 400 - {'error': {'message': 'google/gemini-1.5-pro is not a valid model ID', 'code': 400}, 'user_id': 'user_34kLTCwLzW3rU64I3t6BoCIlFIw'}\n",
            "[google/gemini-1.5-pro] error attempt 1: Error code: 400 - {'error': {'message': 'google/gemini-1.5-pro is not a valid model ID', 'code': 400}, 'user_id': 'user_34kLTCwLzW3rU64I3t6BoCIlFIw'}\n",
            "[google/gemini-1.5-pro] error attempt 2: Error code: 400 - {'error': {'message': 'google/gemini-1.5-pro is not a valid model ID', 'code': 400}, 'user_id': 'user_34kLTCwLzW3rU64I3t6BoCIlFIw'}\n",
            "[google/gemini-1.5-pro] error attempt 3: Error code: 400 - {'error': {'message': 'google/gemini-1.5-pro is not a valid model ID', 'code': 400}, 'user_id': 'user_34kLTCwLzW3rU64I3t6BoCIlFIw'}\n"
          ]
        },
        {
          "output_type": "stream",
          "name": "stderr",
          "text": [
            "\rgoogle/gemini-1.5-pro:  32%|███▏      | 38/120 [07:48<16:48, 12.30s/it]"
          ]
        },
        {
          "output_type": "stream",
          "name": "stdout",
          "text": [
            "[google/gemini-1.5-pro] error attempt 1: Error code: 400 - {'error': {'message': 'google/gemini-1.5-pro is not a valid model ID', 'code': 400}, 'user_id': 'user_34kLTCwLzW3rU64I3t6BoCIlFIw'}\n",
            "[google/gemini-1.5-pro] error attempt 2: Error code: 400 - {'error': {'message': 'google/gemini-1.5-pro is not a valid model ID', 'code': 400}, 'user_id': 'user_34kLTCwLzW3rU64I3t6BoCIlFIw'}\n",
            "[google/gemini-1.5-pro] error attempt 3: Error code: 400 - {'error': {'message': 'google/gemini-1.5-pro is not a valid model ID', 'code': 400}, 'user_id': 'user_34kLTCwLzW3rU64I3t6BoCIlFIw'}\n",
            "[google/gemini-1.5-pro] error attempt 1: Error code: 400 - {'error': {'message': 'google/gemini-1.5-pro is not a valid model ID', 'code': 400}, 'user_id': 'user_34kLTCwLzW3rU64I3t6BoCIlFIw'}\n",
            "[google/gemini-1.5-pro] error attempt 2: Error code: 400 - {'error': {'message': 'google/gemini-1.5-pro is not a valid model ID', 'code': 400}, 'user_id': 'user_34kLTCwLzW3rU64I3t6BoCIlFIw'}\n",
            "[google/gemini-1.5-pro] error attempt 3: Error code: 400 - {'error': {'message': 'google/gemini-1.5-pro is not a valid model ID', 'code': 400}, 'user_id': 'user_34kLTCwLzW3rU64I3t6BoCIlFIw'}\n"
          ]
        },
        {
          "output_type": "stream",
          "name": "stderr",
          "text": [
            "\rgoogle/gemini-1.5-pro:  32%|███▎      | 39/120 [08:01<16:36, 12.30s/it]"
          ]
        },
        {
          "output_type": "stream",
          "name": "stdout",
          "text": [
            "[google/gemini-1.5-pro] error attempt 1: Error code: 400 - {'error': {'message': 'google/gemini-1.5-pro is not a valid model ID', 'code': 400}, 'user_id': 'user_34kLTCwLzW3rU64I3t6BoCIlFIw'}\n",
            "[google/gemini-1.5-pro] error attempt 2: Error code: 400 - {'error': {'message': 'google/gemini-1.5-pro is not a valid model ID', 'code': 400}, 'user_id': 'user_34kLTCwLzW3rU64I3t6BoCIlFIw'}\n",
            "[google/gemini-1.5-pro] error attempt 3: Error code: 400 - {'error': {'message': 'google/gemini-1.5-pro is not a valid model ID', 'code': 400}, 'user_id': 'user_34kLTCwLzW3rU64I3t6BoCIlFIw'}\n",
            "[google/gemini-1.5-pro] error attempt 1: Error code: 400 - {'error': {'message': 'google/gemini-1.5-pro is not a valid model ID', 'code': 400}, 'user_id': 'user_34kLTCwLzW3rU64I3t6BoCIlFIw'}\n",
            "[google/gemini-1.5-pro] error attempt 2: Error code: 400 - {'error': {'message': 'google/gemini-1.5-pro is not a valid model ID', 'code': 400}, 'user_id': 'user_34kLTCwLzW3rU64I3t6BoCIlFIw'}\n",
            "[google/gemini-1.5-pro] error attempt 3: Error code: 400 - {'error': {'message': 'google/gemini-1.5-pro is not a valid model ID', 'code': 400}, 'user_id': 'user_34kLTCwLzW3rU64I3t6BoCIlFIw'}\n"
          ]
        },
        {
          "output_type": "stream",
          "name": "stderr",
          "text": [
            "\rgoogle/gemini-1.5-pro:  33%|███▎      | 40/120 [08:13<16:24, 12.30s/it]"
          ]
        },
        {
          "output_type": "stream",
          "name": "stdout",
          "text": [
            "[google/gemini-1.5-pro] error attempt 1: Error code: 400 - {'error': {'message': 'google/gemini-1.5-pro is not a valid model ID', 'code': 400}, 'user_id': 'user_34kLTCwLzW3rU64I3t6BoCIlFIw'}\n",
            "[google/gemini-1.5-pro] error attempt 2: Error code: 400 - {'error': {'message': 'google/gemini-1.5-pro is not a valid model ID', 'code': 400}, 'user_id': 'user_34kLTCwLzW3rU64I3t6BoCIlFIw'}\n",
            "[google/gemini-1.5-pro] error attempt 3: Error code: 400 - {'error': {'message': 'google/gemini-1.5-pro is not a valid model ID', 'code': 400}, 'user_id': 'user_34kLTCwLzW3rU64I3t6BoCIlFIw'}\n",
            "[google/gemini-1.5-pro] error attempt 1: Error code: 400 - {'error': {'message': 'google/gemini-1.5-pro is not a valid model ID', 'code': 400}, 'user_id': 'user_34kLTCwLzW3rU64I3t6BoCIlFIw'}\n",
            "[google/gemini-1.5-pro] error attempt 2: Error code: 400 - {'error': {'message': 'google/gemini-1.5-pro is not a valid model ID', 'code': 400}, 'user_id': 'user_34kLTCwLzW3rU64I3t6BoCIlFIw'}\n",
            "[google/gemini-1.5-pro] error attempt 3: Error code: 400 - {'error': {'message': 'google/gemini-1.5-pro is not a valid model ID', 'code': 400}, 'user_id': 'user_34kLTCwLzW3rU64I3t6BoCIlFIw'}\n"
          ]
        },
        {
          "output_type": "stream",
          "name": "stderr",
          "text": [
            "\rgoogle/gemini-1.5-pro:  34%|███▍      | 41/120 [08:25<16:11, 12.30s/it]"
          ]
        },
        {
          "output_type": "stream",
          "name": "stdout",
          "text": [
            "[google/gemini-1.5-pro] error attempt 1: Error code: 400 - {'error': {'message': 'google/gemini-1.5-pro is not a valid model ID', 'code': 400}, 'user_id': 'user_34kLTCwLzW3rU64I3t6BoCIlFIw'}\n",
            "[google/gemini-1.5-pro] error attempt 2: Error code: 400 - {'error': {'message': 'google/gemini-1.5-pro is not a valid model ID', 'code': 400}, 'user_id': 'user_34kLTCwLzW3rU64I3t6BoCIlFIw'}\n",
            "[google/gemini-1.5-pro] error attempt 3: Error code: 400 - {'error': {'message': 'google/gemini-1.5-pro is not a valid model ID', 'code': 400}, 'user_id': 'user_34kLTCwLzW3rU64I3t6BoCIlFIw'}\n",
            "[google/gemini-1.5-pro] error attempt 1: Error code: 400 - {'error': {'message': 'google/gemini-1.5-pro is not a valid model ID', 'code': 400}, 'user_id': 'user_34kLTCwLzW3rU64I3t6BoCIlFIw'}\n",
            "[google/gemini-1.5-pro] error attempt 2: Error code: 400 - {'error': {'message': 'google/gemini-1.5-pro is not a valid model ID', 'code': 400}, 'user_id': 'user_34kLTCwLzW3rU64I3t6BoCIlFIw'}\n",
            "[google/gemini-1.5-pro] error attempt 3: Error code: 400 - {'error': {'message': 'google/gemini-1.5-pro is not a valid model ID', 'code': 400}, 'user_id': 'user_34kLTCwLzW3rU64I3t6BoCIlFIw'}\n"
          ]
        },
        {
          "output_type": "stream",
          "name": "stderr",
          "text": [
            "\rgoogle/gemini-1.5-pro:  35%|███▌      | 42/120 [08:38<16:01, 12.33s/it]"
          ]
        },
        {
          "output_type": "stream",
          "name": "stdout",
          "text": [
            "[google/gemini-1.5-pro] error attempt 1: Error code: 400 - {'error': {'message': 'google/gemini-1.5-pro is not a valid model ID', 'code': 400}, 'user_id': 'user_34kLTCwLzW3rU64I3t6BoCIlFIw'}\n",
            "[google/gemini-1.5-pro] error attempt 2: Error code: 400 - {'error': {'message': 'google/gemini-1.5-pro is not a valid model ID', 'code': 400}, 'user_id': 'user_34kLTCwLzW3rU64I3t6BoCIlFIw'}\n",
            "[google/gemini-1.5-pro] error attempt 3: Error code: 400 - {'error': {'message': 'google/gemini-1.5-pro is not a valid model ID', 'code': 400}, 'user_id': 'user_34kLTCwLzW3rU64I3t6BoCIlFIw'}\n",
            "[google/gemini-1.5-pro] error attempt 1: Error code: 400 - {'error': {'message': 'google/gemini-1.5-pro is not a valid model ID', 'code': 400}, 'user_id': 'user_34kLTCwLzW3rU64I3t6BoCIlFIw'}\n",
            "[google/gemini-1.5-pro] error attempt 2: Error code: 400 - {'error': {'message': 'google/gemini-1.5-pro is not a valid model ID', 'code': 400}, 'user_id': 'user_34kLTCwLzW3rU64I3t6BoCIlFIw'}\n",
            "[google/gemini-1.5-pro] error attempt 3: Error code: 400 - {'error': {'message': 'google/gemini-1.5-pro is not a valid model ID', 'code': 400}, 'user_id': 'user_34kLTCwLzW3rU64I3t6BoCIlFIw'}\n"
          ]
        },
        {
          "output_type": "stream",
          "name": "stderr",
          "text": [
            "\rgoogle/gemini-1.5-pro:  36%|███▌      | 43/120 [08:50<15:53, 12.38s/it]"
          ]
        },
        {
          "output_type": "stream",
          "name": "stdout",
          "text": [
            "[google/gemini-1.5-pro] error attempt 1: Error code: 400 - {'error': {'message': 'google/gemini-1.5-pro is not a valid model ID', 'code': 400}, 'user_id': 'user_34kLTCwLzW3rU64I3t6BoCIlFIw'}\n",
            "[google/gemini-1.5-pro] error attempt 2: Error code: 400 - {'error': {'message': 'google/gemini-1.5-pro is not a valid model ID', 'code': 400}, 'user_id': 'user_34kLTCwLzW3rU64I3t6BoCIlFIw'}\n",
            "[google/gemini-1.5-pro] error attempt 3: Error code: 400 - {'error': {'message': 'google/gemini-1.5-pro is not a valid model ID', 'code': 400}, 'user_id': 'user_34kLTCwLzW3rU64I3t6BoCIlFIw'}\n",
            "[google/gemini-1.5-pro] error attempt 1: Error code: 400 - {'error': {'message': 'google/gemini-1.5-pro is not a valid model ID', 'code': 400}, 'user_id': 'user_34kLTCwLzW3rU64I3t6BoCIlFIw'}\n",
            "[google/gemini-1.5-pro] error attempt 2: Error code: 400 - {'error': {'message': 'google/gemini-1.5-pro is not a valid model ID', 'code': 400}, 'user_id': 'user_34kLTCwLzW3rU64I3t6BoCIlFIw'}\n",
            "[google/gemini-1.5-pro] error attempt 3: Error code: 400 - {'error': {'message': 'google/gemini-1.5-pro is not a valid model ID', 'code': 400}, 'user_id': 'user_34kLTCwLzW3rU64I3t6BoCIlFIw'}\n"
          ]
        },
        {
          "output_type": "stream",
          "name": "stderr",
          "text": [
            "\rgoogle/gemini-1.5-pro:  37%|███▋      | 44/120 [09:03<15:43, 12.42s/it]"
          ]
        },
        {
          "output_type": "stream",
          "name": "stdout",
          "text": [
            "[google/gemini-1.5-pro] error attempt 1: Error code: 400 - {'error': {'message': 'google/gemini-1.5-pro is not a valid model ID', 'code': 400}, 'user_id': 'user_34kLTCwLzW3rU64I3t6BoCIlFIw'}\n",
            "[google/gemini-1.5-pro] error attempt 2: Error code: 400 - {'error': {'message': 'google/gemini-1.5-pro is not a valid model ID', 'code': 400}, 'user_id': 'user_34kLTCwLzW3rU64I3t6BoCIlFIw'}\n",
            "[google/gemini-1.5-pro] error attempt 3: Error code: 400 - {'error': {'message': 'google/gemini-1.5-pro is not a valid model ID', 'code': 400}, 'user_id': 'user_34kLTCwLzW3rU64I3t6BoCIlFIw'}\n",
            "[google/gemini-1.5-pro] error attempt 1: Error code: 400 - {'error': {'message': 'google/gemini-1.5-pro is not a valid model ID', 'code': 400}, 'user_id': 'user_34kLTCwLzW3rU64I3t6BoCIlFIw'}\n",
            "[google/gemini-1.5-pro] error attempt 2: Error code: 400 - {'error': {'message': 'google/gemini-1.5-pro is not a valid model ID', 'code': 400}, 'user_id': 'user_34kLTCwLzW3rU64I3t6BoCIlFIw'}\n",
            "[google/gemini-1.5-pro] error attempt 3: Error code: 400 - {'error': {'message': 'google/gemini-1.5-pro is not a valid model ID', 'code': 400}, 'user_id': 'user_34kLTCwLzW3rU64I3t6BoCIlFIw'}\n"
          ]
        },
        {
          "output_type": "stream",
          "name": "stderr",
          "text": [
            "\rgoogle/gemini-1.5-pro:  38%|███▊      | 45/120 [09:15<15:28, 12.38s/it]"
          ]
        },
        {
          "output_type": "stream",
          "name": "stdout",
          "text": [
            "[google/gemini-1.5-pro] error attempt 1: Error code: 400 - {'error': {'message': 'google/gemini-1.5-pro is not a valid model ID', 'code': 400}, 'user_id': 'user_34kLTCwLzW3rU64I3t6BoCIlFIw'}\n",
            "[google/gemini-1.5-pro] error attempt 2: Error code: 400 - {'error': {'message': 'google/gemini-1.5-pro is not a valid model ID', 'code': 400}, 'user_id': 'user_34kLTCwLzW3rU64I3t6BoCIlFIw'}\n",
            "[google/gemini-1.5-pro] error attempt 3: Error code: 400 - {'error': {'message': 'google/gemini-1.5-pro is not a valid model ID', 'code': 400}, 'user_id': 'user_34kLTCwLzW3rU64I3t6BoCIlFIw'}\n",
            "[google/gemini-1.5-pro] error attempt 1: Error code: 400 - {'error': {'message': 'google/gemini-1.5-pro is not a valid model ID', 'code': 400}, 'user_id': 'user_34kLTCwLzW3rU64I3t6BoCIlFIw'}\n",
            "[google/gemini-1.5-pro] error attempt 2: Error code: 400 - {'error': {'message': 'google/gemini-1.5-pro is not a valid model ID', 'code': 400}, 'user_id': 'user_34kLTCwLzW3rU64I3t6BoCIlFIw'}\n",
            "[google/gemini-1.5-pro] error attempt 3: Error code: 400 - {'error': {'message': 'google/gemini-1.5-pro is not a valid model ID', 'code': 400}, 'user_id': 'user_34kLTCwLzW3rU64I3t6BoCIlFIw'}\n"
          ]
        },
        {
          "output_type": "stream",
          "name": "stderr",
          "text": [
            "\rgoogle/gemini-1.5-pro:  38%|███▊      | 46/120 [09:27<15:13, 12.34s/it]"
          ]
        },
        {
          "output_type": "stream",
          "name": "stdout",
          "text": [
            "[google/gemini-1.5-pro] error attempt 1: Error code: 400 - {'error': {'message': 'google/gemini-1.5-pro is not a valid model ID', 'code': 400}, 'user_id': 'user_34kLTCwLzW3rU64I3t6BoCIlFIw'}\n",
            "[google/gemini-1.5-pro] error attempt 2: Error code: 400 - {'error': {'message': 'google/gemini-1.5-pro is not a valid model ID', 'code': 400}, 'user_id': 'user_34kLTCwLzW3rU64I3t6BoCIlFIw'}\n",
            "[google/gemini-1.5-pro] error attempt 3: Error code: 400 - {'error': {'message': 'google/gemini-1.5-pro is not a valid model ID', 'code': 400}, 'user_id': 'user_34kLTCwLzW3rU64I3t6BoCIlFIw'}\n",
            "[google/gemini-1.5-pro] error attempt 1: Error code: 400 - {'error': {'message': 'google/gemini-1.5-pro is not a valid model ID', 'code': 400}, 'user_id': 'user_34kLTCwLzW3rU64I3t6BoCIlFIw'}\n",
            "[google/gemini-1.5-pro] error attempt 2: Error code: 400 - {'error': {'message': 'google/gemini-1.5-pro is not a valid model ID', 'code': 400}, 'user_id': 'user_34kLTCwLzW3rU64I3t6BoCIlFIw'}\n",
            "[google/gemini-1.5-pro] error attempt 3: Error code: 400 - {'error': {'message': 'google/gemini-1.5-pro is not a valid model ID', 'code': 400}, 'user_id': 'user_34kLTCwLzW3rU64I3t6BoCIlFIw'}\n"
          ]
        },
        {
          "output_type": "stream",
          "name": "stderr",
          "text": [
            "\rgoogle/gemini-1.5-pro:  39%|███▉      | 47/120 [09:40<15:01, 12.35s/it]"
          ]
        },
        {
          "output_type": "stream",
          "name": "stdout",
          "text": [
            "[google/gemini-1.5-pro] error attempt 1: Error code: 400 - {'error': {'message': 'google/gemini-1.5-pro is not a valid model ID', 'code': 400}, 'user_id': 'user_34kLTCwLzW3rU64I3t6BoCIlFIw'}\n",
            "[google/gemini-1.5-pro] error attempt 2: Error code: 400 - {'error': {'message': 'google/gemini-1.5-pro is not a valid model ID', 'code': 400}, 'user_id': 'user_34kLTCwLzW3rU64I3t6BoCIlFIw'}\n",
            "[google/gemini-1.5-pro] error attempt 3: Error code: 400 - {'error': {'message': 'google/gemini-1.5-pro is not a valid model ID', 'code': 400}, 'user_id': 'user_34kLTCwLzW3rU64I3t6BoCIlFIw'}\n",
            "[google/gemini-1.5-pro] error attempt 1: Error code: 400 - {'error': {'message': 'google/gemini-1.5-pro is not a valid model ID', 'code': 400}, 'user_id': 'user_34kLTCwLzW3rU64I3t6BoCIlFIw'}\n",
            "[google/gemini-1.5-pro] error attempt 2: Error code: 400 - {'error': {'message': 'google/gemini-1.5-pro is not a valid model ID', 'code': 400}, 'user_id': 'user_34kLTCwLzW3rU64I3t6BoCIlFIw'}\n",
            "[google/gemini-1.5-pro] error attempt 3: Error code: 400 - {'error': {'message': 'google/gemini-1.5-pro is not a valid model ID', 'code': 400}, 'user_id': 'user_34kLTCwLzW3rU64I3t6BoCIlFIw'}\n"
          ]
        },
        {
          "output_type": "stream",
          "name": "stderr",
          "text": [
            "\rgoogle/gemini-1.5-pro:  40%|████      | 48/120 [09:52<14:50, 12.37s/it]"
          ]
        },
        {
          "output_type": "stream",
          "name": "stdout",
          "text": [
            "[google/gemini-1.5-pro] error attempt 1: Error code: 400 - {'error': {'message': 'google/gemini-1.5-pro is not a valid model ID', 'code': 400}, 'user_id': 'user_34kLTCwLzW3rU64I3t6BoCIlFIw'}\n",
            "[google/gemini-1.5-pro] error attempt 2: Error code: 400 - {'error': {'message': 'google/gemini-1.5-pro is not a valid model ID', 'code': 400}, 'user_id': 'user_34kLTCwLzW3rU64I3t6BoCIlFIw'}\n",
            "[google/gemini-1.5-pro] error attempt 3: Error code: 400 - {'error': {'message': 'google/gemini-1.5-pro is not a valid model ID', 'code': 400}, 'user_id': 'user_34kLTCwLzW3rU64I3t6BoCIlFIw'}\n",
            "[google/gemini-1.5-pro] error attempt 1: Error code: 400 - {'error': {'message': 'google/gemini-1.5-pro is not a valid model ID', 'code': 400}, 'user_id': 'user_34kLTCwLzW3rU64I3t6BoCIlFIw'}\n",
            "[google/gemini-1.5-pro] error attempt 2: Error code: 400 - {'error': {'message': 'google/gemini-1.5-pro is not a valid model ID', 'code': 400}, 'user_id': 'user_34kLTCwLzW3rU64I3t6BoCIlFIw'}\n",
            "[google/gemini-1.5-pro] error attempt 3: Error code: 400 - {'error': {'message': 'google/gemini-1.5-pro is not a valid model ID', 'code': 400}, 'user_id': 'user_34kLTCwLzW3rU64I3t6BoCIlFIw'}\n"
          ]
        },
        {
          "output_type": "stream",
          "name": "stderr",
          "text": [
            "\rgoogle/gemini-1.5-pro:  41%|████      | 49/120 [10:04<14:36, 12.34s/it]"
          ]
        },
        {
          "output_type": "stream",
          "name": "stdout",
          "text": [
            "[google/gemini-1.5-pro] error attempt 1: Error code: 400 - {'error': {'message': 'google/gemini-1.5-pro is not a valid model ID', 'code': 400}, 'user_id': 'user_34kLTCwLzW3rU64I3t6BoCIlFIw'}\n",
            "[google/gemini-1.5-pro] error attempt 2: Error code: 400 - {'error': {'message': 'google/gemini-1.5-pro is not a valid model ID', 'code': 400}, 'user_id': 'user_34kLTCwLzW3rU64I3t6BoCIlFIw'}\n",
            "[google/gemini-1.5-pro] error attempt 3: Error code: 400 - {'error': {'message': 'google/gemini-1.5-pro is not a valid model ID', 'code': 400}, 'user_id': 'user_34kLTCwLzW3rU64I3t6BoCIlFIw'}\n",
            "[google/gemini-1.5-pro] error attempt 1: Error code: 400 - {'error': {'message': 'google/gemini-1.5-pro is not a valid model ID', 'code': 400}, 'user_id': 'user_34kLTCwLzW3rU64I3t6BoCIlFIw'}\n",
            "[google/gemini-1.5-pro] error attempt 2: Error code: 400 - {'error': {'message': 'google/gemini-1.5-pro is not a valid model ID', 'code': 400}, 'user_id': 'user_34kLTCwLzW3rU64I3t6BoCIlFIw'}\n",
            "[google/gemini-1.5-pro] error attempt 3: Error code: 400 - {'error': {'message': 'google/gemini-1.5-pro is not a valid model ID', 'code': 400}, 'user_id': 'user_34kLTCwLzW3rU64I3t6BoCIlFIw'}\n"
          ]
        },
        {
          "output_type": "stream",
          "name": "stderr",
          "text": [
            "\rgoogle/gemini-1.5-pro:  42%|████▏     | 50/120 [10:17<14:23, 12.34s/it]"
          ]
        },
        {
          "output_type": "stream",
          "name": "stdout",
          "text": [
            "[google/gemini-1.5-pro] error attempt 1: Error code: 400 - {'error': {'message': 'google/gemini-1.5-pro is not a valid model ID', 'code': 400}, 'user_id': 'user_34kLTCwLzW3rU64I3t6BoCIlFIw'}\n",
            "[google/gemini-1.5-pro] error attempt 2: Error code: 400 - {'error': {'message': 'google/gemini-1.5-pro is not a valid model ID', 'code': 400}, 'user_id': 'user_34kLTCwLzW3rU64I3t6BoCIlFIw'}\n",
            "[google/gemini-1.5-pro] error attempt 3: Error code: 400 - {'error': {'message': 'google/gemini-1.5-pro is not a valid model ID', 'code': 400}, 'user_id': 'user_34kLTCwLzW3rU64I3t6BoCIlFIw'}\n",
            "[google/gemini-1.5-pro] error attempt 1: Error code: 400 - {'error': {'message': 'google/gemini-1.5-pro is not a valid model ID', 'code': 400}, 'user_id': 'user_34kLTCwLzW3rU64I3t6BoCIlFIw'}\n",
            "[google/gemini-1.5-pro] error attempt 2: Error code: 400 - {'error': {'message': 'google/gemini-1.5-pro is not a valid model ID', 'code': 400}, 'user_id': 'user_34kLTCwLzW3rU64I3t6BoCIlFIw'}\n",
            "[google/gemini-1.5-pro] error attempt 3: Error code: 400 - {'error': {'message': 'google/gemini-1.5-pro is not a valid model ID', 'code': 400}, 'user_id': 'user_34kLTCwLzW3rU64I3t6BoCIlFIw'}\n"
          ]
        },
        {
          "output_type": "stream",
          "name": "stderr",
          "text": [
            "\rgoogle/gemini-1.5-pro:  42%|████▎     | 51/120 [10:29<14:09, 12.32s/it]"
          ]
        },
        {
          "output_type": "stream",
          "name": "stdout",
          "text": [
            "[google/gemini-1.5-pro] error attempt 1: Error code: 400 - {'error': {'message': 'google/gemini-1.5-pro is not a valid model ID', 'code': 400}, 'user_id': 'user_34kLTCwLzW3rU64I3t6BoCIlFIw'}\n",
            "[google/gemini-1.5-pro] error attempt 2: Error code: 400 - {'error': {'message': 'google/gemini-1.5-pro is not a valid model ID', 'code': 400}, 'user_id': 'user_34kLTCwLzW3rU64I3t6BoCIlFIw'}\n",
            "[google/gemini-1.5-pro] error attempt 3: Error code: 400 - {'error': {'message': 'google/gemini-1.5-pro is not a valid model ID', 'code': 400}, 'user_id': 'user_34kLTCwLzW3rU64I3t6BoCIlFIw'}\n",
            "[google/gemini-1.5-pro] error attempt 1: Error code: 400 - {'error': {'message': 'google/gemini-1.5-pro is not a valid model ID', 'code': 400}, 'user_id': 'user_34kLTCwLzW3rU64I3t6BoCIlFIw'}\n",
            "[google/gemini-1.5-pro] error attempt 2: Error code: 400 - {'error': {'message': 'google/gemini-1.5-pro is not a valid model ID', 'code': 400}, 'user_id': 'user_34kLTCwLzW3rU64I3t6BoCIlFIw'}\n",
            "[google/gemini-1.5-pro] error attempt 3: Error code: 400 - {'error': {'message': 'google/gemini-1.5-pro is not a valid model ID', 'code': 400}, 'user_id': 'user_34kLTCwLzW3rU64I3t6BoCIlFIw'}\n"
          ]
        },
        {
          "output_type": "stream",
          "name": "stderr",
          "text": [
            "\rgoogle/gemini-1.5-pro:  43%|████▎     | 52/120 [10:41<13:57, 12.32s/it]"
          ]
        },
        {
          "output_type": "stream",
          "name": "stdout",
          "text": [
            "[google/gemini-1.5-pro] error attempt 1: Error code: 400 - {'error': {'message': 'google/gemini-1.5-pro is not a valid model ID', 'code': 400}, 'user_id': 'user_34kLTCwLzW3rU64I3t6BoCIlFIw'}\n",
            "[google/gemini-1.5-pro] error attempt 2: Error code: 400 - {'error': {'message': 'google/gemini-1.5-pro is not a valid model ID', 'code': 400}, 'user_id': 'user_34kLTCwLzW3rU64I3t6BoCIlFIw'}\n",
            "[google/gemini-1.5-pro] error attempt 3: Error code: 400 - {'error': {'message': 'google/gemini-1.5-pro is not a valid model ID', 'code': 400}, 'user_id': 'user_34kLTCwLzW3rU64I3t6BoCIlFIw'}\n",
            "[google/gemini-1.5-pro] error attempt 1: Error code: 400 - {'error': {'message': 'google/gemini-1.5-pro is not a valid model ID', 'code': 400}, 'user_id': 'user_34kLTCwLzW3rU64I3t6BoCIlFIw'}\n",
            "[google/gemini-1.5-pro] error attempt 2: Error code: 400 - {'error': {'message': 'google/gemini-1.5-pro is not a valid model ID', 'code': 400}, 'user_id': 'user_34kLTCwLzW3rU64I3t6BoCIlFIw'}\n",
            "[google/gemini-1.5-pro] error attempt 3: Error code: 400 - {'error': {'message': 'google/gemini-1.5-pro is not a valid model ID', 'code': 400}, 'user_id': 'user_34kLTCwLzW3rU64I3t6BoCIlFIw'}\n"
          ]
        },
        {
          "output_type": "stream",
          "name": "stderr",
          "text": [
            "\rgoogle/gemini-1.5-pro:  44%|████▍     | 53/120 [10:54<13:45, 12.33s/it]"
          ]
        },
        {
          "output_type": "stream",
          "name": "stdout",
          "text": [
            "[google/gemini-1.5-pro] error attempt 1: Error code: 400 - {'error': {'message': 'google/gemini-1.5-pro is not a valid model ID', 'code': 400}, 'user_id': 'user_34kLTCwLzW3rU64I3t6BoCIlFIw'}\n",
            "[google/gemini-1.5-pro] error attempt 2: Error code: 400 - {'error': {'message': 'google/gemini-1.5-pro is not a valid model ID', 'code': 400}, 'user_id': 'user_34kLTCwLzW3rU64I3t6BoCIlFIw'}\n",
            "[google/gemini-1.5-pro] error attempt 3: Error code: 400 - {'error': {'message': 'google/gemini-1.5-pro is not a valid model ID', 'code': 400}, 'user_id': 'user_34kLTCwLzW3rU64I3t6BoCIlFIw'}\n",
            "[google/gemini-1.5-pro] error attempt 1: Error code: 400 - {'error': {'message': 'google/gemini-1.5-pro is not a valid model ID', 'code': 400}, 'user_id': 'user_34kLTCwLzW3rU64I3t6BoCIlFIw'}\n",
            "[google/gemini-1.5-pro] error attempt 2: Error code: 400 - {'error': {'message': 'google/gemini-1.5-pro is not a valid model ID', 'code': 400}, 'user_id': 'user_34kLTCwLzW3rU64I3t6BoCIlFIw'}\n",
            "[google/gemini-1.5-pro] error attempt 3: Error code: 400 - {'error': {'message': 'google/gemini-1.5-pro is not a valid model ID', 'code': 400}, 'user_id': 'user_34kLTCwLzW3rU64I3t6BoCIlFIw'}\n"
          ]
        },
        {
          "output_type": "stream",
          "name": "stderr",
          "text": [
            "\rgoogle/gemini-1.5-pro:  45%|████▌     | 54/120 [11:06<13:32, 12.31s/it]"
          ]
        },
        {
          "output_type": "stream",
          "name": "stdout",
          "text": [
            "[google/gemini-1.5-pro] error attempt 1: Error code: 400 - {'error': {'message': 'google/gemini-1.5-pro is not a valid model ID', 'code': 400}, 'user_id': 'user_34kLTCwLzW3rU64I3t6BoCIlFIw'}\n",
            "[google/gemini-1.5-pro] error attempt 2: Error code: 400 - {'error': {'message': 'google/gemini-1.5-pro is not a valid model ID', 'code': 400}, 'user_id': 'user_34kLTCwLzW3rU64I3t6BoCIlFIw'}\n",
            "[google/gemini-1.5-pro] error attempt 3: Error code: 400 - {'error': {'message': 'google/gemini-1.5-pro is not a valid model ID', 'code': 400}, 'user_id': 'user_34kLTCwLzW3rU64I3t6BoCIlFIw'}\n",
            "[google/gemini-1.5-pro] error attempt 1: Error code: 400 - {'error': {'message': 'google/gemini-1.5-pro is not a valid model ID', 'code': 400}, 'user_id': 'user_34kLTCwLzW3rU64I3t6BoCIlFIw'}\n",
            "[google/gemini-1.5-pro] error attempt 2: Error code: 400 - {'error': {'message': 'google/gemini-1.5-pro is not a valid model ID', 'code': 400}, 'user_id': 'user_34kLTCwLzW3rU64I3t6BoCIlFIw'}\n",
            "[google/gemini-1.5-pro] error attempt 3: Error code: 400 - {'error': {'message': 'google/gemini-1.5-pro is not a valid model ID', 'code': 400}, 'user_id': 'user_34kLTCwLzW3rU64I3t6BoCIlFIw'}\n"
          ]
        },
        {
          "output_type": "stream",
          "name": "stderr",
          "text": [
            "\rgoogle/gemini-1.5-pro:  46%|████▌     | 55/120 [11:18<13:19, 12.30s/it]"
          ]
        },
        {
          "output_type": "stream",
          "name": "stdout",
          "text": [
            "[google/gemini-1.5-pro] error attempt 1: Error code: 400 - {'error': {'message': 'google/gemini-1.5-pro is not a valid model ID', 'code': 400}, 'user_id': 'user_34kLTCwLzW3rU64I3t6BoCIlFIw'}\n",
            "[google/gemini-1.5-pro] error attempt 2: Error code: 400 - {'error': {'message': 'google/gemini-1.5-pro is not a valid model ID', 'code': 400}, 'user_id': 'user_34kLTCwLzW3rU64I3t6BoCIlFIw'}\n",
            "[google/gemini-1.5-pro] error attempt 3: Error code: 400 - {'error': {'message': 'google/gemini-1.5-pro is not a valid model ID', 'code': 400}, 'user_id': 'user_34kLTCwLzW3rU64I3t6BoCIlFIw'}\n",
            "[google/gemini-1.5-pro] error attempt 1: Error code: 400 - {'error': {'message': 'google/gemini-1.5-pro is not a valid model ID', 'code': 400}, 'user_id': 'user_34kLTCwLzW3rU64I3t6BoCIlFIw'}\n",
            "[google/gemini-1.5-pro] error attempt 2: Error code: 400 - {'error': {'message': 'google/gemini-1.5-pro is not a valid model ID', 'code': 400}, 'user_id': 'user_34kLTCwLzW3rU64I3t6BoCIlFIw'}\n",
            "[google/gemini-1.5-pro] error attempt 3: Error code: 400 - {'error': {'message': 'google/gemini-1.5-pro is not a valid model ID', 'code': 400}, 'user_id': 'user_34kLTCwLzW3rU64I3t6BoCIlFIw'}\n"
          ]
        },
        {
          "output_type": "stream",
          "name": "stderr",
          "text": [
            "\rgoogle/gemini-1.5-pro:  47%|████▋     | 56/120 [11:30<13:07, 12.30s/it]"
          ]
        },
        {
          "output_type": "stream",
          "name": "stdout",
          "text": [
            "[google/gemini-1.5-pro] error attempt 1: Error code: 400 - {'error': {'message': 'google/gemini-1.5-pro is not a valid model ID', 'code': 400}, 'user_id': 'user_34kLTCwLzW3rU64I3t6BoCIlFIw'}\n",
            "[google/gemini-1.5-pro] error attempt 2: Error code: 400 - {'error': {'message': 'google/gemini-1.5-pro is not a valid model ID', 'code': 400}, 'user_id': 'user_34kLTCwLzW3rU64I3t6BoCIlFIw'}\n",
            "[google/gemini-1.5-pro] error attempt 3: Error code: 400 - {'error': {'message': 'google/gemini-1.5-pro is not a valid model ID', 'code': 400}, 'user_id': 'user_34kLTCwLzW3rU64I3t6BoCIlFIw'}\n",
            "[google/gemini-1.5-pro] error attempt 1: Error code: 400 - {'error': {'message': 'google/gemini-1.5-pro is not a valid model ID', 'code': 400}, 'user_id': 'user_34kLTCwLzW3rU64I3t6BoCIlFIw'}\n",
            "[google/gemini-1.5-pro] error attempt 2: Error code: 400 - {'error': {'message': 'google/gemini-1.5-pro is not a valid model ID', 'code': 400}, 'user_id': 'user_34kLTCwLzW3rU64I3t6BoCIlFIw'}\n",
            "[google/gemini-1.5-pro] error attempt 3: Error code: 400 - {'error': {'message': 'google/gemini-1.5-pro is not a valid model ID', 'code': 400}, 'user_id': 'user_34kLTCwLzW3rU64I3t6BoCIlFIw'}\n"
          ]
        },
        {
          "output_type": "stream",
          "name": "stderr",
          "text": [
            "\rgoogle/gemini-1.5-pro:  48%|████▊     | 57/120 [11:43<12:56, 12.32s/it]"
          ]
        },
        {
          "output_type": "stream",
          "name": "stdout",
          "text": [
            "[google/gemini-1.5-pro] error attempt 1: Error code: 400 - {'error': {'message': 'google/gemini-1.5-pro is not a valid model ID', 'code': 400}, 'user_id': 'user_34kLTCwLzW3rU64I3t6BoCIlFIw'}\n",
            "[google/gemini-1.5-pro] error attempt 2: Error code: 400 - {'error': {'message': 'google/gemini-1.5-pro is not a valid model ID', 'code': 400}, 'user_id': 'user_34kLTCwLzW3rU64I3t6BoCIlFIw'}\n",
            "[google/gemini-1.5-pro] error attempt 3: Error code: 400 - {'error': {'message': 'google/gemini-1.5-pro is not a valid model ID', 'code': 400}, 'user_id': 'user_34kLTCwLzW3rU64I3t6BoCIlFIw'}\n",
            "[google/gemini-1.5-pro] error attempt 1: Error code: 400 - {'error': {'message': 'google/gemini-1.5-pro is not a valid model ID', 'code': 400}, 'user_id': 'user_34kLTCwLzW3rU64I3t6BoCIlFIw'}\n",
            "[google/gemini-1.5-pro] error attempt 2: Error code: 400 - {'error': {'message': 'google/gemini-1.5-pro is not a valid model ID', 'code': 400}, 'user_id': 'user_34kLTCwLzW3rU64I3t6BoCIlFIw'}\n",
            "[google/gemini-1.5-pro] error attempt 3: Error code: 400 - {'error': {'message': 'google/gemini-1.5-pro is not a valid model ID', 'code': 400}, 'user_id': 'user_34kLTCwLzW3rU64I3t6BoCIlFIw'}\n"
          ]
        },
        {
          "output_type": "stream",
          "name": "stderr",
          "text": [
            "\rgoogle/gemini-1.5-pro:  48%|████▊     | 58/120 [11:55<12:44, 12.34s/it]"
          ]
        },
        {
          "output_type": "stream",
          "name": "stdout",
          "text": [
            "[google/gemini-1.5-pro] error attempt 1: Error code: 400 - {'error': {'message': 'google/gemini-1.5-pro is not a valid model ID', 'code': 400}, 'user_id': 'user_34kLTCwLzW3rU64I3t6BoCIlFIw'}\n",
            "[google/gemini-1.5-pro] error attempt 2: Error code: 400 - {'error': {'message': 'google/gemini-1.5-pro is not a valid model ID', 'code': 400}, 'user_id': 'user_34kLTCwLzW3rU64I3t6BoCIlFIw'}\n",
            "[google/gemini-1.5-pro] error attempt 3: Error code: 400 - {'error': {'message': 'google/gemini-1.5-pro is not a valid model ID', 'code': 400}, 'user_id': 'user_34kLTCwLzW3rU64I3t6BoCIlFIw'}\n",
            "[google/gemini-1.5-pro] error attempt 1: Error code: 400 - {'error': {'message': 'google/gemini-1.5-pro is not a valid model ID', 'code': 400}, 'user_id': 'user_34kLTCwLzW3rU64I3t6BoCIlFIw'}\n",
            "[google/gemini-1.5-pro] error attempt 2: Error code: 400 - {'error': {'message': 'google/gemini-1.5-pro is not a valid model ID', 'code': 400}, 'user_id': 'user_34kLTCwLzW3rU64I3t6BoCIlFIw'}\n",
            "[google/gemini-1.5-pro] error attempt 3: Error code: 400 - {'error': {'message': 'google/gemini-1.5-pro is not a valid model ID', 'code': 400}, 'user_id': 'user_34kLTCwLzW3rU64I3t6BoCIlFIw'}\n"
          ]
        },
        {
          "output_type": "stream",
          "name": "stderr",
          "text": [
            "\rgoogle/gemini-1.5-pro:  49%|████▉     | 59/120 [12:07<12:32, 12.34s/it]"
          ]
        },
        {
          "output_type": "stream",
          "name": "stdout",
          "text": [
            "[google/gemini-1.5-pro] error attempt 1: Error code: 400 - {'error': {'message': 'google/gemini-1.5-pro is not a valid model ID', 'code': 400}, 'user_id': 'user_34kLTCwLzW3rU64I3t6BoCIlFIw'}\n",
            "[google/gemini-1.5-pro] error attempt 2: Error code: 400 - {'error': {'message': 'google/gemini-1.5-pro is not a valid model ID', 'code': 400}, 'user_id': 'user_34kLTCwLzW3rU64I3t6BoCIlFIw'}\n",
            "[google/gemini-1.5-pro] error attempt 3: Error code: 400 - {'error': {'message': 'google/gemini-1.5-pro is not a valid model ID', 'code': 400}, 'user_id': 'user_34kLTCwLzW3rU64I3t6BoCIlFIw'}\n",
            "[google/gemini-1.5-pro] error attempt 1: Error code: 400 - {'error': {'message': 'google/gemini-1.5-pro is not a valid model ID', 'code': 400}, 'user_id': 'user_34kLTCwLzW3rU64I3t6BoCIlFIw'}\n",
            "[google/gemini-1.5-pro] error attempt 2: Error code: 400 - {'error': {'message': 'google/gemini-1.5-pro is not a valid model ID', 'code': 400}, 'user_id': 'user_34kLTCwLzW3rU64I3t6BoCIlFIw'}\n",
            "[google/gemini-1.5-pro] error attempt 3: Error code: 400 - {'error': {'message': 'google/gemini-1.5-pro is not a valid model ID', 'code': 400}, 'user_id': 'user_34kLTCwLzW3rU64I3t6BoCIlFIw'}\n"
          ]
        },
        {
          "output_type": "stream",
          "name": "stderr",
          "text": [
            "\rgoogle/gemini-1.5-pro:  50%|█████     | 60/120 [12:20<12:20, 12.34s/it]"
          ]
        },
        {
          "output_type": "stream",
          "name": "stdout",
          "text": [
            "[google/gemini-1.5-pro] error attempt 1: Error code: 400 - {'error': {'message': 'google/gemini-1.5-pro is not a valid model ID', 'code': 400}, 'user_id': 'user_34kLTCwLzW3rU64I3t6BoCIlFIw'}\n",
            "[google/gemini-1.5-pro] error attempt 2: Error code: 400 - {'error': {'message': 'google/gemini-1.5-pro is not a valid model ID', 'code': 400}, 'user_id': 'user_34kLTCwLzW3rU64I3t6BoCIlFIw'}\n",
            "[google/gemini-1.5-pro] error attempt 3: Error code: 400 - {'error': {'message': 'google/gemini-1.5-pro is not a valid model ID', 'code': 400}, 'user_id': 'user_34kLTCwLzW3rU64I3t6BoCIlFIw'}\n",
            "[google/gemini-1.5-pro] error attempt 1: Error code: 400 - {'error': {'message': 'google/gemini-1.5-pro is not a valid model ID', 'code': 400}, 'user_id': 'user_34kLTCwLzW3rU64I3t6BoCIlFIw'}\n",
            "[google/gemini-1.5-pro] error attempt 2: Error code: 400 - {'error': {'message': 'google/gemini-1.5-pro is not a valid model ID', 'code': 400}, 'user_id': 'user_34kLTCwLzW3rU64I3t6BoCIlFIw'}\n",
            "[google/gemini-1.5-pro] error attempt 3: Error code: 400 - {'error': {'message': 'google/gemini-1.5-pro is not a valid model ID', 'code': 400}, 'user_id': 'user_34kLTCwLzW3rU64I3t6BoCIlFIw'}\n"
          ]
        },
        {
          "output_type": "stream",
          "name": "stderr",
          "text": [
            "\rgoogle/gemini-1.5-pro:  51%|█████     | 61/120 [12:32<12:09, 12.36s/it]"
          ]
        },
        {
          "output_type": "stream",
          "name": "stdout",
          "text": [
            "[google/gemini-1.5-pro] error attempt 1: Error code: 400 - {'error': {'message': 'google/gemini-1.5-pro is not a valid model ID', 'code': 400}, 'user_id': 'user_34kLTCwLzW3rU64I3t6BoCIlFIw'}\n",
            "[google/gemini-1.5-pro] error attempt 2: Error code: 400 - {'error': {'message': 'google/gemini-1.5-pro is not a valid model ID', 'code': 400}, 'user_id': 'user_34kLTCwLzW3rU64I3t6BoCIlFIw'}\n",
            "[google/gemini-1.5-pro] error attempt 3: Error code: 400 - {'error': {'message': 'google/gemini-1.5-pro is not a valid model ID', 'code': 400}, 'user_id': 'user_34kLTCwLzW3rU64I3t6BoCIlFIw'}\n",
            "[google/gemini-1.5-pro] error attempt 1: Error code: 400 - {'error': {'message': 'google/gemini-1.5-pro is not a valid model ID', 'code': 400}, 'user_id': 'user_34kLTCwLzW3rU64I3t6BoCIlFIw'}\n",
            "[google/gemini-1.5-pro] error attempt 2: Error code: 400 - {'error': {'message': 'google/gemini-1.5-pro is not a valid model ID', 'code': 400}, 'user_id': 'user_34kLTCwLzW3rU64I3t6BoCIlFIw'}\n",
            "[google/gemini-1.5-pro] error attempt 3: Error code: 400 - {'error': {'message': 'google/gemini-1.5-pro is not a valid model ID', 'code': 400}, 'user_id': 'user_34kLTCwLzW3rU64I3t6BoCIlFIw'}\n"
          ]
        },
        {
          "output_type": "stream",
          "name": "stderr",
          "text": [
            "\rgoogle/gemini-1.5-pro:  52%|█████▏    | 62/120 [12:45<11:58, 12.39s/it]"
          ]
        },
        {
          "output_type": "stream",
          "name": "stdout",
          "text": [
            "[google/gemini-1.5-pro] error attempt 1: Error code: 400 - {'error': {'message': 'google/gemini-1.5-pro is not a valid model ID', 'code': 400}, 'user_id': 'user_34kLTCwLzW3rU64I3t6BoCIlFIw'}\n",
            "[google/gemini-1.5-pro] error attempt 2: Error code: 400 - {'error': {'message': 'google/gemini-1.5-pro is not a valid model ID', 'code': 400}, 'user_id': 'user_34kLTCwLzW3rU64I3t6BoCIlFIw'}\n",
            "[google/gemini-1.5-pro] error attempt 3: Error code: 400 - {'error': {'message': 'google/gemini-1.5-pro is not a valid model ID', 'code': 400}, 'user_id': 'user_34kLTCwLzW3rU64I3t6BoCIlFIw'}\n",
            "[google/gemini-1.5-pro] error attempt 1: Error code: 400 - {'error': {'message': 'google/gemini-1.5-pro is not a valid model ID', 'code': 400}, 'user_id': 'user_34kLTCwLzW3rU64I3t6BoCIlFIw'}\n",
            "[google/gemini-1.5-pro] error attempt 2: Error code: 400 - {'error': {'message': 'google/gemini-1.5-pro is not a valid model ID', 'code': 400}, 'user_id': 'user_34kLTCwLzW3rU64I3t6BoCIlFIw'}\n",
            "[google/gemini-1.5-pro] error attempt 3: Error code: 400 - {'error': {'message': 'google/gemini-1.5-pro is not a valid model ID', 'code': 400}, 'user_id': 'user_34kLTCwLzW3rU64I3t6BoCIlFIw'}\n"
          ]
        },
        {
          "output_type": "stream",
          "name": "stderr",
          "text": [
            "\rgoogle/gemini-1.5-pro:  52%|█████▎    | 63/120 [12:57<11:43, 12.35s/it]"
          ]
        },
        {
          "output_type": "stream",
          "name": "stdout",
          "text": [
            "[google/gemini-1.5-pro] error attempt 1: Error code: 400 - {'error': {'message': 'google/gemini-1.5-pro is not a valid model ID', 'code': 400}, 'user_id': 'user_34kLTCwLzW3rU64I3t6BoCIlFIw'}\n",
            "[google/gemini-1.5-pro] error attempt 2: Error code: 400 - {'error': {'message': 'google/gemini-1.5-pro is not a valid model ID', 'code': 400}, 'user_id': 'user_34kLTCwLzW3rU64I3t6BoCIlFIw'}\n",
            "[google/gemini-1.5-pro] error attempt 3: Error code: 400 - {'error': {'message': 'google/gemini-1.5-pro is not a valid model ID', 'code': 400}, 'user_id': 'user_34kLTCwLzW3rU64I3t6BoCIlFIw'}\n",
            "[google/gemini-1.5-pro] error attempt 1: Error code: 400 - {'error': {'message': 'google/gemini-1.5-pro is not a valid model ID', 'code': 400}, 'user_id': 'user_34kLTCwLzW3rU64I3t6BoCIlFIw'}\n",
            "[google/gemini-1.5-pro] error attempt 2: Error code: 400 - {'error': {'message': 'google/gemini-1.5-pro is not a valid model ID', 'code': 400}, 'user_id': 'user_34kLTCwLzW3rU64I3t6BoCIlFIw'}\n",
            "[google/gemini-1.5-pro] error attempt 3: Error code: 400 - {'error': {'message': 'google/gemini-1.5-pro is not a valid model ID', 'code': 400}, 'user_id': 'user_34kLTCwLzW3rU64I3t6BoCIlFIw'}\n"
          ]
        },
        {
          "output_type": "stream",
          "name": "stderr",
          "text": [
            "\rgoogle/gemini-1.5-pro:  53%|█████▎    | 64/120 [13:09<11:32, 12.36s/it]"
          ]
        },
        {
          "output_type": "stream",
          "name": "stdout",
          "text": [
            "[google/gemini-1.5-pro] error attempt 1: Error code: 400 - {'error': {'message': 'google/gemini-1.5-pro is not a valid model ID', 'code': 400}, 'user_id': 'user_34kLTCwLzW3rU64I3t6BoCIlFIw'}\n",
            "[google/gemini-1.5-pro] error attempt 2: Error code: 400 - {'error': {'message': 'google/gemini-1.5-pro is not a valid model ID', 'code': 400}, 'user_id': 'user_34kLTCwLzW3rU64I3t6BoCIlFIw'}\n",
            "[google/gemini-1.5-pro] error attempt 3: Error code: 400 - {'error': {'message': 'google/gemini-1.5-pro is not a valid model ID', 'code': 400}, 'user_id': 'user_34kLTCwLzW3rU64I3t6BoCIlFIw'}\n",
            "[google/gemini-1.5-pro] error attempt 1: Error code: 400 - {'error': {'message': 'google/gemini-1.5-pro is not a valid model ID', 'code': 400}, 'user_id': 'user_34kLTCwLzW3rU64I3t6BoCIlFIw'}\n",
            "[google/gemini-1.5-pro] error attempt 2: Error code: 400 - {'error': {'message': 'google/gemini-1.5-pro is not a valid model ID', 'code': 400}, 'user_id': 'user_34kLTCwLzW3rU64I3t6BoCIlFIw'}\n",
            "[google/gemini-1.5-pro] error attempt 3: Error code: 400 - {'error': {'message': 'google/gemini-1.5-pro is not a valid model ID', 'code': 400}, 'user_id': 'user_34kLTCwLzW3rU64I3t6BoCIlFIw'}\n"
          ]
        },
        {
          "output_type": "stream",
          "name": "stderr",
          "text": [
            "\rgoogle/gemini-1.5-pro:  54%|█████▍    | 65/120 [13:22<11:20, 12.38s/it]"
          ]
        },
        {
          "output_type": "stream",
          "name": "stdout",
          "text": [
            "[google/gemini-1.5-pro] error attempt 1: Error code: 400 - {'error': {'message': 'google/gemini-1.5-pro is not a valid model ID', 'code': 400}, 'user_id': 'user_34kLTCwLzW3rU64I3t6BoCIlFIw'}\n",
            "[google/gemini-1.5-pro] error attempt 2: Error code: 400 - {'error': {'message': 'google/gemini-1.5-pro is not a valid model ID', 'code': 400}, 'user_id': 'user_34kLTCwLzW3rU64I3t6BoCIlFIw'}\n",
            "[google/gemini-1.5-pro] error attempt 3: Error code: 400 - {'error': {'message': 'google/gemini-1.5-pro is not a valid model ID', 'code': 400}, 'user_id': 'user_34kLTCwLzW3rU64I3t6BoCIlFIw'}\n",
            "[google/gemini-1.5-pro] error attempt 1: Error code: 400 - {'error': {'message': 'google/gemini-1.5-pro is not a valid model ID', 'code': 400}, 'user_id': 'user_34kLTCwLzW3rU64I3t6BoCIlFIw'}\n",
            "[google/gemini-1.5-pro] error attempt 2: Error code: 400 - {'error': {'message': 'google/gemini-1.5-pro is not a valid model ID', 'code': 400}, 'user_id': 'user_34kLTCwLzW3rU64I3t6BoCIlFIw'}\n",
            "[google/gemini-1.5-pro] error attempt 3: Error code: 400 - {'error': {'message': 'google/gemini-1.5-pro is not a valid model ID', 'code': 400}, 'user_id': 'user_34kLTCwLzW3rU64I3t6BoCIlFIw'}\n"
          ]
        },
        {
          "output_type": "stream",
          "name": "stderr",
          "text": [
            "\rgoogle/gemini-1.5-pro:  55%|█████▌    | 66/120 [13:34<11:08, 12.38s/it]"
          ]
        },
        {
          "output_type": "stream",
          "name": "stdout",
          "text": [
            "[google/gemini-1.5-pro] error attempt 1: Error code: 400 - {'error': {'message': 'google/gemini-1.5-pro is not a valid model ID', 'code': 400}, 'user_id': 'user_34kLTCwLzW3rU64I3t6BoCIlFIw'}\n",
            "[google/gemini-1.5-pro] error attempt 2: Error code: 400 - {'error': {'message': 'google/gemini-1.5-pro is not a valid model ID', 'code': 400}, 'user_id': 'user_34kLTCwLzW3rU64I3t6BoCIlFIw'}\n",
            "[google/gemini-1.5-pro] error attempt 3: Error code: 400 - {'error': {'message': 'google/gemini-1.5-pro is not a valid model ID', 'code': 400}, 'user_id': 'user_34kLTCwLzW3rU64I3t6BoCIlFIw'}\n",
            "[google/gemini-1.5-pro] error attempt 1: Error code: 400 - {'error': {'message': 'google/gemini-1.5-pro is not a valid model ID', 'code': 400}, 'user_id': 'user_34kLTCwLzW3rU64I3t6BoCIlFIw'}\n",
            "[google/gemini-1.5-pro] error attempt 2: Error code: 400 - {'error': {'message': 'google/gemini-1.5-pro is not a valid model ID', 'code': 400}, 'user_id': 'user_34kLTCwLzW3rU64I3t6BoCIlFIw'}\n",
            "[google/gemini-1.5-pro] error attempt 3: Error code: 400 - {'error': {'message': 'google/gemini-1.5-pro is not a valid model ID', 'code': 400}, 'user_id': 'user_34kLTCwLzW3rU64I3t6BoCIlFIw'}\n"
          ]
        },
        {
          "output_type": "stream",
          "name": "stderr",
          "text": [
            "\rgoogle/gemini-1.5-pro:  56%|█████▌    | 67/120 [13:47<10:56, 12.38s/it]"
          ]
        },
        {
          "output_type": "stream",
          "name": "stdout",
          "text": [
            "[google/gemini-1.5-pro] error attempt 1: Error code: 400 - {'error': {'message': 'google/gemini-1.5-pro is not a valid model ID', 'code': 400}, 'user_id': 'user_34kLTCwLzW3rU64I3t6BoCIlFIw'}\n",
            "[google/gemini-1.5-pro] error attempt 2: Error code: 400 - {'error': {'message': 'google/gemini-1.5-pro is not a valid model ID', 'code': 400}, 'user_id': 'user_34kLTCwLzW3rU64I3t6BoCIlFIw'}\n",
            "[google/gemini-1.5-pro] error attempt 3: Error code: 400 - {'error': {'message': 'google/gemini-1.5-pro is not a valid model ID', 'code': 400}, 'user_id': 'user_34kLTCwLzW3rU64I3t6BoCIlFIw'}\n",
            "[google/gemini-1.5-pro] error attempt 1: Error code: 400 - {'error': {'message': 'google/gemini-1.5-pro is not a valid model ID', 'code': 400}, 'user_id': 'user_34kLTCwLzW3rU64I3t6BoCIlFIw'}\n",
            "[google/gemini-1.5-pro] error attempt 2: Error code: 400 - {'error': {'message': 'google/gemini-1.5-pro is not a valid model ID', 'code': 400}, 'user_id': 'user_34kLTCwLzW3rU64I3t6BoCIlFIw'}\n",
            "[google/gemini-1.5-pro] error attempt 3: Error code: 400 - {'error': {'message': 'google/gemini-1.5-pro is not a valid model ID', 'code': 400}, 'user_id': 'user_34kLTCwLzW3rU64I3t6BoCIlFIw'}\n"
          ]
        },
        {
          "output_type": "stream",
          "name": "stderr",
          "text": [
            "\rgoogle/gemini-1.5-pro:  57%|█████▋    | 68/120 [13:59<10:43, 12.38s/it]"
          ]
        },
        {
          "output_type": "stream",
          "name": "stdout",
          "text": [
            "[google/gemini-1.5-pro] error attempt 1: Error code: 400 - {'error': {'message': 'google/gemini-1.5-pro is not a valid model ID', 'code': 400}, 'user_id': 'user_34kLTCwLzW3rU64I3t6BoCIlFIw'}\n",
            "[google/gemini-1.5-pro] error attempt 2: Error code: 400 - {'error': {'message': 'google/gemini-1.5-pro is not a valid model ID', 'code': 400}, 'user_id': 'user_34kLTCwLzW3rU64I3t6BoCIlFIw'}\n",
            "[google/gemini-1.5-pro] error attempt 3: Error code: 400 - {'error': {'message': 'google/gemini-1.5-pro is not a valid model ID', 'code': 400}, 'user_id': 'user_34kLTCwLzW3rU64I3t6BoCIlFIw'}\n",
            "[google/gemini-1.5-pro] error attempt 1: Error code: 400 - {'error': {'message': 'google/gemini-1.5-pro is not a valid model ID', 'code': 400}, 'user_id': 'user_34kLTCwLzW3rU64I3t6BoCIlFIw'}\n",
            "[google/gemini-1.5-pro] error attempt 2: Error code: 400 - {'error': {'message': 'google/gemini-1.5-pro is not a valid model ID', 'code': 400}, 'user_id': 'user_34kLTCwLzW3rU64I3t6BoCIlFIw'}\n",
            "[google/gemini-1.5-pro] error attempt 3: Error code: 400 - {'error': {'message': 'google/gemini-1.5-pro is not a valid model ID', 'code': 400}, 'user_id': 'user_34kLTCwLzW3rU64I3t6BoCIlFIw'}\n"
          ]
        },
        {
          "output_type": "stream",
          "name": "stderr",
          "text": [
            "\rgoogle/gemini-1.5-pro:  57%|█████▊    | 69/120 [14:11<10:33, 12.41s/it]"
          ]
        },
        {
          "output_type": "stream",
          "name": "stdout",
          "text": [
            "[google/gemini-1.5-pro] error attempt 1: Error code: 400 - {'error': {'message': 'google/gemini-1.5-pro is not a valid model ID', 'code': 400}, 'user_id': 'user_34kLTCwLzW3rU64I3t6BoCIlFIw'}\n",
            "[google/gemini-1.5-pro] error attempt 2: Error code: 400 - {'error': {'message': 'google/gemini-1.5-pro is not a valid model ID', 'code': 400}, 'user_id': 'user_34kLTCwLzW3rU64I3t6BoCIlFIw'}\n",
            "[google/gemini-1.5-pro] error attempt 3: Error code: 400 - {'error': {'message': 'google/gemini-1.5-pro is not a valid model ID', 'code': 400}, 'user_id': 'user_34kLTCwLzW3rU64I3t6BoCIlFIw'}\n",
            "[google/gemini-1.5-pro] error attempt 1: Error code: 400 - {'error': {'message': 'google/gemini-1.5-pro is not a valid model ID', 'code': 400}, 'user_id': 'user_34kLTCwLzW3rU64I3t6BoCIlFIw'}\n",
            "[google/gemini-1.5-pro] error attempt 2: Error code: 400 - {'error': {'message': 'google/gemini-1.5-pro is not a valid model ID', 'code': 400}, 'user_id': 'user_34kLTCwLzW3rU64I3t6BoCIlFIw'}\n",
            "[google/gemini-1.5-pro] error attempt 3: Error code: 400 - {'error': {'message': 'google/gemini-1.5-pro is not a valid model ID', 'code': 400}, 'user_id': 'user_34kLTCwLzW3rU64I3t6BoCIlFIw'}\n"
          ]
        },
        {
          "output_type": "stream",
          "name": "stderr",
          "text": [
            "\rgoogle/gemini-1.5-pro:  58%|█████▊    | 70/120 [14:24<10:20, 12.41s/it]"
          ]
        },
        {
          "output_type": "stream",
          "name": "stdout",
          "text": [
            "[google/gemini-1.5-pro] error attempt 1: Error code: 400 - {'error': {'message': 'google/gemini-1.5-pro is not a valid model ID', 'code': 400}, 'user_id': 'user_34kLTCwLzW3rU64I3t6BoCIlFIw'}\n",
            "[google/gemini-1.5-pro] error attempt 2: Error code: 400 - {'error': {'message': 'google/gemini-1.5-pro is not a valid model ID', 'code': 400}, 'user_id': 'user_34kLTCwLzW3rU64I3t6BoCIlFIw'}\n",
            "[google/gemini-1.5-pro] error attempt 3: Error code: 400 - {'error': {'message': 'google/gemini-1.5-pro is not a valid model ID', 'code': 400}, 'user_id': 'user_34kLTCwLzW3rU64I3t6BoCIlFIw'}\n",
            "[google/gemini-1.5-pro] error attempt 1: Error code: 400 - {'error': {'message': 'google/gemini-1.5-pro is not a valid model ID', 'code': 400}, 'user_id': 'user_34kLTCwLzW3rU64I3t6BoCIlFIw'}\n",
            "[google/gemini-1.5-pro] error attempt 2: Error code: 400 - {'error': {'message': 'google/gemini-1.5-pro is not a valid model ID', 'code': 400}, 'user_id': 'user_34kLTCwLzW3rU64I3t6BoCIlFIw'}\n",
            "[google/gemini-1.5-pro] error attempt 3: Error code: 400 - {'error': {'message': 'google/gemini-1.5-pro is not a valid model ID', 'code': 400}, 'user_id': 'user_34kLTCwLzW3rU64I3t6BoCIlFIw'}\n"
          ]
        },
        {
          "output_type": "stream",
          "name": "stderr",
          "text": [
            "\rgoogle/gemini-1.5-pro:  59%|█████▉    | 71/120 [14:36<10:07, 12.39s/it]"
          ]
        },
        {
          "output_type": "stream",
          "name": "stdout",
          "text": [
            "[google/gemini-1.5-pro] error attempt 1: Error code: 400 - {'error': {'message': 'google/gemini-1.5-pro is not a valid model ID', 'code': 400}, 'user_id': 'user_34kLTCwLzW3rU64I3t6BoCIlFIw'}\n",
            "[google/gemini-1.5-pro] error attempt 2: Error code: 400 - {'error': {'message': 'google/gemini-1.5-pro is not a valid model ID', 'code': 400}, 'user_id': 'user_34kLTCwLzW3rU64I3t6BoCIlFIw'}\n",
            "[google/gemini-1.5-pro] error attempt 3: Error code: 400 - {'error': {'message': 'google/gemini-1.5-pro is not a valid model ID', 'code': 400}, 'user_id': 'user_34kLTCwLzW3rU64I3t6BoCIlFIw'}\n",
            "[google/gemini-1.5-pro] error attempt 1: Error code: 400 - {'error': {'message': 'google/gemini-1.5-pro is not a valid model ID', 'code': 400}, 'user_id': 'user_34kLTCwLzW3rU64I3t6BoCIlFIw'}\n",
            "[google/gemini-1.5-pro] error attempt 2: Error code: 400 - {'error': {'message': 'google/gemini-1.5-pro is not a valid model ID', 'code': 400}, 'user_id': 'user_34kLTCwLzW3rU64I3t6BoCIlFIw'}\n",
            "[google/gemini-1.5-pro] error attempt 3: Error code: 400 - {'error': {'message': 'google/gemini-1.5-pro is not a valid model ID', 'code': 400}, 'user_id': 'user_34kLTCwLzW3rU64I3t6BoCIlFIw'}\n"
          ]
        },
        {
          "output_type": "stream",
          "name": "stderr",
          "text": [
            "\rgoogle/gemini-1.5-pro:  60%|██████    | 72/120 [14:49<09:57, 12.44s/it]"
          ]
        },
        {
          "output_type": "stream",
          "name": "stdout",
          "text": [
            "[google/gemini-1.5-pro] error attempt 1: Error code: 400 - {'error': {'message': 'google/gemini-1.5-pro is not a valid model ID', 'code': 400}, 'user_id': 'user_34kLTCwLzW3rU64I3t6BoCIlFIw'}\n",
            "[google/gemini-1.5-pro] error attempt 2: Error code: 400 - {'error': {'message': 'google/gemini-1.5-pro is not a valid model ID', 'code': 400}, 'user_id': 'user_34kLTCwLzW3rU64I3t6BoCIlFIw'}\n",
            "[google/gemini-1.5-pro] error attempt 3: Error code: 400 - {'error': {'message': 'google/gemini-1.5-pro is not a valid model ID', 'code': 400}, 'user_id': 'user_34kLTCwLzW3rU64I3t6BoCIlFIw'}\n",
            "[google/gemini-1.5-pro] error attempt 1: Error code: 400 - {'error': {'message': 'google/gemini-1.5-pro is not a valid model ID', 'code': 400}, 'user_id': 'user_34kLTCwLzW3rU64I3t6BoCIlFIw'}\n",
            "[google/gemini-1.5-pro] error attempt 2: Error code: 400 - {'error': {'message': 'google/gemini-1.5-pro is not a valid model ID', 'code': 400}, 'user_id': 'user_34kLTCwLzW3rU64I3t6BoCIlFIw'}\n",
            "[google/gemini-1.5-pro] error attempt 3: Error code: 400 - {'error': {'message': 'google/gemini-1.5-pro is not a valid model ID', 'code': 400}, 'user_id': 'user_34kLTCwLzW3rU64I3t6BoCIlFIw'}\n"
          ]
        },
        {
          "output_type": "stream",
          "name": "stderr",
          "text": [
            "\rgoogle/gemini-1.5-pro:  61%|██████    | 73/120 [15:01<09:45, 12.45s/it]"
          ]
        },
        {
          "output_type": "stream",
          "name": "stdout",
          "text": [
            "[google/gemini-1.5-pro] error attempt 1: Error code: 400 - {'error': {'message': 'google/gemini-1.5-pro is not a valid model ID', 'code': 400}, 'user_id': 'user_34kLTCwLzW3rU64I3t6BoCIlFIw'}\n",
            "[google/gemini-1.5-pro] error attempt 2: Error code: 400 - {'error': {'message': 'google/gemini-1.5-pro is not a valid model ID', 'code': 400}, 'user_id': 'user_34kLTCwLzW3rU64I3t6BoCIlFIw'}\n",
            "[google/gemini-1.5-pro] error attempt 3: Error code: 400 - {'error': {'message': 'google/gemini-1.5-pro is not a valid model ID', 'code': 400}, 'user_id': 'user_34kLTCwLzW3rU64I3t6BoCIlFIw'}\n",
            "[google/gemini-1.5-pro] error attempt 1: Error code: 400 - {'error': {'message': 'google/gemini-1.5-pro is not a valid model ID', 'code': 400}, 'user_id': 'user_34kLTCwLzW3rU64I3t6BoCIlFIw'}\n",
            "[google/gemini-1.5-pro] error attempt 2: Error code: 400 - {'error': {'message': 'google/gemini-1.5-pro is not a valid model ID', 'code': 400}, 'user_id': 'user_34kLTCwLzW3rU64I3t6BoCIlFIw'}\n",
            "[google/gemini-1.5-pro] error attempt 3: Error code: 400 - {'error': {'message': 'google/gemini-1.5-pro is not a valid model ID', 'code': 400}, 'user_id': 'user_34kLTCwLzW3rU64I3t6BoCIlFIw'}\n"
          ]
        },
        {
          "output_type": "stream",
          "name": "stderr",
          "text": [
            "\rgoogle/gemini-1.5-pro:  62%|██████▏   | 74/120 [15:13<09:31, 12.41s/it]"
          ]
        },
        {
          "output_type": "stream",
          "name": "stdout",
          "text": [
            "[google/gemini-1.5-pro] error attempt 1: Error code: 400 - {'error': {'message': 'google/gemini-1.5-pro is not a valid model ID', 'code': 400}, 'user_id': 'user_34kLTCwLzW3rU64I3t6BoCIlFIw'}\n",
            "[google/gemini-1.5-pro] error attempt 2: Error code: 400 - {'error': {'message': 'google/gemini-1.5-pro is not a valid model ID', 'code': 400}, 'user_id': 'user_34kLTCwLzW3rU64I3t6BoCIlFIw'}\n",
            "[google/gemini-1.5-pro] error attempt 3: Error code: 400 - {'error': {'message': 'google/gemini-1.5-pro is not a valid model ID', 'code': 400}, 'user_id': 'user_34kLTCwLzW3rU64I3t6BoCIlFIw'}\n",
            "[google/gemini-1.5-pro] error attempt 1: Error code: 400 - {'error': {'message': 'google/gemini-1.5-pro is not a valid model ID', 'code': 400}, 'user_id': 'user_34kLTCwLzW3rU64I3t6BoCIlFIw'}\n",
            "[google/gemini-1.5-pro] error attempt 2: Error code: 400 - {'error': {'message': 'google/gemini-1.5-pro is not a valid model ID', 'code': 400}, 'user_id': 'user_34kLTCwLzW3rU64I3t6BoCIlFIw'}\n",
            "[google/gemini-1.5-pro] error attempt 3: Error code: 400 - {'error': {'message': 'google/gemini-1.5-pro is not a valid model ID', 'code': 400}, 'user_id': 'user_34kLTCwLzW3rU64I3t6BoCIlFIw'}\n"
          ]
        },
        {
          "output_type": "stream",
          "name": "stderr",
          "text": [
            "\rgoogle/gemini-1.5-pro:  62%|██████▎   | 75/120 [15:26<09:18, 12.40s/it]"
          ]
        },
        {
          "output_type": "stream",
          "name": "stdout",
          "text": [
            "[google/gemini-1.5-pro] error attempt 1: Error code: 400 - {'error': {'message': 'google/gemini-1.5-pro is not a valid model ID', 'code': 400}, 'user_id': 'user_34kLTCwLzW3rU64I3t6BoCIlFIw'}\n",
            "[google/gemini-1.5-pro] error attempt 2: Error code: 400 - {'error': {'message': 'google/gemini-1.5-pro is not a valid model ID', 'code': 400}, 'user_id': 'user_34kLTCwLzW3rU64I3t6BoCIlFIw'}\n",
            "[google/gemini-1.5-pro] error attempt 3: Error code: 400 - {'error': {'message': 'google/gemini-1.5-pro is not a valid model ID', 'code': 400}, 'user_id': 'user_34kLTCwLzW3rU64I3t6BoCIlFIw'}\n",
            "[google/gemini-1.5-pro] error attempt 1: Error code: 400 - {'error': {'message': 'google/gemini-1.5-pro is not a valid model ID', 'code': 400}, 'user_id': 'user_34kLTCwLzW3rU64I3t6BoCIlFIw'}\n",
            "[google/gemini-1.5-pro] error attempt 2: Error code: 400 - {'error': {'message': 'google/gemini-1.5-pro is not a valid model ID', 'code': 400}, 'user_id': 'user_34kLTCwLzW3rU64I3t6BoCIlFIw'}\n",
            "[google/gemini-1.5-pro] error attempt 3: Error code: 400 - {'error': {'message': 'google/gemini-1.5-pro is not a valid model ID', 'code': 400}, 'user_id': 'user_34kLTCwLzW3rU64I3t6BoCIlFIw'}\n"
          ]
        },
        {
          "output_type": "stream",
          "name": "stderr",
          "text": [
            "\rgoogle/gemini-1.5-pro:  63%|██████▎   | 76/120 [15:38<09:04, 12.38s/it]"
          ]
        },
        {
          "output_type": "stream",
          "name": "stdout",
          "text": [
            "[google/gemini-1.5-pro] error attempt 1: Error code: 400 - {'error': {'message': 'google/gemini-1.5-pro is not a valid model ID', 'code': 400}, 'user_id': 'user_34kLTCwLzW3rU64I3t6BoCIlFIw'}\n",
            "[google/gemini-1.5-pro] error attempt 2: Error code: 400 - {'error': {'message': 'google/gemini-1.5-pro is not a valid model ID', 'code': 400}, 'user_id': 'user_34kLTCwLzW3rU64I3t6BoCIlFIw'}\n",
            "[google/gemini-1.5-pro] error attempt 3: Error code: 400 - {'error': {'message': 'google/gemini-1.5-pro is not a valid model ID', 'code': 400}, 'user_id': 'user_34kLTCwLzW3rU64I3t6BoCIlFIw'}\n",
            "[google/gemini-1.5-pro] error attempt 1: Error code: 400 - {'error': {'message': 'google/gemini-1.5-pro is not a valid model ID', 'code': 400}, 'user_id': 'user_34kLTCwLzW3rU64I3t6BoCIlFIw'}\n",
            "[google/gemini-1.5-pro] error attempt 2: Error code: 400 - {'error': {'message': 'google/gemini-1.5-pro is not a valid model ID', 'code': 400}, 'user_id': 'user_34kLTCwLzW3rU64I3t6BoCIlFIw'}\n",
            "[google/gemini-1.5-pro] error attempt 3: Error code: 400 - {'error': {'message': 'google/gemini-1.5-pro is not a valid model ID', 'code': 400}, 'user_id': 'user_34kLTCwLzW3rU64I3t6BoCIlFIw'}\n"
          ]
        },
        {
          "output_type": "stream",
          "name": "stderr",
          "text": [
            "\rgoogle/gemini-1.5-pro:  64%|██████▍   | 77/120 [15:51<08:51, 12.37s/it]"
          ]
        },
        {
          "output_type": "stream",
          "name": "stdout",
          "text": [
            "[google/gemini-1.5-pro] error attempt 1: Error code: 400 - {'error': {'message': 'google/gemini-1.5-pro is not a valid model ID', 'code': 400}, 'user_id': 'user_34kLTCwLzW3rU64I3t6BoCIlFIw'}\n",
            "[google/gemini-1.5-pro] error attempt 2: Error code: 400 - {'error': {'message': 'google/gemini-1.5-pro is not a valid model ID', 'code': 400}, 'user_id': 'user_34kLTCwLzW3rU64I3t6BoCIlFIw'}\n",
            "[google/gemini-1.5-pro] error attempt 3: Error code: 400 - {'error': {'message': 'google/gemini-1.5-pro is not a valid model ID', 'code': 400}, 'user_id': 'user_34kLTCwLzW3rU64I3t6BoCIlFIw'}\n",
            "[google/gemini-1.5-pro] error attempt 1: Error code: 400 - {'error': {'message': 'google/gemini-1.5-pro is not a valid model ID', 'code': 400}, 'user_id': 'user_34kLTCwLzW3rU64I3t6BoCIlFIw'}\n",
            "[google/gemini-1.5-pro] error attempt 2: Error code: 400 - {'error': {'message': 'google/gemini-1.5-pro is not a valid model ID', 'code': 400}, 'user_id': 'user_34kLTCwLzW3rU64I3t6BoCIlFIw'}\n",
            "[google/gemini-1.5-pro] error attempt 3: Error code: 400 - {'error': {'message': 'google/gemini-1.5-pro is not a valid model ID', 'code': 400}, 'user_id': 'user_34kLTCwLzW3rU64I3t6BoCIlFIw'}\n"
          ]
        },
        {
          "output_type": "stream",
          "name": "stderr",
          "text": [
            "\rgoogle/gemini-1.5-pro:  65%|██████▌   | 78/120 [16:03<08:41, 12.42s/it]"
          ]
        },
        {
          "output_type": "stream",
          "name": "stdout",
          "text": [
            "[google/gemini-1.5-pro] error attempt 1: Error code: 400 - {'error': {'message': 'google/gemini-1.5-pro is not a valid model ID', 'code': 400}, 'user_id': 'user_34kLTCwLzW3rU64I3t6BoCIlFIw'}\n",
            "[google/gemini-1.5-pro] error attempt 2: Error code: 400 - {'error': {'message': 'google/gemini-1.5-pro is not a valid model ID', 'code': 400}, 'user_id': 'user_34kLTCwLzW3rU64I3t6BoCIlFIw'}\n",
            "[google/gemini-1.5-pro] error attempt 3: Error code: 400 - {'error': {'message': 'google/gemini-1.5-pro is not a valid model ID', 'code': 400}, 'user_id': 'user_34kLTCwLzW3rU64I3t6BoCIlFIw'}\n",
            "[google/gemini-1.5-pro] error attempt 1: Error code: 400 - {'error': {'message': 'google/gemini-1.5-pro is not a valid model ID', 'code': 400}, 'user_id': 'user_34kLTCwLzW3rU64I3t6BoCIlFIw'}\n",
            "[google/gemini-1.5-pro] error attempt 2: Error code: 400 - {'error': {'message': 'google/gemini-1.5-pro is not a valid model ID', 'code': 400}, 'user_id': 'user_34kLTCwLzW3rU64I3t6BoCIlFIw'}\n",
            "[google/gemini-1.5-pro] error attempt 3: Error code: 400 - {'error': {'message': 'google/gemini-1.5-pro is not a valid model ID', 'code': 400}, 'user_id': 'user_34kLTCwLzW3rU64I3t6BoCIlFIw'}\n"
          ]
        },
        {
          "output_type": "stream",
          "name": "stderr",
          "text": [
            "\rgoogle/gemini-1.5-pro:  66%|██████▌   | 79/120 [16:15<08:28, 12.41s/it]"
          ]
        },
        {
          "output_type": "stream",
          "name": "stdout",
          "text": [
            "[google/gemini-1.5-pro] error attempt 1: Error code: 400 - {'error': {'message': 'google/gemini-1.5-pro is not a valid model ID', 'code': 400}, 'user_id': 'user_34kLTCwLzW3rU64I3t6BoCIlFIw'}\n",
            "[google/gemini-1.5-pro] error attempt 2: Error code: 400 - {'error': {'message': 'google/gemini-1.5-pro is not a valid model ID', 'code': 400}, 'user_id': 'user_34kLTCwLzW3rU64I3t6BoCIlFIw'}\n",
            "[google/gemini-1.5-pro] error attempt 3: Error code: 400 - {'error': {'message': 'google/gemini-1.5-pro is not a valid model ID', 'code': 400}, 'user_id': 'user_34kLTCwLzW3rU64I3t6BoCIlFIw'}\n",
            "[google/gemini-1.5-pro] error attempt 1: Error code: 400 - {'error': {'message': 'google/gemini-1.5-pro is not a valid model ID', 'code': 400}, 'user_id': 'user_34kLTCwLzW3rU64I3t6BoCIlFIw'}\n",
            "[google/gemini-1.5-pro] error attempt 2: Error code: 400 - {'error': {'message': 'google/gemini-1.5-pro is not a valid model ID', 'code': 400}, 'user_id': 'user_34kLTCwLzW3rU64I3t6BoCIlFIw'}\n",
            "[google/gemini-1.5-pro] error attempt 3: Error code: 400 - {'error': {'message': 'google/gemini-1.5-pro is not a valid model ID', 'code': 400}, 'user_id': 'user_34kLTCwLzW3rU64I3t6BoCIlFIw'}\n"
          ]
        },
        {
          "output_type": "stream",
          "name": "stderr",
          "text": [
            "\rgoogle/gemini-1.5-pro:  67%|██████▋   | 80/120 [16:28<08:16, 12.40s/it]"
          ]
        },
        {
          "output_type": "stream",
          "name": "stdout",
          "text": [
            "[google/gemini-1.5-pro] error attempt 1: Error code: 400 - {'error': {'message': 'google/gemini-1.5-pro is not a valid model ID', 'code': 400}, 'user_id': 'user_34kLTCwLzW3rU64I3t6BoCIlFIw'}\n",
            "[google/gemini-1.5-pro] error attempt 2: Error code: 400 - {'error': {'message': 'google/gemini-1.5-pro is not a valid model ID', 'code': 400}, 'user_id': 'user_34kLTCwLzW3rU64I3t6BoCIlFIw'}\n",
            "[google/gemini-1.5-pro] error attempt 3: Error code: 400 - {'error': {'message': 'google/gemini-1.5-pro is not a valid model ID', 'code': 400}, 'user_id': 'user_34kLTCwLzW3rU64I3t6BoCIlFIw'}\n",
            "[google/gemini-1.5-pro] error attempt 1: Error code: 400 - {'error': {'message': 'google/gemini-1.5-pro is not a valid model ID', 'code': 400}, 'user_id': 'user_34kLTCwLzW3rU64I3t6BoCIlFIw'}\n",
            "[google/gemini-1.5-pro] error attempt 2: Error code: 400 - {'error': {'message': 'google/gemini-1.5-pro is not a valid model ID', 'code': 400}, 'user_id': 'user_34kLTCwLzW3rU64I3t6BoCIlFIw'}\n",
            "[google/gemini-1.5-pro] error attempt 3: Error code: 400 - {'error': {'message': 'google/gemini-1.5-pro is not a valid model ID', 'code': 400}, 'user_id': 'user_34kLTCwLzW3rU64I3t6BoCIlFIw'}\n"
          ]
        },
        {
          "output_type": "stream",
          "name": "stderr",
          "text": [
            "\rgoogle/gemini-1.5-pro:  68%|██████▊   | 81/120 [16:40<08:04, 12.41s/it]"
          ]
        },
        {
          "output_type": "stream",
          "name": "stdout",
          "text": [
            "[google/gemini-1.5-pro] error attempt 1: Error code: 400 - {'error': {'message': 'google/gemini-1.5-pro is not a valid model ID', 'code': 400}, 'user_id': 'user_34kLTCwLzW3rU64I3t6BoCIlFIw'}\n",
            "[google/gemini-1.5-pro] error attempt 2: Error code: 400 - {'error': {'message': 'google/gemini-1.5-pro is not a valid model ID', 'code': 400}, 'user_id': 'user_34kLTCwLzW3rU64I3t6BoCIlFIw'}\n",
            "[google/gemini-1.5-pro] error attempt 3: Error code: 400 - {'error': {'message': 'google/gemini-1.5-pro is not a valid model ID', 'code': 400}, 'user_id': 'user_34kLTCwLzW3rU64I3t6BoCIlFIw'}\n",
            "[google/gemini-1.5-pro] error attempt 1: Error code: 400 - {'error': {'message': 'google/gemini-1.5-pro is not a valid model ID', 'code': 400}, 'user_id': 'user_34kLTCwLzW3rU64I3t6BoCIlFIw'}\n",
            "[google/gemini-1.5-pro] error attempt 2: Error code: 400 - {'error': {'message': 'google/gemini-1.5-pro is not a valid model ID', 'code': 400}, 'user_id': 'user_34kLTCwLzW3rU64I3t6BoCIlFIw'}\n",
            "[google/gemini-1.5-pro] error attempt 3: Error code: 400 - {'error': {'message': 'google/gemini-1.5-pro is not a valid model ID', 'code': 400}, 'user_id': 'user_34kLTCwLzW3rU64I3t6BoCIlFIw'}\n"
          ]
        },
        {
          "output_type": "stream",
          "name": "stderr",
          "text": [
            "\rgoogle/gemini-1.5-pro:  68%|██████▊   | 82/120 [16:53<07:51, 12.41s/it]"
          ]
        },
        {
          "output_type": "stream",
          "name": "stdout",
          "text": [
            "[google/gemini-1.5-pro] error attempt 1: Error code: 400 - {'error': {'message': 'google/gemini-1.5-pro is not a valid model ID', 'code': 400}, 'user_id': 'user_34kLTCwLzW3rU64I3t6BoCIlFIw'}\n",
            "[google/gemini-1.5-pro] error attempt 2: Error code: 400 - {'error': {'message': 'google/gemini-1.5-pro is not a valid model ID', 'code': 400}, 'user_id': 'user_34kLTCwLzW3rU64I3t6BoCIlFIw'}\n",
            "[google/gemini-1.5-pro] error attempt 3: Error code: 400 - {'error': {'message': 'google/gemini-1.5-pro is not a valid model ID', 'code': 400}, 'user_id': 'user_34kLTCwLzW3rU64I3t6BoCIlFIw'}\n",
            "[google/gemini-1.5-pro] error attempt 1: Error code: 400 - {'error': {'message': 'google/gemini-1.5-pro is not a valid model ID', 'code': 400}, 'user_id': 'user_34kLTCwLzW3rU64I3t6BoCIlFIw'}\n",
            "[google/gemini-1.5-pro] error attempt 2: Error code: 400 - {'error': {'message': 'google/gemini-1.5-pro is not a valid model ID', 'code': 400}, 'user_id': 'user_34kLTCwLzW3rU64I3t6BoCIlFIw'}\n",
            "[google/gemini-1.5-pro] error attempt 3: Error code: 400 - {'error': {'message': 'google/gemini-1.5-pro is not a valid model ID', 'code': 400}, 'user_id': 'user_34kLTCwLzW3rU64I3t6BoCIlFIw'}\n"
          ]
        },
        {
          "output_type": "stream",
          "name": "stderr",
          "text": [
            "\rgoogle/gemini-1.5-pro:  69%|██████▉   | 83/120 [17:05<07:38, 12.40s/it]"
          ]
        },
        {
          "output_type": "stream",
          "name": "stdout",
          "text": [
            "[google/gemini-1.5-pro] error attempt 1: Error code: 400 - {'error': {'message': 'google/gemini-1.5-pro is not a valid model ID', 'code': 400}, 'user_id': 'user_34kLTCwLzW3rU64I3t6BoCIlFIw'}\n",
            "[google/gemini-1.5-pro] error attempt 2: Error code: 400 - {'error': {'message': 'google/gemini-1.5-pro is not a valid model ID', 'code': 400}, 'user_id': 'user_34kLTCwLzW3rU64I3t6BoCIlFIw'}\n",
            "[google/gemini-1.5-pro] error attempt 3: Error code: 400 - {'error': {'message': 'google/gemini-1.5-pro is not a valid model ID', 'code': 400}, 'user_id': 'user_34kLTCwLzW3rU64I3t6BoCIlFIw'}\n",
            "[google/gemini-1.5-pro] error attempt 1: Error code: 400 - {'error': {'message': 'google/gemini-1.5-pro is not a valid model ID', 'code': 400}, 'user_id': 'user_34kLTCwLzW3rU64I3t6BoCIlFIw'}\n",
            "[google/gemini-1.5-pro] error attempt 2: Error code: 400 - {'error': {'message': 'google/gemini-1.5-pro is not a valid model ID', 'code': 400}, 'user_id': 'user_34kLTCwLzW3rU64I3t6BoCIlFIw'}\n",
            "[google/gemini-1.5-pro] error attempt 3: Error code: 400 - {'error': {'message': 'google/gemini-1.5-pro is not a valid model ID', 'code': 400}, 'user_id': 'user_34kLTCwLzW3rU64I3t6BoCIlFIw'}\n"
          ]
        },
        {
          "output_type": "stream",
          "name": "stderr",
          "text": [
            "\rgoogle/gemini-1.5-pro:  70%|███████   | 84/120 [17:17<07:25, 12.38s/it]"
          ]
        },
        {
          "output_type": "stream",
          "name": "stdout",
          "text": [
            "[google/gemini-1.5-pro] error attempt 1: Error code: 400 - {'error': {'message': 'google/gemini-1.5-pro is not a valid model ID', 'code': 400}, 'user_id': 'user_34kLTCwLzW3rU64I3t6BoCIlFIw'}\n",
            "[google/gemini-1.5-pro] error attempt 2: Error code: 400 - {'error': {'message': 'google/gemini-1.5-pro is not a valid model ID', 'code': 400}, 'user_id': 'user_34kLTCwLzW3rU64I3t6BoCIlFIw'}\n",
            "[google/gemini-1.5-pro] error attempt 3: Error code: 400 - {'error': {'message': 'google/gemini-1.5-pro is not a valid model ID', 'code': 400}, 'user_id': 'user_34kLTCwLzW3rU64I3t6BoCIlFIw'}\n",
            "[google/gemini-1.5-pro] error attempt 1: Error code: 400 - {'error': {'message': 'google/gemini-1.5-pro is not a valid model ID', 'code': 400}, 'user_id': 'user_34kLTCwLzW3rU64I3t6BoCIlFIw'}\n",
            "[google/gemini-1.5-pro] error attempt 2: Error code: 400 - {'error': {'message': 'google/gemini-1.5-pro is not a valid model ID', 'code': 400}, 'user_id': 'user_34kLTCwLzW3rU64I3t6BoCIlFIw'}\n",
            "[google/gemini-1.5-pro] error attempt 3: Error code: 400 - {'error': {'message': 'google/gemini-1.5-pro is not a valid model ID', 'code': 400}, 'user_id': 'user_34kLTCwLzW3rU64I3t6BoCIlFIw'}\n"
          ]
        },
        {
          "output_type": "stream",
          "name": "stderr",
          "text": [
            "\rgoogle/gemini-1.5-pro:  71%|███████   | 85/120 [17:30<07:13, 12.38s/it]"
          ]
        },
        {
          "output_type": "stream",
          "name": "stdout",
          "text": [
            "[google/gemini-1.5-pro] error attempt 1: Error code: 400 - {'error': {'message': 'google/gemini-1.5-pro is not a valid model ID', 'code': 400}, 'user_id': 'user_34kLTCwLzW3rU64I3t6BoCIlFIw'}\n",
            "[google/gemini-1.5-pro] error attempt 2: Error code: 400 - {'error': {'message': 'google/gemini-1.5-pro is not a valid model ID', 'code': 400}, 'user_id': 'user_34kLTCwLzW3rU64I3t6BoCIlFIw'}\n",
            "[google/gemini-1.5-pro] error attempt 3: Error code: 400 - {'error': {'message': 'google/gemini-1.5-pro is not a valid model ID', 'code': 400}, 'user_id': 'user_34kLTCwLzW3rU64I3t6BoCIlFIw'}\n",
            "[google/gemini-1.5-pro] error attempt 1: Error code: 400 - {'error': {'message': 'google/gemini-1.5-pro is not a valid model ID', 'code': 400}, 'user_id': 'user_34kLTCwLzW3rU64I3t6BoCIlFIw'}\n",
            "[google/gemini-1.5-pro] error attempt 2: Error code: 400 - {'error': {'message': 'google/gemini-1.5-pro is not a valid model ID', 'code': 400}, 'user_id': 'user_34kLTCwLzW3rU64I3t6BoCIlFIw'}\n",
            "[google/gemini-1.5-pro] error attempt 3: Error code: 400 - {'error': {'message': 'google/gemini-1.5-pro is not a valid model ID', 'code': 400}, 'user_id': 'user_34kLTCwLzW3rU64I3t6BoCIlFIw'}\n"
          ]
        },
        {
          "output_type": "stream",
          "name": "stderr",
          "text": [
            "\rgoogle/gemini-1.5-pro:  72%|███████▏  | 86/120 [17:42<07:00, 12.37s/it]"
          ]
        },
        {
          "output_type": "stream",
          "name": "stdout",
          "text": [
            "[google/gemini-1.5-pro] error attempt 1: Error code: 400 - {'error': {'message': 'google/gemini-1.5-pro is not a valid model ID', 'code': 400}, 'user_id': 'user_34kLTCwLzW3rU64I3t6BoCIlFIw'}\n",
            "[google/gemini-1.5-pro] error attempt 2: Error code: 400 - {'error': {'message': 'google/gemini-1.5-pro is not a valid model ID', 'code': 400}, 'user_id': 'user_34kLTCwLzW3rU64I3t6BoCIlFIw'}\n",
            "[google/gemini-1.5-pro] error attempt 3: Error code: 400 - {'error': {'message': 'google/gemini-1.5-pro is not a valid model ID', 'code': 400}, 'user_id': 'user_34kLTCwLzW3rU64I3t6BoCIlFIw'}\n",
            "[google/gemini-1.5-pro] error attempt 1: Error code: 400 - {'error': {'message': 'google/gemini-1.5-pro is not a valid model ID', 'code': 400}, 'user_id': 'user_34kLTCwLzW3rU64I3t6BoCIlFIw'}\n",
            "[google/gemini-1.5-pro] error attempt 2: Error code: 400 - {'error': {'message': 'google/gemini-1.5-pro is not a valid model ID', 'code': 400}, 'user_id': 'user_34kLTCwLzW3rU64I3t6BoCIlFIw'}\n",
            "[google/gemini-1.5-pro] error attempt 3: Error code: 400 - {'error': {'message': 'google/gemini-1.5-pro is not a valid model ID', 'code': 400}, 'user_id': 'user_34kLTCwLzW3rU64I3t6BoCIlFIw'}\n"
          ]
        },
        {
          "output_type": "stream",
          "name": "stderr",
          "text": [
            "\rgoogle/gemini-1.5-pro:  72%|███████▎  | 87/120 [17:55<06:49, 12.41s/it]"
          ]
        },
        {
          "output_type": "stream",
          "name": "stdout",
          "text": [
            "[google/gemini-1.5-pro] error attempt 1: Error code: 400 - {'error': {'message': 'google/gemini-1.5-pro is not a valid model ID', 'code': 400}, 'user_id': 'user_34kLTCwLzW3rU64I3t6BoCIlFIw'}\n",
            "[google/gemini-1.5-pro] error attempt 2: Error code: 400 - {'error': {'message': 'google/gemini-1.5-pro is not a valid model ID', 'code': 400}, 'user_id': 'user_34kLTCwLzW3rU64I3t6BoCIlFIw'}\n",
            "[google/gemini-1.5-pro] error attempt 3: Error code: 400 - {'error': {'message': 'google/gemini-1.5-pro is not a valid model ID', 'code': 400}, 'user_id': 'user_34kLTCwLzW3rU64I3t6BoCIlFIw'}\n",
            "[google/gemini-1.5-pro] error attempt 1: Error code: 400 - {'error': {'message': 'google/gemini-1.5-pro is not a valid model ID', 'code': 400}, 'user_id': 'user_34kLTCwLzW3rU64I3t6BoCIlFIw'}\n",
            "[google/gemini-1.5-pro] error attempt 2: Error code: 400 - {'error': {'message': 'google/gemini-1.5-pro is not a valid model ID', 'code': 400}, 'user_id': 'user_34kLTCwLzW3rU64I3t6BoCIlFIw'}\n",
            "[google/gemini-1.5-pro] error attempt 3: Error code: 400 - {'error': {'message': 'google/gemini-1.5-pro is not a valid model ID', 'code': 400}, 'user_id': 'user_34kLTCwLzW3rU64I3t6BoCIlFIw'}\n"
          ]
        },
        {
          "output_type": "stream",
          "name": "stderr",
          "text": [
            "\rgoogle/gemini-1.5-pro:  73%|███████▎  | 88/120 [18:07<06:36, 12.39s/it]"
          ]
        },
        {
          "output_type": "stream",
          "name": "stdout",
          "text": [
            "[google/gemini-1.5-pro] error attempt 1: Error code: 400 - {'error': {'message': 'google/gemini-1.5-pro is not a valid model ID', 'code': 400}, 'user_id': 'user_34kLTCwLzW3rU64I3t6BoCIlFIw'}\n",
            "[google/gemini-1.5-pro] error attempt 2: Error code: 400 - {'error': {'message': 'google/gemini-1.5-pro is not a valid model ID', 'code': 400}, 'user_id': 'user_34kLTCwLzW3rU64I3t6BoCIlFIw'}\n",
            "[google/gemini-1.5-pro] error attempt 3: Error code: 400 - {'error': {'message': 'google/gemini-1.5-pro is not a valid model ID', 'code': 400}, 'user_id': 'user_34kLTCwLzW3rU64I3t6BoCIlFIw'}\n",
            "[google/gemini-1.5-pro] error attempt 1: Error code: 400 - {'error': {'message': 'google/gemini-1.5-pro is not a valid model ID', 'code': 400}, 'user_id': 'user_34kLTCwLzW3rU64I3t6BoCIlFIw'}\n",
            "[google/gemini-1.5-pro] error attempt 2: Error code: 400 - {'error': {'message': 'google/gemini-1.5-pro is not a valid model ID', 'code': 400}, 'user_id': 'user_34kLTCwLzW3rU64I3t6BoCIlFIw'}\n",
            "[google/gemini-1.5-pro] error attempt 3: Error code: 400 - {'error': {'message': 'google/gemini-1.5-pro is not a valid model ID', 'code': 400}, 'user_id': 'user_34kLTCwLzW3rU64I3t6BoCIlFIw'}\n"
          ]
        },
        {
          "output_type": "stream",
          "name": "stderr",
          "text": [
            "\rgoogle/gemini-1.5-pro:  74%|███████▍  | 89/120 [18:19<06:25, 12.43s/it]"
          ]
        },
        {
          "output_type": "stream",
          "name": "stdout",
          "text": [
            "[google/gemini-1.5-pro] error attempt 1: Error code: 400 - {'error': {'message': 'google/gemini-1.5-pro is not a valid model ID', 'code': 400}, 'user_id': 'user_34kLTCwLzW3rU64I3t6BoCIlFIw'}\n",
            "[google/gemini-1.5-pro] error attempt 2: Error code: 400 - {'error': {'message': 'google/gemini-1.5-pro is not a valid model ID', 'code': 400}, 'user_id': 'user_34kLTCwLzW3rU64I3t6BoCIlFIw'}\n",
            "[google/gemini-1.5-pro] error attempt 3: Error code: 400 - {'error': {'message': 'google/gemini-1.5-pro is not a valid model ID', 'code': 400}, 'user_id': 'user_34kLTCwLzW3rU64I3t6BoCIlFIw'}\n",
            "[google/gemini-1.5-pro] error attempt 1: Error code: 400 - {'error': {'message': 'google/gemini-1.5-pro is not a valid model ID', 'code': 400}, 'user_id': 'user_34kLTCwLzW3rU64I3t6BoCIlFIw'}\n",
            "[google/gemini-1.5-pro] error attempt 2: Error code: 400 - {'error': {'message': 'google/gemini-1.5-pro is not a valid model ID', 'code': 400}, 'user_id': 'user_34kLTCwLzW3rU64I3t6BoCIlFIw'}\n",
            "[google/gemini-1.5-pro] error attempt 3: Error code: 400 - {'error': {'message': 'google/gemini-1.5-pro is not a valid model ID', 'code': 400}, 'user_id': 'user_34kLTCwLzW3rU64I3t6BoCIlFIw'}\n"
          ]
        },
        {
          "output_type": "stream",
          "name": "stderr",
          "text": [
            "\rgoogle/gemini-1.5-pro:  75%|███████▌  | 90/120 [18:32<06:13, 12.46s/it]"
          ]
        },
        {
          "output_type": "stream",
          "name": "stdout",
          "text": [
            "[google/gemini-1.5-pro] error attempt 1: Error code: 400 - {'error': {'message': 'google/gemini-1.5-pro is not a valid model ID', 'code': 400}, 'user_id': 'user_34kLTCwLzW3rU64I3t6BoCIlFIw'}\n",
            "[google/gemini-1.5-pro] error attempt 2: Error code: 400 - {'error': {'message': 'google/gemini-1.5-pro is not a valid model ID', 'code': 400}, 'user_id': 'user_34kLTCwLzW3rU64I3t6BoCIlFIw'}\n",
            "[google/gemini-1.5-pro] error attempt 3: Error code: 400 - {'error': {'message': 'google/gemini-1.5-pro is not a valid model ID', 'code': 400}, 'user_id': 'user_34kLTCwLzW3rU64I3t6BoCIlFIw'}\n",
            "[google/gemini-1.5-pro] error attempt 1: Error code: 400 - {'error': {'message': 'google/gemini-1.5-pro is not a valid model ID', 'code': 400}, 'user_id': 'user_34kLTCwLzW3rU64I3t6BoCIlFIw'}\n",
            "[google/gemini-1.5-pro] error attempt 2: Error code: 400 - {'error': {'message': 'google/gemini-1.5-pro is not a valid model ID', 'code': 400}, 'user_id': 'user_34kLTCwLzW3rU64I3t6BoCIlFIw'}\n",
            "[google/gemini-1.5-pro] error attempt 3: Error code: 400 - {'error': {'message': 'google/gemini-1.5-pro is not a valid model ID', 'code': 400}, 'user_id': 'user_34kLTCwLzW3rU64I3t6BoCIlFIw'}\n"
          ]
        },
        {
          "output_type": "stream",
          "name": "stderr",
          "text": [
            "\rgoogle/gemini-1.5-pro:  76%|███████▌  | 91/120 [18:45<06:08, 12.71s/it]"
          ]
        },
        {
          "output_type": "stream",
          "name": "stdout",
          "text": [
            "[google/gemini-1.5-pro] error attempt 1: Error code: 400 - {'error': {'message': 'google/gemini-1.5-pro is not a valid model ID', 'code': 400}, 'user_id': 'user_34kLTCwLzW3rU64I3t6BoCIlFIw'}\n",
            "[google/gemini-1.5-pro] error attempt 2: Error code: 400 - {'error': {'message': 'google/gemini-1.5-pro is not a valid model ID', 'code': 400}, 'user_id': 'user_34kLTCwLzW3rU64I3t6BoCIlFIw'}\n",
            "[google/gemini-1.5-pro] error attempt 3: Error code: 400 - {'error': {'message': 'google/gemini-1.5-pro is not a valid model ID', 'code': 400}, 'user_id': 'user_34kLTCwLzW3rU64I3t6BoCIlFIw'}\n",
            "[google/gemini-1.5-pro] error attempt 1: Error code: 400 - {'error': {'message': 'google/gemini-1.5-pro is not a valid model ID', 'code': 400}, 'user_id': 'user_34kLTCwLzW3rU64I3t6BoCIlFIw'}\n",
            "[google/gemini-1.5-pro] error attempt 2: Error code: 400 - {'error': {'message': 'google/gemini-1.5-pro is not a valid model ID', 'code': 400}, 'user_id': 'user_34kLTCwLzW3rU64I3t6BoCIlFIw'}\n",
            "[google/gemini-1.5-pro] error attempt 3: Error code: 400 - {'error': {'message': 'google/gemini-1.5-pro is not a valid model ID', 'code': 400}, 'user_id': 'user_34kLTCwLzW3rU64I3t6BoCIlFIw'}\n"
          ]
        },
        {
          "output_type": "stream",
          "name": "stderr",
          "text": [
            "\rgoogle/gemini-1.5-pro:  77%|███████▋  | 92/120 [18:58<05:53, 12.64s/it]"
          ]
        },
        {
          "output_type": "stream",
          "name": "stdout",
          "text": [
            "[google/gemini-1.5-pro] error attempt 1: Error code: 400 - {'error': {'message': 'google/gemini-1.5-pro is not a valid model ID', 'code': 400}, 'user_id': 'user_34kLTCwLzW3rU64I3t6BoCIlFIw'}\n",
            "[google/gemini-1.5-pro] error attempt 2: Error code: 400 - {'error': {'message': 'google/gemini-1.5-pro is not a valid model ID', 'code': 400}, 'user_id': 'user_34kLTCwLzW3rU64I3t6BoCIlFIw'}\n",
            "[google/gemini-1.5-pro] error attempt 3: Error code: 400 - {'error': {'message': 'google/gemini-1.5-pro is not a valid model ID', 'code': 400}, 'user_id': 'user_34kLTCwLzW3rU64I3t6BoCIlFIw'}\n",
            "[google/gemini-1.5-pro] error attempt 1: Error code: 400 - {'error': {'message': 'google/gemini-1.5-pro is not a valid model ID', 'code': 400}, 'user_id': 'user_34kLTCwLzW3rU64I3t6BoCIlFIw'}\n",
            "[google/gemini-1.5-pro] error attempt 2: Error code: 400 - {'error': {'message': 'google/gemini-1.5-pro is not a valid model ID', 'code': 400}, 'user_id': 'user_34kLTCwLzW3rU64I3t6BoCIlFIw'}\n",
            "[google/gemini-1.5-pro] error attempt 3: Error code: 400 - {'error': {'message': 'google/gemini-1.5-pro is not a valid model ID', 'code': 400}, 'user_id': 'user_34kLTCwLzW3rU64I3t6BoCIlFIw'}\n"
          ]
        },
        {
          "output_type": "stream",
          "name": "stderr",
          "text": [
            "\rgoogle/gemini-1.5-pro:  78%|███████▊  | 93/120 [19:10<05:38, 12.56s/it]"
          ]
        },
        {
          "output_type": "stream",
          "name": "stdout",
          "text": [
            "[google/gemini-1.5-pro] error attempt 1: Error code: 400 - {'error': {'message': 'google/gemini-1.5-pro is not a valid model ID', 'code': 400}, 'user_id': 'user_34kLTCwLzW3rU64I3t6BoCIlFIw'}\n",
            "[google/gemini-1.5-pro] error attempt 2: Error code: 400 - {'error': {'message': 'google/gemini-1.5-pro is not a valid model ID', 'code': 400}, 'user_id': 'user_34kLTCwLzW3rU64I3t6BoCIlFIw'}\n",
            "[google/gemini-1.5-pro] error attempt 3: Error code: 400 - {'error': {'message': 'google/gemini-1.5-pro is not a valid model ID', 'code': 400}, 'user_id': 'user_34kLTCwLzW3rU64I3t6BoCIlFIw'}\n",
            "[google/gemini-1.5-pro] error attempt 1: Error code: 400 - {'error': {'message': 'google/gemini-1.5-pro is not a valid model ID', 'code': 400}, 'user_id': 'user_34kLTCwLzW3rU64I3t6BoCIlFIw'}\n",
            "[google/gemini-1.5-pro] error attempt 2: Error code: 400 - {'error': {'message': 'google/gemini-1.5-pro is not a valid model ID', 'code': 400}, 'user_id': 'user_34kLTCwLzW3rU64I3t6BoCIlFIw'}\n",
            "[google/gemini-1.5-pro] error attempt 3: Error code: 400 - {'error': {'message': 'google/gemini-1.5-pro is not a valid model ID', 'code': 400}, 'user_id': 'user_34kLTCwLzW3rU64I3t6BoCIlFIw'}\n"
          ]
        },
        {
          "output_type": "stream",
          "name": "stderr",
          "text": [
            "\rgoogle/gemini-1.5-pro:  78%|███████▊  | 94/120 [19:23<05:25, 12.52s/it]"
          ]
        },
        {
          "output_type": "stream",
          "name": "stdout",
          "text": [
            "[google/gemini-1.5-pro] error attempt 1: Error code: 400 - {'error': {'message': 'google/gemini-1.5-pro is not a valid model ID', 'code': 400}, 'user_id': 'user_34kLTCwLzW3rU64I3t6BoCIlFIw'}\n",
            "[google/gemini-1.5-pro] error attempt 2: Error code: 400 - {'error': {'message': 'google/gemini-1.5-pro is not a valid model ID', 'code': 400}, 'user_id': 'user_34kLTCwLzW3rU64I3t6BoCIlFIw'}\n",
            "[google/gemini-1.5-pro] error attempt 3: Error code: 400 - {'error': {'message': 'google/gemini-1.5-pro is not a valid model ID', 'code': 400}, 'user_id': 'user_34kLTCwLzW3rU64I3t6BoCIlFIw'}\n",
            "[google/gemini-1.5-pro] error attempt 1: Error code: 400 - {'error': {'message': 'google/gemini-1.5-pro is not a valid model ID', 'code': 400}, 'user_id': 'user_34kLTCwLzW3rU64I3t6BoCIlFIw'}\n",
            "[google/gemini-1.5-pro] error attempt 2: Error code: 400 - {'error': {'message': 'google/gemini-1.5-pro is not a valid model ID', 'code': 400}, 'user_id': 'user_34kLTCwLzW3rU64I3t6BoCIlFIw'}\n",
            "[google/gemini-1.5-pro] error attempt 3: Error code: 400 - {'error': {'message': 'google/gemini-1.5-pro is not a valid model ID', 'code': 400}, 'user_id': 'user_34kLTCwLzW3rU64I3t6BoCIlFIw'}\n"
          ]
        },
        {
          "output_type": "stream",
          "name": "stderr",
          "text": [
            "\rgoogle/gemini-1.5-pro:  79%|███████▉  | 95/120 [19:35<05:12, 12.52s/it]"
          ]
        },
        {
          "output_type": "stream",
          "name": "stdout",
          "text": [
            "[google/gemini-1.5-pro] error attempt 1: Error code: 400 - {'error': {'message': 'google/gemini-1.5-pro is not a valid model ID', 'code': 400}, 'user_id': 'user_34kLTCwLzW3rU64I3t6BoCIlFIw'}\n",
            "[google/gemini-1.5-pro] error attempt 2: Error code: 400 - {'error': {'message': 'google/gemini-1.5-pro is not a valid model ID', 'code': 400}, 'user_id': 'user_34kLTCwLzW3rU64I3t6BoCIlFIw'}\n",
            "[google/gemini-1.5-pro] error attempt 3: Error code: 400 - {'error': {'message': 'google/gemini-1.5-pro is not a valid model ID', 'code': 400}, 'user_id': 'user_34kLTCwLzW3rU64I3t6BoCIlFIw'}\n",
            "[google/gemini-1.5-pro] error attempt 1: Error code: 400 - {'error': {'message': 'google/gemini-1.5-pro is not a valid model ID', 'code': 400}, 'user_id': 'user_34kLTCwLzW3rU64I3t6BoCIlFIw'}\n",
            "[google/gemini-1.5-pro] error attempt 2: Error code: 400 - {'error': {'message': 'google/gemini-1.5-pro is not a valid model ID', 'code': 400}, 'user_id': 'user_34kLTCwLzW3rU64I3t6BoCIlFIw'}\n",
            "[google/gemini-1.5-pro] error attempt 3: Error code: 400 - {'error': {'message': 'google/gemini-1.5-pro is not a valid model ID', 'code': 400}, 'user_id': 'user_34kLTCwLzW3rU64I3t6BoCIlFIw'}\n"
          ]
        },
        {
          "output_type": "stream",
          "name": "stderr",
          "text": [
            "\rgoogle/gemini-1.5-pro:  80%|████████  | 96/120 [19:48<05:04, 12.69s/it]"
          ]
        },
        {
          "output_type": "stream",
          "name": "stdout",
          "text": [
            "[google/gemini-1.5-pro] error attempt 1: Error code: 400 - {'error': {'message': 'google/gemini-1.5-pro is not a valid model ID', 'code': 400}, 'user_id': 'user_34kLTCwLzW3rU64I3t6BoCIlFIw'}\n",
            "[google/gemini-1.5-pro] error attempt 2: Error code: 400 - {'error': {'message': 'google/gemini-1.5-pro is not a valid model ID', 'code': 400}, 'user_id': 'user_34kLTCwLzW3rU64I3t6BoCIlFIw'}\n",
            "[google/gemini-1.5-pro] error attempt 3: Error code: 400 - {'error': {'message': 'google/gemini-1.5-pro is not a valid model ID', 'code': 400}, 'user_id': 'user_34kLTCwLzW3rU64I3t6BoCIlFIw'}\n",
            "[google/gemini-1.5-pro] error attempt 1: Error code: 400 - {'error': {'message': 'google/gemini-1.5-pro is not a valid model ID', 'code': 400}, 'user_id': 'user_34kLTCwLzW3rU64I3t6BoCIlFIw'}\n",
            "[google/gemini-1.5-pro] error attempt 2: Error code: 400 - {'error': {'message': 'google/gemini-1.5-pro is not a valid model ID', 'code': 400}, 'user_id': 'user_34kLTCwLzW3rU64I3t6BoCIlFIw'}\n",
            "[google/gemini-1.5-pro] error attempt 3: Error code: 400 - {'error': {'message': 'google/gemini-1.5-pro is not a valid model ID', 'code': 400}, 'user_id': 'user_34kLTCwLzW3rU64I3t6BoCIlFIw'}\n"
          ]
        },
        {
          "output_type": "stream",
          "name": "stderr",
          "text": [
            "\rgoogle/gemini-1.5-pro:  81%|████████  | 97/120 [20:01<04:49, 12.59s/it]"
          ]
        },
        {
          "output_type": "stream",
          "name": "stdout",
          "text": [
            "[google/gemini-1.5-pro] error attempt 1: Error code: 400 - {'error': {'message': 'google/gemini-1.5-pro is not a valid model ID', 'code': 400}, 'user_id': 'user_34kLTCwLzW3rU64I3t6BoCIlFIw'}\n",
            "[google/gemini-1.5-pro] error attempt 2: Error code: 400 - {'error': {'message': 'google/gemini-1.5-pro is not a valid model ID', 'code': 400}, 'user_id': 'user_34kLTCwLzW3rU64I3t6BoCIlFIw'}\n",
            "[google/gemini-1.5-pro] error attempt 3: Error code: 400 - {'error': {'message': 'google/gemini-1.5-pro is not a valid model ID', 'code': 400}, 'user_id': 'user_34kLTCwLzW3rU64I3t6BoCIlFIw'}\n",
            "[google/gemini-1.5-pro] error attempt 1: Error code: 400 - {'error': {'message': 'google/gemini-1.5-pro is not a valid model ID', 'code': 400}, 'user_id': 'user_34kLTCwLzW3rU64I3t6BoCIlFIw'}\n",
            "[google/gemini-1.5-pro] error attempt 2: Error code: 400 - {'error': {'message': 'google/gemini-1.5-pro is not a valid model ID', 'code': 400}, 'user_id': 'user_34kLTCwLzW3rU64I3t6BoCIlFIw'}\n",
            "[google/gemini-1.5-pro] error attempt 3: Error code: 400 - {'error': {'message': 'google/gemini-1.5-pro is not a valid model ID', 'code': 400}, 'user_id': 'user_34kLTCwLzW3rU64I3t6BoCIlFIw'}\n"
          ]
        },
        {
          "output_type": "stream",
          "name": "stderr",
          "text": [
            "\rgoogle/gemini-1.5-pro:  82%|████████▏ | 98/120 [20:13<04:35, 12.53s/it]"
          ]
        },
        {
          "output_type": "stream",
          "name": "stdout",
          "text": [
            "[google/gemini-1.5-pro] error attempt 1: Error code: 400 - {'error': {'message': 'google/gemini-1.5-pro is not a valid model ID', 'code': 400}, 'user_id': 'user_34kLTCwLzW3rU64I3t6BoCIlFIw'}\n",
            "[google/gemini-1.5-pro] error attempt 2: Error code: 400 - {'error': {'message': 'google/gemini-1.5-pro is not a valid model ID', 'code': 400}, 'user_id': 'user_34kLTCwLzW3rU64I3t6BoCIlFIw'}\n",
            "[google/gemini-1.5-pro] error attempt 3: Error code: 400 - {'error': {'message': 'google/gemini-1.5-pro is not a valid model ID', 'code': 400}, 'user_id': 'user_34kLTCwLzW3rU64I3t6BoCIlFIw'}\n",
            "[google/gemini-1.5-pro] error attempt 1: Error code: 400 - {'error': {'message': 'google/gemini-1.5-pro is not a valid model ID', 'code': 400}, 'user_id': 'user_34kLTCwLzW3rU64I3t6BoCIlFIw'}\n",
            "[google/gemini-1.5-pro] error attempt 2: Error code: 400 - {'error': {'message': 'google/gemini-1.5-pro is not a valid model ID', 'code': 400}, 'user_id': 'user_34kLTCwLzW3rU64I3t6BoCIlFIw'}\n",
            "[google/gemini-1.5-pro] error attempt 3: Error code: 400 - {'error': {'message': 'google/gemini-1.5-pro is not a valid model ID', 'code': 400}, 'user_id': 'user_34kLTCwLzW3rU64I3t6BoCIlFIw'}\n"
          ]
        },
        {
          "output_type": "stream",
          "name": "stderr",
          "text": [
            "\rgoogle/gemini-1.5-pro:  82%|████████▎ | 99/120 [20:25<04:22, 12.48s/it]"
          ]
        },
        {
          "output_type": "stream",
          "name": "stdout",
          "text": [
            "[google/gemini-1.5-pro] error attempt 1: Error code: 400 - {'error': {'message': 'google/gemini-1.5-pro is not a valid model ID', 'code': 400}, 'user_id': 'user_34kLTCwLzW3rU64I3t6BoCIlFIw'}\n",
            "[google/gemini-1.5-pro] error attempt 2: Error code: 400 - {'error': {'message': 'google/gemini-1.5-pro is not a valid model ID', 'code': 400}, 'user_id': 'user_34kLTCwLzW3rU64I3t6BoCIlFIw'}\n",
            "[google/gemini-1.5-pro] error attempt 3: Error code: 400 - {'error': {'message': 'google/gemini-1.5-pro is not a valid model ID', 'code': 400}, 'user_id': 'user_34kLTCwLzW3rU64I3t6BoCIlFIw'}\n",
            "[google/gemini-1.5-pro] error attempt 1: Error code: 400 - {'error': {'message': 'google/gemini-1.5-pro is not a valid model ID', 'code': 400}, 'user_id': 'user_34kLTCwLzW3rU64I3t6BoCIlFIw'}\n",
            "[google/gemini-1.5-pro] error attempt 2: Error code: 400 - {'error': {'message': 'google/gemini-1.5-pro is not a valid model ID', 'code': 400}, 'user_id': 'user_34kLTCwLzW3rU64I3t6BoCIlFIw'}\n",
            "[google/gemini-1.5-pro] error attempt 3: Error code: 400 - {'error': {'message': 'google/gemini-1.5-pro is not a valid model ID', 'code': 400}, 'user_id': 'user_34kLTCwLzW3rU64I3t6BoCIlFIw'}\n"
          ]
        },
        {
          "output_type": "stream",
          "name": "stderr",
          "text": [
            "\rgoogle/gemini-1.5-pro:  83%|████████▎ | 100/120 [20:38<04:10, 12.51s/it]"
          ]
        },
        {
          "output_type": "stream",
          "name": "stdout",
          "text": [
            "[google/gemini-1.5-pro] error attempt 1: Error code: 400 - {'error': {'message': 'google/gemini-1.5-pro is not a valid model ID', 'code': 400}, 'user_id': 'user_34kLTCwLzW3rU64I3t6BoCIlFIw'}\n",
            "[google/gemini-1.5-pro] error attempt 2: Error code: 400 - {'error': {'message': 'google/gemini-1.5-pro is not a valid model ID', 'code': 400}, 'user_id': 'user_34kLTCwLzW3rU64I3t6BoCIlFIw'}\n",
            "[google/gemini-1.5-pro] error attempt 3: Error code: 400 - {'error': {'message': 'google/gemini-1.5-pro is not a valid model ID', 'code': 400}, 'user_id': 'user_34kLTCwLzW3rU64I3t6BoCIlFIw'}\n",
            "[google/gemini-1.5-pro] error attempt 1: Error code: 400 - {'error': {'message': 'google/gemini-1.5-pro is not a valid model ID', 'code': 400}, 'user_id': 'user_34kLTCwLzW3rU64I3t6BoCIlFIw'}\n",
            "[google/gemini-1.5-pro] error attempt 2: Error code: 400 - {'error': {'message': 'google/gemini-1.5-pro is not a valid model ID', 'code': 400}, 'user_id': 'user_34kLTCwLzW3rU64I3t6BoCIlFIw'}\n",
            "[google/gemini-1.5-pro] error attempt 3: Error code: 400 - {'error': {'message': 'google/gemini-1.5-pro is not a valid model ID', 'code': 400}, 'user_id': 'user_34kLTCwLzW3rU64I3t6BoCIlFIw'}\n"
          ]
        },
        {
          "output_type": "stream",
          "name": "stderr",
          "text": [
            "\rgoogle/gemini-1.5-pro:  84%|████████▍ | 101/120 [20:51<03:58, 12.57s/it]"
          ]
        },
        {
          "output_type": "stream",
          "name": "stdout",
          "text": [
            "[google/gemini-1.5-pro] error attempt 1: Error code: 400 - {'error': {'message': 'google/gemini-1.5-pro is not a valid model ID', 'code': 400}, 'user_id': 'user_34kLTCwLzW3rU64I3t6BoCIlFIw'}\n",
            "[google/gemini-1.5-pro] error attempt 2: Error code: 400 - {'error': {'message': 'google/gemini-1.5-pro is not a valid model ID', 'code': 400}, 'user_id': 'user_34kLTCwLzW3rU64I3t6BoCIlFIw'}\n",
            "[google/gemini-1.5-pro] error attempt 3: Error code: 400 - {'error': {'message': 'google/gemini-1.5-pro is not a valid model ID', 'code': 400}, 'user_id': 'user_34kLTCwLzW3rU64I3t6BoCIlFIw'}\n",
            "[google/gemini-1.5-pro] error attempt 1: Error code: 400 - {'error': {'message': 'google/gemini-1.5-pro is not a valid model ID', 'code': 400}, 'user_id': 'user_34kLTCwLzW3rU64I3t6BoCIlFIw'}\n",
            "[google/gemini-1.5-pro] error attempt 2: Error code: 400 - {'error': {'message': 'google/gemini-1.5-pro is not a valid model ID', 'code': 400}, 'user_id': 'user_34kLTCwLzW3rU64I3t6BoCIlFIw'}\n",
            "[google/gemini-1.5-pro] error attempt 3: Error code: 400 - {'error': {'message': 'google/gemini-1.5-pro is not a valid model ID', 'code': 400}, 'user_id': 'user_34kLTCwLzW3rU64I3t6BoCIlFIw'}\n"
          ]
        },
        {
          "output_type": "stream",
          "name": "stderr",
          "text": [
            "\rgoogle/gemini-1.5-pro:  85%|████████▌ | 102/120 [21:04<03:48, 12.68s/it]"
          ]
        },
        {
          "output_type": "stream",
          "name": "stdout",
          "text": [
            "[google/gemini-1.5-pro] error attempt 1: Error code: 400 - {'error': {'message': 'google/gemini-1.5-pro is not a valid model ID', 'code': 400}, 'user_id': 'user_34kLTCwLzW3rU64I3t6BoCIlFIw'}\n",
            "[google/gemini-1.5-pro] error attempt 2: Error code: 400 - {'error': {'message': 'google/gemini-1.5-pro is not a valid model ID', 'code': 400}, 'user_id': 'user_34kLTCwLzW3rU64I3t6BoCIlFIw'}\n",
            "[google/gemini-1.5-pro] error attempt 3: Error code: 400 - {'error': {'message': 'google/gemini-1.5-pro is not a valid model ID', 'code': 400}, 'user_id': 'user_34kLTCwLzW3rU64I3t6BoCIlFIw'}\n",
            "[google/gemini-1.5-pro] error attempt 1: Error code: 400 - {'error': {'message': 'google/gemini-1.5-pro is not a valid model ID', 'code': 400}, 'user_id': 'user_34kLTCwLzW3rU64I3t6BoCIlFIw'}\n",
            "[google/gemini-1.5-pro] error attempt 2: Error code: 400 - {'error': {'message': 'google/gemini-1.5-pro is not a valid model ID', 'code': 400}, 'user_id': 'user_34kLTCwLzW3rU64I3t6BoCIlFIw'}\n",
            "[google/gemini-1.5-pro] error attempt 3: Error code: 400 - {'error': {'message': 'google/gemini-1.5-pro is not a valid model ID', 'code': 400}, 'user_id': 'user_34kLTCwLzW3rU64I3t6BoCIlFIw'}\n"
          ]
        },
        {
          "output_type": "stream",
          "name": "stderr",
          "text": [
            "\rgoogle/gemini-1.5-pro:  86%|████████▌ | 103/120 [21:16<03:34, 12.63s/it]"
          ]
        },
        {
          "output_type": "stream",
          "name": "stdout",
          "text": [
            "[google/gemini-1.5-pro] error attempt 1: Error code: 400 - {'error': {'message': 'google/gemini-1.5-pro is not a valid model ID', 'code': 400}, 'user_id': 'user_34kLTCwLzW3rU64I3t6BoCIlFIw'}\n",
            "[google/gemini-1.5-pro] error attempt 2: Error code: 400 - {'error': {'message': 'google/gemini-1.5-pro is not a valid model ID', 'code': 400}, 'user_id': 'user_34kLTCwLzW3rU64I3t6BoCIlFIw'}\n",
            "[google/gemini-1.5-pro] error attempt 3: Error code: 400 - {'error': {'message': 'google/gemini-1.5-pro is not a valid model ID', 'code': 400}, 'user_id': 'user_34kLTCwLzW3rU64I3t6BoCIlFIw'}\n",
            "[google/gemini-1.5-pro] error attempt 1: Error code: 400 - {'error': {'message': 'google/gemini-1.5-pro is not a valid model ID', 'code': 400}, 'user_id': 'user_34kLTCwLzW3rU64I3t6BoCIlFIw'}\n",
            "[google/gemini-1.5-pro] error attempt 2: Error code: 400 - {'error': {'message': 'google/gemini-1.5-pro is not a valid model ID', 'code': 400}, 'user_id': 'user_34kLTCwLzW3rU64I3t6BoCIlFIw'}\n",
            "[google/gemini-1.5-pro] error attempt 3: Error code: 400 - {'error': {'message': 'google/gemini-1.5-pro is not a valid model ID', 'code': 400}, 'user_id': 'user_34kLTCwLzW3rU64I3t6BoCIlFIw'}\n"
          ]
        },
        {
          "output_type": "stream",
          "name": "stderr",
          "text": [
            "\rgoogle/gemini-1.5-pro:  87%|████████▋ | 104/120 [21:29<03:21, 12.59s/it]"
          ]
        },
        {
          "output_type": "stream",
          "name": "stdout",
          "text": [
            "[google/gemini-1.5-pro] error attempt 1: Error code: 400 - {'error': {'message': 'google/gemini-1.5-pro is not a valid model ID', 'code': 400}, 'user_id': 'user_34kLTCwLzW3rU64I3t6BoCIlFIw'}\n",
            "[google/gemini-1.5-pro] error attempt 2: Error code: 400 - {'error': {'message': 'google/gemini-1.5-pro is not a valid model ID', 'code': 400}, 'user_id': 'user_34kLTCwLzW3rU64I3t6BoCIlFIw'}\n",
            "[google/gemini-1.5-pro] error attempt 3: Error code: 400 - {'error': {'message': 'google/gemini-1.5-pro is not a valid model ID', 'code': 400}, 'user_id': 'user_34kLTCwLzW3rU64I3t6BoCIlFIw'}\n",
            "[google/gemini-1.5-pro] error attempt 1: Error code: 400 - {'error': {'message': 'google/gemini-1.5-pro is not a valid model ID', 'code': 400}, 'user_id': 'user_34kLTCwLzW3rU64I3t6BoCIlFIw'}\n",
            "[google/gemini-1.5-pro] error attempt 2: Error code: 400 - {'error': {'message': 'google/gemini-1.5-pro is not a valid model ID', 'code': 400}, 'user_id': 'user_34kLTCwLzW3rU64I3t6BoCIlFIw'}\n",
            "[google/gemini-1.5-pro] error attempt 3: Error code: 400 - {'error': {'message': 'google/gemini-1.5-pro is not a valid model ID', 'code': 400}, 'user_id': 'user_34kLTCwLzW3rU64I3t6BoCIlFIw'}\n"
          ]
        },
        {
          "output_type": "stream",
          "name": "stderr",
          "text": [
            "\rgoogle/gemini-1.5-pro:  88%|████████▊ | 105/120 [21:41<03:08, 12.55s/it]"
          ]
        },
        {
          "output_type": "stream",
          "name": "stdout",
          "text": [
            "[google/gemini-1.5-pro] error attempt 1: Error code: 400 - {'error': {'message': 'google/gemini-1.5-pro is not a valid model ID', 'code': 400}, 'user_id': 'user_34kLTCwLzW3rU64I3t6BoCIlFIw'}\n",
            "[google/gemini-1.5-pro] error attempt 2: Error code: 400 - {'error': {'message': 'google/gemini-1.5-pro is not a valid model ID', 'code': 400}, 'user_id': 'user_34kLTCwLzW3rU64I3t6BoCIlFIw'}\n",
            "[google/gemini-1.5-pro] error attempt 3: Error code: 400 - {'error': {'message': 'google/gemini-1.5-pro is not a valid model ID', 'code': 400}, 'user_id': 'user_34kLTCwLzW3rU64I3t6BoCIlFIw'}\n",
            "[google/gemini-1.5-pro] error attempt 1: Error code: 400 - {'error': {'message': 'google/gemini-1.5-pro is not a valid model ID', 'code': 400}, 'user_id': 'user_34kLTCwLzW3rU64I3t6BoCIlFIw'}\n",
            "[google/gemini-1.5-pro] error attempt 2: Error code: 400 - {'error': {'message': 'google/gemini-1.5-pro is not a valid model ID', 'code': 400}, 'user_id': 'user_34kLTCwLzW3rU64I3t6BoCIlFIw'}\n",
            "[google/gemini-1.5-pro] error attempt 3: Error code: 400 - {'error': {'message': 'google/gemini-1.5-pro is not a valid model ID', 'code': 400}, 'user_id': 'user_34kLTCwLzW3rU64I3t6BoCIlFIw'}\n"
          ]
        },
        {
          "output_type": "stream",
          "name": "stderr",
          "text": [
            "\rgoogle/gemini-1.5-pro:  88%|████████▊ | 106/120 [21:54<02:56, 12.59s/it]"
          ]
        },
        {
          "output_type": "stream",
          "name": "stdout",
          "text": [
            "[google/gemini-1.5-pro] error attempt 1: Error code: 400 - {'error': {'message': 'google/gemini-1.5-pro is not a valid model ID', 'code': 400}, 'user_id': 'user_34kLTCwLzW3rU64I3t6BoCIlFIw'}\n",
            "[google/gemini-1.5-pro] error attempt 2: Error code: 400 - {'error': {'message': 'google/gemini-1.5-pro is not a valid model ID', 'code': 400}, 'user_id': 'user_34kLTCwLzW3rU64I3t6BoCIlFIw'}\n",
            "[google/gemini-1.5-pro] error attempt 3: Error code: 400 - {'error': {'message': 'google/gemini-1.5-pro is not a valid model ID', 'code': 400}, 'user_id': 'user_34kLTCwLzW3rU64I3t6BoCIlFIw'}\n",
            "[google/gemini-1.5-pro] error attempt 1: Error code: 400 - {'error': {'message': 'google/gemini-1.5-pro is not a valid model ID', 'code': 400}, 'user_id': 'user_34kLTCwLzW3rU64I3t6BoCIlFIw'}\n",
            "[google/gemini-1.5-pro] error attempt 2: Error code: 400 - {'error': {'message': 'google/gemini-1.5-pro is not a valid model ID', 'code': 400}, 'user_id': 'user_34kLTCwLzW3rU64I3t6BoCIlFIw'}\n",
            "[google/gemini-1.5-pro] error attempt 3: Error code: 400 - {'error': {'message': 'google/gemini-1.5-pro is not a valid model ID', 'code': 400}, 'user_id': 'user_34kLTCwLzW3rU64I3t6BoCIlFIw'}\n"
          ]
        },
        {
          "output_type": "stream",
          "name": "stderr",
          "text": [
            "\rgoogle/gemini-1.5-pro:  89%|████████▉ | 107/120 [22:07<02:44, 12.68s/it]"
          ]
        },
        {
          "output_type": "stream",
          "name": "stdout",
          "text": [
            "[google/gemini-1.5-pro] error attempt 1: Error code: 400 - {'error': {'message': 'google/gemini-1.5-pro is not a valid model ID', 'code': 400}, 'user_id': 'user_34kLTCwLzW3rU64I3t6BoCIlFIw'}\n",
            "[google/gemini-1.5-pro] error attempt 2: Error code: 400 - {'error': {'message': 'google/gemini-1.5-pro is not a valid model ID', 'code': 400}, 'user_id': 'user_34kLTCwLzW3rU64I3t6BoCIlFIw'}\n",
            "[google/gemini-1.5-pro] error attempt 3: Error code: 400 - {'error': {'message': 'google/gemini-1.5-pro is not a valid model ID', 'code': 400}, 'user_id': 'user_34kLTCwLzW3rU64I3t6BoCIlFIw'}\n",
            "[google/gemini-1.5-pro] error attempt 1: Error code: 400 - {'error': {'message': 'google/gemini-1.5-pro is not a valid model ID', 'code': 400}, 'user_id': 'user_34kLTCwLzW3rU64I3t6BoCIlFIw'}\n",
            "[google/gemini-1.5-pro] error attempt 2: Error code: 400 - {'error': {'message': 'google/gemini-1.5-pro is not a valid model ID', 'code': 400}, 'user_id': 'user_34kLTCwLzW3rU64I3t6BoCIlFIw'}\n",
            "[google/gemini-1.5-pro] error attempt 3: Error code: 400 - {'error': {'message': 'google/gemini-1.5-pro is not a valid model ID', 'code': 400}, 'user_id': 'user_34kLTCwLzW3rU64I3t6BoCIlFIw'}\n"
          ]
        },
        {
          "output_type": "stream",
          "name": "stderr",
          "text": [
            "\rgoogle/gemini-1.5-pro:  90%|█████████ | 108/120 [22:19<02:31, 12.60s/it]"
          ]
        },
        {
          "output_type": "stream",
          "name": "stdout",
          "text": [
            "[google/gemini-1.5-pro] error attempt 1: Error code: 400 - {'error': {'message': 'google/gemini-1.5-pro is not a valid model ID', 'code': 400}, 'user_id': 'user_34kLTCwLzW3rU64I3t6BoCIlFIw'}\n",
            "[google/gemini-1.5-pro] error attempt 2: Error code: 400 - {'error': {'message': 'google/gemini-1.5-pro is not a valid model ID', 'code': 400}, 'user_id': 'user_34kLTCwLzW3rU64I3t6BoCIlFIw'}\n",
            "[google/gemini-1.5-pro] error attempt 3: Error code: 400 - {'error': {'message': 'google/gemini-1.5-pro is not a valid model ID', 'code': 400}, 'user_id': 'user_34kLTCwLzW3rU64I3t6BoCIlFIw'}\n",
            "[google/gemini-1.5-pro] error attempt 1: Error code: 400 - {'error': {'message': 'google/gemini-1.5-pro is not a valid model ID', 'code': 400}, 'user_id': 'user_34kLTCwLzW3rU64I3t6BoCIlFIw'}\n",
            "[google/gemini-1.5-pro] error attempt 2: Error code: 400 - {'error': {'message': 'google/gemini-1.5-pro is not a valid model ID', 'code': 400}, 'user_id': 'user_34kLTCwLzW3rU64I3t6BoCIlFIw'}\n",
            "[google/gemini-1.5-pro] error attempt 3: Error code: 400 - {'error': {'message': 'google/gemini-1.5-pro is not a valid model ID', 'code': 400}, 'user_id': 'user_34kLTCwLzW3rU64I3t6BoCIlFIw'}\n"
          ]
        },
        {
          "output_type": "stream",
          "name": "stderr",
          "text": [
            "\rgoogle/gemini-1.5-pro:  91%|█████████ | 109/120 [22:31<02:17, 12.54s/it]"
          ]
        },
        {
          "output_type": "stream",
          "name": "stdout",
          "text": [
            "[google/gemini-1.5-pro] error attempt 1: Error code: 400 - {'error': {'message': 'google/gemini-1.5-pro is not a valid model ID', 'code': 400}, 'user_id': 'user_34kLTCwLzW3rU64I3t6BoCIlFIw'}\n",
            "[google/gemini-1.5-pro] error attempt 2: Error code: 400 - {'error': {'message': 'google/gemini-1.5-pro is not a valid model ID', 'code': 400}, 'user_id': 'user_34kLTCwLzW3rU64I3t6BoCIlFIw'}\n",
            "[google/gemini-1.5-pro] error attempt 3: Error code: 400 - {'error': {'message': 'google/gemini-1.5-pro is not a valid model ID', 'code': 400}, 'user_id': 'user_34kLTCwLzW3rU64I3t6BoCIlFIw'}\n",
            "[google/gemini-1.5-pro] error attempt 1: Error code: 400 - {'error': {'message': 'google/gemini-1.5-pro is not a valid model ID', 'code': 400}, 'user_id': 'user_34kLTCwLzW3rU64I3t6BoCIlFIw'}\n",
            "[google/gemini-1.5-pro] error attempt 2: Error code: 400 - {'error': {'message': 'google/gemini-1.5-pro is not a valid model ID', 'code': 400}, 'user_id': 'user_34kLTCwLzW3rU64I3t6BoCIlFIw'}\n",
            "[google/gemini-1.5-pro] error attempt 3: Error code: 400 - {'error': {'message': 'google/gemini-1.5-pro is not a valid model ID', 'code': 400}, 'user_id': 'user_34kLTCwLzW3rU64I3t6BoCIlFIw'}\n"
          ]
        },
        {
          "output_type": "stream",
          "name": "stderr",
          "text": [
            "\rgoogle/gemini-1.5-pro:  92%|█████████▏| 110/120 [22:44<02:05, 12.51s/it]"
          ]
        },
        {
          "output_type": "stream",
          "name": "stdout",
          "text": [
            "[google/gemini-1.5-pro] error attempt 1: Error code: 400 - {'error': {'message': 'google/gemini-1.5-pro is not a valid model ID', 'code': 400}, 'user_id': 'user_34kLTCwLzW3rU64I3t6BoCIlFIw'}\n",
            "[google/gemini-1.5-pro] error attempt 2: Error code: 400 - {'error': {'message': 'google/gemini-1.5-pro is not a valid model ID', 'code': 400}, 'user_id': 'user_34kLTCwLzW3rU64I3t6BoCIlFIw'}\n",
            "[google/gemini-1.5-pro] error attempt 3: Error code: 400 - {'error': {'message': 'google/gemini-1.5-pro is not a valid model ID', 'code': 400}, 'user_id': 'user_34kLTCwLzW3rU64I3t6BoCIlFIw'}\n",
            "[google/gemini-1.5-pro] error attempt 1: Error code: 400 - {'error': {'message': 'google/gemini-1.5-pro is not a valid model ID', 'code': 400}, 'user_id': 'user_34kLTCwLzW3rU64I3t6BoCIlFIw'}\n",
            "[google/gemini-1.5-pro] error attempt 2: Error code: 400 - {'error': {'message': 'google/gemini-1.5-pro is not a valid model ID', 'code': 400}, 'user_id': 'user_34kLTCwLzW3rU64I3t6BoCIlFIw'}\n",
            "[google/gemini-1.5-pro] error attempt 3: Error code: 400 - {'error': {'message': 'google/gemini-1.5-pro is not a valid model ID', 'code': 400}, 'user_id': 'user_34kLTCwLzW3rU64I3t6BoCIlFIw'}\n"
          ]
        },
        {
          "output_type": "stream",
          "name": "stderr",
          "text": [
            "\rgoogle/gemini-1.5-pro:  92%|█████████▎| 111/120 [22:56<01:52, 12.51s/it]"
          ]
        },
        {
          "output_type": "stream",
          "name": "stdout",
          "text": [
            "[google/gemini-1.5-pro] error attempt 1: Error code: 400 - {'error': {'message': 'google/gemini-1.5-pro is not a valid model ID', 'code': 400}, 'user_id': 'user_34kLTCwLzW3rU64I3t6BoCIlFIw'}\n",
            "[google/gemini-1.5-pro] error attempt 2: Error code: 400 - {'error': {'message': 'google/gemini-1.5-pro is not a valid model ID', 'code': 400}, 'user_id': 'user_34kLTCwLzW3rU64I3t6BoCIlFIw'}\n",
            "[google/gemini-1.5-pro] error attempt 3: Error code: 400 - {'error': {'message': 'google/gemini-1.5-pro is not a valid model ID', 'code': 400}, 'user_id': 'user_34kLTCwLzW3rU64I3t6BoCIlFIw'}\n",
            "[google/gemini-1.5-pro] error attempt 1: Error code: 400 - {'error': {'message': 'google/gemini-1.5-pro is not a valid model ID', 'code': 400}, 'user_id': 'user_34kLTCwLzW3rU64I3t6BoCIlFIw'}\n",
            "[google/gemini-1.5-pro] error attempt 2: Error code: 400 - {'error': {'message': 'google/gemini-1.5-pro is not a valid model ID', 'code': 400}, 'user_id': 'user_34kLTCwLzW3rU64I3t6BoCIlFIw'}\n",
            "[google/gemini-1.5-pro] error attempt 3: Error code: 400 - {'error': {'message': 'google/gemini-1.5-pro is not a valid model ID', 'code': 400}, 'user_id': 'user_34kLTCwLzW3rU64I3t6BoCIlFIw'}\n"
          ]
        },
        {
          "output_type": "stream",
          "name": "stderr",
          "text": [
            "\rgoogle/gemini-1.5-pro:  93%|█████████▎| 112/120 [23:09<01:39, 12.47s/it]"
          ]
        },
        {
          "output_type": "stream",
          "name": "stdout",
          "text": [
            "[google/gemini-1.5-pro] error attempt 1: Error code: 400 - {'error': {'message': 'google/gemini-1.5-pro is not a valid model ID', 'code': 400}, 'user_id': 'user_34kLTCwLzW3rU64I3t6BoCIlFIw'}\n",
            "[google/gemini-1.5-pro] error attempt 2: Error code: 400 - {'error': {'message': 'google/gemini-1.5-pro is not a valid model ID', 'code': 400}, 'user_id': 'user_34kLTCwLzW3rU64I3t6BoCIlFIw'}\n",
            "[google/gemini-1.5-pro] error attempt 3: Error code: 400 - {'error': {'message': 'google/gemini-1.5-pro is not a valid model ID', 'code': 400}, 'user_id': 'user_34kLTCwLzW3rU64I3t6BoCIlFIw'}\n",
            "[google/gemini-1.5-pro] error attempt 1: Error code: 400 - {'error': {'message': 'google/gemini-1.5-pro is not a valid model ID', 'code': 400}, 'user_id': 'user_34kLTCwLzW3rU64I3t6BoCIlFIw'}\n",
            "[google/gemini-1.5-pro] error attempt 2: Error code: 400 - {'error': {'message': 'google/gemini-1.5-pro is not a valid model ID', 'code': 400}, 'user_id': 'user_34kLTCwLzW3rU64I3t6BoCIlFIw'}\n",
            "[google/gemini-1.5-pro] error attempt 3: Error code: 400 - {'error': {'message': 'google/gemini-1.5-pro is not a valid model ID', 'code': 400}, 'user_id': 'user_34kLTCwLzW3rU64I3t6BoCIlFIw'}\n"
          ]
        },
        {
          "output_type": "stream",
          "name": "stderr",
          "text": [
            "\rgoogle/gemini-1.5-pro:  94%|█████████▍| 113/120 [23:21<01:27, 12.49s/it]"
          ]
        },
        {
          "output_type": "stream",
          "name": "stdout",
          "text": [
            "[google/gemini-1.5-pro] error attempt 1: Error code: 400 - {'error': {'message': 'google/gemini-1.5-pro is not a valid model ID', 'code': 400}, 'user_id': 'user_34kLTCwLzW3rU64I3t6BoCIlFIw'}\n",
            "[google/gemini-1.5-pro] error attempt 2: Error code: 400 - {'error': {'message': 'google/gemini-1.5-pro is not a valid model ID', 'code': 400}, 'user_id': 'user_34kLTCwLzW3rU64I3t6BoCIlFIw'}\n",
            "[google/gemini-1.5-pro] error attempt 3: Error code: 400 - {'error': {'message': 'google/gemini-1.5-pro is not a valid model ID', 'code': 400}, 'user_id': 'user_34kLTCwLzW3rU64I3t6BoCIlFIw'}\n",
            "[google/gemini-1.5-pro] error attempt 1: Error code: 400 - {'error': {'message': 'google/gemini-1.5-pro is not a valid model ID', 'code': 400}, 'user_id': 'user_34kLTCwLzW3rU64I3t6BoCIlFIw'}\n",
            "[google/gemini-1.5-pro] error attempt 2: Error code: 400 - {'error': {'message': 'google/gemini-1.5-pro is not a valid model ID', 'code': 400}, 'user_id': 'user_34kLTCwLzW3rU64I3t6BoCIlFIw'}\n",
            "[google/gemini-1.5-pro] error attempt 3: Error code: 400 - {'error': {'message': 'google/gemini-1.5-pro is not a valid model ID', 'code': 400}, 'user_id': 'user_34kLTCwLzW3rU64I3t6BoCIlFIw'}\n"
          ]
        },
        {
          "output_type": "stream",
          "name": "stderr",
          "text": [
            "\rgoogle/gemini-1.5-pro:  95%|█████████▌| 114/120 [23:34<01:14, 12.49s/it]"
          ]
        },
        {
          "output_type": "stream",
          "name": "stdout",
          "text": [
            "[google/gemini-1.5-pro] error attempt 1: Error code: 400 - {'error': {'message': 'google/gemini-1.5-pro is not a valid model ID', 'code': 400}, 'user_id': 'user_34kLTCwLzW3rU64I3t6BoCIlFIw'}\n",
            "[google/gemini-1.5-pro] error attempt 2: Error code: 400 - {'error': {'message': 'google/gemini-1.5-pro is not a valid model ID', 'code': 400}, 'user_id': 'user_34kLTCwLzW3rU64I3t6BoCIlFIw'}\n",
            "[google/gemini-1.5-pro] error attempt 3: Error code: 400 - {'error': {'message': 'google/gemini-1.5-pro is not a valid model ID', 'code': 400}, 'user_id': 'user_34kLTCwLzW3rU64I3t6BoCIlFIw'}\n",
            "[google/gemini-1.5-pro] error attempt 1: Error code: 400 - {'error': {'message': 'google/gemini-1.5-pro is not a valid model ID', 'code': 400}, 'user_id': 'user_34kLTCwLzW3rU64I3t6BoCIlFIw'}\n",
            "[google/gemini-1.5-pro] error attempt 2: Error code: 400 - {'error': {'message': 'google/gemini-1.5-pro is not a valid model ID', 'code': 400}, 'user_id': 'user_34kLTCwLzW3rU64I3t6BoCIlFIw'}\n",
            "[google/gemini-1.5-pro] error attempt 3: Error code: 400 - {'error': {'message': 'google/gemini-1.5-pro is not a valid model ID', 'code': 400}, 'user_id': 'user_34kLTCwLzW3rU64I3t6BoCIlFIw'}\n"
          ]
        },
        {
          "output_type": "stream",
          "name": "stderr",
          "text": [
            "\rgoogle/gemini-1.5-pro:  96%|█████████▌| 115/120 [23:46<01:02, 12.49s/it]"
          ]
        },
        {
          "output_type": "stream",
          "name": "stdout",
          "text": [
            "[google/gemini-1.5-pro] error attempt 1: Error code: 400 - {'error': {'message': 'google/gemini-1.5-pro is not a valid model ID', 'code': 400}, 'user_id': 'user_34kLTCwLzW3rU64I3t6BoCIlFIw'}\n",
            "[google/gemini-1.5-pro] error attempt 2: Error code: 400 - {'error': {'message': 'google/gemini-1.5-pro is not a valid model ID', 'code': 400}, 'user_id': 'user_34kLTCwLzW3rU64I3t6BoCIlFIw'}\n",
            "[google/gemini-1.5-pro] error attempt 3: Error code: 400 - {'error': {'message': 'google/gemini-1.5-pro is not a valid model ID', 'code': 400}, 'user_id': 'user_34kLTCwLzW3rU64I3t6BoCIlFIw'}\n",
            "[google/gemini-1.5-pro] error attempt 1: Error code: 400 - {'error': {'message': 'google/gemini-1.5-pro is not a valid model ID', 'code': 400}, 'user_id': 'user_34kLTCwLzW3rU64I3t6BoCIlFIw'}\n",
            "[google/gemini-1.5-pro] error attempt 2: Error code: 400 - {'error': {'message': 'google/gemini-1.5-pro is not a valid model ID', 'code': 400}, 'user_id': 'user_34kLTCwLzW3rU64I3t6BoCIlFIw'}\n",
            "[google/gemini-1.5-pro] error attempt 3: Error code: 400 - {'error': {'message': 'google/gemini-1.5-pro is not a valid model ID', 'code': 400}, 'user_id': 'user_34kLTCwLzW3rU64I3t6BoCIlFIw'}\n"
          ]
        },
        {
          "output_type": "stream",
          "name": "stderr",
          "text": [
            "\rgoogle/gemini-1.5-pro:  97%|█████████▋| 116/120 [23:59<00:49, 12.47s/it]"
          ]
        },
        {
          "output_type": "stream",
          "name": "stdout",
          "text": [
            "[google/gemini-1.5-pro] error attempt 1: Error code: 400 - {'error': {'message': 'google/gemini-1.5-pro is not a valid model ID', 'code': 400}, 'user_id': 'user_34kLTCwLzW3rU64I3t6BoCIlFIw'}\n",
            "[google/gemini-1.5-pro] error attempt 2: Error code: 400 - {'error': {'message': 'google/gemini-1.5-pro is not a valid model ID', 'code': 400}, 'user_id': 'user_34kLTCwLzW3rU64I3t6BoCIlFIw'}\n",
            "[google/gemini-1.5-pro] error attempt 3: Error code: 400 - {'error': {'message': 'google/gemini-1.5-pro is not a valid model ID', 'code': 400}, 'user_id': 'user_34kLTCwLzW3rU64I3t6BoCIlFIw'}\n",
            "[google/gemini-1.5-pro] error attempt 1: Error code: 400 - {'error': {'message': 'google/gemini-1.5-pro is not a valid model ID', 'code': 400}, 'user_id': 'user_34kLTCwLzW3rU64I3t6BoCIlFIw'}\n",
            "[google/gemini-1.5-pro] error attempt 2: Error code: 400 - {'error': {'message': 'google/gemini-1.5-pro is not a valid model ID', 'code': 400}, 'user_id': 'user_34kLTCwLzW3rU64I3t6BoCIlFIw'}\n",
            "[google/gemini-1.5-pro] error attempt 3: Error code: 400 - {'error': {'message': 'google/gemini-1.5-pro is not a valid model ID', 'code': 400}, 'user_id': 'user_34kLTCwLzW3rU64I3t6BoCIlFIw'}\n"
          ]
        },
        {
          "output_type": "stream",
          "name": "stderr",
          "text": [
            "\rgoogle/gemini-1.5-pro:  98%|█████████▊| 117/120 [24:11<00:37, 12.58s/it]"
          ]
        },
        {
          "output_type": "stream",
          "name": "stdout",
          "text": [
            "[google/gemini-1.5-pro] error attempt 1: Error code: 400 - {'error': {'message': 'google/gemini-1.5-pro is not a valid model ID', 'code': 400}, 'user_id': 'user_34kLTCwLzW3rU64I3t6BoCIlFIw'}\n",
            "[google/gemini-1.5-pro] error attempt 2: Error code: 400 - {'error': {'message': 'google/gemini-1.5-pro is not a valid model ID', 'code': 400}, 'user_id': 'user_34kLTCwLzW3rU64I3t6BoCIlFIw'}\n",
            "[google/gemini-1.5-pro] error attempt 3: Error code: 400 - {'error': {'message': 'google/gemini-1.5-pro is not a valid model ID', 'code': 400}, 'user_id': 'user_34kLTCwLzW3rU64I3t6BoCIlFIw'}\n",
            "[google/gemini-1.5-pro] error attempt 1: Error code: 400 - {'error': {'message': 'google/gemini-1.5-pro is not a valid model ID', 'code': 400}, 'user_id': 'user_34kLTCwLzW3rU64I3t6BoCIlFIw'}\n",
            "[google/gemini-1.5-pro] error attempt 2: Error code: 400 - {'error': {'message': 'google/gemini-1.5-pro is not a valid model ID', 'code': 400}, 'user_id': 'user_34kLTCwLzW3rU64I3t6BoCIlFIw'}\n",
            "[google/gemini-1.5-pro] error attempt 3: Error code: 400 - {'error': {'message': 'google/gemini-1.5-pro is not a valid model ID', 'code': 400}, 'user_id': 'user_34kLTCwLzW3rU64I3t6BoCIlFIw'}\n"
          ]
        },
        {
          "output_type": "stream",
          "name": "stderr",
          "text": [
            "\rgoogle/gemini-1.5-pro:  98%|█████████▊| 118/120 [24:24<00:25, 12.56s/it]"
          ]
        },
        {
          "output_type": "stream",
          "name": "stdout",
          "text": [
            "[google/gemini-1.5-pro] error attempt 1: Error code: 400 - {'error': {'message': 'google/gemini-1.5-pro is not a valid model ID', 'code': 400}, 'user_id': 'user_34kLTCwLzW3rU64I3t6BoCIlFIw'}\n",
            "[google/gemini-1.5-pro] error attempt 2: Error code: 400 - {'error': {'message': 'google/gemini-1.5-pro is not a valid model ID', 'code': 400}, 'user_id': 'user_34kLTCwLzW3rU64I3t6BoCIlFIw'}\n",
            "[google/gemini-1.5-pro] error attempt 3: Error code: 400 - {'error': {'message': 'google/gemini-1.5-pro is not a valid model ID', 'code': 400}, 'user_id': 'user_34kLTCwLzW3rU64I3t6BoCIlFIw'}\n",
            "[google/gemini-1.5-pro] error attempt 1: Error code: 400 - {'error': {'message': 'google/gemini-1.5-pro is not a valid model ID', 'code': 400}, 'user_id': 'user_34kLTCwLzW3rU64I3t6BoCIlFIw'}\n",
            "[google/gemini-1.5-pro] error attempt 2: Error code: 400 - {'error': {'message': 'google/gemini-1.5-pro is not a valid model ID', 'code': 400}, 'user_id': 'user_34kLTCwLzW3rU64I3t6BoCIlFIw'}\n",
            "[google/gemini-1.5-pro] error attempt 3: Error code: 400 - {'error': {'message': 'google/gemini-1.5-pro is not a valid model ID', 'code': 400}, 'user_id': 'user_34kLTCwLzW3rU64I3t6BoCIlFIw'}\n"
          ]
        },
        {
          "output_type": "stream",
          "name": "stderr",
          "text": [
            "\rgoogle/gemini-1.5-pro:  99%|█████████▉| 119/120 [24:46<00:15, 15.36s/it]"
          ]
        },
        {
          "output_type": "stream",
          "name": "stdout",
          "text": [
            "[google/gemini-1.5-pro] error attempt 1: Error code: 400 - {'error': {'message': 'google/gemini-1.5-pro is not a valid model ID', 'code': 400}, 'user_id': 'user_34kLTCwLzW3rU64I3t6BoCIlFIw'}\n",
            "[google/gemini-1.5-pro] error attempt 2: Error code: 400 - {'error': {'message': 'google/gemini-1.5-pro is not a valid model ID', 'code': 400}, 'user_id': 'user_34kLTCwLzW3rU64I3t6BoCIlFIw'}\n",
            "[google/gemini-1.5-pro] error attempt 3: Error code: 400 - {'error': {'message': 'google/gemini-1.5-pro is not a valid model ID', 'code': 400}, 'user_id': 'user_34kLTCwLzW3rU64I3t6BoCIlFIw'}\n",
            "[google/gemini-1.5-pro] error attempt 1: Error code: 400 - {'error': {'message': 'google/gemini-1.5-pro is not a valid model ID', 'code': 400}, 'user_id': 'user_34kLTCwLzW3rU64I3t6BoCIlFIw'}\n",
            "[google/gemini-1.5-pro] error attempt 2: Error code: 400 - {'error': {'message': 'google/gemini-1.5-pro is not a valid model ID', 'code': 400}, 'user_id': 'user_34kLTCwLzW3rU64I3t6BoCIlFIw'}\n",
            "[google/gemini-1.5-pro] error attempt 3: Error code: 400 - {'error': {'message': 'google/gemini-1.5-pro is not a valid model ID', 'code': 400}, 'user_id': 'user_34kLTCwLzW3rU64I3t6BoCIlFIw'}\n"
          ]
        },
        {
          "output_type": "stream",
          "name": "stderr",
          "text": [
            "google/gemini-1.5-pro: 100%|██████████| 120/120 [24:58<00:00, 12.49s/it]\n"
          ]
        },
        {
          "output_type": "stream",
          "name": "stdout",
          "text": [
            "💾 Saved: results_google_gemini-1.5-pro.csv\n",
            "\n",
            "📊 google/gemini-1.5-pro\n",
            "  Accuracy : 0.000\n",
            "  CSR      : 0.000\n",
            "  ERS-Sim  : 0.000\n",
            "\n",
            "==============================\n",
            "🔥 Running model: meta/llama-3.1-70b-instruct\n",
            "==============================\n",
            "\n"
          ]
        },
        {
          "output_type": "stream",
          "name": "stderr",
          "text": [
            "\rmeta/llama-3.1-70b-instruct:   0%|          | 0/120 [00:00<?, ?it/s]"
          ]
        },
        {
          "output_type": "stream",
          "name": "stdout",
          "text": [
            "[meta/llama-3.1-70b-instruct] error attempt 1: Error code: 400 - {'error': {'message': 'meta/llama-3.1-70b-instruct is not a valid model ID', 'code': 400}, 'user_id': 'user_34kLTCwLzW3rU64I3t6BoCIlFIw'}\n",
            "[meta/llama-3.1-70b-instruct] error attempt 2: Error code: 400 - {'error': {'message': 'meta/llama-3.1-70b-instruct is not a valid model ID', 'code': 400}, 'user_id': 'user_34kLTCwLzW3rU64I3t6BoCIlFIw'}\n",
            "[meta/llama-3.1-70b-instruct] error attempt 3: Error code: 400 - {'error': {'message': 'meta/llama-3.1-70b-instruct is not a valid model ID', 'code': 400}, 'user_id': 'user_34kLTCwLzW3rU64I3t6BoCIlFIw'}\n",
            "[meta/llama-3.1-70b-instruct] error attempt 1: Error code: 400 - {'error': {'message': 'meta/llama-3.1-70b-instruct is not a valid model ID', 'code': 400}, 'user_id': 'user_34kLTCwLzW3rU64I3t6BoCIlFIw'}\n",
            "[meta/llama-3.1-70b-instruct] error attempt 2: Error code: 400 - {'error': {'message': 'meta/llama-3.1-70b-instruct is not a valid model ID', 'code': 400}, 'user_id': 'user_34kLTCwLzW3rU64I3t6BoCIlFIw'}\n",
            "[meta/llama-3.1-70b-instruct] error attempt 3: Error code: 400 - {'error': {'message': 'meta/llama-3.1-70b-instruct is not a valid model ID', 'code': 400}, 'user_id': 'user_34kLTCwLzW3rU64I3t6BoCIlFIw'}\n"
          ]
        },
        {
          "output_type": "stream",
          "name": "stderr",
          "text": [
            "\rmeta/llama-3.1-70b-instruct:   1%|          | 1/120 [00:12<25:15, 12.73s/it]"
          ]
        },
        {
          "output_type": "stream",
          "name": "stdout",
          "text": [
            "[meta/llama-3.1-70b-instruct] error attempt 1: Error code: 400 - {'error': {'message': 'meta/llama-3.1-70b-instruct is not a valid model ID', 'code': 400}, 'user_id': 'user_34kLTCwLzW3rU64I3t6BoCIlFIw'}\n",
            "[meta/llama-3.1-70b-instruct] error attempt 2: Error code: 400 - {'error': {'message': 'meta/llama-3.1-70b-instruct is not a valid model ID', 'code': 400}, 'user_id': 'user_34kLTCwLzW3rU64I3t6BoCIlFIw'}\n",
            "[meta/llama-3.1-70b-instruct] error attempt 3: Error code: 400 - {'error': {'message': 'meta/llama-3.1-70b-instruct is not a valid model ID', 'code': 400}, 'user_id': 'user_34kLTCwLzW3rU64I3t6BoCIlFIw'}\n",
            "[meta/llama-3.1-70b-instruct] error attempt 1: Error code: 400 - {'error': {'message': 'meta/llama-3.1-70b-instruct is not a valid model ID', 'code': 400}, 'user_id': 'user_34kLTCwLzW3rU64I3t6BoCIlFIw'}\n",
            "[meta/llama-3.1-70b-instruct] error attempt 2: Error code: 400 - {'error': {'message': 'meta/llama-3.1-70b-instruct is not a valid model ID', 'code': 400}, 'user_id': 'user_34kLTCwLzW3rU64I3t6BoCIlFIw'}\n",
            "[meta/llama-3.1-70b-instruct] error attempt 3: Error code: 400 - {'error': {'message': 'meta/llama-3.1-70b-instruct is not a valid model ID', 'code': 400}, 'user_id': 'user_34kLTCwLzW3rU64I3t6BoCIlFIw'}\n"
          ]
        },
        {
          "output_type": "stream",
          "name": "stderr",
          "text": [
            "\rmeta/llama-3.1-70b-instruct:   2%|▏         | 2/120 [00:25<24:36, 12.51s/it]"
          ]
        },
        {
          "output_type": "stream",
          "name": "stdout",
          "text": [
            "[meta/llama-3.1-70b-instruct] error attempt 1: Error code: 400 - {'error': {'message': 'meta/llama-3.1-70b-instruct is not a valid model ID', 'code': 400}, 'user_id': 'user_34kLTCwLzW3rU64I3t6BoCIlFIw'}\n",
            "[meta/llama-3.1-70b-instruct] error attempt 2: Error code: 400 - {'error': {'message': 'meta/llama-3.1-70b-instruct is not a valid model ID', 'code': 400}, 'user_id': 'user_34kLTCwLzW3rU64I3t6BoCIlFIw'}\n",
            "[meta/llama-3.1-70b-instruct] error attempt 3: Error code: 400 - {'error': {'message': 'meta/llama-3.1-70b-instruct is not a valid model ID', 'code': 400}, 'user_id': 'user_34kLTCwLzW3rU64I3t6BoCIlFIw'}\n",
            "[meta/llama-3.1-70b-instruct] error attempt 1: Error code: 400 - {'error': {'message': 'meta/llama-3.1-70b-instruct is not a valid model ID', 'code': 400}, 'user_id': 'user_34kLTCwLzW3rU64I3t6BoCIlFIw'}\n",
            "[meta/llama-3.1-70b-instruct] error attempt 2: Error code: 400 - {'error': {'message': 'meta/llama-3.1-70b-instruct is not a valid model ID', 'code': 400}, 'user_id': 'user_34kLTCwLzW3rU64I3t6BoCIlFIw'}\n",
            "[meta/llama-3.1-70b-instruct] error attempt 3: Error code: 400 - {'error': {'message': 'meta/llama-3.1-70b-instruct is not a valid model ID', 'code': 400}, 'user_id': 'user_34kLTCwLzW3rU64I3t6BoCIlFIw'}\n"
          ]
        },
        {
          "output_type": "stream",
          "name": "stderr",
          "text": [
            "\rmeta/llama-3.1-70b-instruct:   2%|▎         | 3/120 [00:37<24:16, 12.45s/it]"
          ]
        },
        {
          "output_type": "stream",
          "name": "stdout",
          "text": [
            "[meta/llama-3.1-70b-instruct] error attempt 1: Error code: 400 - {'error': {'message': 'meta/llama-3.1-70b-instruct is not a valid model ID', 'code': 400}, 'user_id': 'user_34kLTCwLzW3rU64I3t6BoCIlFIw'}\n",
            "[meta/llama-3.1-70b-instruct] error attempt 2: Error code: 400 - {'error': {'message': 'meta/llama-3.1-70b-instruct is not a valid model ID', 'code': 400}, 'user_id': 'user_34kLTCwLzW3rU64I3t6BoCIlFIw'}\n",
            "[meta/llama-3.1-70b-instruct] error attempt 3: Error code: 400 - {'error': {'message': 'meta/llama-3.1-70b-instruct is not a valid model ID', 'code': 400}, 'user_id': 'user_34kLTCwLzW3rU64I3t6BoCIlFIw'}\n",
            "[meta/llama-3.1-70b-instruct] error attempt 1: Error code: 400 - {'error': {'message': 'meta/llama-3.1-70b-instruct is not a valid model ID', 'code': 400}, 'user_id': 'user_34kLTCwLzW3rU64I3t6BoCIlFIw'}\n",
            "[meta/llama-3.1-70b-instruct] error attempt 2: Error code: 400 - {'error': {'message': 'meta/llama-3.1-70b-instruct is not a valid model ID', 'code': 400}, 'user_id': 'user_34kLTCwLzW3rU64I3t6BoCIlFIw'}\n",
            "[meta/llama-3.1-70b-instruct] error attempt 3: Error code: 400 - {'error': {'message': 'meta/llama-3.1-70b-instruct is not a valid model ID', 'code': 400}, 'user_id': 'user_34kLTCwLzW3rU64I3t6BoCIlFIw'}\n"
          ]
        },
        {
          "output_type": "stream",
          "name": "stderr",
          "text": [
            "\rmeta/llama-3.1-70b-instruct:   3%|▎         | 4/120 [00:50<24:19, 12.58s/it]"
          ]
        },
        {
          "output_type": "stream",
          "name": "stdout",
          "text": [
            "[meta/llama-3.1-70b-instruct] error attempt 1: Error code: 400 - {'error': {'message': 'meta/llama-3.1-70b-instruct is not a valid model ID', 'code': 400}, 'user_id': 'user_34kLTCwLzW3rU64I3t6BoCIlFIw'}\n",
            "[meta/llama-3.1-70b-instruct] error attempt 2: Error code: 400 - {'error': {'message': 'meta/llama-3.1-70b-instruct is not a valid model ID', 'code': 400}, 'user_id': 'user_34kLTCwLzW3rU64I3t6BoCIlFIw'}\n",
            "[meta/llama-3.1-70b-instruct] error attempt 3: Error code: 400 - {'error': {'message': 'meta/llama-3.1-70b-instruct is not a valid model ID', 'code': 400}, 'user_id': 'user_34kLTCwLzW3rU64I3t6BoCIlFIw'}\n",
            "[meta/llama-3.1-70b-instruct] error attempt 1: Error code: 400 - {'error': {'message': 'meta/llama-3.1-70b-instruct is not a valid model ID', 'code': 400}, 'user_id': 'user_34kLTCwLzW3rU64I3t6BoCIlFIw'}\n",
            "[meta/llama-3.1-70b-instruct] error attempt 2: Error code: 400 - {'error': {'message': 'meta/llama-3.1-70b-instruct is not a valid model ID', 'code': 400}, 'user_id': 'user_34kLTCwLzW3rU64I3t6BoCIlFIw'}\n",
            "[meta/llama-3.1-70b-instruct] error attempt 3: Error code: 400 - {'error': {'message': 'meta/llama-3.1-70b-instruct is not a valid model ID', 'code': 400}, 'user_id': 'user_34kLTCwLzW3rU64I3t6BoCIlFIw'}\n"
          ]
        },
        {
          "output_type": "stream",
          "name": "stderr",
          "text": [
            "\rmeta/llama-3.1-70b-instruct:   4%|▍         | 5/120 [01:02<24:00, 12.52s/it]"
          ]
        },
        {
          "output_type": "stream",
          "name": "stdout",
          "text": [
            "[meta/llama-3.1-70b-instruct] error attempt 1: Error code: 400 - {'error': {'message': 'meta/llama-3.1-70b-instruct is not a valid model ID', 'code': 400}, 'user_id': 'user_34kLTCwLzW3rU64I3t6BoCIlFIw'}\n",
            "[meta/llama-3.1-70b-instruct] error attempt 2: Error code: 400 - {'error': {'message': 'meta/llama-3.1-70b-instruct is not a valid model ID', 'code': 400}, 'user_id': 'user_34kLTCwLzW3rU64I3t6BoCIlFIw'}\n",
            "[meta/llama-3.1-70b-instruct] error attempt 3: Error code: 400 - {'error': {'message': 'meta/llama-3.1-70b-instruct is not a valid model ID', 'code': 400}, 'user_id': 'user_34kLTCwLzW3rU64I3t6BoCIlFIw'}\n",
            "[meta/llama-3.1-70b-instruct] error attempt 1: Error code: 400 - {'error': {'message': 'meta/llama-3.1-70b-instruct is not a valid model ID', 'code': 400}, 'user_id': 'user_34kLTCwLzW3rU64I3t6BoCIlFIw'}\n",
            "[meta/llama-3.1-70b-instruct] error attempt 2: Error code: 400 - {'error': {'message': 'meta/llama-3.1-70b-instruct is not a valid model ID', 'code': 400}, 'user_id': 'user_34kLTCwLzW3rU64I3t6BoCIlFIw'}\n",
            "[meta/llama-3.1-70b-instruct] error attempt 3: Error code: 400 - {'error': {'message': 'meta/llama-3.1-70b-instruct is not a valid model ID', 'code': 400}, 'user_id': 'user_34kLTCwLzW3rU64I3t6BoCIlFIw'}\n"
          ]
        },
        {
          "output_type": "stream",
          "name": "stderr",
          "text": [
            "\rmeta/llama-3.1-70b-instruct:   5%|▌         | 6/120 [01:14<23:38, 12.44s/it]"
          ]
        },
        {
          "output_type": "stream",
          "name": "stdout",
          "text": [
            "[meta/llama-3.1-70b-instruct] error attempt 1: Error code: 400 - {'error': {'message': 'meta/llama-3.1-70b-instruct is not a valid model ID', 'code': 400}, 'user_id': 'user_34kLTCwLzW3rU64I3t6BoCIlFIw'}\n",
            "[meta/llama-3.1-70b-instruct] error attempt 2: Error code: 400 - {'error': {'message': 'meta/llama-3.1-70b-instruct is not a valid model ID', 'code': 400}, 'user_id': 'user_34kLTCwLzW3rU64I3t6BoCIlFIw'}\n",
            "[meta/llama-3.1-70b-instruct] error attempt 3: Error code: 400 - {'error': {'message': 'meta/llama-3.1-70b-instruct is not a valid model ID', 'code': 400}, 'user_id': 'user_34kLTCwLzW3rU64I3t6BoCIlFIw'}\n",
            "[meta/llama-3.1-70b-instruct] error attempt 1: Error code: 400 - {'error': {'message': 'meta/llama-3.1-70b-instruct is not a valid model ID', 'code': 400}, 'user_id': 'user_34kLTCwLzW3rU64I3t6BoCIlFIw'}\n",
            "[meta/llama-3.1-70b-instruct] error attempt 2: Error code: 400 - {'error': {'message': 'meta/llama-3.1-70b-instruct is not a valid model ID', 'code': 400}, 'user_id': 'user_34kLTCwLzW3rU64I3t6BoCIlFIw'}\n",
            "[meta/llama-3.1-70b-instruct] error attempt 3: Error code: 400 - {'error': {'message': 'meta/llama-3.1-70b-instruct is not a valid model ID', 'code': 400}, 'user_id': 'user_34kLTCwLzW3rU64I3t6BoCIlFIw'}\n"
          ]
        },
        {
          "output_type": "stream",
          "name": "stderr",
          "text": [
            "\rmeta/llama-3.1-70b-instruct:   6%|▌         | 7/120 [01:27<23:21, 12.40s/it]"
          ]
        },
        {
          "output_type": "stream",
          "name": "stdout",
          "text": [
            "[meta/llama-3.1-70b-instruct] error attempt 1: Error code: 400 - {'error': {'message': 'meta/llama-3.1-70b-instruct is not a valid model ID', 'code': 400}, 'user_id': 'user_34kLTCwLzW3rU64I3t6BoCIlFIw'}\n",
            "[meta/llama-3.1-70b-instruct] error attempt 2: Error code: 400 - {'error': {'message': 'meta/llama-3.1-70b-instruct is not a valid model ID', 'code': 400}, 'user_id': 'user_34kLTCwLzW3rU64I3t6BoCIlFIw'}\n",
            "[meta/llama-3.1-70b-instruct] error attempt 3: Error code: 400 - {'error': {'message': 'meta/llama-3.1-70b-instruct is not a valid model ID', 'code': 400}, 'user_id': 'user_34kLTCwLzW3rU64I3t6BoCIlFIw'}\n",
            "[meta/llama-3.1-70b-instruct] error attempt 1: Error code: 400 - {'error': {'message': 'meta/llama-3.1-70b-instruct is not a valid model ID', 'code': 400}, 'user_id': 'user_34kLTCwLzW3rU64I3t6BoCIlFIw'}\n",
            "[meta/llama-3.1-70b-instruct] error attempt 2: Error code: 400 - {'error': {'message': 'meta/llama-3.1-70b-instruct is not a valid model ID', 'code': 400}, 'user_id': 'user_34kLTCwLzW3rU64I3t6BoCIlFIw'}\n",
            "[meta/llama-3.1-70b-instruct] error attempt 3: Error code: 400 - {'error': {'message': 'meta/llama-3.1-70b-instruct is not a valid model ID', 'code': 400}, 'user_id': 'user_34kLTCwLzW3rU64I3t6BoCIlFIw'}\n"
          ]
        },
        {
          "output_type": "stream",
          "name": "stderr",
          "text": [
            "\rmeta/llama-3.1-70b-instruct:   7%|▋         | 8/120 [01:39<23:07, 12.39s/it]"
          ]
        },
        {
          "output_type": "stream",
          "name": "stdout",
          "text": [
            "[meta/llama-3.1-70b-instruct] error attempt 1: Error code: 400 - {'error': {'message': 'meta/llama-3.1-70b-instruct is not a valid model ID', 'code': 400}, 'user_id': 'user_34kLTCwLzW3rU64I3t6BoCIlFIw'}\n",
            "[meta/llama-3.1-70b-instruct] error attempt 2: Error code: 400 - {'error': {'message': 'meta/llama-3.1-70b-instruct is not a valid model ID', 'code': 400}, 'user_id': 'user_34kLTCwLzW3rU64I3t6BoCIlFIw'}\n",
            "[meta/llama-3.1-70b-instruct] error attempt 3: Error code: 400 - {'error': {'message': 'meta/llama-3.1-70b-instruct is not a valid model ID', 'code': 400}, 'user_id': 'user_34kLTCwLzW3rU64I3t6BoCIlFIw'}\n",
            "[meta/llama-3.1-70b-instruct] error attempt 1: Error code: 400 - {'error': {'message': 'meta/llama-3.1-70b-instruct is not a valid model ID', 'code': 400}, 'user_id': 'user_34kLTCwLzW3rU64I3t6BoCIlFIw'}\n",
            "[meta/llama-3.1-70b-instruct] error attempt 2: Error code: 400 - {'error': {'message': 'meta/llama-3.1-70b-instruct is not a valid model ID', 'code': 400}, 'user_id': 'user_34kLTCwLzW3rU64I3t6BoCIlFIw'}\n",
            "[meta/llama-3.1-70b-instruct] error attempt 3: Error code: 400 - {'error': {'message': 'meta/llama-3.1-70b-instruct is not a valid model ID', 'code': 400}, 'user_id': 'user_34kLTCwLzW3rU64I3t6BoCIlFIw'}\n"
          ]
        },
        {
          "output_type": "stream",
          "name": "stderr",
          "text": [
            "\rmeta/llama-3.1-70b-instruct:   8%|▊         | 9/120 [01:52<22:55, 12.39s/it]"
          ]
        },
        {
          "output_type": "stream",
          "name": "stdout",
          "text": [
            "[meta/llama-3.1-70b-instruct] error attempt 1: Error code: 400 - {'error': {'message': 'meta/llama-3.1-70b-instruct is not a valid model ID', 'code': 400}, 'user_id': 'user_34kLTCwLzW3rU64I3t6BoCIlFIw'}\n",
            "[meta/llama-3.1-70b-instruct] error attempt 2: Error code: 400 - {'error': {'message': 'meta/llama-3.1-70b-instruct is not a valid model ID', 'code': 400}, 'user_id': 'user_34kLTCwLzW3rU64I3t6BoCIlFIw'}\n",
            "[meta/llama-3.1-70b-instruct] error attempt 3: Error code: 400 - {'error': {'message': 'meta/llama-3.1-70b-instruct is not a valid model ID', 'code': 400}, 'user_id': 'user_34kLTCwLzW3rU64I3t6BoCIlFIw'}\n",
            "[meta/llama-3.1-70b-instruct] error attempt 1: Error code: 400 - {'error': {'message': 'meta/llama-3.1-70b-instruct is not a valid model ID', 'code': 400}, 'user_id': 'user_34kLTCwLzW3rU64I3t6BoCIlFIw'}\n",
            "[meta/llama-3.1-70b-instruct] error attempt 2: Error code: 400 - {'error': {'message': 'meta/llama-3.1-70b-instruct is not a valid model ID', 'code': 400}, 'user_id': 'user_34kLTCwLzW3rU64I3t6BoCIlFIw'}\n",
            "[meta/llama-3.1-70b-instruct] error attempt 3: Error code: 400 - {'error': {'message': 'meta/llama-3.1-70b-instruct is not a valid model ID', 'code': 400}, 'user_id': 'user_34kLTCwLzW3rU64I3t6BoCIlFIw'}\n"
          ]
        },
        {
          "output_type": "stream",
          "name": "stderr",
          "text": [
            "\rmeta/llama-3.1-70b-instruct:   8%|▊         | 10/120 [02:04<22:38, 12.35s/it]"
          ]
        },
        {
          "output_type": "stream",
          "name": "stdout",
          "text": [
            "[meta/llama-3.1-70b-instruct] error attempt 1: Error code: 400 - {'error': {'message': 'meta/llama-3.1-70b-instruct is not a valid model ID', 'code': 400}, 'user_id': 'user_34kLTCwLzW3rU64I3t6BoCIlFIw'}\n",
            "[meta/llama-3.1-70b-instruct] error attempt 2: Error code: 400 - {'error': {'message': 'meta/llama-3.1-70b-instruct is not a valid model ID', 'code': 400}, 'user_id': 'user_34kLTCwLzW3rU64I3t6BoCIlFIw'}\n",
            "[meta/llama-3.1-70b-instruct] error attempt 3: Error code: 400 - {'error': {'message': 'meta/llama-3.1-70b-instruct is not a valid model ID', 'code': 400}, 'user_id': 'user_34kLTCwLzW3rU64I3t6BoCIlFIw'}\n",
            "[meta/llama-3.1-70b-instruct] error attempt 1: Error code: 400 - {'error': {'message': 'meta/llama-3.1-70b-instruct is not a valid model ID', 'code': 400}, 'user_id': 'user_34kLTCwLzW3rU64I3t6BoCIlFIw'}\n",
            "[meta/llama-3.1-70b-instruct] error attempt 2: Error code: 400 - {'error': {'message': 'meta/llama-3.1-70b-instruct is not a valid model ID', 'code': 400}, 'user_id': 'user_34kLTCwLzW3rU64I3t6BoCIlFIw'}\n",
            "[meta/llama-3.1-70b-instruct] error attempt 3: Error code: 400 - {'error': {'message': 'meta/llama-3.1-70b-instruct is not a valid model ID', 'code': 400}, 'user_id': 'user_34kLTCwLzW3rU64I3t6BoCIlFIw'}\n"
          ]
        },
        {
          "output_type": "stream",
          "name": "stderr",
          "text": [
            "\rmeta/llama-3.1-70b-instruct:   9%|▉         | 11/120 [02:16<22:33, 12.41s/it]"
          ]
        },
        {
          "output_type": "stream",
          "name": "stdout",
          "text": [
            "[meta/llama-3.1-70b-instruct] error attempt 1: Error code: 400 - {'error': {'message': 'meta/llama-3.1-70b-instruct is not a valid model ID', 'code': 400}, 'user_id': 'user_34kLTCwLzW3rU64I3t6BoCIlFIw'}\n",
            "[meta/llama-3.1-70b-instruct] error attempt 2: Error code: 400 - {'error': {'message': 'meta/llama-3.1-70b-instruct is not a valid model ID', 'code': 400}, 'user_id': 'user_34kLTCwLzW3rU64I3t6BoCIlFIw'}\n",
            "[meta/llama-3.1-70b-instruct] error attempt 3: Error code: 400 - {'error': {'message': 'meta/llama-3.1-70b-instruct is not a valid model ID', 'code': 400}, 'user_id': 'user_34kLTCwLzW3rU64I3t6BoCIlFIw'}\n",
            "[meta/llama-3.1-70b-instruct] error attempt 1: Error code: 400 - {'error': {'message': 'meta/llama-3.1-70b-instruct is not a valid model ID', 'code': 400}, 'user_id': 'user_34kLTCwLzW3rU64I3t6BoCIlFIw'}\n",
            "[meta/llama-3.1-70b-instruct] error attempt 2: Error code: 400 - {'error': {'message': 'meta/llama-3.1-70b-instruct is not a valid model ID', 'code': 400}, 'user_id': 'user_34kLTCwLzW3rU64I3t6BoCIlFIw'}\n",
            "[meta/llama-3.1-70b-instruct] error attempt 3: Error code: 400 - {'error': {'message': 'meta/llama-3.1-70b-instruct is not a valid model ID', 'code': 400}, 'user_id': 'user_34kLTCwLzW3rU64I3t6BoCIlFIw'}\n"
          ]
        },
        {
          "output_type": "stream",
          "name": "stderr",
          "text": [
            "\rmeta/llama-3.1-70b-instruct:  10%|█         | 12/120 [02:29<22:21, 12.42s/it]"
          ]
        },
        {
          "output_type": "stream",
          "name": "stdout",
          "text": [
            "[meta/llama-3.1-70b-instruct] error attempt 1: Error code: 400 - {'error': {'message': 'meta/llama-3.1-70b-instruct is not a valid model ID', 'code': 400}, 'user_id': 'user_34kLTCwLzW3rU64I3t6BoCIlFIw'}\n",
            "[meta/llama-3.1-70b-instruct] error attempt 2: Error code: 400 - {'error': {'message': 'meta/llama-3.1-70b-instruct is not a valid model ID', 'code': 400}, 'user_id': 'user_34kLTCwLzW3rU64I3t6BoCIlFIw'}\n",
            "[meta/llama-3.1-70b-instruct] error attempt 3: Error code: 400 - {'error': {'message': 'meta/llama-3.1-70b-instruct is not a valid model ID', 'code': 400}, 'user_id': 'user_34kLTCwLzW3rU64I3t6BoCIlFIw'}\n",
            "[meta/llama-3.1-70b-instruct] error attempt 1: Error code: 400 - {'error': {'message': 'meta/llama-3.1-70b-instruct is not a valid model ID', 'code': 400}, 'user_id': 'user_34kLTCwLzW3rU64I3t6BoCIlFIw'}\n",
            "[meta/llama-3.1-70b-instruct] error attempt 2: Error code: 400 - {'error': {'message': 'meta/llama-3.1-70b-instruct is not a valid model ID', 'code': 400}, 'user_id': 'user_34kLTCwLzW3rU64I3t6BoCIlFIw'}\n",
            "[meta/llama-3.1-70b-instruct] error attempt 3: Error code: 400 - {'error': {'message': 'meta/llama-3.1-70b-instruct is not a valid model ID', 'code': 400}, 'user_id': 'user_34kLTCwLzW3rU64I3t6BoCIlFIw'}\n"
          ]
        },
        {
          "output_type": "stream",
          "name": "stderr",
          "text": [
            "\rmeta/llama-3.1-70b-instruct:  11%|█         | 13/120 [02:41<22:12, 12.45s/it]"
          ]
        },
        {
          "output_type": "stream",
          "name": "stdout",
          "text": [
            "[meta/llama-3.1-70b-instruct] error attempt 1: Error code: 400 - {'error': {'message': 'meta/llama-3.1-70b-instruct is not a valid model ID', 'code': 400}, 'user_id': 'user_34kLTCwLzW3rU64I3t6BoCIlFIw'}\n",
            "[meta/llama-3.1-70b-instruct] error attempt 2: Error code: 400 - {'error': {'message': 'meta/llama-3.1-70b-instruct is not a valid model ID', 'code': 400}, 'user_id': 'user_34kLTCwLzW3rU64I3t6BoCIlFIw'}\n",
            "[meta/llama-3.1-70b-instruct] error attempt 3: Error code: 400 - {'error': {'message': 'meta/llama-3.1-70b-instruct is not a valid model ID', 'code': 400}, 'user_id': 'user_34kLTCwLzW3rU64I3t6BoCIlFIw'}\n",
            "[meta/llama-3.1-70b-instruct] error attempt 1: Error code: 400 - {'error': {'message': 'meta/llama-3.1-70b-instruct is not a valid model ID', 'code': 400}, 'user_id': 'user_34kLTCwLzW3rU64I3t6BoCIlFIw'}\n",
            "[meta/llama-3.1-70b-instruct] error attempt 2: Error code: 400 - {'error': {'message': 'meta/llama-3.1-70b-instruct is not a valid model ID', 'code': 400}, 'user_id': 'user_34kLTCwLzW3rU64I3t6BoCIlFIw'}\n",
            "[meta/llama-3.1-70b-instruct] error attempt 3: Error code: 400 - {'error': {'message': 'meta/llama-3.1-70b-instruct is not a valid model ID', 'code': 400}, 'user_id': 'user_34kLTCwLzW3rU64I3t6BoCIlFIw'}\n"
          ]
        },
        {
          "output_type": "stream",
          "name": "stderr",
          "text": [
            "\rmeta/llama-3.1-70b-instruct:  12%|█▏        | 14/120 [02:54<21:55, 12.41s/it]"
          ]
        },
        {
          "output_type": "stream",
          "name": "stdout",
          "text": [
            "[meta/llama-3.1-70b-instruct] error attempt 1: Error code: 400 - {'error': {'message': 'meta/llama-3.1-70b-instruct is not a valid model ID', 'code': 400}, 'user_id': 'user_34kLTCwLzW3rU64I3t6BoCIlFIw'}\n",
            "[meta/llama-3.1-70b-instruct] error attempt 2: Error code: 400 - {'error': {'message': 'meta/llama-3.1-70b-instruct is not a valid model ID', 'code': 400}, 'user_id': 'user_34kLTCwLzW3rU64I3t6BoCIlFIw'}\n",
            "[meta/llama-3.1-70b-instruct] error attempt 3: Error code: 400 - {'error': {'message': 'meta/llama-3.1-70b-instruct is not a valid model ID', 'code': 400}, 'user_id': 'user_34kLTCwLzW3rU64I3t6BoCIlFIw'}\n",
            "[meta/llama-3.1-70b-instruct] error attempt 1: Error code: 400 - {'error': {'message': 'meta/llama-3.1-70b-instruct is not a valid model ID', 'code': 400}, 'user_id': 'user_34kLTCwLzW3rU64I3t6BoCIlFIw'}\n",
            "[meta/llama-3.1-70b-instruct] error attempt 2: Error code: 400 - {'error': {'message': 'meta/llama-3.1-70b-instruct is not a valid model ID', 'code': 400}, 'user_id': 'user_34kLTCwLzW3rU64I3t6BoCIlFIw'}\n",
            "[meta/llama-3.1-70b-instruct] error attempt 3: Error code: 400 - {'error': {'message': 'meta/llama-3.1-70b-instruct is not a valid model ID', 'code': 400}, 'user_id': 'user_34kLTCwLzW3rU64I3t6BoCIlFIw'}\n"
          ]
        },
        {
          "output_type": "stream",
          "name": "stderr",
          "text": [
            "\rmeta/llama-3.1-70b-instruct:  12%|█▎        | 15/120 [03:06<21:40, 12.38s/it]"
          ]
        },
        {
          "output_type": "stream",
          "name": "stdout",
          "text": [
            "[meta/llama-3.1-70b-instruct] error attempt 1: Error code: 400 - {'error': {'message': 'meta/llama-3.1-70b-instruct is not a valid model ID', 'code': 400}, 'user_id': 'user_34kLTCwLzW3rU64I3t6BoCIlFIw'}\n",
            "[meta/llama-3.1-70b-instruct] error attempt 2: Error code: 400 - {'error': {'message': 'meta/llama-3.1-70b-instruct is not a valid model ID', 'code': 400}, 'user_id': 'user_34kLTCwLzW3rU64I3t6BoCIlFIw'}\n",
            "[meta/llama-3.1-70b-instruct] error attempt 3: Error code: 400 - {'error': {'message': 'meta/llama-3.1-70b-instruct is not a valid model ID', 'code': 400}, 'user_id': 'user_34kLTCwLzW3rU64I3t6BoCIlFIw'}\n",
            "[meta/llama-3.1-70b-instruct] error attempt 1: Error code: 400 - {'error': {'message': 'meta/llama-3.1-70b-instruct is not a valid model ID', 'code': 400}, 'user_id': 'user_34kLTCwLzW3rU64I3t6BoCIlFIw'}\n",
            "[meta/llama-3.1-70b-instruct] error attempt 2: Error code: 400 - {'error': {'message': 'meta/llama-3.1-70b-instruct is not a valid model ID', 'code': 400}, 'user_id': 'user_34kLTCwLzW3rU64I3t6BoCIlFIw'}\n",
            "[meta/llama-3.1-70b-instruct] error attempt 3: Error code: 400 - {'error': {'message': 'meta/llama-3.1-70b-instruct is not a valid model ID', 'code': 400}, 'user_id': 'user_34kLTCwLzW3rU64I3t6BoCIlFIw'}\n"
          ]
        },
        {
          "output_type": "stream",
          "name": "stderr",
          "text": [
            "\rmeta/llama-3.1-70b-instruct:  13%|█▎        | 16/120 [03:18<21:27, 12.38s/it]"
          ]
        },
        {
          "output_type": "stream",
          "name": "stdout",
          "text": [
            "[meta/llama-3.1-70b-instruct] error attempt 1: Error code: 400 - {'error': {'message': 'meta/llama-3.1-70b-instruct is not a valid model ID', 'code': 400}, 'user_id': 'user_34kLTCwLzW3rU64I3t6BoCIlFIw'}\n",
            "[meta/llama-3.1-70b-instruct] error attempt 2: Error code: 400 - {'error': {'message': 'meta/llama-3.1-70b-instruct is not a valid model ID', 'code': 400}, 'user_id': 'user_34kLTCwLzW3rU64I3t6BoCIlFIw'}\n",
            "[meta/llama-3.1-70b-instruct] error attempt 3: Error code: 400 - {'error': {'message': 'meta/llama-3.1-70b-instruct is not a valid model ID', 'code': 400}, 'user_id': 'user_34kLTCwLzW3rU64I3t6BoCIlFIw'}\n",
            "[meta/llama-3.1-70b-instruct] error attempt 1: Error code: 400 - {'error': {'message': 'meta/llama-3.1-70b-instruct is not a valid model ID', 'code': 400}, 'user_id': 'user_34kLTCwLzW3rU64I3t6BoCIlFIw'}\n",
            "[meta/llama-3.1-70b-instruct] error attempt 2: Error code: 400 - {'error': {'message': 'meta/llama-3.1-70b-instruct is not a valid model ID', 'code': 400}, 'user_id': 'user_34kLTCwLzW3rU64I3t6BoCIlFIw'}\n",
            "[meta/llama-3.1-70b-instruct] error attempt 3: Error code: 400 - {'error': {'message': 'meta/llama-3.1-70b-instruct is not a valid model ID', 'code': 400}, 'user_id': 'user_34kLTCwLzW3rU64I3t6BoCIlFIw'}\n"
          ]
        },
        {
          "output_type": "stream",
          "name": "stderr",
          "text": [
            "\rmeta/llama-3.1-70b-instruct:  14%|█▍        | 17/120 [03:31<21:13, 12.36s/it]"
          ]
        },
        {
          "output_type": "stream",
          "name": "stdout",
          "text": [
            "[meta/llama-3.1-70b-instruct] error attempt 1: Error code: 400 - {'error': {'message': 'meta/llama-3.1-70b-instruct is not a valid model ID', 'code': 400}, 'user_id': 'user_34kLTCwLzW3rU64I3t6BoCIlFIw'}\n",
            "[meta/llama-3.1-70b-instruct] error attempt 2: Error code: 400 - {'error': {'message': 'meta/llama-3.1-70b-instruct is not a valid model ID', 'code': 400}, 'user_id': 'user_34kLTCwLzW3rU64I3t6BoCIlFIw'}\n",
            "[meta/llama-3.1-70b-instruct] error attempt 3: Error code: 400 - {'error': {'message': 'meta/llama-3.1-70b-instruct is not a valid model ID', 'code': 400}, 'user_id': 'user_34kLTCwLzW3rU64I3t6BoCIlFIw'}\n",
            "[meta/llama-3.1-70b-instruct] error attempt 1: Error code: 400 - {'error': {'message': 'meta/llama-3.1-70b-instruct is not a valid model ID', 'code': 400}, 'user_id': 'user_34kLTCwLzW3rU64I3t6BoCIlFIw'}\n",
            "[meta/llama-3.1-70b-instruct] error attempt 2: Error code: 400 - {'error': {'message': 'meta/llama-3.1-70b-instruct is not a valid model ID', 'code': 400}, 'user_id': 'user_34kLTCwLzW3rU64I3t6BoCIlFIw'}\n",
            "[meta/llama-3.1-70b-instruct] error attempt 3: Error code: 400 - {'error': {'message': 'meta/llama-3.1-70b-instruct is not a valid model ID', 'code': 400}, 'user_id': 'user_34kLTCwLzW3rU64I3t6BoCIlFIw'}\n"
          ]
        },
        {
          "output_type": "stream",
          "name": "stderr",
          "text": [
            "\rmeta/llama-3.1-70b-instruct:  15%|█▌        | 18/120 [03:43<20:59, 12.35s/it]"
          ]
        },
        {
          "output_type": "stream",
          "name": "stdout",
          "text": [
            "[meta/llama-3.1-70b-instruct] error attempt 1: Error code: 400 - {'error': {'message': 'meta/llama-3.1-70b-instruct is not a valid model ID', 'code': 400}, 'user_id': 'user_34kLTCwLzW3rU64I3t6BoCIlFIw'}\n",
            "[meta/llama-3.1-70b-instruct] error attempt 2: Error code: 400 - {'error': {'message': 'meta/llama-3.1-70b-instruct is not a valid model ID', 'code': 400}, 'user_id': 'user_34kLTCwLzW3rU64I3t6BoCIlFIw'}\n",
            "[meta/llama-3.1-70b-instruct] error attempt 3: Error code: 400 - {'error': {'message': 'meta/llama-3.1-70b-instruct is not a valid model ID', 'code': 400}, 'user_id': 'user_34kLTCwLzW3rU64I3t6BoCIlFIw'}\n",
            "[meta/llama-3.1-70b-instruct] error attempt 1: Error code: 400 - {'error': {'message': 'meta/llama-3.1-70b-instruct is not a valid model ID', 'code': 400}, 'user_id': 'user_34kLTCwLzW3rU64I3t6BoCIlFIw'}\n",
            "[meta/llama-3.1-70b-instruct] error attempt 2: Error code: 400 - {'error': {'message': 'meta/llama-3.1-70b-instruct is not a valid model ID', 'code': 400}, 'user_id': 'user_34kLTCwLzW3rU64I3t6BoCIlFIw'}\n",
            "[meta/llama-3.1-70b-instruct] error attempt 3: Error code: 400 - {'error': {'message': 'meta/llama-3.1-70b-instruct is not a valid model ID', 'code': 400}, 'user_id': 'user_34kLTCwLzW3rU64I3t6BoCIlFIw'}\n"
          ]
        },
        {
          "output_type": "stream",
          "name": "stderr",
          "text": [
            "\rmeta/llama-3.1-70b-instruct:  16%|█▌        | 19/120 [03:55<20:46, 12.34s/it]"
          ]
        },
        {
          "output_type": "stream",
          "name": "stdout",
          "text": [
            "[meta/llama-3.1-70b-instruct] error attempt 1: Error code: 400 - {'error': {'message': 'meta/llama-3.1-70b-instruct is not a valid model ID', 'code': 400}, 'user_id': 'user_34kLTCwLzW3rU64I3t6BoCIlFIw'}\n",
            "[meta/llama-3.1-70b-instruct] error attempt 2: Error code: 400 - {'error': {'message': 'meta/llama-3.1-70b-instruct is not a valid model ID', 'code': 400}, 'user_id': 'user_34kLTCwLzW3rU64I3t6BoCIlFIw'}\n",
            "[meta/llama-3.1-70b-instruct] error attempt 3: Error code: 400 - {'error': {'message': 'meta/llama-3.1-70b-instruct is not a valid model ID', 'code': 400}, 'user_id': 'user_34kLTCwLzW3rU64I3t6BoCIlFIw'}\n",
            "[meta/llama-3.1-70b-instruct] error attempt 1: Error code: 400 - {'error': {'message': 'meta/llama-3.1-70b-instruct is not a valid model ID', 'code': 400}, 'user_id': 'user_34kLTCwLzW3rU64I3t6BoCIlFIw'}\n",
            "[meta/llama-3.1-70b-instruct] error attempt 2: Error code: 400 - {'error': {'message': 'meta/llama-3.1-70b-instruct is not a valid model ID', 'code': 400}, 'user_id': 'user_34kLTCwLzW3rU64I3t6BoCIlFIw'}\n",
            "[meta/llama-3.1-70b-instruct] error attempt 3: Error code: 400 - {'error': {'message': 'meta/llama-3.1-70b-instruct is not a valid model ID', 'code': 400}, 'user_id': 'user_34kLTCwLzW3rU64I3t6BoCIlFIw'}\n"
          ]
        },
        {
          "output_type": "stream",
          "name": "stderr",
          "text": [
            "\rmeta/llama-3.1-70b-instruct:  17%|█▋        | 20/120 [04:08<20:35, 12.35s/it]"
          ]
        },
        {
          "output_type": "stream",
          "name": "stdout",
          "text": [
            "[meta/llama-3.1-70b-instruct] error attempt 1: Error code: 400 - {'error': {'message': 'meta/llama-3.1-70b-instruct is not a valid model ID', 'code': 400}, 'user_id': 'user_34kLTCwLzW3rU64I3t6BoCIlFIw'}\n",
            "[meta/llama-3.1-70b-instruct] error attempt 2: Error code: 400 - {'error': {'message': 'meta/llama-3.1-70b-instruct is not a valid model ID', 'code': 400}, 'user_id': 'user_34kLTCwLzW3rU64I3t6BoCIlFIw'}\n",
            "[meta/llama-3.1-70b-instruct] error attempt 3: Error code: 400 - {'error': {'message': 'meta/llama-3.1-70b-instruct is not a valid model ID', 'code': 400}, 'user_id': 'user_34kLTCwLzW3rU64I3t6BoCIlFIw'}\n",
            "[meta/llama-3.1-70b-instruct] error attempt 1: Error code: 400 - {'error': {'message': 'meta/llama-3.1-70b-instruct is not a valid model ID', 'code': 400}, 'user_id': 'user_34kLTCwLzW3rU64I3t6BoCIlFIw'}\n",
            "[meta/llama-3.1-70b-instruct] error attempt 2: Error code: 400 - {'error': {'message': 'meta/llama-3.1-70b-instruct is not a valid model ID', 'code': 400}, 'user_id': 'user_34kLTCwLzW3rU64I3t6BoCIlFIw'}\n",
            "[meta/llama-3.1-70b-instruct] error attempt 3: Error code: 400 - {'error': {'message': 'meta/llama-3.1-70b-instruct is not a valid model ID', 'code': 400}, 'user_id': 'user_34kLTCwLzW3rU64I3t6BoCIlFIw'}\n"
          ]
        },
        {
          "output_type": "stream",
          "name": "stderr",
          "text": [
            "\rmeta/llama-3.1-70b-instruct:  18%|█▊        | 21/120 [04:20<20:21, 12.34s/it]"
          ]
        },
        {
          "output_type": "stream",
          "name": "stdout",
          "text": [
            "[meta/llama-3.1-70b-instruct] error attempt 1: Error code: 400 - {'error': {'message': 'meta/llama-3.1-70b-instruct is not a valid model ID', 'code': 400}, 'user_id': 'user_34kLTCwLzW3rU64I3t6BoCIlFIw'}\n",
            "[meta/llama-3.1-70b-instruct] error attempt 2: Error code: 400 - {'error': {'message': 'meta/llama-3.1-70b-instruct is not a valid model ID', 'code': 400}, 'user_id': 'user_34kLTCwLzW3rU64I3t6BoCIlFIw'}\n",
            "[meta/llama-3.1-70b-instruct] error attempt 3: Error code: 400 - {'error': {'message': 'meta/llama-3.1-70b-instruct is not a valid model ID', 'code': 400}, 'user_id': 'user_34kLTCwLzW3rU64I3t6BoCIlFIw'}\n",
            "[meta/llama-3.1-70b-instruct] error attempt 1: Error code: 400 - {'error': {'message': 'meta/llama-3.1-70b-instruct is not a valid model ID', 'code': 400}, 'user_id': 'user_34kLTCwLzW3rU64I3t6BoCIlFIw'}\n",
            "[meta/llama-3.1-70b-instruct] error attempt 2: Error code: 400 - {'error': {'message': 'meta/llama-3.1-70b-instruct is not a valid model ID', 'code': 400}, 'user_id': 'user_34kLTCwLzW3rU64I3t6BoCIlFIw'}\n",
            "[meta/llama-3.1-70b-instruct] error attempt 3: Error code: 400 - {'error': {'message': 'meta/llama-3.1-70b-instruct is not a valid model ID', 'code': 400}, 'user_id': 'user_34kLTCwLzW3rU64I3t6BoCIlFIw'}\n"
          ]
        },
        {
          "output_type": "stream",
          "name": "stderr",
          "text": [
            "\rmeta/llama-3.1-70b-instruct:  18%|█▊        | 22/120 [04:32<20:09, 12.35s/it]"
          ]
        },
        {
          "output_type": "stream",
          "name": "stdout",
          "text": [
            "[meta/llama-3.1-70b-instruct] error attempt 1: Error code: 400 - {'error': {'message': 'meta/llama-3.1-70b-instruct is not a valid model ID', 'code': 400}, 'user_id': 'user_34kLTCwLzW3rU64I3t6BoCIlFIw'}\n",
            "[meta/llama-3.1-70b-instruct] error attempt 2: Error code: 400 - {'error': {'message': 'meta/llama-3.1-70b-instruct is not a valid model ID', 'code': 400}, 'user_id': 'user_34kLTCwLzW3rU64I3t6BoCIlFIw'}\n",
            "[meta/llama-3.1-70b-instruct] error attempt 3: Error code: 400 - {'error': {'message': 'meta/llama-3.1-70b-instruct is not a valid model ID', 'code': 400}, 'user_id': 'user_34kLTCwLzW3rU64I3t6BoCIlFIw'}\n",
            "[meta/llama-3.1-70b-instruct] error attempt 1: Error code: 400 - {'error': {'message': 'meta/llama-3.1-70b-instruct is not a valid model ID', 'code': 400}, 'user_id': 'user_34kLTCwLzW3rU64I3t6BoCIlFIw'}\n",
            "[meta/llama-3.1-70b-instruct] error attempt 2: Error code: 400 - {'error': {'message': 'meta/llama-3.1-70b-instruct is not a valid model ID', 'code': 400}, 'user_id': 'user_34kLTCwLzW3rU64I3t6BoCIlFIw'}\n",
            "[meta/llama-3.1-70b-instruct] error attempt 3: Error code: 400 - {'error': {'message': 'meta/llama-3.1-70b-instruct is not a valid model ID', 'code': 400}, 'user_id': 'user_34kLTCwLzW3rU64I3t6BoCIlFIw'}\n"
          ]
        },
        {
          "output_type": "stream",
          "name": "stderr",
          "text": [
            "\rmeta/llama-3.1-70b-instruct:  19%|█▉        | 23/120 [04:45<19:57, 12.34s/it]"
          ]
        },
        {
          "output_type": "stream",
          "name": "stdout",
          "text": [
            "[meta/llama-3.1-70b-instruct] error attempt 1: Error code: 400 - {'error': {'message': 'meta/llama-3.1-70b-instruct is not a valid model ID', 'code': 400}, 'user_id': 'user_34kLTCwLzW3rU64I3t6BoCIlFIw'}\n",
            "[meta/llama-3.1-70b-instruct] error attempt 2: Error code: 400 - {'error': {'message': 'meta/llama-3.1-70b-instruct is not a valid model ID', 'code': 400}, 'user_id': 'user_34kLTCwLzW3rU64I3t6BoCIlFIw'}\n",
            "[meta/llama-3.1-70b-instruct] error attempt 3: Error code: 400 - {'error': {'message': 'meta/llama-3.1-70b-instruct is not a valid model ID', 'code': 400}, 'user_id': 'user_34kLTCwLzW3rU64I3t6BoCIlFIw'}\n",
            "[meta/llama-3.1-70b-instruct] error attempt 1: Error code: 400 - {'error': {'message': 'meta/llama-3.1-70b-instruct is not a valid model ID', 'code': 400}, 'user_id': 'user_34kLTCwLzW3rU64I3t6BoCIlFIw'}\n",
            "[meta/llama-3.1-70b-instruct] error attempt 2: Error code: 400 - {'error': {'message': 'meta/llama-3.1-70b-instruct is not a valid model ID', 'code': 400}, 'user_id': 'user_34kLTCwLzW3rU64I3t6BoCIlFIw'}\n",
            "[meta/llama-3.1-70b-instruct] error attempt 3: Error code: 400 - {'error': {'message': 'meta/llama-3.1-70b-instruct is not a valid model ID', 'code': 400}, 'user_id': 'user_34kLTCwLzW3rU64I3t6BoCIlFIw'}\n"
          ]
        },
        {
          "output_type": "stream",
          "name": "stderr",
          "text": [
            "\rmeta/llama-3.1-70b-instruct:  20%|██        | 24/120 [04:57<19:47, 12.36s/it]"
          ]
        },
        {
          "output_type": "stream",
          "name": "stdout",
          "text": [
            "[meta/llama-3.1-70b-instruct] error attempt 1: Error code: 400 - {'error': {'message': 'meta/llama-3.1-70b-instruct is not a valid model ID', 'code': 400}, 'user_id': 'user_34kLTCwLzW3rU64I3t6BoCIlFIw'}\n",
            "[meta/llama-3.1-70b-instruct] error attempt 2: Error code: 400 - {'error': {'message': 'meta/llama-3.1-70b-instruct is not a valid model ID', 'code': 400}, 'user_id': 'user_34kLTCwLzW3rU64I3t6BoCIlFIw'}\n",
            "[meta/llama-3.1-70b-instruct] error attempt 3: Error code: 400 - {'error': {'message': 'meta/llama-3.1-70b-instruct is not a valid model ID', 'code': 400}, 'user_id': 'user_34kLTCwLzW3rU64I3t6BoCIlFIw'}\n",
            "[meta/llama-3.1-70b-instruct] error attempt 1: Error code: 400 - {'error': {'message': 'meta/llama-3.1-70b-instruct is not a valid model ID', 'code': 400}, 'user_id': 'user_34kLTCwLzW3rU64I3t6BoCIlFIw'}\n",
            "[meta/llama-3.1-70b-instruct] error attempt 2: Error code: 400 - {'error': {'message': 'meta/llama-3.1-70b-instruct is not a valid model ID', 'code': 400}, 'user_id': 'user_34kLTCwLzW3rU64I3t6BoCIlFIw'}\n",
            "[meta/llama-3.1-70b-instruct] error attempt 3: Error code: 400 - {'error': {'message': 'meta/llama-3.1-70b-instruct is not a valid model ID', 'code': 400}, 'user_id': 'user_34kLTCwLzW3rU64I3t6BoCIlFIw'}\n"
          ]
        },
        {
          "output_type": "stream",
          "name": "stderr",
          "text": [
            "\rmeta/llama-3.1-70b-instruct:  21%|██        | 25/120 [05:09<19:34, 12.36s/it]"
          ]
        },
        {
          "output_type": "stream",
          "name": "stdout",
          "text": [
            "[meta/llama-3.1-70b-instruct] error attempt 1: Error code: 400 - {'error': {'message': 'meta/llama-3.1-70b-instruct is not a valid model ID', 'code': 400}, 'user_id': 'user_34kLTCwLzW3rU64I3t6BoCIlFIw'}\n",
            "[meta/llama-3.1-70b-instruct] error attempt 2: Error code: 400 - {'error': {'message': 'meta/llama-3.1-70b-instruct is not a valid model ID', 'code': 400}, 'user_id': 'user_34kLTCwLzW3rU64I3t6BoCIlFIw'}\n",
            "[meta/llama-3.1-70b-instruct] error attempt 3: Error code: 400 - {'error': {'message': 'meta/llama-3.1-70b-instruct is not a valid model ID', 'code': 400}, 'user_id': 'user_34kLTCwLzW3rU64I3t6BoCIlFIw'}\n",
            "[meta/llama-3.1-70b-instruct] error attempt 1: Error code: 400 - {'error': {'message': 'meta/llama-3.1-70b-instruct is not a valid model ID', 'code': 400}, 'user_id': 'user_34kLTCwLzW3rU64I3t6BoCIlFIw'}\n",
            "[meta/llama-3.1-70b-instruct] error attempt 2: Error code: 400 - {'error': {'message': 'meta/llama-3.1-70b-instruct is not a valid model ID', 'code': 400}, 'user_id': 'user_34kLTCwLzW3rU64I3t6BoCIlFIw'}\n",
            "[meta/llama-3.1-70b-instruct] error attempt 3: Error code: 400 - {'error': {'message': 'meta/llama-3.1-70b-instruct is not a valid model ID', 'code': 400}, 'user_id': 'user_34kLTCwLzW3rU64I3t6BoCIlFIw'}\n"
          ]
        },
        {
          "output_type": "stream",
          "name": "stderr",
          "text": [
            "\rmeta/llama-3.1-70b-instruct:  22%|██▏       | 26/120 [05:23<19:43, 12.59s/it]"
          ]
        },
        {
          "output_type": "stream",
          "name": "stdout",
          "text": [
            "[meta/llama-3.1-70b-instruct] error attempt 1: Error code: 400 - {'error': {'message': 'meta/llama-3.1-70b-instruct is not a valid model ID', 'code': 400}, 'user_id': 'user_34kLTCwLzW3rU64I3t6BoCIlFIw'}\n",
            "[meta/llama-3.1-70b-instruct] error attempt 2: Error code: 400 - {'error': {'message': 'meta/llama-3.1-70b-instruct is not a valid model ID', 'code': 400}, 'user_id': 'user_34kLTCwLzW3rU64I3t6BoCIlFIw'}\n",
            "[meta/llama-3.1-70b-instruct] error attempt 3: Error code: 400 - {'error': {'message': 'meta/llama-3.1-70b-instruct is not a valid model ID', 'code': 400}, 'user_id': 'user_34kLTCwLzW3rU64I3t6BoCIlFIw'}\n",
            "[meta/llama-3.1-70b-instruct] error attempt 1: Error code: 400 - {'error': {'message': 'meta/llama-3.1-70b-instruct is not a valid model ID', 'code': 400}, 'user_id': 'user_34kLTCwLzW3rU64I3t6BoCIlFIw'}\n",
            "[meta/llama-3.1-70b-instruct] error attempt 2: Error code: 400 - {'error': {'message': 'meta/llama-3.1-70b-instruct is not a valid model ID', 'code': 400}, 'user_id': 'user_34kLTCwLzW3rU64I3t6BoCIlFIw'}\n",
            "[meta/llama-3.1-70b-instruct] error attempt 3: Error code: 400 - {'error': {'message': 'meta/llama-3.1-70b-instruct is not a valid model ID', 'code': 400}, 'user_id': 'user_34kLTCwLzW3rU64I3t6BoCIlFIw'}\n"
          ]
        },
        {
          "output_type": "stream",
          "name": "stderr",
          "text": [
            "\rmeta/llama-3.1-70b-instruct:  22%|██▎       | 27/120 [05:35<19:26, 12.54s/it]"
          ]
        },
        {
          "output_type": "stream",
          "name": "stdout",
          "text": [
            "[meta/llama-3.1-70b-instruct] error attempt 1: Error code: 400 - {'error': {'message': 'meta/llama-3.1-70b-instruct is not a valid model ID', 'code': 400}, 'user_id': 'user_34kLTCwLzW3rU64I3t6BoCIlFIw'}\n",
            "[meta/llama-3.1-70b-instruct] error attempt 2: Error code: 400 - {'error': {'message': 'meta/llama-3.1-70b-instruct is not a valid model ID', 'code': 400}, 'user_id': 'user_34kLTCwLzW3rU64I3t6BoCIlFIw'}\n",
            "[meta/llama-3.1-70b-instruct] error attempt 3: Error code: 400 - {'error': {'message': 'meta/llama-3.1-70b-instruct is not a valid model ID', 'code': 400}, 'user_id': 'user_34kLTCwLzW3rU64I3t6BoCIlFIw'}\n",
            "[meta/llama-3.1-70b-instruct] error attempt 1: Error code: 400 - {'error': {'message': 'meta/llama-3.1-70b-instruct is not a valid model ID', 'code': 400}, 'user_id': 'user_34kLTCwLzW3rU64I3t6BoCIlFIw'}\n",
            "[meta/llama-3.1-70b-instruct] error attempt 2: Error code: 400 - {'error': {'message': 'meta/llama-3.1-70b-instruct is not a valid model ID', 'code': 400}, 'user_id': 'user_34kLTCwLzW3rU64I3t6BoCIlFIw'}\n",
            "[meta/llama-3.1-70b-instruct] error attempt 3: Error code: 400 - {'error': {'message': 'meta/llama-3.1-70b-instruct is not a valid model ID', 'code': 400}, 'user_id': 'user_34kLTCwLzW3rU64I3t6BoCIlFIw'}\n"
          ]
        },
        {
          "output_type": "stream",
          "name": "stderr",
          "text": [
            "\rmeta/llama-3.1-70b-instruct:  23%|██▎       | 28/120 [05:47<19:11, 12.52s/it]"
          ]
        },
        {
          "output_type": "stream",
          "name": "stdout",
          "text": [
            "[meta/llama-3.1-70b-instruct] error attempt 1: Error code: 400 - {'error': {'message': 'meta/llama-3.1-70b-instruct is not a valid model ID', 'code': 400}, 'user_id': 'user_34kLTCwLzW3rU64I3t6BoCIlFIw'}\n",
            "[meta/llama-3.1-70b-instruct] error attempt 2: Error code: 400 - {'error': {'message': 'meta/llama-3.1-70b-instruct is not a valid model ID', 'code': 400}, 'user_id': 'user_34kLTCwLzW3rU64I3t6BoCIlFIw'}\n",
            "[meta/llama-3.1-70b-instruct] error attempt 3: Error code: 400 - {'error': {'message': 'meta/llama-3.1-70b-instruct is not a valid model ID', 'code': 400}, 'user_id': 'user_34kLTCwLzW3rU64I3t6BoCIlFIw'}\n",
            "[meta/llama-3.1-70b-instruct] error attempt 1: Error code: 400 - {'error': {'message': 'meta/llama-3.1-70b-instruct is not a valid model ID', 'code': 400}, 'user_id': 'user_34kLTCwLzW3rU64I3t6BoCIlFIw'}\n",
            "[meta/llama-3.1-70b-instruct] error attempt 2: Error code: 400 - {'error': {'message': 'meta/llama-3.1-70b-instruct is not a valid model ID', 'code': 400}, 'user_id': 'user_34kLTCwLzW3rU64I3t6BoCIlFIw'}\n",
            "[meta/llama-3.1-70b-instruct] error attempt 3: Error code: 400 - {'error': {'message': 'meta/llama-3.1-70b-instruct is not a valid model ID', 'code': 400}, 'user_id': 'user_34kLTCwLzW3rU64I3t6BoCIlFIw'}\n"
          ]
        },
        {
          "output_type": "stream",
          "name": "stderr",
          "text": [
            "\rmeta/llama-3.1-70b-instruct:  24%|██▍       | 29/120 [06:00<18:53, 12.46s/it]"
          ]
        },
        {
          "output_type": "stream",
          "name": "stdout",
          "text": [
            "[meta/llama-3.1-70b-instruct] error attempt 1: Error code: 400 - {'error': {'message': 'meta/llama-3.1-70b-instruct is not a valid model ID', 'code': 400}, 'user_id': 'user_34kLTCwLzW3rU64I3t6BoCIlFIw'}\n",
            "[meta/llama-3.1-70b-instruct] error attempt 2: Error code: 400 - {'error': {'message': 'meta/llama-3.1-70b-instruct is not a valid model ID', 'code': 400}, 'user_id': 'user_34kLTCwLzW3rU64I3t6BoCIlFIw'}\n",
            "[meta/llama-3.1-70b-instruct] error attempt 3: Error code: 400 - {'error': {'message': 'meta/llama-3.1-70b-instruct is not a valid model ID', 'code': 400}, 'user_id': 'user_34kLTCwLzW3rU64I3t6BoCIlFIw'}\n",
            "[meta/llama-3.1-70b-instruct] error attempt 1: Error code: 400 - {'error': {'message': 'meta/llama-3.1-70b-instruct is not a valid model ID', 'code': 400}, 'user_id': 'user_34kLTCwLzW3rU64I3t6BoCIlFIw'}\n",
            "[meta/llama-3.1-70b-instruct] error attempt 2: Error code: 400 - {'error': {'message': 'meta/llama-3.1-70b-instruct is not a valid model ID', 'code': 400}, 'user_id': 'user_34kLTCwLzW3rU64I3t6BoCIlFIw'}\n",
            "[meta/llama-3.1-70b-instruct] error attempt 3: Error code: 400 - {'error': {'message': 'meta/llama-3.1-70b-instruct is not a valid model ID', 'code': 400}, 'user_id': 'user_34kLTCwLzW3rU64I3t6BoCIlFIw'}\n"
          ]
        },
        {
          "output_type": "stream",
          "name": "stderr",
          "text": [
            "\rmeta/llama-3.1-70b-instruct:  25%|██▌       | 30/120 [06:12<18:37, 12.42s/it]"
          ]
        },
        {
          "output_type": "stream",
          "name": "stdout",
          "text": [
            "[meta/llama-3.1-70b-instruct] error attempt 1: Error code: 400 - {'error': {'message': 'meta/llama-3.1-70b-instruct is not a valid model ID', 'code': 400}, 'user_id': 'user_34kLTCwLzW3rU64I3t6BoCIlFIw'}\n",
            "[meta/llama-3.1-70b-instruct] error attempt 2: Error code: 400 - {'error': {'message': 'meta/llama-3.1-70b-instruct is not a valid model ID', 'code': 400}, 'user_id': 'user_34kLTCwLzW3rU64I3t6BoCIlFIw'}\n",
            "[meta/llama-3.1-70b-instruct] error attempt 3: Error code: 400 - {'error': {'message': 'meta/llama-3.1-70b-instruct is not a valid model ID', 'code': 400}, 'user_id': 'user_34kLTCwLzW3rU64I3t6BoCIlFIw'}\n",
            "[meta/llama-3.1-70b-instruct] error attempt 1: Error code: 400 - {'error': {'message': 'meta/llama-3.1-70b-instruct is not a valid model ID', 'code': 400}, 'user_id': 'user_34kLTCwLzW3rU64I3t6BoCIlFIw'}\n",
            "[meta/llama-3.1-70b-instruct] error attempt 2: Error code: 400 - {'error': {'message': 'meta/llama-3.1-70b-instruct is not a valid model ID', 'code': 400}, 'user_id': 'user_34kLTCwLzW3rU64I3t6BoCIlFIw'}\n",
            "[meta/llama-3.1-70b-instruct] error attempt 3: Error code: 400 - {'error': {'message': 'meta/llama-3.1-70b-instruct is not a valid model ID', 'code': 400}, 'user_id': 'user_34kLTCwLzW3rU64I3t6BoCIlFIw'}\n"
          ]
        },
        {
          "output_type": "stream",
          "name": "stderr",
          "text": [
            "\rmeta/llama-3.1-70b-instruct:  26%|██▌       | 31/120 [06:25<18:43, 12.62s/it]"
          ]
        },
        {
          "output_type": "stream",
          "name": "stdout",
          "text": [
            "[meta/llama-3.1-70b-instruct] error attempt 1: Error code: 400 - {'error': {'message': 'meta/llama-3.1-70b-instruct is not a valid model ID', 'code': 400}, 'user_id': 'user_34kLTCwLzW3rU64I3t6BoCIlFIw'}\n",
            "[meta/llama-3.1-70b-instruct] error attempt 2: Error code: 400 - {'error': {'message': 'meta/llama-3.1-70b-instruct is not a valid model ID', 'code': 400}, 'user_id': 'user_34kLTCwLzW3rU64I3t6BoCIlFIw'}\n",
            "[meta/llama-3.1-70b-instruct] error attempt 3: Error code: 400 - {'error': {'message': 'meta/llama-3.1-70b-instruct is not a valid model ID', 'code': 400}, 'user_id': 'user_34kLTCwLzW3rU64I3t6BoCIlFIw'}\n",
            "[meta/llama-3.1-70b-instruct] error attempt 1: Error code: 400 - {'error': {'message': 'meta/llama-3.1-70b-instruct is not a valid model ID', 'code': 400}, 'user_id': 'user_34kLTCwLzW3rU64I3t6BoCIlFIw'}\n",
            "[meta/llama-3.1-70b-instruct] error attempt 2: Error code: 400 - {'error': {'message': 'meta/llama-3.1-70b-instruct is not a valid model ID', 'code': 400}, 'user_id': 'user_34kLTCwLzW3rU64I3t6BoCIlFIw'}\n",
            "[meta/llama-3.1-70b-instruct] error attempt 3: Error code: 400 - {'error': {'message': 'meta/llama-3.1-70b-instruct is not a valid model ID', 'code': 400}, 'user_id': 'user_34kLTCwLzW3rU64I3t6BoCIlFIw'}\n"
          ]
        },
        {
          "output_type": "stream",
          "name": "stderr",
          "text": [
            "\rmeta/llama-3.1-70b-instruct:  27%|██▋       | 32/120 [06:38<18:24, 12.55s/it]"
          ]
        },
        {
          "output_type": "stream",
          "name": "stdout",
          "text": [
            "[meta/llama-3.1-70b-instruct] error attempt 1: Error code: 400 - {'error': {'message': 'meta/llama-3.1-70b-instruct is not a valid model ID', 'code': 400}, 'user_id': 'user_34kLTCwLzW3rU64I3t6BoCIlFIw'}\n",
            "[meta/llama-3.1-70b-instruct] error attempt 2: Error code: 400 - {'error': {'message': 'meta/llama-3.1-70b-instruct is not a valid model ID', 'code': 400}, 'user_id': 'user_34kLTCwLzW3rU64I3t6BoCIlFIw'}\n",
            "[meta/llama-3.1-70b-instruct] error attempt 3: Error code: 400 - {'error': {'message': 'meta/llama-3.1-70b-instruct is not a valid model ID', 'code': 400}, 'user_id': 'user_34kLTCwLzW3rU64I3t6BoCIlFIw'}\n",
            "[meta/llama-3.1-70b-instruct] error attempt 1: Error code: 400 - {'error': {'message': 'meta/llama-3.1-70b-instruct is not a valid model ID', 'code': 400}, 'user_id': 'user_34kLTCwLzW3rU64I3t6BoCIlFIw'}\n",
            "[meta/llama-3.1-70b-instruct] error attempt 2: Error code: 400 - {'error': {'message': 'meta/llama-3.1-70b-instruct is not a valid model ID', 'code': 400}, 'user_id': 'user_34kLTCwLzW3rU64I3t6BoCIlFIw'}\n",
            "[meta/llama-3.1-70b-instruct] error attempt 3: Error code: 400 - {'error': {'message': 'meta/llama-3.1-70b-instruct is not a valid model ID', 'code': 400}, 'user_id': 'user_34kLTCwLzW3rU64I3t6BoCIlFIw'}\n"
          ]
        },
        {
          "output_type": "stream",
          "name": "stderr",
          "text": [
            "\rmeta/llama-3.1-70b-instruct:  28%|██▊       | 33/120 [06:50<18:06, 12.49s/it]"
          ]
        },
        {
          "output_type": "stream",
          "name": "stdout",
          "text": [
            "[meta/llama-3.1-70b-instruct] error attempt 1: Error code: 400 - {'error': {'message': 'meta/llama-3.1-70b-instruct is not a valid model ID', 'code': 400}, 'user_id': 'user_34kLTCwLzW3rU64I3t6BoCIlFIw'}\n",
            "[meta/llama-3.1-70b-instruct] error attempt 2: Error code: 400 - {'error': {'message': 'meta/llama-3.1-70b-instruct is not a valid model ID', 'code': 400}, 'user_id': 'user_34kLTCwLzW3rU64I3t6BoCIlFIw'}\n",
            "[meta/llama-3.1-70b-instruct] error attempt 3: Error code: 400 - {'error': {'message': 'meta/llama-3.1-70b-instruct is not a valid model ID', 'code': 400}, 'user_id': 'user_34kLTCwLzW3rU64I3t6BoCIlFIw'}\n",
            "[meta/llama-3.1-70b-instruct] error attempt 1: Error code: 400 - {'error': {'message': 'meta/llama-3.1-70b-instruct is not a valid model ID', 'code': 400}, 'user_id': 'user_34kLTCwLzW3rU64I3t6BoCIlFIw'}\n",
            "[meta/llama-3.1-70b-instruct] error attempt 2: Error code: 400 - {'error': {'message': 'meta/llama-3.1-70b-instruct is not a valid model ID', 'code': 400}, 'user_id': 'user_34kLTCwLzW3rU64I3t6BoCIlFIw'}\n",
            "[meta/llama-3.1-70b-instruct] error attempt 3: Error code: 400 - {'error': {'message': 'meta/llama-3.1-70b-instruct is not a valid model ID', 'code': 400}, 'user_id': 'user_34kLTCwLzW3rU64I3t6BoCIlFIw'}\n"
          ]
        },
        {
          "output_type": "stream",
          "name": "stderr",
          "text": [
            "\rmeta/llama-3.1-70b-instruct:  28%|██▊       | 34/120 [07:02<17:52, 12.47s/it]"
          ]
        },
        {
          "output_type": "stream",
          "name": "stdout",
          "text": [
            "[meta/llama-3.1-70b-instruct] error attempt 1: Error code: 400 - {'error': {'message': 'meta/llama-3.1-70b-instruct is not a valid model ID', 'code': 400}, 'user_id': 'user_34kLTCwLzW3rU64I3t6BoCIlFIw'}\n",
            "[meta/llama-3.1-70b-instruct] error attempt 2: Error code: 400 - {'error': {'message': 'meta/llama-3.1-70b-instruct is not a valid model ID', 'code': 400}, 'user_id': 'user_34kLTCwLzW3rU64I3t6BoCIlFIw'}\n",
            "[meta/llama-3.1-70b-instruct] error attempt 3: Error code: 400 - {'error': {'message': 'meta/llama-3.1-70b-instruct is not a valid model ID', 'code': 400}, 'user_id': 'user_34kLTCwLzW3rU64I3t6BoCIlFIw'}\n",
            "[meta/llama-3.1-70b-instruct] error attempt 1: Error code: 400 - {'error': {'message': 'meta/llama-3.1-70b-instruct is not a valid model ID', 'code': 400}, 'user_id': 'user_34kLTCwLzW3rU64I3t6BoCIlFIw'}\n",
            "[meta/llama-3.1-70b-instruct] error attempt 2: Error code: 400 - {'error': {'message': 'meta/llama-3.1-70b-instruct is not a valid model ID', 'code': 400}, 'user_id': 'user_34kLTCwLzW3rU64I3t6BoCIlFIw'}\n",
            "[meta/llama-3.1-70b-instruct] error attempt 3: Error code: 400 - {'error': {'message': 'meta/llama-3.1-70b-instruct is not a valid model ID', 'code': 400}, 'user_id': 'user_34kLTCwLzW3rU64I3t6BoCIlFIw'}\n"
          ]
        },
        {
          "output_type": "stream",
          "name": "stderr",
          "text": [
            "\rmeta/llama-3.1-70b-instruct:  29%|██▉       | 35/120 [07:15<17:35, 12.42s/it]"
          ]
        },
        {
          "output_type": "stream",
          "name": "stdout",
          "text": [
            "[meta/llama-3.1-70b-instruct] error attempt 1: Error code: 400 - {'error': {'message': 'meta/llama-3.1-70b-instruct is not a valid model ID', 'code': 400}, 'user_id': 'user_34kLTCwLzW3rU64I3t6BoCIlFIw'}\n",
            "[meta/llama-3.1-70b-instruct] error attempt 2: Error code: 400 - {'error': {'message': 'meta/llama-3.1-70b-instruct is not a valid model ID', 'code': 400}, 'user_id': 'user_34kLTCwLzW3rU64I3t6BoCIlFIw'}\n",
            "[meta/llama-3.1-70b-instruct] error attempt 3: Error code: 400 - {'error': {'message': 'meta/llama-3.1-70b-instruct is not a valid model ID', 'code': 400}, 'user_id': 'user_34kLTCwLzW3rU64I3t6BoCIlFIw'}\n",
            "[meta/llama-3.1-70b-instruct] error attempt 1: Error code: 400 - {'error': {'message': 'meta/llama-3.1-70b-instruct is not a valid model ID', 'code': 400}, 'user_id': 'user_34kLTCwLzW3rU64I3t6BoCIlFIw'}\n",
            "[meta/llama-3.1-70b-instruct] error attempt 2: Error code: 400 - {'error': {'message': 'meta/llama-3.1-70b-instruct is not a valid model ID', 'code': 400}, 'user_id': 'user_34kLTCwLzW3rU64I3t6BoCIlFIw'}\n",
            "[meta/llama-3.1-70b-instruct] error attempt 3: Error code: 400 - {'error': {'message': 'meta/llama-3.1-70b-instruct is not a valid model ID', 'code': 400}, 'user_id': 'user_34kLTCwLzW3rU64I3t6BoCIlFIw'}\n"
          ]
        },
        {
          "output_type": "stream",
          "name": "stderr",
          "text": [
            "\rmeta/llama-3.1-70b-instruct:  30%|███       | 36/120 [07:27<17:24, 12.44s/it]"
          ]
        },
        {
          "output_type": "stream",
          "name": "stdout",
          "text": [
            "[meta/llama-3.1-70b-instruct] error attempt 1: Error code: 400 - {'error': {'message': 'meta/llama-3.1-70b-instruct is not a valid model ID', 'code': 400}, 'user_id': 'user_34kLTCwLzW3rU64I3t6BoCIlFIw'}\n",
            "[meta/llama-3.1-70b-instruct] error attempt 2: Error code: 400 - {'error': {'message': 'meta/llama-3.1-70b-instruct is not a valid model ID', 'code': 400}, 'user_id': 'user_34kLTCwLzW3rU64I3t6BoCIlFIw'}\n",
            "[meta/llama-3.1-70b-instruct] error attempt 3: Error code: 400 - {'error': {'message': 'meta/llama-3.1-70b-instruct is not a valid model ID', 'code': 400}, 'user_id': 'user_34kLTCwLzW3rU64I3t6BoCIlFIw'}\n",
            "[meta/llama-3.1-70b-instruct] error attempt 1: Error code: 400 - {'error': {'message': 'meta/llama-3.1-70b-instruct is not a valid model ID', 'code': 400}, 'user_id': 'user_34kLTCwLzW3rU64I3t6BoCIlFIw'}\n",
            "[meta/llama-3.1-70b-instruct] error attempt 2: Error code: 400 - {'error': {'message': 'meta/llama-3.1-70b-instruct is not a valid model ID', 'code': 400}, 'user_id': 'user_34kLTCwLzW3rU64I3t6BoCIlFIw'}\n",
            "[meta/llama-3.1-70b-instruct] error attempt 3: Error code: 400 - {'error': {'message': 'meta/llama-3.1-70b-instruct is not a valid model ID', 'code': 400}, 'user_id': 'user_34kLTCwLzW3rU64I3t6BoCIlFIw'}\n"
          ]
        },
        {
          "output_type": "stream",
          "name": "stderr",
          "text": [
            "\rmeta/llama-3.1-70b-instruct:  31%|███       | 37/120 [07:40<17:26, 12.61s/it]"
          ]
        },
        {
          "output_type": "stream",
          "name": "stdout",
          "text": [
            "[meta/llama-3.1-70b-instruct] error attempt 1: Error code: 400 - {'error': {'message': 'meta/llama-3.1-70b-instruct is not a valid model ID', 'code': 400}, 'user_id': 'user_34kLTCwLzW3rU64I3t6BoCIlFIw'}\n",
            "[meta/llama-3.1-70b-instruct] error attempt 2: Error code: 400 - {'error': {'message': 'meta/llama-3.1-70b-instruct is not a valid model ID', 'code': 400}, 'user_id': 'user_34kLTCwLzW3rU64I3t6BoCIlFIw'}\n",
            "[meta/llama-3.1-70b-instruct] error attempt 3: Error code: 400 - {'error': {'message': 'meta/llama-3.1-70b-instruct is not a valid model ID', 'code': 400}, 'user_id': 'user_34kLTCwLzW3rU64I3t6BoCIlFIw'}\n",
            "[meta/llama-3.1-70b-instruct] error attempt 1: Error code: 400 - {'error': {'message': 'meta/llama-3.1-70b-instruct is not a valid model ID', 'code': 400}, 'user_id': 'user_34kLTCwLzW3rU64I3t6BoCIlFIw'}\n",
            "[meta/llama-3.1-70b-instruct] error attempt 2: Error code: 400 - {'error': {'message': 'meta/llama-3.1-70b-instruct is not a valid model ID', 'code': 400}, 'user_id': 'user_34kLTCwLzW3rU64I3t6BoCIlFIw'}\n",
            "[meta/llama-3.1-70b-instruct] error attempt 3: Error code: 400 - {'error': {'message': 'meta/llama-3.1-70b-instruct is not a valid model ID', 'code': 400}, 'user_id': 'user_34kLTCwLzW3rU64I3t6BoCIlFIw'}\n"
          ]
        },
        {
          "output_type": "stream",
          "name": "stderr",
          "text": [
            "\rmeta/llama-3.1-70b-instruct:  32%|███▏      | 38/120 [07:53<17:10, 12.57s/it]"
          ]
        },
        {
          "output_type": "stream",
          "name": "stdout",
          "text": [
            "[meta/llama-3.1-70b-instruct] error attempt 1: Error code: 400 - {'error': {'message': 'meta/llama-3.1-70b-instruct is not a valid model ID', 'code': 400}, 'user_id': 'user_34kLTCwLzW3rU64I3t6BoCIlFIw'}\n",
            "[meta/llama-3.1-70b-instruct] error attempt 2: Error code: 400 - {'error': {'message': 'meta/llama-3.1-70b-instruct is not a valid model ID', 'code': 400}, 'user_id': 'user_34kLTCwLzW3rU64I3t6BoCIlFIw'}\n",
            "[meta/llama-3.1-70b-instruct] error attempt 3: Error code: 400 - {'error': {'message': 'meta/llama-3.1-70b-instruct is not a valid model ID', 'code': 400}, 'user_id': 'user_34kLTCwLzW3rU64I3t6BoCIlFIw'}\n",
            "[meta/llama-3.1-70b-instruct] error attempt 1: Error code: 400 - {'error': {'message': 'meta/llama-3.1-70b-instruct is not a valid model ID', 'code': 400}, 'user_id': 'user_34kLTCwLzW3rU64I3t6BoCIlFIw'}\n",
            "[meta/llama-3.1-70b-instruct] error attempt 2: Error code: 400 - {'error': {'message': 'meta/llama-3.1-70b-instruct is not a valid model ID', 'code': 400}, 'user_id': 'user_34kLTCwLzW3rU64I3t6BoCIlFIw'}\n",
            "[meta/llama-3.1-70b-instruct] error attempt 3: Error code: 400 - {'error': {'message': 'meta/llama-3.1-70b-instruct is not a valid model ID', 'code': 400}, 'user_id': 'user_34kLTCwLzW3rU64I3t6BoCIlFIw'}\n"
          ]
        },
        {
          "output_type": "stream",
          "name": "stderr",
          "text": [
            "\rmeta/llama-3.1-70b-instruct:  32%|███▎      | 39/120 [08:05<16:57, 12.56s/it]"
          ]
        },
        {
          "output_type": "stream",
          "name": "stdout",
          "text": [
            "[meta/llama-3.1-70b-instruct] error attempt 1: Error code: 400 - {'error': {'message': 'meta/llama-3.1-70b-instruct is not a valid model ID', 'code': 400}, 'user_id': 'user_34kLTCwLzW3rU64I3t6BoCIlFIw'}\n",
            "[meta/llama-3.1-70b-instruct] error attempt 2: Error code: 400 - {'error': {'message': 'meta/llama-3.1-70b-instruct is not a valid model ID', 'code': 400}, 'user_id': 'user_34kLTCwLzW3rU64I3t6BoCIlFIw'}\n",
            "[meta/llama-3.1-70b-instruct] error attempt 3: Error code: 400 - {'error': {'message': 'meta/llama-3.1-70b-instruct is not a valid model ID', 'code': 400}, 'user_id': 'user_34kLTCwLzW3rU64I3t6BoCIlFIw'}\n",
            "[meta/llama-3.1-70b-instruct] error attempt 1: Error code: 400 - {'error': {'message': 'meta/llama-3.1-70b-instruct is not a valid model ID', 'code': 400}, 'user_id': 'user_34kLTCwLzW3rU64I3t6BoCIlFIw'}\n",
            "[meta/llama-3.1-70b-instruct] error attempt 2: Error code: 400 - {'error': {'message': 'meta/llama-3.1-70b-instruct is not a valid model ID', 'code': 400}, 'user_id': 'user_34kLTCwLzW3rU64I3t6BoCIlFIw'}\n",
            "[meta/llama-3.1-70b-instruct] error attempt 3: Error code: 400 - {'error': {'message': 'meta/llama-3.1-70b-instruct is not a valid model ID', 'code': 400}, 'user_id': 'user_34kLTCwLzW3rU64I3t6BoCIlFIw'}\n"
          ]
        },
        {
          "output_type": "stream",
          "name": "stderr",
          "text": [
            "\rmeta/llama-3.1-70b-instruct:  33%|███▎      | 40/120 [08:18<16:49, 12.62s/it]"
          ]
        },
        {
          "output_type": "stream",
          "name": "stdout",
          "text": [
            "[meta/llama-3.1-70b-instruct] error attempt 1: Error code: 400 - {'error': {'message': 'meta/llama-3.1-70b-instruct is not a valid model ID', 'code': 400}, 'user_id': 'user_34kLTCwLzW3rU64I3t6BoCIlFIw'}\n",
            "[meta/llama-3.1-70b-instruct] error attempt 2: Error code: 400 - {'error': {'message': 'meta/llama-3.1-70b-instruct is not a valid model ID', 'code': 400}, 'user_id': 'user_34kLTCwLzW3rU64I3t6BoCIlFIw'}\n",
            "[meta/llama-3.1-70b-instruct] error attempt 3: Error code: 400 - {'error': {'message': 'meta/llama-3.1-70b-instruct is not a valid model ID', 'code': 400}, 'user_id': 'user_34kLTCwLzW3rU64I3t6BoCIlFIw'}\n",
            "[meta/llama-3.1-70b-instruct] error attempt 1: Error code: 400 - {'error': {'message': 'meta/llama-3.1-70b-instruct is not a valid model ID', 'code': 400}, 'user_id': 'user_34kLTCwLzW3rU64I3t6BoCIlFIw'}\n",
            "[meta/llama-3.1-70b-instruct] error attempt 2: Error code: 400 - {'error': {'message': 'meta/llama-3.1-70b-instruct is not a valid model ID', 'code': 400}, 'user_id': 'user_34kLTCwLzW3rU64I3t6BoCIlFIw'}\n",
            "[meta/llama-3.1-70b-instruct] error attempt 3: Error code: 400 - {'error': {'message': 'meta/llama-3.1-70b-instruct is not a valid model ID', 'code': 400}, 'user_id': 'user_34kLTCwLzW3rU64I3t6BoCIlFIw'}\n"
          ]
        },
        {
          "output_type": "stream",
          "name": "stderr",
          "text": [
            "\rmeta/llama-3.1-70b-instruct:  34%|███▍      | 41/120 [08:31<16:39, 12.65s/it]"
          ]
        },
        {
          "output_type": "stream",
          "name": "stdout",
          "text": [
            "[meta/llama-3.1-70b-instruct] error attempt 1: Error code: 400 - {'error': {'message': 'meta/llama-3.1-70b-instruct is not a valid model ID', 'code': 400}, 'user_id': 'user_34kLTCwLzW3rU64I3t6BoCIlFIw'}\n",
            "[meta/llama-3.1-70b-instruct] error attempt 2: Error code: 400 - {'error': {'message': 'meta/llama-3.1-70b-instruct is not a valid model ID', 'code': 400}, 'user_id': 'user_34kLTCwLzW3rU64I3t6BoCIlFIw'}\n",
            "[meta/llama-3.1-70b-instruct] error attempt 3: Error code: 400 - {'error': {'message': 'meta/llama-3.1-70b-instruct is not a valid model ID', 'code': 400}, 'user_id': 'user_34kLTCwLzW3rU64I3t6BoCIlFIw'}\n",
            "[meta/llama-3.1-70b-instruct] error attempt 1: Error code: 400 - {'error': {'message': 'meta/llama-3.1-70b-instruct is not a valid model ID', 'code': 400}, 'user_id': 'user_34kLTCwLzW3rU64I3t6BoCIlFIw'}\n",
            "[meta/llama-3.1-70b-instruct] error attempt 2: Error code: 400 - {'error': {'message': 'meta/llama-3.1-70b-instruct is not a valid model ID', 'code': 400}, 'user_id': 'user_34kLTCwLzW3rU64I3t6BoCIlFIw'}\n",
            "[meta/llama-3.1-70b-instruct] error attempt 3: Error code: 400 - {'error': {'message': 'meta/llama-3.1-70b-instruct is not a valid model ID', 'code': 400}, 'user_id': 'user_34kLTCwLzW3rU64I3t6BoCIlFIw'}\n"
          ]
        },
        {
          "output_type": "stream",
          "name": "stderr",
          "text": [
            "\rmeta/llama-3.1-70b-instruct:  35%|███▌      | 42/120 [08:43<16:27, 12.66s/it]"
          ]
        },
        {
          "output_type": "stream",
          "name": "stdout",
          "text": [
            "[meta/llama-3.1-70b-instruct] error attempt 1: Error code: 400 - {'error': {'message': 'meta/llama-3.1-70b-instruct is not a valid model ID', 'code': 400}, 'user_id': 'user_34kLTCwLzW3rU64I3t6BoCIlFIw'}\n",
            "[meta/llama-3.1-70b-instruct] error attempt 2: Error code: 400 - {'error': {'message': 'meta/llama-3.1-70b-instruct is not a valid model ID', 'code': 400}, 'user_id': 'user_34kLTCwLzW3rU64I3t6BoCIlFIw'}\n",
            "[meta/llama-3.1-70b-instruct] error attempt 3: Error code: 400 - {'error': {'message': 'meta/llama-3.1-70b-instruct is not a valid model ID', 'code': 400}, 'user_id': 'user_34kLTCwLzW3rU64I3t6BoCIlFIw'}\n",
            "[meta/llama-3.1-70b-instruct] error attempt 1: Error code: 400 - {'error': {'message': 'meta/llama-3.1-70b-instruct is not a valid model ID', 'code': 400}, 'user_id': 'user_34kLTCwLzW3rU64I3t6BoCIlFIw'}\n",
            "[meta/llama-3.1-70b-instruct] error attempt 2: Error code: 400 - {'error': {'message': 'meta/llama-3.1-70b-instruct is not a valid model ID', 'code': 400}, 'user_id': 'user_34kLTCwLzW3rU64I3t6BoCIlFIw'}\n",
            "[meta/llama-3.1-70b-instruct] error attempt 3: Error code: 400 - {'error': {'message': 'meta/llama-3.1-70b-instruct is not a valid model ID', 'code': 400}, 'user_id': 'user_34kLTCwLzW3rU64I3t6BoCIlFIw'}\n"
          ]
        },
        {
          "output_type": "stream",
          "name": "stderr",
          "text": [
            "\rmeta/llama-3.1-70b-instruct:  36%|███▌      | 43/120 [08:56<16:11, 12.62s/it]"
          ]
        },
        {
          "output_type": "stream",
          "name": "stdout",
          "text": [
            "[meta/llama-3.1-70b-instruct] error attempt 1: Error code: 400 - {'error': {'message': 'meta/llama-3.1-70b-instruct is not a valid model ID', 'code': 400}, 'user_id': 'user_34kLTCwLzW3rU64I3t6BoCIlFIw'}\n",
            "[meta/llama-3.1-70b-instruct] error attempt 2: Error code: 400 - {'error': {'message': 'meta/llama-3.1-70b-instruct is not a valid model ID', 'code': 400}, 'user_id': 'user_34kLTCwLzW3rU64I3t6BoCIlFIw'}\n",
            "[meta/llama-3.1-70b-instruct] error attempt 3: Error code: 400 - {'error': {'message': 'meta/llama-3.1-70b-instruct is not a valid model ID', 'code': 400}, 'user_id': 'user_34kLTCwLzW3rU64I3t6BoCIlFIw'}\n",
            "[meta/llama-3.1-70b-instruct] error attempt 1: Error code: 400 - {'error': {'message': 'meta/llama-3.1-70b-instruct is not a valid model ID', 'code': 400}, 'user_id': 'user_34kLTCwLzW3rU64I3t6BoCIlFIw'}\n",
            "[meta/llama-3.1-70b-instruct] error attempt 2: Error code: 400 - {'error': {'message': 'meta/llama-3.1-70b-instruct is not a valid model ID', 'code': 400}, 'user_id': 'user_34kLTCwLzW3rU64I3t6BoCIlFIw'}\n",
            "[meta/llama-3.1-70b-instruct] error attempt 3: Error code: 400 - {'error': {'message': 'meta/llama-3.1-70b-instruct is not a valid model ID', 'code': 400}, 'user_id': 'user_34kLTCwLzW3rU64I3t6BoCIlFIw'}\n"
          ]
        },
        {
          "output_type": "stream",
          "name": "stderr",
          "text": [
            "\rmeta/llama-3.1-70b-instruct:  37%|███▋      | 44/120 [09:08<15:56, 12.59s/it]"
          ]
        },
        {
          "output_type": "stream",
          "name": "stdout",
          "text": [
            "[meta/llama-3.1-70b-instruct] error attempt 1: Error code: 400 - {'error': {'message': 'meta/llama-3.1-70b-instruct is not a valid model ID', 'code': 400}, 'user_id': 'user_34kLTCwLzW3rU64I3t6BoCIlFIw'}\n",
            "[meta/llama-3.1-70b-instruct] error attempt 2: Error code: 400 - {'error': {'message': 'meta/llama-3.1-70b-instruct is not a valid model ID', 'code': 400}, 'user_id': 'user_34kLTCwLzW3rU64I3t6BoCIlFIw'}\n",
            "[meta/llama-3.1-70b-instruct] error attempt 3: Error code: 400 - {'error': {'message': 'meta/llama-3.1-70b-instruct is not a valid model ID', 'code': 400}, 'user_id': 'user_34kLTCwLzW3rU64I3t6BoCIlFIw'}\n",
            "[meta/llama-3.1-70b-instruct] error attempt 1: Error code: 400 - {'error': {'message': 'meta/llama-3.1-70b-instruct is not a valid model ID', 'code': 400}, 'user_id': 'user_34kLTCwLzW3rU64I3t6BoCIlFIw'}\n",
            "[meta/llama-3.1-70b-instruct] error attempt 2: Error code: 400 - {'error': {'message': 'meta/llama-3.1-70b-instruct is not a valid model ID', 'code': 400}, 'user_id': 'user_34kLTCwLzW3rU64I3t6BoCIlFIw'}\n",
            "[meta/llama-3.1-70b-instruct] error attempt 3: Error code: 400 - {'error': {'message': 'meta/llama-3.1-70b-instruct is not a valid model ID', 'code': 400}, 'user_id': 'user_34kLTCwLzW3rU64I3t6BoCIlFIw'}\n"
          ]
        },
        {
          "output_type": "stream",
          "name": "stderr",
          "text": [
            "\rmeta/llama-3.1-70b-instruct:  38%|███▊      | 45/120 [09:21<15:41, 12.55s/it]"
          ]
        },
        {
          "output_type": "stream",
          "name": "stdout",
          "text": [
            "[meta/llama-3.1-70b-instruct] error attempt 1: Error code: 400 - {'error': {'message': 'meta/llama-3.1-70b-instruct is not a valid model ID', 'code': 400}, 'user_id': 'user_34kLTCwLzW3rU64I3t6BoCIlFIw'}\n",
            "[meta/llama-3.1-70b-instruct] error attempt 2: Error code: 400 - {'error': {'message': 'meta/llama-3.1-70b-instruct is not a valid model ID', 'code': 400}, 'user_id': 'user_34kLTCwLzW3rU64I3t6BoCIlFIw'}\n",
            "[meta/llama-3.1-70b-instruct] error attempt 3: Error code: 400 - {'error': {'message': 'meta/llama-3.1-70b-instruct is not a valid model ID', 'code': 400}, 'user_id': 'user_34kLTCwLzW3rU64I3t6BoCIlFIw'}\n",
            "[meta/llama-3.1-70b-instruct] error attempt 1: Error code: 400 - {'error': {'message': 'meta/llama-3.1-70b-instruct is not a valid model ID', 'code': 400}, 'user_id': 'user_34kLTCwLzW3rU64I3t6BoCIlFIw'}\n",
            "[meta/llama-3.1-70b-instruct] error attempt 2: Error code: 400 - {'error': {'message': 'meta/llama-3.1-70b-instruct is not a valid model ID', 'code': 400}, 'user_id': 'user_34kLTCwLzW3rU64I3t6BoCIlFIw'}\n",
            "[meta/llama-3.1-70b-instruct] error attempt 3: Error code: 400 - {'error': {'message': 'meta/llama-3.1-70b-instruct is not a valid model ID', 'code': 400}, 'user_id': 'user_34kLTCwLzW3rU64I3t6BoCIlFIw'}\n"
          ]
        },
        {
          "output_type": "stream",
          "name": "stderr",
          "text": [
            "\rmeta/llama-3.1-70b-instruct:  38%|███▊      | 46/120 [09:34<15:35, 12.65s/it]"
          ]
        },
        {
          "output_type": "stream",
          "name": "stdout",
          "text": [
            "[meta/llama-3.1-70b-instruct] error attempt 1: Error code: 400 - {'error': {'message': 'meta/llama-3.1-70b-instruct is not a valid model ID', 'code': 400}, 'user_id': 'user_34kLTCwLzW3rU64I3t6BoCIlFIw'}\n",
            "[meta/llama-3.1-70b-instruct] error attempt 2: Error code: 400 - {'error': {'message': 'meta/llama-3.1-70b-instruct is not a valid model ID', 'code': 400}, 'user_id': 'user_34kLTCwLzW3rU64I3t6BoCIlFIw'}\n",
            "[meta/llama-3.1-70b-instruct] error attempt 3: Error code: 400 - {'error': {'message': 'meta/llama-3.1-70b-instruct is not a valid model ID', 'code': 400}, 'user_id': 'user_34kLTCwLzW3rU64I3t6BoCIlFIw'}\n",
            "[meta/llama-3.1-70b-instruct] error attempt 1: Error code: 400 - {'error': {'message': 'meta/llama-3.1-70b-instruct is not a valid model ID', 'code': 400}, 'user_id': 'user_34kLTCwLzW3rU64I3t6BoCIlFIw'}\n",
            "[meta/llama-3.1-70b-instruct] error attempt 2: Error code: 400 - {'error': {'message': 'meta/llama-3.1-70b-instruct is not a valid model ID', 'code': 400}, 'user_id': 'user_34kLTCwLzW3rU64I3t6BoCIlFIw'}\n",
            "[meta/llama-3.1-70b-instruct] error attempt 3: Error code: 400 - {'error': {'message': 'meta/llama-3.1-70b-instruct is not a valid model ID', 'code': 400}, 'user_id': 'user_34kLTCwLzW3rU64I3t6BoCIlFIw'}\n"
          ]
        },
        {
          "output_type": "stream",
          "name": "stderr",
          "text": [
            "\rmeta/llama-3.1-70b-instruct:  39%|███▉      | 47/120 [09:46<15:23, 12.65s/it]"
          ]
        },
        {
          "output_type": "stream",
          "name": "stdout",
          "text": [
            "[meta/llama-3.1-70b-instruct] error attempt 1: Error code: 400 - {'error': {'message': 'meta/llama-3.1-70b-instruct is not a valid model ID', 'code': 400}, 'user_id': 'user_34kLTCwLzW3rU64I3t6BoCIlFIw'}\n",
            "[meta/llama-3.1-70b-instruct] error attempt 2: Error code: 400 - {'error': {'message': 'meta/llama-3.1-70b-instruct is not a valid model ID', 'code': 400}, 'user_id': 'user_34kLTCwLzW3rU64I3t6BoCIlFIw'}\n",
            "[meta/llama-3.1-70b-instruct] error attempt 3: Error code: 400 - {'error': {'message': 'meta/llama-3.1-70b-instruct is not a valid model ID', 'code': 400}, 'user_id': 'user_34kLTCwLzW3rU64I3t6BoCIlFIw'}\n",
            "[meta/llama-3.1-70b-instruct] error attempt 1: Error code: 400 - {'error': {'message': 'meta/llama-3.1-70b-instruct is not a valid model ID', 'code': 400}, 'user_id': 'user_34kLTCwLzW3rU64I3t6BoCIlFIw'}\n",
            "[meta/llama-3.1-70b-instruct] error attempt 2: Error code: 400 - {'error': {'message': 'meta/llama-3.1-70b-instruct is not a valid model ID', 'code': 400}, 'user_id': 'user_34kLTCwLzW3rU64I3t6BoCIlFIw'}\n",
            "[meta/llama-3.1-70b-instruct] error attempt 3: Error code: 400 - {'error': {'message': 'meta/llama-3.1-70b-instruct is not a valid model ID', 'code': 400}, 'user_id': 'user_34kLTCwLzW3rU64I3t6BoCIlFIw'}\n"
          ]
        },
        {
          "output_type": "stream",
          "name": "stderr",
          "text": [
            "\rmeta/llama-3.1-70b-instruct:  40%|████      | 48/120 [09:59<15:08, 12.62s/it]"
          ]
        },
        {
          "output_type": "stream",
          "name": "stdout",
          "text": [
            "[meta/llama-3.1-70b-instruct] error attempt 1: Error code: 400 - {'error': {'message': 'meta/llama-3.1-70b-instruct is not a valid model ID', 'code': 400}, 'user_id': 'user_34kLTCwLzW3rU64I3t6BoCIlFIw'}\n",
            "[meta/llama-3.1-70b-instruct] error attempt 2: Error code: 400 - {'error': {'message': 'meta/llama-3.1-70b-instruct is not a valid model ID', 'code': 400}, 'user_id': 'user_34kLTCwLzW3rU64I3t6BoCIlFIw'}\n",
            "[meta/llama-3.1-70b-instruct] error attempt 3: Error code: 400 - {'error': {'message': 'meta/llama-3.1-70b-instruct is not a valid model ID', 'code': 400}, 'user_id': 'user_34kLTCwLzW3rU64I3t6BoCIlFIw'}\n",
            "[meta/llama-3.1-70b-instruct] error attempt 1: Error code: 400 - {'error': {'message': 'meta/llama-3.1-70b-instruct is not a valid model ID', 'code': 400}, 'user_id': 'user_34kLTCwLzW3rU64I3t6BoCIlFIw'}\n",
            "[meta/llama-3.1-70b-instruct] error attempt 2: Error code: 400 - {'error': {'message': 'meta/llama-3.1-70b-instruct is not a valid model ID', 'code': 400}, 'user_id': 'user_34kLTCwLzW3rU64I3t6BoCIlFIw'}\n",
            "[meta/llama-3.1-70b-instruct] error attempt 3: Error code: 400 - {'error': {'message': 'meta/llama-3.1-70b-instruct is not a valid model ID', 'code': 400}, 'user_id': 'user_34kLTCwLzW3rU64I3t6BoCIlFIw'}\n"
          ]
        },
        {
          "output_type": "stream",
          "name": "stderr",
          "text": [
            "\rmeta/llama-3.1-70b-instruct:  41%|████      | 49/120 [10:12<14:56, 12.63s/it]"
          ]
        },
        {
          "output_type": "stream",
          "name": "stdout",
          "text": [
            "[meta/llama-3.1-70b-instruct] error attempt 1: Error code: 400 - {'error': {'message': 'meta/llama-3.1-70b-instruct is not a valid model ID', 'code': 400}, 'user_id': 'user_34kLTCwLzW3rU64I3t6BoCIlFIw'}\n",
            "[meta/llama-3.1-70b-instruct] error attempt 2: Error code: 400 - {'error': {'message': 'meta/llama-3.1-70b-instruct is not a valid model ID', 'code': 400}, 'user_id': 'user_34kLTCwLzW3rU64I3t6BoCIlFIw'}\n",
            "[meta/llama-3.1-70b-instruct] error attempt 3: Error code: 400 - {'error': {'message': 'meta/llama-3.1-70b-instruct is not a valid model ID', 'code': 400}, 'user_id': 'user_34kLTCwLzW3rU64I3t6BoCIlFIw'}\n",
            "[meta/llama-3.1-70b-instruct] error attempt 1: Error code: 400 - {'error': {'message': 'meta/llama-3.1-70b-instruct is not a valid model ID', 'code': 400}, 'user_id': 'user_34kLTCwLzW3rU64I3t6BoCIlFIw'}\n",
            "[meta/llama-3.1-70b-instruct] error attempt 2: Error code: 400 - {'error': {'message': 'meta/llama-3.1-70b-instruct is not a valid model ID', 'code': 400}, 'user_id': 'user_34kLTCwLzW3rU64I3t6BoCIlFIw'}\n",
            "[meta/llama-3.1-70b-instruct] error attempt 3: Error code: 400 - {'error': {'message': 'meta/llama-3.1-70b-instruct is not a valid model ID', 'code': 400}, 'user_id': 'user_34kLTCwLzW3rU64I3t6BoCIlFIw'}\n"
          ]
        },
        {
          "output_type": "stream",
          "name": "stderr",
          "text": [
            "\rmeta/llama-3.1-70b-instruct:  42%|████▏     | 50/120 [10:24<14:43, 12.62s/it]"
          ]
        },
        {
          "output_type": "stream",
          "name": "stdout",
          "text": [
            "[meta/llama-3.1-70b-instruct] error attempt 1: Error code: 400 - {'error': {'message': 'meta/llama-3.1-70b-instruct is not a valid model ID', 'code': 400}, 'user_id': 'user_34kLTCwLzW3rU64I3t6BoCIlFIw'}\n",
            "[meta/llama-3.1-70b-instruct] error attempt 2: Error code: 400 - {'error': {'message': 'meta/llama-3.1-70b-instruct is not a valid model ID', 'code': 400}, 'user_id': 'user_34kLTCwLzW3rU64I3t6BoCIlFIw'}\n",
            "[meta/llama-3.1-70b-instruct] error attempt 3: Error code: 400 - {'error': {'message': 'meta/llama-3.1-70b-instruct is not a valid model ID', 'code': 400}, 'user_id': 'user_34kLTCwLzW3rU64I3t6BoCIlFIw'}\n",
            "[meta/llama-3.1-70b-instruct] error attempt 1: Error code: 400 - {'error': {'message': 'meta/llama-3.1-70b-instruct is not a valid model ID', 'code': 400}, 'user_id': 'user_34kLTCwLzW3rU64I3t6BoCIlFIw'}\n",
            "[meta/llama-3.1-70b-instruct] error attempt 2: Error code: 400 - {'error': {'message': 'meta/llama-3.1-70b-instruct is not a valid model ID', 'code': 400}, 'user_id': 'user_34kLTCwLzW3rU64I3t6BoCIlFIw'}\n",
            "[meta/llama-3.1-70b-instruct] error attempt 3: Error code: 400 - {'error': {'message': 'meta/llama-3.1-70b-instruct is not a valid model ID', 'code': 400}, 'user_id': 'user_34kLTCwLzW3rU64I3t6BoCIlFIw'}\n"
          ]
        },
        {
          "output_type": "stream",
          "name": "stderr",
          "text": [
            "\rmeta/llama-3.1-70b-instruct:  42%|████▎     | 51/120 [10:37<14:31, 12.63s/it]"
          ]
        },
        {
          "output_type": "stream",
          "name": "stdout",
          "text": [
            "[meta/llama-3.1-70b-instruct] error attempt 1: Error code: 400 - {'error': {'message': 'meta/llama-3.1-70b-instruct is not a valid model ID', 'code': 400}, 'user_id': 'user_34kLTCwLzW3rU64I3t6BoCIlFIw'}\n",
            "[meta/llama-3.1-70b-instruct] error attempt 2: Error code: 400 - {'error': {'message': 'meta/llama-3.1-70b-instruct is not a valid model ID', 'code': 400}, 'user_id': 'user_34kLTCwLzW3rU64I3t6BoCIlFIw'}\n",
            "[meta/llama-3.1-70b-instruct] error attempt 3: Error code: 400 - {'error': {'message': 'meta/llama-3.1-70b-instruct is not a valid model ID', 'code': 400}, 'user_id': 'user_34kLTCwLzW3rU64I3t6BoCIlFIw'}\n",
            "[meta/llama-3.1-70b-instruct] error attempt 1: Error code: 400 - {'error': {'message': 'meta/llama-3.1-70b-instruct is not a valid model ID', 'code': 400}, 'user_id': 'user_34kLTCwLzW3rU64I3t6BoCIlFIw'}\n",
            "[meta/llama-3.1-70b-instruct] error attempt 2: Error code: 400 - {'error': {'message': 'meta/llama-3.1-70b-instruct is not a valid model ID', 'code': 400}, 'user_id': 'user_34kLTCwLzW3rU64I3t6BoCIlFIw'}\n",
            "[meta/llama-3.1-70b-instruct] error attempt 3: Error code: 400 - {'error': {'message': 'meta/llama-3.1-70b-instruct is not a valid model ID', 'code': 400}, 'user_id': 'user_34kLTCwLzW3rU64I3t6BoCIlFIw'}\n"
          ]
        },
        {
          "output_type": "stream",
          "name": "stderr",
          "text": [
            "\rmeta/llama-3.1-70b-instruct:  43%|████▎     | 52/120 [10:49<14:17, 12.61s/it]"
          ]
        },
        {
          "output_type": "stream",
          "name": "stdout",
          "text": [
            "[meta/llama-3.1-70b-instruct] error attempt 1: Error code: 400 - {'error': {'message': 'meta/llama-3.1-70b-instruct is not a valid model ID', 'code': 400}, 'user_id': 'user_34kLTCwLzW3rU64I3t6BoCIlFIw'}\n",
            "[meta/llama-3.1-70b-instruct] error attempt 2: Error code: 400 - {'error': {'message': 'meta/llama-3.1-70b-instruct is not a valid model ID', 'code': 400}, 'user_id': 'user_34kLTCwLzW3rU64I3t6BoCIlFIw'}\n",
            "[meta/llama-3.1-70b-instruct] error attempt 3: Error code: 400 - {'error': {'message': 'meta/llama-3.1-70b-instruct is not a valid model ID', 'code': 400}, 'user_id': 'user_34kLTCwLzW3rU64I3t6BoCIlFIw'}\n",
            "[meta/llama-3.1-70b-instruct] error attempt 1: Error code: 400 - {'error': {'message': 'meta/llama-3.1-70b-instruct is not a valid model ID', 'code': 400}, 'user_id': 'user_34kLTCwLzW3rU64I3t6BoCIlFIw'}\n",
            "[meta/llama-3.1-70b-instruct] error attempt 2: Error code: 400 - {'error': {'message': 'meta/llama-3.1-70b-instruct is not a valid model ID', 'code': 400}, 'user_id': 'user_34kLTCwLzW3rU64I3t6BoCIlFIw'}\n",
            "[meta/llama-3.1-70b-instruct] error attempt 3: Error code: 400 - {'error': {'message': 'meta/llama-3.1-70b-instruct is not a valid model ID', 'code': 400}, 'user_id': 'user_34kLTCwLzW3rU64I3t6BoCIlFIw'}\n"
          ]
        },
        {
          "output_type": "stream",
          "name": "stderr",
          "text": [
            "\rmeta/llama-3.1-70b-instruct:  44%|████▍     | 53/120 [11:02<14:04, 12.60s/it]"
          ]
        },
        {
          "output_type": "stream",
          "name": "stdout",
          "text": [
            "[meta/llama-3.1-70b-instruct] error attempt 1: Error code: 400 - {'error': {'message': 'meta/llama-3.1-70b-instruct is not a valid model ID', 'code': 400}, 'user_id': 'user_34kLTCwLzW3rU64I3t6BoCIlFIw'}\n",
            "[meta/llama-3.1-70b-instruct] error attempt 2: Error code: 400 - {'error': {'message': 'meta/llama-3.1-70b-instruct is not a valid model ID', 'code': 400}, 'user_id': 'user_34kLTCwLzW3rU64I3t6BoCIlFIw'}\n",
            "[meta/llama-3.1-70b-instruct] error attempt 3: Error code: 400 - {'error': {'message': 'meta/llama-3.1-70b-instruct is not a valid model ID', 'code': 400}, 'user_id': 'user_34kLTCwLzW3rU64I3t6BoCIlFIw'}\n",
            "[meta/llama-3.1-70b-instruct] error attempt 1: Error code: 400 - {'error': {'message': 'meta/llama-3.1-70b-instruct is not a valid model ID', 'code': 400}, 'user_id': 'user_34kLTCwLzW3rU64I3t6BoCIlFIw'}\n",
            "[meta/llama-3.1-70b-instruct] error attempt 2: Error code: 400 - {'error': {'message': 'meta/llama-3.1-70b-instruct is not a valid model ID', 'code': 400}, 'user_id': 'user_34kLTCwLzW3rU64I3t6BoCIlFIw'}\n",
            "[meta/llama-3.1-70b-instruct] error attempt 3: Error code: 400 - {'error': {'message': 'meta/llama-3.1-70b-instruct is not a valid model ID', 'code': 400}, 'user_id': 'user_34kLTCwLzW3rU64I3t6BoCIlFIw'}\n"
          ]
        },
        {
          "output_type": "stream",
          "name": "stderr",
          "text": [
            "\rmeta/llama-3.1-70b-instruct:  45%|████▌     | 54/120 [11:14<13:49, 12.56s/it]"
          ]
        },
        {
          "output_type": "stream",
          "name": "stdout",
          "text": [
            "[meta/llama-3.1-70b-instruct] error attempt 1: Error code: 400 - {'error': {'message': 'meta/llama-3.1-70b-instruct is not a valid model ID', 'code': 400}, 'user_id': 'user_34kLTCwLzW3rU64I3t6BoCIlFIw'}\n",
            "[meta/llama-3.1-70b-instruct] error attempt 2: Error code: 400 - {'error': {'message': 'meta/llama-3.1-70b-instruct is not a valid model ID', 'code': 400}, 'user_id': 'user_34kLTCwLzW3rU64I3t6BoCIlFIw'}\n",
            "[meta/llama-3.1-70b-instruct] error attempt 3: Error code: 400 - {'error': {'message': 'meta/llama-3.1-70b-instruct is not a valid model ID', 'code': 400}, 'user_id': 'user_34kLTCwLzW3rU64I3t6BoCIlFIw'}\n",
            "[meta/llama-3.1-70b-instruct] error attempt 1: Error code: 400 - {'error': {'message': 'meta/llama-3.1-70b-instruct is not a valid model ID', 'code': 400}, 'user_id': 'user_34kLTCwLzW3rU64I3t6BoCIlFIw'}\n",
            "[meta/llama-3.1-70b-instruct] error attempt 2: Error code: 400 - {'error': {'message': 'meta/llama-3.1-70b-instruct is not a valid model ID', 'code': 400}, 'user_id': 'user_34kLTCwLzW3rU64I3t6BoCIlFIw'}\n",
            "[meta/llama-3.1-70b-instruct] error attempt 3: Error code: 400 - {'error': {'message': 'meta/llama-3.1-70b-instruct is not a valid model ID', 'code': 400}, 'user_id': 'user_34kLTCwLzW3rU64I3t6BoCIlFIw'}\n"
          ]
        },
        {
          "output_type": "stream",
          "name": "stderr",
          "text": [
            "\rmeta/llama-3.1-70b-instruct:  46%|████▌     | 55/120 [11:27<13:37, 12.57s/it]"
          ]
        },
        {
          "output_type": "stream",
          "name": "stdout",
          "text": [
            "[meta/llama-3.1-70b-instruct] error attempt 1: Error code: 400 - {'error': {'message': 'meta/llama-3.1-70b-instruct is not a valid model ID', 'code': 400}, 'user_id': 'user_34kLTCwLzW3rU64I3t6BoCIlFIw'}\n",
            "[meta/llama-3.1-70b-instruct] error attempt 2: Error code: 400 - {'error': {'message': 'meta/llama-3.1-70b-instruct is not a valid model ID', 'code': 400}, 'user_id': 'user_34kLTCwLzW3rU64I3t6BoCIlFIw'}\n",
            "[meta/llama-3.1-70b-instruct] error attempt 3: Error code: 400 - {'error': {'message': 'meta/llama-3.1-70b-instruct is not a valid model ID', 'code': 400}, 'user_id': 'user_34kLTCwLzW3rU64I3t6BoCIlFIw'}\n",
            "[meta/llama-3.1-70b-instruct] error attempt 1: Error code: 400 - {'error': {'message': 'meta/llama-3.1-70b-instruct is not a valid model ID', 'code': 400}, 'user_id': 'user_34kLTCwLzW3rU64I3t6BoCIlFIw'}\n",
            "[meta/llama-3.1-70b-instruct] error attempt 2: Error code: 400 - {'error': {'message': 'meta/llama-3.1-70b-instruct is not a valid model ID', 'code': 400}, 'user_id': 'user_34kLTCwLzW3rU64I3t6BoCIlFIw'}\n",
            "[meta/llama-3.1-70b-instruct] error attempt 3: Error code: 400 - {'error': {'message': 'meta/llama-3.1-70b-instruct is not a valid model ID', 'code': 400}, 'user_id': 'user_34kLTCwLzW3rU64I3t6BoCIlFIw'}\n"
          ]
        },
        {
          "output_type": "stream",
          "name": "stderr",
          "text": [
            "\rmeta/llama-3.1-70b-instruct:  47%|████▋     | 56/120 [11:40<13:23, 12.55s/it]"
          ]
        },
        {
          "output_type": "stream",
          "name": "stdout",
          "text": [
            "[meta/llama-3.1-70b-instruct] error attempt 1: Error code: 400 - {'error': {'message': 'meta/llama-3.1-70b-instruct is not a valid model ID', 'code': 400}, 'user_id': 'user_34kLTCwLzW3rU64I3t6BoCIlFIw'}\n",
            "[meta/llama-3.1-70b-instruct] error attempt 2: Error code: 400 - {'error': {'message': 'meta/llama-3.1-70b-instruct is not a valid model ID', 'code': 400}, 'user_id': 'user_34kLTCwLzW3rU64I3t6BoCIlFIw'}\n",
            "[meta/llama-3.1-70b-instruct] error attempt 3: Error code: 400 - {'error': {'message': 'meta/llama-3.1-70b-instruct is not a valid model ID', 'code': 400}, 'user_id': 'user_34kLTCwLzW3rU64I3t6BoCIlFIw'}\n",
            "[meta/llama-3.1-70b-instruct] error attempt 1: Error code: 400 - {'error': {'message': 'meta/llama-3.1-70b-instruct is not a valid model ID', 'code': 400}, 'user_id': 'user_34kLTCwLzW3rU64I3t6BoCIlFIw'}\n",
            "[meta/llama-3.1-70b-instruct] error attempt 2: Error code: 400 - {'error': {'message': 'meta/llama-3.1-70b-instruct is not a valid model ID', 'code': 400}, 'user_id': 'user_34kLTCwLzW3rU64I3t6BoCIlFIw'}\n",
            "[meta/llama-3.1-70b-instruct] error attempt 3: Error code: 400 - {'error': {'message': 'meta/llama-3.1-70b-instruct is not a valid model ID', 'code': 400}, 'user_id': 'user_34kLTCwLzW3rU64I3t6BoCIlFIw'}\n"
          ]
        },
        {
          "output_type": "stream",
          "name": "stderr",
          "text": [
            "\rmeta/llama-3.1-70b-instruct:  48%|████▊     | 57/120 [11:52<13:10, 12.54s/it]"
          ]
        },
        {
          "output_type": "stream",
          "name": "stdout",
          "text": [
            "[meta/llama-3.1-70b-instruct] error attempt 1: Error code: 400 - {'error': {'message': 'meta/llama-3.1-70b-instruct is not a valid model ID', 'code': 400}, 'user_id': 'user_34kLTCwLzW3rU64I3t6BoCIlFIw'}\n",
            "[meta/llama-3.1-70b-instruct] error attempt 2: Error code: 400 - {'error': {'message': 'meta/llama-3.1-70b-instruct is not a valid model ID', 'code': 400}, 'user_id': 'user_34kLTCwLzW3rU64I3t6BoCIlFIw'}\n",
            "[meta/llama-3.1-70b-instruct] error attempt 3: Error code: 400 - {'error': {'message': 'meta/llama-3.1-70b-instruct is not a valid model ID', 'code': 400}, 'user_id': 'user_34kLTCwLzW3rU64I3t6BoCIlFIw'}\n",
            "[meta/llama-3.1-70b-instruct] error attempt 1: Error code: 400 - {'error': {'message': 'meta/llama-3.1-70b-instruct is not a valid model ID', 'code': 400}, 'user_id': 'user_34kLTCwLzW3rU64I3t6BoCIlFIw'}\n",
            "[meta/llama-3.1-70b-instruct] error attempt 2: Error code: 400 - {'error': {'message': 'meta/llama-3.1-70b-instruct is not a valid model ID', 'code': 400}, 'user_id': 'user_34kLTCwLzW3rU64I3t6BoCIlFIw'}\n",
            "[meta/llama-3.1-70b-instruct] error attempt 3: Error code: 400 - {'error': {'message': 'meta/llama-3.1-70b-instruct is not a valid model ID', 'code': 400}, 'user_id': 'user_34kLTCwLzW3rU64I3t6BoCIlFIw'}\n"
          ]
        },
        {
          "output_type": "stream",
          "name": "stderr",
          "text": [
            "\rmeta/llama-3.1-70b-instruct:  48%|████▊     | 58/120 [12:04<12:54, 12.49s/it]"
          ]
        },
        {
          "output_type": "stream",
          "name": "stdout",
          "text": [
            "[meta/llama-3.1-70b-instruct] error attempt 1: Error code: 400 - {'error': {'message': 'meta/llama-3.1-70b-instruct is not a valid model ID', 'code': 400}, 'user_id': 'user_34kLTCwLzW3rU64I3t6BoCIlFIw'}\n",
            "[meta/llama-3.1-70b-instruct] error attempt 2: Error code: 400 - {'error': {'message': 'meta/llama-3.1-70b-instruct is not a valid model ID', 'code': 400}, 'user_id': 'user_34kLTCwLzW3rU64I3t6BoCIlFIw'}\n",
            "[meta/llama-3.1-70b-instruct] error attempt 3: Error code: 400 - {'error': {'message': 'meta/llama-3.1-70b-instruct is not a valid model ID', 'code': 400}, 'user_id': 'user_34kLTCwLzW3rU64I3t6BoCIlFIw'}\n",
            "[meta/llama-3.1-70b-instruct] error attempt 1: Error code: 400 - {'error': {'message': 'meta/llama-3.1-70b-instruct is not a valid model ID', 'code': 400}, 'user_id': 'user_34kLTCwLzW3rU64I3t6BoCIlFIw'}\n",
            "[meta/llama-3.1-70b-instruct] error attempt 2: Error code: 400 - {'error': {'message': 'meta/llama-3.1-70b-instruct is not a valid model ID', 'code': 400}, 'user_id': 'user_34kLTCwLzW3rU64I3t6BoCIlFIw'}\n",
            "[meta/llama-3.1-70b-instruct] error attempt 3: Error code: 400 - {'error': {'message': 'meta/llama-3.1-70b-instruct is not a valid model ID', 'code': 400}, 'user_id': 'user_34kLTCwLzW3rU64I3t6BoCIlFIw'}\n"
          ]
        },
        {
          "output_type": "stream",
          "name": "stderr",
          "text": [
            "\rmeta/llama-3.1-70b-instruct:  49%|████▉     | 59/120 [12:17<12:39, 12.45s/it]"
          ]
        },
        {
          "output_type": "stream",
          "name": "stdout",
          "text": [
            "[meta/llama-3.1-70b-instruct] error attempt 1: Error code: 400 - {'error': {'message': 'meta/llama-3.1-70b-instruct is not a valid model ID', 'code': 400}, 'user_id': 'user_34kLTCwLzW3rU64I3t6BoCIlFIw'}\n",
            "[meta/llama-3.1-70b-instruct] error attempt 2: Error code: 400 - {'error': {'message': 'meta/llama-3.1-70b-instruct is not a valid model ID', 'code': 400}, 'user_id': 'user_34kLTCwLzW3rU64I3t6BoCIlFIw'}\n",
            "[meta/llama-3.1-70b-instruct] error attempt 3: Error code: 400 - {'error': {'message': 'meta/llama-3.1-70b-instruct is not a valid model ID', 'code': 400}, 'user_id': 'user_34kLTCwLzW3rU64I3t6BoCIlFIw'}\n",
            "[meta/llama-3.1-70b-instruct] error attempt 1: Error code: 400 - {'error': {'message': 'meta/llama-3.1-70b-instruct is not a valid model ID', 'code': 400}, 'user_id': 'user_34kLTCwLzW3rU64I3t6BoCIlFIw'}\n",
            "[meta/llama-3.1-70b-instruct] error attempt 2: Error code: 400 - {'error': {'message': 'meta/llama-3.1-70b-instruct is not a valid model ID', 'code': 400}, 'user_id': 'user_34kLTCwLzW3rU64I3t6BoCIlFIw'}\n",
            "[meta/llama-3.1-70b-instruct] error attempt 3: Error code: 400 - {'error': {'message': 'meta/llama-3.1-70b-instruct is not a valid model ID', 'code': 400}, 'user_id': 'user_34kLTCwLzW3rU64I3t6BoCIlFIw'}\n"
          ]
        },
        {
          "output_type": "stream",
          "name": "stderr",
          "text": [
            "\rmeta/llama-3.1-70b-instruct:  50%|█████     | 60/120 [12:29<12:26, 12.45s/it]"
          ]
        },
        {
          "output_type": "stream",
          "name": "stdout",
          "text": [
            "[meta/llama-3.1-70b-instruct] error attempt 1: Error code: 400 - {'error': {'message': 'meta/llama-3.1-70b-instruct is not a valid model ID', 'code': 400}, 'user_id': 'user_34kLTCwLzW3rU64I3t6BoCIlFIw'}\n",
            "[meta/llama-3.1-70b-instruct] error attempt 2: Error code: 400 - {'error': {'message': 'meta/llama-3.1-70b-instruct is not a valid model ID', 'code': 400}, 'user_id': 'user_34kLTCwLzW3rU64I3t6BoCIlFIw'}\n",
            "[meta/llama-3.1-70b-instruct] error attempt 3: Error code: 400 - {'error': {'message': 'meta/llama-3.1-70b-instruct is not a valid model ID', 'code': 400}, 'user_id': 'user_34kLTCwLzW3rU64I3t6BoCIlFIw'}\n",
            "[meta/llama-3.1-70b-instruct] error attempt 1: Error code: 400 - {'error': {'message': 'meta/llama-3.1-70b-instruct is not a valid model ID', 'code': 400}, 'user_id': 'user_34kLTCwLzW3rU64I3t6BoCIlFIw'}\n",
            "[meta/llama-3.1-70b-instruct] error attempt 2: Error code: 400 - {'error': {'message': 'meta/llama-3.1-70b-instruct is not a valid model ID', 'code': 400}, 'user_id': 'user_34kLTCwLzW3rU64I3t6BoCIlFIw'}\n",
            "[meta/llama-3.1-70b-instruct] error attempt 3: Error code: 400 - {'error': {'message': 'meta/llama-3.1-70b-instruct is not a valid model ID', 'code': 400}, 'user_id': 'user_34kLTCwLzW3rU64I3t6BoCIlFIw'}\n"
          ]
        },
        {
          "output_type": "stream",
          "name": "stderr",
          "text": [
            "\rmeta/llama-3.1-70b-instruct:  51%|█████     | 61/120 [12:42<12:14, 12.44s/it]"
          ]
        },
        {
          "output_type": "stream",
          "name": "stdout",
          "text": [
            "[meta/llama-3.1-70b-instruct] error attempt 1: Error code: 400 - {'error': {'message': 'meta/llama-3.1-70b-instruct is not a valid model ID', 'code': 400}, 'user_id': 'user_34kLTCwLzW3rU64I3t6BoCIlFIw'}\n",
            "[meta/llama-3.1-70b-instruct] error attempt 2: Error code: 400 - {'error': {'message': 'meta/llama-3.1-70b-instruct is not a valid model ID', 'code': 400}, 'user_id': 'user_34kLTCwLzW3rU64I3t6BoCIlFIw'}\n",
            "[meta/llama-3.1-70b-instruct] error attempt 3: Error code: 400 - {'error': {'message': 'meta/llama-3.1-70b-instruct is not a valid model ID', 'code': 400}, 'user_id': 'user_34kLTCwLzW3rU64I3t6BoCIlFIw'}\n",
            "[meta/llama-3.1-70b-instruct] error attempt 1: Error code: 400 - {'error': {'message': 'meta/llama-3.1-70b-instruct is not a valid model ID', 'code': 400}, 'user_id': 'user_34kLTCwLzW3rU64I3t6BoCIlFIw'}\n",
            "[meta/llama-3.1-70b-instruct] error attempt 2: Error code: 400 - {'error': {'message': 'meta/llama-3.1-70b-instruct is not a valid model ID', 'code': 400}, 'user_id': 'user_34kLTCwLzW3rU64I3t6BoCIlFIw'}\n",
            "[meta/llama-3.1-70b-instruct] error attempt 3: Error code: 400 - {'error': {'message': 'meta/llama-3.1-70b-instruct is not a valid model ID', 'code': 400}, 'user_id': 'user_34kLTCwLzW3rU64I3t6BoCIlFIw'}\n"
          ]
        },
        {
          "output_type": "stream",
          "name": "stderr",
          "text": [
            "\rmeta/llama-3.1-70b-instruct:  52%|█████▏    | 62/120 [12:54<12:01, 12.44s/it]"
          ]
        },
        {
          "output_type": "stream",
          "name": "stdout",
          "text": [
            "[meta/llama-3.1-70b-instruct] error attempt 1: Error code: 400 - {'error': {'message': 'meta/llama-3.1-70b-instruct is not a valid model ID', 'code': 400}, 'user_id': 'user_34kLTCwLzW3rU64I3t6BoCIlFIw'}\n",
            "[meta/llama-3.1-70b-instruct] error attempt 2: Error code: 400 - {'error': {'message': 'meta/llama-3.1-70b-instruct is not a valid model ID', 'code': 400}, 'user_id': 'user_34kLTCwLzW3rU64I3t6BoCIlFIw'}\n",
            "[meta/llama-3.1-70b-instruct] error attempt 3: Error code: 400 - {'error': {'message': 'meta/llama-3.1-70b-instruct is not a valid model ID', 'code': 400}, 'user_id': 'user_34kLTCwLzW3rU64I3t6BoCIlFIw'}\n",
            "[meta/llama-3.1-70b-instruct] error attempt 1: Error code: 400 - {'error': {'message': 'meta/llama-3.1-70b-instruct is not a valid model ID', 'code': 400}, 'user_id': 'user_34kLTCwLzW3rU64I3t6BoCIlFIw'}\n",
            "[meta/llama-3.1-70b-instruct] error attempt 2: Error code: 400 - {'error': {'message': 'meta/llama-3.1-70b-instruct is not a valid model ID', 'code': 400}, 'user_id': 'user_34kLTCwLzW3rU64I3t6BoCIlFIw'}\n",
            "[meta/llama-3.1-70b-instruct] error attempt 3: Error code: 400 - {'error': {'message': 'meta/llama-3.1-70b-instruct is not a valid model ID', 'code': 400}, 'user_id': 'user_34kLTCwLzW3rU64I3t6BoCIlFIw'}\n"
          ]
        },
        {
          "output_type": "stream",
          "name": "stderr",
          "text": [
            "\rmeta/llama-3.1-70b-instruct:  52%|█████▎    | 63/120 [13:06<11:47, 12.41s/it]"
          ]
        },
        {
          "output_type": "stream",
          "name": "stdout",
          "text": [
            "[meta/llama-3.1-70b-instruct] error attempt 1: Error code: 400 - {'error': {'message': 'meta/llama-3.1-70b-instruct is not a valid model ID', 'code': 400}, 'user_id': 'user_34kLTCwLzW3rU64I3t6BoCIlFIw'}\n",
            "[meta/llama-3.1-70b-instruct] error attempt 2: Error code: 400 - {'error': {'message': 'meta/llama-3.1-70b-instruct is not a valid model ID', 'code': 400}, 'user_id': 'user_34kLTCwLzW3rU64I3t6BoCIlFIw'}\n",
            "[meta/llama-3.1-70b-instruct] error attempt 3: Error code: 400 - {'error': {'message': 'meta/llama-3.1-70b-instruct is not a valid model ID', 'code': 400}, 'user_id': 'user_34kLTCwLzW3rU64I3t6BoCIlFIw'}\n",
            "[meta/llama-3.1-70b-instruct] error attempt 1: Error code: 400 - {'error': {'message': 'meta/llama-3.1-70b-instruct is not a valid model ID', 'code': 400}, 'user_id': 'user_34kLTCwLzW3rU64I3t6BoCIlFIw'}\n",
            "[meta/llama-3.1-70b-instruct] error attempt 2: Error code: 400 - {'error': {'message': 'meta/llama-3.1-70b-instruct is not a valid model ID', 'code': 400}, 'user_id': 'user_34kLTCwLzW3rU64I3t6BoCIlFIw'}\n",
            "[meta/llama-3.1-70b-instruct] error attempt 3: Error code: 400 - {'error': {'message': 'meta/llama-3.1-70b-instruct is not a valid model ID', 'code': 400}, 'user_id': 'user_34kLTCwLzW3rU64I3t6BoCIlFIw'}\n"
          ]
        },
        {
          "output_type": "stream",
          "name": "stderr",
          "text": [
            "\rmeta/llama-3.1-70b-instruct:  53%|█████▎    | 64/120 [13:19<11:33, 12.38s/it]"
          ]
        },
        {
          "output_type": "stream",
          "name": "stdout",
          "text": [
            "[meta/llama-3.1-70b-instruct] error attempt 1: Error code: 400 - {'error': {'message': 'meta/llama-3.1-70b-instruct is not a valid model ID', 'code': 400}, 'user_id': 'user_34kLTCwLzW3rU64I3t6BoCIlFIw'}\n",
            "[meta/llama-3.1-70b-instruct] error attempt 2: Error code: 400 - {'error': {'message': 'meta/llama-3.1-70b-instruct is not a valid model ID', 'code': 400}, 'user_id': 'user_34kLTCwLzW3rU64I3t6BoCIlFIw'}\n",
            "[meta/llama-3.1-70b-instruct] error attempt 3: Error code: 400 - {'error': {'message': 'meta/llama-3.1-70b-instruct is not a valid model ID', 'code': 400}, 'user_id': 'user_34kLTCwLzW3rU64I3t6BoCIlFIw'}\n",
            "[meta/llama-3.1-70b-instruct] error attempt 1: Error code: 400 - {'error': {'message': 'meta/llama-3.1-70b-instruct is not a valid model ID', 'code': 400}, 'user_id': 'user_34kLTCwLzW3rU64I3t6BoCIlFIw'}\n",
            "[meta/llama-3.1-70b-instruct] error attempt 2: Error code: 400 - {'error': {'message': 'meta/llama-3.1-70b-instruct is not a valid model ID', 'code': 400}, 'user_id': 'user_34kLTCwLzW3rU64I3t6BoCIlFIw'}\n",
            "[meta/llama-3.1-70b-instruct] error attempt 3: Error code: 400 - {'error': {'message': 'meta/llama-3.1-70b-instruct is not a valid model ID', 'code': 400}, 'user_id': 'user_34kLTCwLzW3rU64I3t6BoCIlFIw'}\n"
          ]
        },
        {
          "output_type": "stream",
          "name": "stderr",
          "text": [
            "\rmeta/llama-3.1-70b-instruct:  54%|█████▍    | 65/120 [13:31<11:22, 12.41s/it]"
          ]
        },
        {
          "output_type": "stream",
          "name": "stdout",
          "text": [
            "[meta/llama-3.1-70b-instruct] error attempt 1: Error code: 400 - {'error': {'message': 'meta/llama-3.1-70b-instruct is not a valid model ID', 'code': 400}, 'user_id': 'user_34kLTCwLzW3rU64I3t6BoCIlFIw'}\n",
            "[meta/llama-3.1-70b-instruct] error attempt 2: Error code: 400 - {'error': {'message': 'meta/llama-3.1-70b-instruct is not a valid model ID', 'code': 400}, 'user_id': 'user_34kLTCwLzW3rU64I3t6BoCIlFIw'}\n",
            "[meta/llama-3.1-70b-instruct] error attempt 3: Error code: 400 - {'error': {'message': 'meta/llama-3.1-70b-instruct is not a valid model ID', 'code': 400}, 'user_id': 'user_34kLTCwLzW3rU64I3t6BoCIlFIw'}\n",
            "[meta/llama-3.1-70b-instruct] error attempt 1: Error code: 400 - {'error': {'message': 'meta/llama-3.1-70b-instruct is not a valid model ID', 'code': 400}, 'user_id': 'user_34kLTCwLzW3rU64I3t6BoCIlFIw'}\n",
            "[meta/llama-3.1-70b-instruct] error attempt 2: Error code: 400 - {'error': {'message': 'meta/llama-3.1-70b-instruct is not a valid model ID', 'code': 400}, 'user_id': 'user_34kLTCwLzW3rU64I3t6BoCIlFIw'}\n",
            "[meta/llama-3.1-70b-instruct] error attempt 3: Error code: 400 - {'error': {'message': 'meta/llama-3.1-70b-instruct is not a valid model ID', 'code': 400}, 'user_id': 'user_34kLTCwLzW3rU64I3t6BoCIlFIw'}\n"
          ]
        },
        {
          "output_type": "stream",
          "name": "stderr",
          "text": [
            "\rmeta/llama-3.1-70b-instruct:  55%|█████▌    | 66/120 [13:44<11:10, 12.41s/it]"
          ]
        },
        {
          "output_type": "stream",
          "name": "stdout",
          "text": [
            "[meta/llama-3.1-70b-instruct] error attempt 1: Error code: 400 - {'error': {'message': 'meta/llama-3.1-70b-instruct is not a valid model ID', 'code': 400}, 'user_id': 'user_34kLTCwLzW3rU64I3t6BoCIlFIw'}\n",
            "[meta/llama-3.1-70b-instruct] error attempt 2: Error code: 400 - {'error': {'message': 'meta/llama-3.1-70b-instruct is not a valid model ID', 'code': 400}, 'user_id': 'user_34kLTCwLzW3rU64I3t6BoCIlFIw'}\n",
            "[meta/llama-3.1-70b-instruct] error attempt 3: Error code: 400 - {'error': {'message': 'meta/llama-3.1-70b-instruct is not a valid model ID', 'code': 400}, 'user_id': 'user_34kLTCwLzW3rU64I3t6BoCIlFIw'}\n",
            "[meta/llama-3.1-70b-instruct] error attempt 1: Error code: 400 - {'error': {'message': 'meta/llama-3.1-70b-instruct is not a valid model ID', 'code': 400}, 'user_id': 'user_34kLTCwLzW3rU64I3t6BoCIlFIw'}\n",
            "[meta/llama-3.1-70b-instruct] error attempt 2: Error code: 400 - {'error': {'message': 'meta/llama-3.1-70b-instruct is not a valid model ID', 'code': 400}, 'user_id': 'user_34kLTCwLzW3rU64I3t6BoCIlFIw'}\n",
            "[meta/llama-3.1-70b-instruct] error attempt 3: Error code: 400 - {'error': {'message': 'meta/llama-3.1-70b-instruct is not a valid model ID', 'code': 400}, 'user_id': 'user_34kLTCwLzW3rU64I3t6BoCIlFIw'}\n"
          ]
        },
        {
          "output_type": "stream",
          "name": "stderr",
          "text": [
            "\rmeta/llama-3.1-70b-instruct:  56%|█████▌    | 67/120 [13:56<10:56, 12.39s/it]"
          ]
        },
        {
          "output_type": "stream",
          "name": "stdout",
          "text": [
            "[meta/llama-3.1-70b-instruct] error attempt 1: Error code: 400 - {'error': {'message': 'meta/llama-3.1-70b-instruct is not a valid model ID', 'code': 400}, 'user_id': 'user_34kLTCwLzW3rU64I3t6BoCIlFIw'}\n",
            "[meta/llama-3.1-70b-instruct] error attempt 2: Error code: 400 - {'error': {'message': 'meta/llama-3.1-70b-instruct is not a valid model ID', 'code': 400}, 'user_id': 'user_34kLTCwLzW3rU64I3t6BoCIlFIw'}\n",
            "[meta/llama-3.1-70b-instruct] error attempt 3: Error code: 400 - {'error': {'message': 'meta/llama-3.1-70b-instruct is not a valid model ID', 'code': 400}, 'user_id': 'user_34kLTCwLzW3rU64I3t6BoCIlFIw'}\n",
            "[meta/llama-3.1-70b-instruct] error attempt 1: Error code: 400 - {'error': {'message': 'meta/llama-3.1-70b-instruct is not a valid model ID', 'code': 400}, 'user_id': 'user_34kLTCwLzW3rU64I3t6BoCIlFIw'}\n",
            "[meta/llama-3.1-70b-instruct] error attempt 2: Error code: 400 - {'error': {'message': 'meta/llama-3.1-70b-instruct is not a valid model ID', 'code': 400}, 'user_id': 'user_34kLTCwLzW3rU64I3t6BoCIlFIw'}\n",
            "[meta/llama-3.1-70b-instruct] error attempt 3: Error code: 400 - {'error': {'message': 'meta/llama-3.1-70b-instruct is not a valid model ID', 'code': 400}, 'user_id': 'user_34kLTCwLzW3rU64I3t6BoCIlFIw'}\n"
          ]
        },
        {
          "output_type": "stream",
          "name": "stderr",
          "text": [
            "\rmeta/llama-3.1-70b-instruct:  57%|█████▋    | 68/120 [14:08<10:43, 12.38s/it]"
          ]
        },
        {
          "output_type": "stream",
          "name": "stdout",
          "text": [
            "[meta/llama-3.1-70b-instruct] error attempt 1: Error code: 400 - {'error': {'message': 'meta/llama-3.1-70b-instruct is not a valid model ID', 'code': 400}, 'user_id': 'user_34kLTCwLzW3rU64I3t6BoCIlFIw'}\n",
            "[meta/llama-3.1-70b-instruct] error attempt 2: Error code: 400 - {'error': {'message': 'meta/llama-3.1-70b-instruct is not a valid model ID', 'code': 400}, 'user_id': 'user_34kLTCwLzW3rU64I3t6BoCIlFIw'}\n",
            "[meta/llama-3.1-70b-instruct] error attempt 3: Error code: 400 - {'error': {'message': 'meta/llama-3.1-70b-instruct is not a valid model ID', 'code': 400}, 'user_id': 'user_34kLTCwLzW3rU64I3t6BoCIlFIw'}\n",
            "[meta/llama-3.1-70b-instruct] error attempt 1: Error code: 400 - {'error': {'message': 'meta/llama-3.1-70b-instruct is not a valid model ID', 'code': 400}, 'user_id': 'user_34kLTCwLzW3rU64I3t6BoCIlFIw'}\n",
            "[meta/llama-3.1-70b-instruct] error attempt 2: Error code: 400 - {'error': {'message': 'meta/llama-3.1-70b-instruct is not a valid model ID', 'code': 400}, 'user_id': 'user_34kLTCwLzW3rU64I3t6BoCIlFIw'}\n",
            "[meta/llama-3.1-70b-instruct] error attempt 3: Error code: 400 - {'error': {'message': 'meta/llama-3.1-70b-instruct is not a valid model ID', 'code': 400}, 'user_id': 'user_34kLTCwLzW3rU64I3t6BoCIlFIw'}\n"
          ]
        },
        {
          "output_type": "stream",
          "name": "stderr",
          "text": [
            "\rmeta/llama-3.1-70b-instruct:  57%|█████▊    | 69/120 [14:21<10:32, 12.40s/it]"
          ]
        },
        {
          "output_type": "stream",
          "name": "stdout",
          "text": [
            "[meta/llama-3.1-70b-instruct] error attempt 1: Error code: 400 - {'error': {'message': 'meta/llama-3.1-70b-instruct is not a valid model ID', 'code': 400}, 'user_id': 'user_34kLTCwLzW3rU64I3t6BoCIlFIw'}\n",
            "[meta/llama-3.1-70b-instruct] error attempt 2: Error code: 400 - {'error': {'message': 'meta/llama-3.1-70b-instruct is not a valid model ID', 'code': 400}, 'user_id': 'user_34kLTCwLzW3rU64I3t6BoCIlFIw'}\n",
            "[meta/llama-3.1-70b-instruct] error attempt 3: Error code: 400 - {'error': {'message': 'meta/llama-3.1-70b-instruct is not a valid model ID', 'code': 400}, 'user_id': 'user_34kLTCwLzW3rU64I3t6BoCIlFIw'}\n",
            "[meta/llama-3.1-70b-instruct] error attempt 1: Error code: 400 - {'error': {'message': 'meta/llama-3.1-70b-instruct is not a valid model ID', 'code': 400}, 'user_id': 'user_34kLTCwLzW3rU64I3t6BoCIlFIw'}\n",
            "[meta/llama-3.1-70b-instruct] error attempt 2: Error code: 400 - {'error': {'message': 'meta/llama-3.1-70b-instruct is not a valid model ID', 'code': 400}, 'user_id': 'user_34kLTCwLzW3rU64I3t6BoCIlFIw'}\n",
            "[meta/llama-3.1-70b-instruct] error attempt 3: Error code: 400 - {'error': {'message': 'meta/llama-3.1-70b-instruct is not a valid model ID', 'code': 400}, 'user_id': 'user_34kLTCwLzW3rU64I3t6BoCIlFIw'}\n"
          ]
        },
        {
          "output_type": "stream",
          "name": "stderr",
          "text": [
            "\rmeta/llama-3.1-70b-instruct:  58%|█████▊    | 70/120 [14:33<10:22, 12.45s/it]"
          ]
        },
        {
          "output_type": "stream",
          "name": "stdout",
          "text": [
            "[meta/llama-3.1-70b-instruct] error attempt 1: Error code: 400 - {'error': {'message': 'meta/llama-3.1-70b-instruct is not a valid model ID', 'code': 400}, 'user_id': 'user_34kLTCwLzW3rU64I3t6BoCIlFIw'}\n",
            "[meta/llama-3.1-70b-instruct] error attempt 2: Error code: 400 - {'error': {'message': 'meta/llama-3.1-70b-instruct is not a valid model ID', 'code': 400}, 'user_id': 'user_34kLTCwLzW3rU64I3t6BoCIlFIw'}\n",
            "[meta/llama-3.1-70b-instruct] error attempt 3: Error code: 400 - {'error': {'message': 'meta/llama-3.1-70b-instruct is not a valid model ID', 'code': 400}, 'user_id': 'user_34kLTCwLzW3rU64I3t6BoCIlFIw'}\n",
            "[meta/llama-3.1-70b-instruct] error attempt 1: Error code: 400 - {'error': {'message': 'meta/llama-3.1-70b-instruct is not a valid model ID', 'code': 400}, 'user_id': 'user_34kLTCwLzW3rU64I3t6BoCIlFIw'}\n",
            "[meta/llama-3.1-70b-instruct] error attempt 2: Error code: 400 - {'error': {'message': 'meta/llama-3.1-70b-instruct is not a valid model ID', 'code': 400}, 'user_id': 'user_34kLTCwLzW3rU64I3t6BoCIlFIw'}\n",
            "[meta/llama-3.1-70b-instruct] error attempt 3: Error code: 400 - {'error': {'message': 'meta/llama-3.1-70b-instruct is not a valid model ID', 'code': 400}, 'user_id': 'user_34kLTCwLzW3rU64I3t6BoCIlFIw'}\n"
          ]
        },
        {
          "output_type": "stream",
          "name": "stderr",
          "text": [
            "\rmeta/llama-3.1-70b-instruct:  59%|█████▉    | 71/120 [14:46<10:09, 12.43s/it]"
          ]
        },
        {
          "output_type": "stream",
          "name": "stdout",
          "text": [
            "[meta/llama-3.1-70b-instruct] error attempt 1: Error code: 400 - {'error': {'message': 'meta/llama-3.1-70b-instruct is not a valid model ID', 'code': 400}, 'user_id': 'user_34kLTCwLzW3rU64I3t6BoCIlFIw'}\n",
            "[meta/llama-3.1-70b-instruct] error attempt 2: Error code: 400 - {'error': {'message': 'meta/llama-3.1-70b-instruct is not a valid model ID', 'code': 400}, 'user_id': 'user_34kLTCwLzW3rU64I3t6BoCIlFIw'}\n",
            "[meta/llama-3.1-70b-instruct] error attempt 3: Error code: 400 - {'error': {'message': 'meta/llama-3.1-70b-instruct is not a valid model ID', 'code': 400}, 'user_id': 'user_34kLTCwLzW3rU64I3t6BoCIlFIw'}\n",
            "[meta/llama-3.1-70b-instruct] error attempt 1: Error code: 400 - {'error': {'message': 'meta/llama-3.1-70b-instruct is not a valid model ID', 'code': 400}, 'user_id': 'user_34kLTCwLzW3rU64I3t6BoCIlFIw'}\n",
            "[meta/llama-3.1-70b-instruct] error attempt 2: Error code: 400 - {'error': {'message': 'meta/llama-3.1-70b-instruct is not a valid model ID', 'code': 400}, 'user_id': 'user_34kLTCwLzW3rU64I3t6BoCIlFIw'}\n",
            "[meta/llama-3.1-70b-instruct] error attempt 3: Error code: 400 - {'error': {'message': 'meta/llama-3.1-70b-instruct is not a valid model ID', 'code': 400}, 'user_id': 'user_34kLTCwLzW3rU64I3t6BoCIlFIw'}\n"
          ]
        },
        {
          "output_type": "stream",
          "name": "stderr",
          "text": [
            "\rmeta/llama-3.1-70b-instruct:  60%|██████    | 72/120 [14:58<09:55, 12.40s/it]"
          ]
        },
        {
          "output_type": "stream",
          "name": "stdout",
          "text": [
            "[meta/llama-3.1-70b-instruct] error attempt 1: Error code: 400 - {'error': {'message': 'meta/llama-3.1-70b-instruct is not a valid model ID', 'code': 400}, 'user_id': 'user_34kLTCwLzW3rU64I3t6BoCIlFIw'}\n",
            "[meta/llama-3.1-70b-instruct] error attempt 2: Error code: 400 - {'error': {'message': 'meta/llama-3.1-70b-instruct is not a valid model ID', 'code': 400}, 'user_id': 'user_34kLTCwLzW3rU64I3t6BoCIlFIw'}\n",
            "[meta/llama-3.1-70b-instruct] error attempt 3: Error code: 400 - {'error': {'message': 'meta/llama-3.1-70b-instruct is not a valid model ID', 'code': 400}, 'user_id': 'user_34kLTCwLzW3rU64I3t6BoCIlFIw'}\n",
            "[meta/llama-3.1-70b-instruct] error attempt 1: Error code: 400 - {'error': {'message': 'meta/llama-3.1-70b-instruct is not a valid model ID', 'code': 400}, 'user_id': 'user_34kLTCwLzW3rU64I3t6BoCIlFIw'}\n",
            "[meta/llama-3.1-70b-instruct] error attempt 2: Error code: 400 - {'error': {'message': 'meta/llama-3.1-70b-instruct is not a valid model ID', 'code': 400}, 'user_id': 'user_34kLTCwLzW3rU64I3t6BoCIlFIw'}\n",
            "[meta/llama-3.1-70b-instruct] error attempt 3: Error code: 400 - {'error': {'message': 'meta/llama-3.1-70b-instruct is not a valid model ID', 'code': 400}, 'user_id': 'user_34kLTCwLzW3rU64I3t6BoCIlFIw'}\n"
          ]
        },
        {
          "output_type": "stream",
          "name": "stderr",
          "text": [
            "\rmeta/llama-3.1-70b-instruct:  61%|██████    | 73/120 [15:10<09:42, 12.39s/it]"
          ]
        },
        {
          "output_type": "stream",
          "name": "stdout",
          "text": [
            "[meta/llama-3.1-70b-instruct] error attempt 1: Error code: 400 - {'error': {'message': 'meta/llama-3.1-70b-instruct is not a valid model ID', 'code': 400}, 'user_id': 'user_34kLTCwLzW3rU64I3t6BoCIlFIw'}\n",
            "[meta/llama-3.1-70b-instruct] error attempt 2: Error code: 400 - {'error': {'message': 'meta/llama-3.1-70b-instruct is not a valid model ID', 'code': 400}, 'user_id': 'user_34kLTCwLzW3rU64I3t6BoCIlFIw'}\n",
            "[meta/llama-3.1-70b-instruct] error attempt 3: Error code: 400 - {'error': {'message': 'meta/llama-3.1-70b-instruct is not a valid model ID', 'code': 400}, 'user_id': 'user_34kLTCwLzW3rU64I3t6BoCIlFIw'}\n",
            "[meta/llama-3.1-70b-instruct] error attempt 1: Error code: 400 - {'error': {'message': 'meta/llama-3.1-70b-instruct is not a valid model ID', 'code': 400}, 'user_id': 'user_34kLTCwLzW3rU64I3t6BoCIlFIw'}\n",
            "[meta/llama-3.1-70b-instruct] error attempt 2: Error code: 400 - {'error': {'message': 'meta/llama-3.1-70b-instruct is not a valid model ID', 'code': 400}, 'user_id': 'user_34kLTCwLzW3rU64I3t6BoCIlFIw'}\n",
            "[meta/llama-3.1-70b-instruct] error attempt 3: Error code: 400 - {'error': {'message': 'meta/llama-3.1-70b-instruct is not a valid model ID', 'code': 400}, 'user_id': 'user_34kLTCwLzW3rU64I3t6BoCIlFIw'}\n"
          ]
        },
        {
          "output_type": "stream",
          "name": "stderr",
          "text": [
            "\rmeta/llama-3.1-70b-instruct:  62%|██████▏   | 74/120 [15:23<09:29, 12.37s/it]"
          ]
        },
        {
          "output_type": "stream",
          "name": "stdout",
          "text": [
            "[meta/llama-3.1-70b-instruct] error attempt 1: Error code: 400 - {'error': {'message': 'meta/llama-3.1-70b-instruct is not a valid model ID', 'code': 400}, 'user_id': 'user_34kLTCwLzW3rU64I3t6BoCIlFIw'}\n",
            "[meta/llama-3.1-70b-instruct] error attempt 2: Error code: 400 - {'error': {'message': 'meta/llama-3.1-70b-instruct is not a valid model ID', 'code': 400}, 'user_id': 'user_34kLTCwLzW3rU64I3t6BoCIlFIw'}\n",
            "[meta/llama-3.1-70b-instruct] error attempt 3: Error code: 400 - {'error': {'message': 'meta/llama-3.1-70b-instruct is not a valid model ID', 'code': 400}, 'user_id': 'user_34kLTCwLzW3rU64I3t6BoCIlFIw'}\n",
            "[meta/llama-3.1-70b-instruct] error attempt 1: Error code: 400 - {'error': {'message': 'meta/llama-3.1-70b-instruct is not a valid model ID', 'code': 400}, 'user_id': 'user_34kLTCwLzW3rU64I3t6BoCIlFIw'}\n",
            "[meta/llama-3.1-70b-instruct] error attempt 2: Error code: 400 - {'error': {'message': 'meta/llama-3.1-70b-instruct is not a valid model ID', 'code': 400}, 'user_id': 'user_34kLTCwLzW3rU64I3t6BoCIlFIw'}\n",
            "[meta/llama-3.1-70b-instruct] error attempt 3: Error code: 400 - {'error': {'message': 'meta/llama-3.1-70b-instruct is not a valid model ID', 'code': 400}, 'user_id': 'user_34kLTCwLzW3rU64I3t6BoCIlFIw'}\n"
          ]
        },
        {
          "output_type": "stream",
          "name": "stderr",
          "text": [
            "\rmeta/llama-3.1-70b-instruct:  62%|██████▎   | 75/120 [15:35<09:17, 12.38s/it]"
          ]
        },
        {
          "output_type": "stream",
          "name": "stdout",
          "text": [
            "[meta/llama-3.1-70b-instruct] error attempt 1: Error code: 400 - {'error': {'message': 'meta/llama-3.1-70b-instruct is not a valid model ID', 'code': 400}, 'user_id': 'user_34kLTCwLzW3rU64I3t6BoCIlFIw'}\n",
            "[meta/llama-3.1-70b-instruct] error attempt 2: Error code: 400 - {'error': {'message': 'meta/llama-3.1-70b-instruct is not a valid model ID', 'code': 400}, 'user_id': 'user_34kLTCwLzW3rU64I3t6BoCIlFIw'}\n",
            "[meta/llama-3.1-70b-instruct] error attempt 3: Error code: 400 - {'error': {'message': 'meta/llama-3.1-70b-instruct is not a valid model ID', 'code': 400}, 'user_id': 'user_34kLTCwLzW3rU64I3t6BoCIlFIw'}\n",
            "[meta/llama-3.1-70b-instruct] error attempt 1: Error code: 400 - {'error': {'message': 'meta/llama-3.1-70b-instruct is not a valid model ID', 'code': 400}, 'user_id': 'user_34kLTCwLzW3rU64I3t6BoCIlFIw'}\n",
            "[meta/llama-3.1-70b-instruct] error attempt 2: Error code: 400 - {'error': {'message': 'meta/llama-3.1-70b-instruct is not a valid model ID', 'code': 400}, 'user_id': 'user_34kLTCwLzW3rU64I3t6BoCIlFIw'}\n",
            "[meta/llama-3.1-70b-instruct] error attempt 3: Error code: 400 - {'error': {'message': 'meta/llama-3.1-70b-instruct is not a valid model ID', 'code': 400}, 'user_id': 'user_34kLTCwLzW3rU64I3t6BoCIlFIw'}\n"
          ]
        },
        {
          "output_type": "stream",
          "name": "stderr",
          "text": [
            "\rmeta/llama-3.1-70b-instruct:  63%|██████▎   | 76/120 [15:47<09:03, 12.36s/it]"
          ]
        },
        {
          "output_type": "stream",
          "name": "stdout",
          "text": [
            "[meta/llama-3.1-70b-instruct] error attempt 1: Error code: 400 - {'error': {'message': 'meta/llama-3.1-70b-instruct is not a valid model ID', 'code': 400}, 'user_id': 'user_34kLTCwLzW3rU64I3t6BoCIlFIw'}\n",
            "[meta/llama-3.1-70b-instruct] error attempt 2: Error code: 400 - {'error': {'message': 'meta/llama-3.1-70b-instruct is not a valid model ID', 'code': 400}, 'user_id': 'user_34kLTCwLzW3rU64I3t6BoCIlFIw'}\n",
            "[meta/llama-3.1-70b-instruct] error attempt 3: Error code: 400 - {'error': {'message': 'meta/llama-3.1-70b-instruct is not a valid model ID', 'code': 400}, 'user_id': 'user_34kLTCwLzW3rU64I3t6BoCIlFIw'}\n",
            "[meta/llama-3.1-70b-instruct] error attempt 1: Error code: 400 - {'error': {'message': 'meta/llama-3.1-70b-instruct is not a valid model ID', 'code': 400}, 'user_id': 'user_34kLTCwLzW3rU64I3t6BoCIlFIw'}\n",
            "[meta/llama-3.1-70b-instruct] error attempt 2: Error code: 400 - {'error': {'message': 'meta/llama-3.1-70b-instruct is not a valid model ID', 'code': 400}, 'user_id': 'user_34kLTCwLzW3rU64I3t6BoCIlFIw'}\n",
            "[meta/llama-3.1-70b-instruct] error attempt 3: Error code: 400 - {'error': {'message': 'meta/llama-3.1-70b-instruct is not a valid model ID', 'code': 400}, 'user_id': 'user_34kLTCwLzW3rU64I3t6BoCIlFIw'}\n"
          ]
        },
        {
          "output_type": "stream",
          "name": "stderr",
          "text": [
            "\rmeta/llama-3.1-70b-instruct:  64%|██████▍   | 77/120 [16:00<08:51, 12.35s/it]"
          ]
        },
        {
          "output_type": "stream",
          "name": "stdout",
          "text": [
            "[meta/llama-3.1-70b-instruct] error attempt 1: Error code: 400 - {'error': {'message': 'meta/llama-3.1-70b-instruct is not a valid model ID', 'code': 400}, 'user_id': 'user_34kLTCwLzW3rU64I3t6BoCIlFIw'}\n",
            "[meta/llama-3.1-70b-instruct] error attempt 2: Error code: 400 - {'error': {'message': 'meta/llama-3.1-70b-instruct is not a valid model ID', 'code': 400}, 'user_id': 'user_34kLTCwLzW3rU64I3t6BoCIlFIw'}\n",
            "[meta/llama-3.1-70b-instruct] error attempt 3: Error code: 400 - {'error': {'message': 'meta/llama-3.1-70b-instruct is not a valid model ID', 'code': 400}, 'user_id': 'user_34kLTCwLzW3rU64I3t6BoCIlFIw'}\n",
            "[meta/llama-3.1-70b-instruct] error attempt 1: Error code: 400 - {'error': {'message': 'meta/llama-3.1-70b-instruct is not a valid model ID', 'code': 400}, 'user_id': 'user_34kLTCwLzW3rU64I3t6BoCIlFIw'}\n",
            "[meta/llama-3.1-70b-instruct] error attempt 2: Error code: 400 - {'error': {'message': 'meta/llama-3.1-70b-instruct is not a valid model ID', 'code': 400}, 'user_id': 'user_34kLTCwLzW3rU64I3t6BoCIlFIw'}\n",
            "[meta/llama-3.1-70b-instruct] error attempt 3: Error code: 400 - {'error': {'message': 'meta/llama-3.1-70b-instruct is not a valid model ID', 'code': 400}, 'user_id': 'user_34kLTCwLzW3rU64I3t6BoCIlFIw'}\n"
          ]
        },
        {
          "output_type": "stream",
          "name": "stderr",
          "text": [
            "\rmeta/llama-3.1-70b-instruct:  65%|██████▌   | 78/120 [16:12<08:38, 12.34s/it]"
          ]
        },
        {
          "output_type": "stream",
          "name": "stdout",
          "text": [
            "[meta/llama-3.1-70b-instruct] error attempt 1: Error code: 400 - {'error': {'message': 'meta/llama-3.1-70b-instruct is not a valid model ID', 'code': 400}, 'user_id': 'user_34kLTCwLzW3rU64I3t6BoCIlFIw'}\n",
            "[meta/llama-3.1-70b-instruct] error attempt 2: Error code: 400 - {'error': {'message': 'meta/llama-3.1-70b-instruct is not a valid model ID', 'code': 400}, 'user_id': 'user_34kLTCwLzW3rU64I3t6BoCIlFIw'}\n",
            "[meta/llama-3.1-70b-instruct] error attempt 3: Error code: 400 - {'error': {'message': 'meta/llama-3.1-70b-instruct is not a valid model ID', 'code': 400}, 'user_id': 'user_34kLTCwLzW3rU64I3t6BoCIlFIw'}\n",
            "[meta/llama-3.1-70b-instruct] error attempt 1: Error code: 400 - {'error': {'message': 'meta/llama-3.1-70b-instruct is not a valid model ID', 'code': 400}, 'user_id': 'user_34kLTCwLzW3rU64I3t6BoCIlFIw'}\n",
            "[meta/llama-3.1-70b-instruct] error attempt 2: Error code: 400 - {'error': {'message': 'meta/llama-3.1-70b-instruct is not a valid model ID', 'code': 400}, 'user_id': 'user_34kLTCwLzW3rU64I3t6BoCIlFIw'}\n",
            "[meta/llama-3.1-70b-instruct] error attempt 3: Error code: 400 - {'error': {'message': 'meta/llama-3.1-70b-instruct is not a valid model ID', 'code': 400}, 'user_id': 'user_34kLTCwLzW3rU64I3t6BoCIlFIw'}\n"
          ]
        },
        {
          "output_type": "stream",
          "name": "stderr",
          "text": [
            "\rmeta/llama-3.1-70b-instruct:  66%|██████▌   | 79/120 [16:24<08:26, 12.35s/it]"
          ]
        },
        {
          "output_type": "stream",
          "name": "stdout",
          "text": [
            "[meta/llama-3.1-70b-instruct] error attempt 1: Error code: 400 - {'error': {'message': 'meta/llama-3.1-70b-instruct is not a valid model ID', 'code': 400}, 'user_id': 'user_34kLTCwLzW3rU64I3t6BoCIlFIw'}\n",
            "[meta/llama-3.1-70b-instruct] error attempt 2: Error code: 400 - {'error': {'message': 'meta/llama-3.1-70b-instruct is not a valid model ID', 'code': 400}, 'user_id': 'user_34kLTCwLzW3rU64I3t6BoCIlFIw'}\n",
            "[meta/llama-3.1-70b-instruct] error attempt 3: Error code: 400 - {'error': {'message': 'meta/llama-3.1-70b-instruct is not a valid model ID', 'code': 400}, 'user_id': 'user_34kLTCwLzW3rU64I3t6BoCIlFIw'}\n",
            "[meta/llama-3.1-70b-instruct] error attempt 1: Error code: 400 - {'error': {'message': 'meta/llama-3.1-70b-instruct is not a valid model ID', 'code': 400}, 'user_id': 'user_34kLTCwLzW3rU64I3t6BoCIlFIw'}\n",
            "[meta/llama-3.1-70b-instruct] error attempt 2: Error code: 400 - {'error': {'message': 'meta/llama-3.1-70b-instruct is not a valid model ID', 'code': 400}, 'user_id': 'user_34kLTCwLzW3rU64I3t6BoCIlFIw'}\n",
            "[meta/llama-3.1-70b-instruct] error attempt 3: Error code: 400 - {'error': {'message': 'meta/llama-3.1-70b-instruct is not a valid model ID', 'code': 400}, 'user_id': 'user_34kLTCwLzW3rU64I3t6BoCIlFIw'}\n"
          ]
        },
        {
          "output_type": "stream",
          "name": "stderr",
          "text": [
            "\rmeta/llama-3.1-70b-instruct:  67%|██████▋   | 80/120 [16:37<08:15, 12.39s/it]"
          ]
        },
        {
          "output_type": "stream",
          "name": "stdout",
          "text": [
            "[meta/llama-3.1-70b-instruct] error attempt 1: Error code: 400 - {'error': {'message': 'meta/llama-3.1-70b-instruct is not a valid model ID', 'code': 400}, 'user_id': 'user_34kLTCwLzW3rU64I3t6BoCIlFIw'}\n",
            "[meta/llama-3.1-70b-instruct] error attempt 2: Error code: 400 - {'error': {'message': 'meta/llama-3.1-70b-instruct is not a valid model ID', 'code': 400}, 'user_id': 'user_34kLTCwLzW3rU64I3t6BoCIlFIw'}\n",
            "[meta/llama-3.1-70b-instruct] error attempt 3: Error code: 400 - {'error': {'message': 'meta/llama-3.1-70b-instruct is not a valid model ID', 'code': 400}, 'user_id': 'user_34kLTCwLzW3rU64I3t6BoCIlFIw'}\n",
            "[meta/llama-3.1-70b-instruct] error attempt 1: Error code: 400 - {'error': {'message': 'meta/llama-3.1-70b-instruct is not a valid model ID', 'code': 400}, 'user_id': 'user_34kLTCwLzW3rU64I3t6BoCIlFIw'}\n",
            "[meta/llama-3.1-70b-instruct] error attempt 2: Error code: 400 - {'error': {'message': 'meta/llama-3.1-70b-instruct is not a valid model ID', 'code': 400}, 'user_id': 'user_34kLTCwLzW3rU64I3t6BoCIlFIw'}\n",
            "[meta/llama-3.1-70b-instruct] error attempt 3: Error code: 400 - {'error': {'message': 'meta/llama-3.1-70b-instruct is not a valid model ID', 'code': 400}, 'user_id': 'user_34kLTCwLzW3rU64I3t6BoCIlFIw'}\n"
          ]
        },
        {
          "output_type": "stream",
          "name": "stderr",
          "text": [
            "\rmeta/llama-3.1-70b-instruct:  68%|██████▊   | 81/120 [16:49<08:02, 12.37s/it]"
          ]
        },
        {
          "output_type": "stream",
          "name": "stdout",
          "text": [
            "[meta/llama-3.1-70b-instruct] error attempt 1: Error code: 400 - {'error': {'message': 'meta/llama-3.1-70b-instruct is not a valid model ID', 'code': 400}, 'user_id': 'user_34kLTCwLzW3rU64I3t6BoCIlFIw'}\n",
            "[meta/llama-3.1-70b-instruct] error attempt 2: Error code: 400 - {'error': {'message': 'meta/llama-3.1-70b-instruct is not a valid model ID', 'code': 400}, 'user_id': 'user_34kLTCwLzW3rU64I3t6BoCIlFIw'}\n",
            "[meta/llama-3.1-70b-instruct] error attempt 3: Error code: 400 - {'error': {'message': 'meta/llama-3.1-70b-instruct is not a valid model ID', 'code': 400}, 'user_id': 'user_34kLTCwLzW3rU64I3t6BoCIlFIw'}\n",
            "[meta/llama-3.1-70b-instruct] error attempt 1: Error code: 400 - {'error': {'message': 'meta/llama-3.1-70b-instruct is not a valid model ID', 'code': 400}, 'user_id': 'user_34kLTCwLzW3rU64I3t6BoCIlFIw'}\n",
            "[meta/llama-3.1-70b-instruct] error attempt 2: Error code: 400 - {'error': {'message': 'meta/llama-3.1-70b-instruct is not a valid model ID', 'code': 400}, 'user_id': 'user_34kLTCwLzW3rU64I3t6BoCIlFIw'}\n",
            "[meta/llama-3.1-70b-instruct] error attempt 3: Error code: 400 - {'error': {'message': 'meta/llama-3.1-70b-instruct is not a valid model ID', 'code': 400}, 'user_id': 'user_34kLTCwLzW3rU64I3t6BoCIlFIw'}\n"
          ]
        },
        {
          "output_type": "stream",
          "name": "stderr",
          "text": [
            "\rmeta/llama-3.1-70b-instruct:  68%|██████▊   | 82/120 [17:02<07:50, 12.37s/it]"
          ]
        },
        {
          "output_type": "stream",
          "name": "stdout",
          "text": [
            "[meta/llama-3.1-70b-instruct] error attempt 1: Error code: 400 - {'error': {'message': 'meta/llama-3.1-70b-instruct is not a valid model ID', 'code': 400}, 'user_id': 'user_34kLTCwLzW3rU64I3t6BoCIlFIw'}\n",
            "[meta/llama-3.1-70b-instruct] error attempt 2: Error code: 400 - {'error': {'message': 'meta/llama-3.1-70b-instruct is not a valid model ID', 'code': 400}, 'user_id': 'user_34kLTCwLzW3rU64I3t6BoCIlFIw'}\n",
            "[meta/llama-3.1-70b-instruct] error attempt 3: Error code: 400 - {'error': {'message': 'meta/llama-3.1-70b-instruct is not a valid model ID', 'code': 400}, 'user_id': 'user_34kLTCwLzW3rU64I3t6BoCIlFIw'}\n",
            "[meta/llama-3.1-70b-instruct] error attempt 1: Error code: 400 - {'error': {'message': 'meta/llama-3.1-70b-instruct is not a valid model ID', 'code': 400}, 'user_id': 'user_34kLTCwLzW3rU64I3t6BoCIlFIw'}\n",
            "[meta/llama-3.1-70b-instruct] error attempt 2: Error code: 400 - {'error': {'message': 'meta/llama-3.1-70b-instruct is not a valid model ID', 'code': 400}, 'user_id': 'user_34kLTCwLzW3rU64I3t6BoCIlFIw'}\n",
            "[meta/llama-3.1-70b-instruct] error attempt 3: Error code: 400 - {'error': {'message': 'meta/llama-3.1-70b-instruct is not a valid model ID', 'code': 400}, 'user_id': 'user_34kLTCwLzW3rU64I3t6BoCIlFIw'}\n"
          ]
        },
        {
          "output_type": "stream",
          "name": "stderr",
          "text": [
            "\rmeta/llama-3.1-70b-instruct:  69%|██████▉   | 83/120 [17:14<07:37, 12.36s/it]"
          ]
        },
        {
          "output_type": "stream",
          "name": "stdout",
          "text": [
            "[meta/llama-3.1-70b-instruct] error attempt 1: Error code: 400 - {'error': {'message': 'meta/llama-3.1-70b-instruct is not a valid model ID', 'code': 400}, 'user_id': 'user_34kLTCwLzW3rU64I3t6BoCIlFIw'}\n",
            "[meta/llama-3.1-70b-instruct] error attempt 2: Error code: 400 - {'error': {'message': 'meta/llama-3.1-70b-instruct is not a valid model ID', 'code': 400}, 'user_id': 'user_34kLTCwLzW3rU64I3t6BoCIlFIw'}\n",
            "[meta/llama-3.1-70b-instruct] error attempt 3: Error code: 400 - {'error': {'message': 'meta/llama-3.1-70b-instruct is not a valid model ID', 'code': 400}, 'user_id': 'user_34kLTCwLzW3rU64I3t6BoCIlFIw'}\n",
            "[meta/llama-3.1-70b-instruct] error attempt 1: Error code: 400 - {'error': {'message': 'meta/llama-3.1-70b-instruct is not a valid model ID', 'code': 400}, 'user_id': 'user_34kLTCwLzW3rU64I3t6BoCIlFIw'}\n",
            "[meta/llama-3.1-70b-instruct] error attempt 2: Error code: 400 - {'error': {'message': 'meta/llama-3.1-70b-instruct is not a valid model ID', 'code': 400}, 'user_id': 'user_34kLTCwLzW3rU64I3t6BoCIlFIw'}\n",
            "[meta/llama-3.1-70b-instruct] error attempt 3: Error code: 400 - {'error': {'message': 'meta/llama-3.1-70b-instruct is not a valid model ID', 'code': 400}, 'user_id': 'user_34kLTCwLzW3rU64I3t6BoCIlFIw'}\n"
          ]
        },
        {
          "output_type": "stream",
          "name": "stderr",
          "text": [
            "\rmeta/llama-3.1-70b-instruct:  70%|███████   | 84/120 [17:26<07:26, 12.39s/it]"
          ]
        },
        {
          "output_type": "stream",
          "name": "stdout",
          "text": [
            "[meta/llama-3.1-70b-instruct] error attempt 1: Error code: 400 - {'error': {'message': 'meta/llama-3.1-70b-instruct is not a valid model ID', 'code': 400}, 'user_id': 'user_34kLTCwLzW3rU64I3t6BoCIlFIw'}\n",
            "[meta/llama-3.1-70b-instruct] error attempt 2: Error code: 400 - {'error': {'message': 'meta/llama-3.1-70b-instruct is not a valid model ID', 'code': 400}, 'user_id': 'user_34kLTCwLzW3rU64I3t6BoCIlFIw'}\n",
            "[meta/llama-3.1-70b-instruct] error attempt 3: Error code: 400 - {'error': {'message': 'meta/llama-3.1-70b-instruct is not a valid model ID', 'code': 400}, 'user_id': 'user_34kLTCwLzW3rU64I3t6BoCIlFIw'}\n",
            "[meta/llama-3.1-70b-instruct] error attempt 1: Error code: 400 - {'error': {'message': 'meta/llama-3.1-70b-instruct is not a valid model ID', 'code': 400}, 'user_id': 'user_34kLTCwLzW3rU64I3t6BoCIlFIw'}\n",
            "[meta/llama-3.1-70b-instruct] error attempt 2: Error code: 400 - {'error': {'message': 'meta/llama-3.1-70b-instruct is not a valid model ID', 'code': 400}, 'user_id': 'user_34kLTCwLzW3rU64I3t6BoCIlFIw'}\n",
            "[meta/llama-3.1-70b-instruct] error attempt 3: Error code: 400 - {'error': {'message': 'meta/llama-3.1-70b-instruct is not a valid model ID', 'code': 400}, 'user_id': 'user_34kLTCwLzW3rU64I3t6BoCIlFIw'}\n"
          ]
        },
        {
          "output_type": "stream",
          "name": "stderr",
          "text": [
            "\rmeta/llama-3.1-70b-instruct:  71%|███████   | 85/120 [17:39<07:13, 12.39s/it]"
          ]
        },
        {
          "output_type": "stream",
          "name": "stdout",
          "text": [
            "[meta/llama-3.1-70b-instruct] error attempt 1: Error code: 400 - {'error': {'message': 'meta/llama-3.1-70b-instruct is not a valid model ID', 'code': 400}, 'user_id': 'user_34kLTCwLzW3rU64I3t6BoCIlFIw'}\n",
            "[meta/llama-3.1-70b-instruct] error attempt 2: Error code: 400 - {'error': {'message': 'meta/llama-3.1-70b-instruct is not a valid model ID', 'code': 400}, 'user_id': 'user_34kLTCwLzW3rU64I3t6BoCIlFIw'}\n",
            "[meta/llama-3.1-70b-instruct] error attempt 3: Error code: 400 - {'error': {'message': 'meta/llama-3.1-70b-instruct is not a valid model ID', 'code': 400}, 'user_id': 'user_34kLTCwLzW3rU64I3t6BoCIlFIw'}\n",
            "[meta/llama-3.1-70b-instruct] error attempt 1: Error code: 400 - {'error': {'message': 'meta/llama-3.1-70b-instruct is not a valid model ID', 'code': 400}, 'user_id': 'user_34kLTCwLzW3rU64I3t6BoCIlFIw'}\n",
            "[meta/llama-3.1-70b-instruct] error attempt 2: Error code: 400 - {'error': {'message': 'meta/llama-3.1-70b-instruct is not a valid model ID', 'code': 400}, 'user_id': 'user_34kLTCwLzW3rU64I3t6BoCIlFIw'}\n",
            "[meta/llama-3.1-70b-instruct] error attempt 3: Error code: 400 - {'error': {'message': 'meta/llama-3.1-70b-instruct is not a valid model ID', 'code': 400}, 'user_id': 'user_34kLTCwLzW3rU64I3t6BoCIlFIw'}\n"
          ]
        },
        {
          "output_type": "stream",
          "name": "stderr",
          "text": [
            "\rmeta/llama-3.1-70b-instruct:  72%|███████▏  | 86/120 [17:51<07:02, 12.44s/it]"
          ]
        },
        {
          "output_type": "stream",
          "name": "stdout",
          "text": [
            "[meta/llama-3.1-70b-instruct] error attempt 1: Error code: 400 - {'error': {'message': 'meta/llama-3.1-70b-instruct is not a valid model ID', 'code': 400}, 'user_id': 'user_34kLTCwLzW3rU64I3t6BoCIlFIw'}\n",
            "[meta/llama-3.1-70b-instruct] error attempt 2: Error code: 400 - {'error': {'message': 'meta/llama-3.1-70b-instruct is not a valid model ID', 'code': 400}, 'user_id': 'user_34kLTCwLzW3rU64I3t6BoCIlFIw'}\n",
            "[meta/llama-3.1-70b-instruct] error attempt 3: Error code: 400 - {'error': {'message': 'meta/llama-3.1-70b-instruct is not a valid model ID', 'code': 400}, 'user_id': 'user_34kLTCwLzW3rU64I3t6BoCIlFIw'}\n",
            "[meta/llama-3.1-70b-instruct] error attempt 1: Error code: 400 - {'error': {'message': 'meta/llama-3.1-70b-instruct is not a valid model ID', 'code': 400}, 'user_id': 'user_34kLTCwLzW3rU64I3t6BoCIlFIw'}\n",
            "[meta/llama-3.1-70b-instruct] error attempt 2: Error code: 400 - {'error': {'message': 'meta/llama-3.1-70b-instruct is not a valid model ID', 'code': 400}, 'user_id': 'user_34kLTCwLzW3rU64I3t6BoCIlFIw'}\n",
            "[meta/llama-3.1-70b-instruct] error attempt 3: Error code: 400 - {'error': {'message': 'meta/llama-3.1-70b-instruct is not a valid model ID', 'code': 400}, 'user_id': 'user_34kLTCwLzW3rU64I3t6BoCIlFIw'}\n"
          ]
        },
        {
          "output_type": "stream",
          "name": "stderr",
          "text": [
            "\rmeta/llama-3.1-70b-instruct:  72%|███████▎  | 87/120 [18:04<06:49, 12.41s/it]"
          ]
        },
        {
          "output_type": "stream",
          "name": "stdout",
          "text": [
            "[meta/llama-3.1-70b-instruct] error attempt 1: Error code: 400 - {'error': {'message': 'meta/llama-3.1-70b-instruct is not a valid model ID', 'code': 400}, 'user_id': 'user_34kLTCwLzW3rU64I3t6BoCIlFIw'}\n",
            "[meta/llama-3.1-70b-instruct] error attempt 2: Error code: 400 - {'error': {'message': 'meta/llama-3.1-70b-instruct is not a valid model ID', 'code': 400}, 'user_id': 'user_34kLTCwLzW3rU64I3t6BoCIlFIw'}\n",
            "[meta/llama-3.1-70b-instruct] error attempt 3: Error code: 400 - {'error': {'message': 'meta/llama-3.1-70b-instruct is not a valid model ID', 'code': 400}, 'user_id': 'user_34kLTCwLzW3rU64I3t6BoCIlFIw'}\n",
            "[meta/llama-3.1-70b-instruct] error attempt 1: Error code: 400 - {'error': {'message': 'meta/llama-3.1-70b-instruct is not a valid model ID', 'code': 400}, 'user_id': 'user_34kLTCwLzW3rU64I3t6BoCIlFIw'}\n",
            "[meta/llama-3.1-70b-instruct] error attempt 2: Error code: 400 - {'error': {'message': 'meta/llama-3.1-70b-instruct is not a valid model ID', 'code': 400}, 'user_id': 'user_34kLTCwLzW3rU64I3t6BoCIlFIw'}\n",
            "[meta/llama-3.1-70b-instruct] error attempt 3: Error code: 400 - {'error': {'message': 'meta/llama-3.1-70b-instruct is not a valid model ID', 'code': 400}, 'user_id': 'user_34kLTCwLzW3rU64I3t6BoCIlFIw'}\n"
          ]
        },
        {
          "output_type": "stream",
          "name": "stderr",
          "text": [
            "\rmeta/llama-3.1-70b-instruct:  73%|███████▎  | 88/120 [18:16<06:36, 12.39s/it]"
          ]
        },
        {
          "output_type": "stream",
          "name": "stdout",
          "text": [
            "[meta/llama-3.1-70b-instruct] error attempt 1: Error code: 400 - {'error': {'message': 'meta/llama-3.1-70b-instruct is not a valid model ID', 'code': 400}, 'user_id': 'user_34kLTCwLzW3rU64I3t6BoCIlFIw'}\n",
            "[meta/llama-3.1-70b-instruct] error attempt 2: Error code: 400 - {'error': {'message': 'meta/llama-3.1-70b-instruct is not a valid model ID', 'code': 400}, 'user_id': 'user_34kLTCwLzW3rU64I3t6BoCIlFIw'}\n",
            "[meta/llama-3.1-70b-instruct] error attempt 3: Error code: 400 - {'error': {'message': 'meta/llama-3.1-70b-instruct is not a valid model ID', 'code': 400}, 'user_id': 'user_34kLTCwLzW3rU64I3t6BoCIlFIw'}\n",
            "[meta/llama-3.1-70b-instruct] error attempt 1: Error code: 400 - {'error': {'message': 'meta/llama-3.1-70b-instruct is not a valid model ID', 'code': 400}, 'user_id': 'user_34kLTCwLzW3rU64I3t6BoCIlFIw'}\n",
            "[meta/llama-3.1-70b-instruct] error attempt 2: Error code: 400 - {'error': {'message': 'meta/llama-3.1-70b-instruct is not a valid model ID', 'code': 400}, 'user_id': 'user_34kLTCwLzW3rU64I3t6BoCIlFIw'}\n",
            "[meta/llama-3.1-70b-instruct] error attempt 3: Error code: 400 - {'error': {'message': 'meta/llama-3.1-70b-instruct is not a valid model ID', 'code': 400}, 'user_id': 'user_34kLTCwLzW3rU64I3t6BoCIlFIw'}\n"
          ]
        },
        {
          "output_type": "stream",
          "name": "stderr",
          "text": [
            "\rmeta/llama-3.1-70b-instruct:  74%|███████▍  | 89/120 [18:28<06:23, 12.37s/it]"
          ]
        },
        {
          "output_type": "stream",
          "name": "stdout",
          "text": [
            "[meta/llama-3.1-70b-instruct] error attempt 1: Error code: 400 - {'error': {'message': 'meta/llama-3.1-70b-instruct is not a valid model ID', 'code': 400}, 'user_id': 'user_34kLTCwLzW3rU64I3t6BoCIlFIw'}\n",
            "[meta/llama-3.1-70b-instruct] error attempt 2: Error code: 400 - {'error': {'message': 'meta/llama-3.1-70b-instruct is not a valid model ID', 'code': 400}, 'user_id': 'user_34kLTCwLzW3rU64I3t6BoCIlFIw'}\n",
            "[meta/llama-3.1-70b-instruct] error attempt 3: Error code: 400 - {'error': {'message': 'meta/llama-3.1-70b-instruct is not a valid model ID', 'code': 400}, 'user_id': 'user_34kLTCwLzW3rU64I3t6BoCIlFIw'}\n",
            "[meta/llama-3.1-70b-instruct] error attempt 1: Error code: 400 - {'error': {'message': 'meta/llama-3.1-70b-instruct is not a valid model ID', 'code': 400}, 'user_id': 'user_34kLTCwLzW3rU64I3t6BoCIlFIw'}\n",
            "[meta/llama-3.1-70b-instruct] error attempt 2: Error code: 400 - {'error': {'message': 'meta/llama-3.1-70b-instruct is not a valid model ID', 'code': 400}, 'user_id': 'user_34kLTCwLzW3rU64I3t6BoCIlFIw'}\n",
            "[meta/llama-3.1-70b-instruct] error attempt 3: Error code: 400 - {'error': {'message': 'meta/llama-3.1-70b-instruct is not a valid model ID', 'code': 400}, 'user_id': 'user_34kLTCwLzW3rU64I3t6BoCIlFIw'}\n"
          ]
        },
        {
          "output_type": "stream",
          "name": "stderr",
          "text": [
            "\rmeta/llama-3.1-70b-instruct:  75%|███████▌  | 90/120 [18:41<06:11, 12.37s/it]"
          ]
        },
        {
          "output_type": "stream",
          "name": "stdout",
          "text": [
            "[meta/llama-3.1-70b-instruct] error attempt 1: Error code: 400 - {'error': {'message': 'meta/llama-3.1-70b-instruct is not a valid model ID', 'code': 400}, 'user_id': 'user_34kLTCwLzW3rU64I3t6BoCIlFIw'}\n",
            "[meta/llama-3.1-70b-instruct] error attempt 2: Error code: 400 - {'error': {'message': 'meta/llama-3.1-70b-instruct is not a valid model ID', 'code': 400}, 'user_id': 'user_34kLTCwLzW3rU64I3t6BoCIlFIw'}\n",
            "[meta/llama-3.1-70b-instruct] error attempt 3: Error code: 400 - {'error': {'message': 'meta/llama-3.1-70b-instruct is not a valid model ID', 'code': 400}, 'user_id': 'user_34kLTCwLzW3rU64I3t6BoCIlFIw'}\n",
            "[meta/llama-3.1-70b-instruct] error attempt 1: Error code: 400 - {'error': {'message': 'meta/llama-3.1-70b-instruct is not a valid model ID', 'code': 400}, 'user_id': 'user_34kLTCwLzW3rU64I3t6BoCIlFIw'}\n",
            "[meta/llama-3.1-70b-instruct] error attempt 2: Error code: 400 - {'error': {'message': 'meta/llama-3.1-70b-instruct is not a valid model ID', 'code': 400}, 'user_id': 'user_34kLTCwLzW3rU64I3t6BoCIlFIw'}\n",
            "[meta/llama-3.1-70b-instruct] error attempt 3: Error code: 400 - {'error': {'message': 'meta/llama-3.1-70b-instruct is not a valid model ID', 'code': 400}, 'user_id': 'user_34kLTCwLzW3rU64I3t6BoCIlFIw'}\n"
          ]
        },
        {
          "output_type": "stream",
          "name": "stderr",
          "text": [
            "\rmeta/llama-3.1-70b-instruct:  76%|███████▌  | 91/120 [18:53<05:59, 12.38s/it]"
          ]
        },
        {
          "output_type": "stream",
          "name": "stdout",
          "text": [
            "[meta/llama-3.1-70b-instruct] error attempt 1: Error code: 400 - {'error': {'message': 'meta/llama-3.1-70b-instruct is not a valid model ID', 'code': 400}, 'user_id': 'user_34kLTCwLzW3rU64I3t6BoCIlFIw'}\n",
            "[meta/llama-3.1-70b-instruct] error attempt 2: Error code: 400 - {'error': {'message': 'meta/llama-3.1-70b-instruct is not a valid model ID', 'code': 400}, 'user_id': 'user_34kLTCwLzW3rU64I3t6BoCIlFIw'}\n",
            "[meta/llama-3.1-70b-instruct] error attempt 3: Error code: 400 - {'error': {'message': 'meta/llama-3.1-70b-instruct is not a valid model ID', 'code': 400}, 'user_id': 'user_34kLTCwLzW3rU64I3t6BoCIlFIw'}\n",
            "[meta/llama-3.1-70b-instruct] error attempt 1: Error code: 400 - {'error': {'message': 'meta/llama-3.1-70b-instruct is not a valid model ID', 'code': 400}, 'user_id': 'user_34kLTCwLzW3rU64I3t6BoCIlFIw'}\n",
            "[meta/llama-3.1-70b-instruct] error attempt 2: Error code: 400 - {'error': {'message': 'meta/llama-3.1-70b-instruct is not a valid model ID', 'code': 400}, 'user_id': 'user_34kLTCwLzW3rU64I3t6BoCIlFIw'}\n",
            "[meta/llama-3.1-70b-instruct] error attempt 3: Error code: 400 - {'error': {'message': 'meta/llama-3.1-70b-instruct is not a valid model ID', 'code': 400}, 'user_id': 'user_34kLTCwLzW3rU64I3t6BoCIlFIw'}\n"
          ]
        },
        {
          "output_type": "stream",
          "name": "stderr",
          "text": [
            "\rmeta/llama-3.1-70b-instruct:  77%|███████▋  | 92/120 [19:06<05:47, 12.41s/it]"
          ]
        },
        {
          "output_type": "stream",
          "name": "stdout",
          "text": [
            "[meta/llama-3.1-70b-instruct] error attempt 1: Error code: 400 - {'error': {'message': 'meta/llama-3.1-70b-instruct is not a valid model ID', 'code': 400}, 'user_id': 'user_34kLTCwLzW3rU64I3t6BoCIlFIw'}\n",
            "[meta/llama-3.1-70b-instruct] error attempt 2: Error code: 400 - {'error': {'message': 'meta/llama-3.1-70b-instruct is not a valid model ID', 'code': 400}, 'user_id': 'user_34kLTCwLzW3rU64I3t6BoCIlFIw'}\n",
            "[meta/llama-3.1-70b-instruct] error attempt 3: Error code: 400 - {'error': {'message': 'meta/llama-3.1-70b-instruct is not a valid model ID', 'code': 400}, 'user_id': 'user_34kLTCwLzW3rU64I3t6BoCIlFIw'}\n",
            "[meta/llama-3.1-70b-instruct] error attempt 1: Error code: 400 - {'error': {'message': 'meta/llama-3.1-70b-instruct is not a valid model ID', 'code': 400}, 'user_id': 'user_34kLTCwLzW3rU64I3t6BoCIlFIw'}\n",
            "[meta/llama-3.1-70b-instruct] error attempt 2: Error code: 400 - {'error': {'message': 'meta/llama-3.1-70b-instruct is not a valid model ID', 'code': 400}, 'user_id': 'user_34kLTCwLzW3rU64I3t6BoCIlFIw'}\n",
            "[meta/llama-3.1-70b-instruct] error attempt 3: Error code: 400 - {'error': {'message': 'meta/llama-3.1-70b-instruct is not a valid model ID', 'code': 400}, 'user_id': 'user_34kLTCwLzW3rU64I3t6BoCIlFIw'}\n"
          ]
        },
        {
          "output_type": "stream",
          "name": "stderr",
          "text": [
            "\rmeta/llama-3.1-70b-instruct:  78%|███████▊  | 93/120 [19:19<05:39, 12.57s/it]"
          ]
        },
        {
          "output_type": "stream",
          "name": "stdout",
          "text": [
            "[meta/llama-3.1-70b-instruct] error attempt 1: Error code: 400 - {'error': {'message': 'meta/llama-3.1-70b-instruct is not a valid model ID', 'code': 400}, 'user_id': 'user_34kLTCwLzW3rU64I3t6BoCIlFIw'}\n",
            "[meta/llama-3.1-70b-instruct] error attempt 2: Error code: 400 - {'error': {'message': 'meta/llama-3.1-70b-instruct is not a valid model ID', 'code': 400}, 'user_id': 'user_34kLTCwLzW3rU64I3t6BoCIlFIw'}\n",
            "[meta/llama-3.1-70b-instruct] error attempt 3: Error code: 400 - {'error': {'message': 'meta/llama-3.1-70b-instruct is not a valid model ID', 'code': 400}, 'user_id': 'user_34kLTCwLzW3rU64I3t6BoCIlFIw'}\n",
            "[meta/llama-3.1-70b-instruct] error attempt 1: Error code: 400 - {'error': {'message': 'meta/llama-3.1-70b-instruct is not a valid model ID', 'code': 400}, 'user_id': 'user_34kLTCwLzW3rU64I3t6BoCIlFIw'}\n",
            "[meta/llama-3.1-70b-instruct] error attempt 2: Error code: 400 - {'error': {'message': 'meta/llama-3.1-70b-instruct is not a valid model ID', 'code': 400}, 'user_id': 'user_34kLTCwLzW3rU64I3t6BoCIlFIw'}\n",
            "[meta/llama-3.1-70b-instruct] error attempt 3: Error code: 400 - {'error': {'message': 'meta/llama-3.1-70b-instruct is not a valid model ID', 'code': 400}, 'user_id': 'user_34kLTCwLzW3rU64I3t6BoCIlFIw'}\n"
          ]
        },
        {
          "output_type": "stream",
          "name": "stderr",
          "text": [
            "\rmeta/llama-3.1-70b-instruct:  78%|███████▊  | 94/120 [19:31<05:26, 12.56s/it]"
          ]
        },
        {
          "output_type": "stream",
          "name": "stdout",
          "text": [
            "[meta/llama-3.1-70b-instruct] error attempt 1: Error code: 400 - {'error': {'message': 'meta/llama-3.1-70b-instruct is not a valid model ID', 'code': 400}, 'user_id': 'user_34kLTCwLzW3rU64I3t6BoCIlFIw'}\n",
            "[meta/llama-3.1-70b-instruct] error attempt 2: Error code: 400 - {'error': {'message': 'meta/llama-3.1-70b-instruct is not a valid model ID', 'code': 400}, 'user_id': 'user_34kLTCwLzW3rU64I3t6BoCIlFIw'}\n",
            "[meta/llama-3.1-70b-instruct] error attempt 3: Error code: 400 - {'error': {'message': 'meta/llama-3.1-70b-instruct is not a valid model ID', 'code': 400}, 'user_id': 'user_34kLTCwLzW3rU64I3t6BoCIlFIw'}\n",
            "[meta/llama-3.1-70b-instruct] error attempt 1: Error code: 400 - {'error': {'message': 'meta/llama-3.1-70b-instruct is not a valid model ID', 'code': 400}, 'user_id': 'user_34kLTCwLzW3rU64I3t6BoCIlFIw'}\n",
            "[meta/llama-3.1-70b-instruct] error attempt 2: Error code: 400 - {'error': {'message': 'meta/llama-3.1-70b-instruct is not a valid model ID', 'code': 400}, 'user_id': 'user_34kLTCwLzW3rU64I3t6BoCIlFIw'}\n",
            "[meta/llama-3.1-70b-instruct] error attempt 3: Error code: 400 - {'error': {'message': 'meta/llama-3.1-70b-instruct is not a valid model ID', 'code': 400}, 'user_id': 'user_34kLTCwLzW3rU64I3t6BoCIlFIw'}\n"
          ]
        },
        {
          "output_type": "stream",
          "name": "stderr",
          "text": [
            "\rmeta/llama-3.1-70b-instruct:  79%|███████▉  | 95/120 [19:44<05:13, 12.52s/it]"
          ]
        },
        {
          "output_type": "stream",
          "name": "stdout",
          "text": [
            "[meta/llama-3.1-70b-instruct] error attempt 1: Error code: 400 - {'error': {'message': 'meta/llama-3.1-70b-instruct is not a valid model ID', 'code': 400}, 'user_id': 'user_34kLTCwLzW3rU64I3t6BoCIlFIw'}\n",
            "[meta/llama-3.1-70b-instruct] error attempt 2: Error code: 400 - {'error': {'message': 'meta/llama-3.1-70b-instruct is not a valid model ID', 'code': 400}, 'user_id': 'user_34kLTCwLzW3rU64I3t6BoCIlFIw'}\n",
            "[meta/llama-3.1-70b-instruct] error attempt 3: Error code: 400 - {'error': {'message': 'meta/llama-3.1-70b-instruct is not a valid model ID', 'code': 400}, 'user_id': 'user_34kLTCwLzW3rU64I3t6BoCIlFIw'}\n",
            "[meta/llama-3.1-70b-instruct] error attempt 1: Error code: 400 - {'error': {'message': 'meta/llama-3.1-70b-instruct is not a valid model ID', 'code': 400}, 'user_id': 'user_34kLTCwLzW3rU64I3t6BoCIlFIw'}\n",
            "[meta/llama-3.1-70b-instruct] error attempt 2: Error code: 400 - {'error': {'message': 'meta/llama-3.1-70b-instruct is not a valid model ID', 'code': 400}, 'user_id': 'user_34kLTCwLzW3rU64I3t6BoCIlFIw'}\n",
            "[meta/llama-3.1-70b-instruct] error attempt 3: Error code: 400 - {'error': {'message': 'meta/llama-3.1-70b-instruct is not a valid model ID', 'code': 400}, 'user_id': 'user_34kLTCwLzW3rU64I3t6BoCIlFIw'}\n"
          ]
        },
        {
          "output_type": "stream",
          "name": "stderr",
          "text": [
            "\rmeta/llama-3.1-70b-instruct:  80%|████████  | 96/120 [19:56<04:59, 12.46s/it]"
          ]
        },
        {
          "output_type": "stream",
          "name": "stdout",
          "text": [
            "[meta/llama-3.1-70b-instruct] error attempt 1: Error code: 400 - {'error': {'message': 'meta/llama-3.1-70b-instruct is not a valid model ID', 'code': 400}, 'user_id': 'user_34kLTCwLzW3rU64I3t6BoCIlFIw'}\n",
            "[meta/llama-3.1-70b-instruct] error attempt 2: Error code: 400 - {'error': {'message': 'meta/llama-3.1-70b-instruct is not a valid model ID', 'code': 400}, 'user_id': 'user_34kLTCwLzW3rU64I3t6BoCIlFIw'}\n",
            "[meta/llama-3.1-70b-instruct] error attempt 3: Error code: 400 - {'error': {'message': 'meta/llama-3.1-70b-instruct is not a valid model ID', 'code': 400}, 'user_id': 'user_34kLTCwLzW3rU64I3t6BoCIlFIw'}\n",
            "[meta/llama-3.1-70b-instruct] error attempt 1: Error code: 400 - {'error': {'message': 'meta/llama-3.1-70b-instruct is not a valid model ID', 'code': 400}, 'user_id': 'user_34kLTCwLzW3rU64I3t6BoCIlFIw'}\n",
            "[meta/llama-3.1-70b-instruct] error attempt 2: Error code: 400 - {'error': {'message': 'meta/llama-3.1-70b-instruct is not a valid model ID', 'code': 400}, 'user_id': 'user_34kLTCwLzW3rU64I3t6BoCIlFIw'}\n",
            "[meta/llama-3.1-70b-instruct] error attempt 3: Error code: 400 - {'error': {'message': 'meta/llama-3.1-70b-instruct is not a valid model ID', 'code': 400}, 'user_id': 'user_34kLTCwLzW3rU64I3t6BoCIlFIw'}\n"
          ]
        },
        {
          "output_type": "stream",
          "name": "stderr",
          "text": [
            "\rmeta/llama-3.1-70b-instruct:  81%|████████  | 97/120 [20:08<04:47, 12.48s/it]"
          ]
        },
        {
          "output_type": "stream",
          "name": "stdout",
          "text": [
            "[meta/llama-3.1-70b-instruct] error attempt 1: Error code: 400 - {'error': {'message': 'meta/llama-3.1-70b-instruct is not a valid model ID', 'code': 400}, 'user_id': 'user_34kLTCwLzW3rU64I3t6BoCIlFIw'}\n",
            "[meta/llama-3.1-70b-instruct] error attempt 2: Error code: 400 - {'error': {'message': 'meta/llama-3.1-70b-instruct is not a valid model ID', 'code': 400}, 'user_id': 'user_34kLTCwLzW3rU64I3t6BoCIlFIw'}\n",
            "[meta/llama-3.1-70b-instruct] error attempt 3: Error code: 400 - {'error': {'message': 'meta/llama-3.1-70b-instruct is not a valid model ID', 'code': 400}, 'user_id': 'user_34kLTCwLzW3rU64I3t6BoCIlFIw'}\n",
            "[meta/llama-3.1-70b-instruct] error attempt 1: Error code: 400 - {'error': {'message': 'meta/llama-3.1-70b-instruct is not a valid model ID', 'code': 400}, 'user_id': 'user_34kLTCwLzW3rU64I3t6BoCIlFIw'}\n",
            "[meta/llama-3.1-70b-instruct] error attempt 2: Error code: 400 - {'error': {'message': 'meta/llama-3.1-70b-instruct is not a valid model ID', 'code': 400}, 'user_id': 'user_34kLTCwLzW3rU64I3t6BoCIlFIw'}\n",
            "[meta/llama-3.1-70b-instruct] error attempt 3: Error code: 400 - {'error': {'message': 'meta/llama-3.1-70b-instruct is not a valid model ID', 'code': 400}, 'user_id': 'user_34kLTCwLzW3rU64I3t6BoCIlFIw'}\n"
          ]
        },
        {
          "output_type": "stream",
          "name": "stderr",
          "text": [
            "\rmeta/llama-3.1-70b-instruct:  82%|████████▏ | 98/120 [20:21<04:33, 12.42s/it]"
          ]
        },
        {
          "output_type": "stream",
          "name": "stdout",
          "text": [
            "[meta/llama-3.1-70b-instruct] error attempt 1: Error code: 400 - {'error': {'message': 'meta/llama-3.1-70b-instruct is not a valid model ID', 'code': 400}, 'user_id': 'user_34kLTCwLzW3rU64I3t6BoCIlFIw'}\n",
            "[meta/llama-3.1-70b-instruct] error attempt 2: Error code: 400 - {'error': {'message': 'meta/llama-3.1-70b-instruct is not a valid model ID', 'code': 400}, 'user_id': 'user_34kLTCwLzW3rU64I3t6BoCIlFIw'}\n",
            "[meta/llama-3.1-70b-instruct] error attempt 3: Error code: 400 - {'error': {'message': 'meta/llama-3.1-70b-instruct is not a valid model ID', 'code': 400}, 'user_id': 'user_34kLTCwLzW3rU64I3t6BoCIlFIw'}\n",
            "[meta/llama-3.1-70b-instruct] error attempt 1: Error code: 400 - {'error': {'message': 'meta/llama-3.1-70b-instruct is not a valid model ID', 'code': 400}, 'user_id': 'user_34kLTCwLzW3rU64I3t6BoCIlFIw'}\n",
            "[meta/llama-3.1-70b-instruct] error attempt 2: Error code: 400 - {'error': {'message': 'meta/llama-3.1-70b-instruct is not a valid model ID', 'code': 400}, 'user_id': 'user_34kLTCwLzW3rU64I3t6BoCIlFIw'}\n",
            "[meta/llama-3.1-70b-instruct] error attempt 3: Error code: 400 - {'error': {'message': 'meta/llama-3.1-70b-instruct is not a valid model ID', 'code': 400}, 'user_id': 'user_34kLTCwLzW3rU64I3t6BoCIlFIw'}\n"
          ]
        },
        {
          "output_type": "stream",
          "name": "stderr",
          "text": [
            "\rmeta/llama-3.1-70b-instruct:  82%|████████▎ | 99/120 [20:33<04:20, 12.39s/it]"
          ]
        },
        {
          "output_type": "stream",
          "name": "stdout",
          "text": [
            "[meta/llama-3.1-70b-instruct] error attempt 1: Error code: 400 - {'error': {'message': 'meta/llama-3.1-70b-instruct is not a valid model ID', 'code': 400}, 'user_id': 'user_34kLTCwLzW3rU64I3t6BoCIlFIw'}\n",
            "[meta/llama-3.1-70b-instruct] error attempt 2: Error code: 400 - {'error': {'message': 'meta/llama-3.1-70b-instruct is not a valid model ID', 'code': 400}, 'user_id': 'user_34kLTCwLzW3rU64I3t6BoCIlFIw'}\n",
            "[meta/llama-3.1-70b-instruct] error attempt 3: Error code: 400 - {'error': {'message': 'meta/llama-3.1-70b-instruct is not a valid model ID', 'code': 400}, 'user_id': 'user_34kLTCwLzW3rU64I3t6BoCIlFIw'}\n",
            "[meta/llama-3.1-70b-instruct] error attempt 1: Error code: 400 - {'error': {'message': 'meta/llama-3.1-70b-instruct is not a valid model ID', 'code': 400}, 'user_id': 'user_34kLTCwLzW3rU64I3t6BoCIlFIw'}\n",
            "[meta/llama-3.1-70b-instruct] error attempt 2: Error code: 400 - {'error': {'message': 'meta/llama-3.1-70b-instruct is not a valid model ID', 'code': 400}, 'user_id': 'user_34kLTCwLzW3rU64I3t6BoCIlFIw'}\n",
            "[meta/llama-3.1-70b-instruct] error attempt 3: Error code: 400 - {'error': {'message': 'meta/llama-3.1-70b-instruct is not a valid model ID', 'code': 400}, 'user_id': 'user_34kLTCwLzW3rU64I3t6BoCIlFIw'}\n"
          ]
        },
        {
          "output_type": "stream",
          "name": "stderr",
          "text": [
            "\rmeta/llama-3.1-70b-instruct:  83%|████████▎ | 100/120 [20:45<04:07, 12.38s/it]"
          ]
        },
        {
          "output_type": "stream",
          "name": "stdout",
          "text": [
            "[meta/llama-3.1-70b-instruct] error attempt 1: Error code: 400 - {'error': {'message': 'meta/llama-3.1-70b-instruct is not a valid model ID', 'code': 400}, 'user_id': 'user_34kLTCwLzW3rU64I3t6BoCIlFIw'}\n",
            "[meta/llama-3.1-70b-instruct] error attempt 2: Error code: 400 - {'error': {'message': 'meta/llama-3.1-70b-instruct is not a valid model ID', 'code': 400}, 'user_id': 'user_34kLTCwLzW3rU64I3t6BoCIlFIw'}\n",
            "[meta/llama-3.1-70b-instruct] error attempt 3: Error code: 400 - {'error': {'message': 'meta/llama-3.1-70b-instruct is not a valid model ID', 'code': 400}, 'user_id': 'user_34kLTCwLzW3rU64I3t6BoCIlFIw'}\n",
            "[meta/llama-3.1-70b-instruct] error attempt 1: Error code: 400 - {'error': {'message': 'meta/llama-3.1-70b-instruct is not a valid model ID', 'code': 400}, 'user_id': 'user_34kLTCwLzW3rU64I3t6BoCIlFIw'}\n",
            "[meta/llama-3.1-70b-instruct] error attempt 2: Error code: 400 - {'error': {'message': 'meta/llama-3.1-70b-instruct is not a valid model ID', 'code': 400}, 'user_id': 'user_34kLTCwLzW3rU64I3t6BoCIlFIw'}\n",
            "[meta/llama-3.1-70b-instruct] error attempt 3: Error code: 400 - {'error': {'message': 'meta/llama-3.1-70b-instruct is not a valid model ID', 'code': 400}, 'user_id': 'user_34kLTCwLzW3rU64I3t6BoCIlFIw'}\n"
          ]
        },
        {
          "output_type": "stream",
          "name": "stderr",
          "text": [
            "\rmeta/llama-3.1-70b-instruct:  84%|████████▍ | 101/120 [20:58<03:56, 12.47s/it]"
          ]
        },
        {
          "output_type": "stream",
          "name": "stdout",
          "text": [
            "[meta/llama-3.1-70b-instruct] error attempt 1: Error code: 400 - {'error': {'message': 'meta/llama-3.1-70b-instruct is not a valid model ID', 'code': 400}, 'user_id': 'user_34kLTCwLzW3rU64I3t6BoCIlFIw'}\n",
            "[meta/llama-3.1-70b-instruct] error attempt 2: Error code: 400 - {'error': {'message': 'meta/llama-3.1-70b-instruct is not a valid model ID', 'code': 400}, 'user_id': 'user_34kLTCwLzW3rU64I3t6BoCIlFIw'}\n",
            "[meta/llama-3.1-70b-instruct] error attempt 3: Error code: 400 - {'error': {'message': 'meta/llama-3.1-70b-instruct is not a valid model ID', 'code': 400}, 'user_id': 'user_34kLTCwLzW3rU64I3t6BoCIlFIw'}\n",
            "[meta/llama-3.1-70b-instruct] error attempt 1: Error code: 400 - {'error': {'message': 'meta/llama-3.1-70b-instruct is not a valid model ID', 'code': 400}, 'user_id': 'user_34kLTCwLzW3rU64I3t6BoCIlFIw'}\n",
            "[meta/llama-3.1-70b-instruct] error attempt 2: Error code: 400 - {'error': {'message': 'meta/llama-3.1-70b-instruct is not a valid model ID', 'code': 400}, 'user_id': 'user_34kLTCwLzW3rU64I3t6BoCIlFIw'}\n",
            "[meta/llama-3.1-70b-instruct] error attempt 3: Error code: 400 - {'error': {'message': 'meta/llama-3.1-70b-instruct is not a valid model ID', 'code': 400}, 'user_id': 'user_34kLTCwLzW3rU64I3t6BoCIlFIw'}\n"
          ]
        },
        {
          "output_type": "stream",
          "name": "stderr",
          "text": [
            "\rmeta/llama-3.1-70b-instruct:  85%|████████▌ | 102/120 [21:11<03:45, 12.50s/it]"
          ]
        },
        {
          "output_type": "stream",
          "name": "stdout",
          "text": [
            "[meta/llama-3.1-70b-instruct] error attempt 1: Error code: 400 - {'error': {'message': 'meta/llama-3.1-70b-instruct is not a valid model ID', 'code': 400}, 'user_id': 'user_34kLTCwLzW3rU64I3t6BoCIlFIw'}\n",
            "[meta/llama-3.1-70b-instruct] error attempt 2: Error code: 400 - {'error': {'message': 'meta/llama-3.1-70b-instruct is not a valid model ID', 'code': 400}, 'user_id': 'user_34kLTCwLzW3rU64I3t6BoCIlFIw'}\n",
            "[meta/llama-3.1-70b-instruct] error attempt 3: Error code: 400 - {'error': {'message': 'meta/llama-3.1-70b-instruct is not a valid model ID', 'code': 400}, 'user_id': 'user_34kLTCwLzW3rU64I3t6BoCIlFIw'}\n",
            "[meta/llama-3.1-70b-instruct] error attempt 1: Error code: 400 - {'error': {'message': 'meta/llama-3.1-70b-instruct is not a valid model ID', 'code': 400}, 'user_id': 'user_34kLTCwLzW3rU64I3t6BoCIlFIw'}\n",
            "[meta/llama-3.1-70b-instruct] error attempt 2: Error code: 400 - {'error': {'message': 'meta/llama-3.1-70b-instruct is not a valid model ID', 'code': 400}, 'user_id': 'user_34kLTCwLzW3rU64I3t6BoCIlFIw'}\n",
            "[meta/llama-3.1-70b-instruct] error attempt 3: Error code: 400 - {'error': {'message': 'meta/llama-3.1-70b-instruct is not a valid model ID', 'code': 400}, 'user_id': 'user_34kLTCwLzW3rU64I3t6BoCIlFIw'}\n"
          ]
        },
        {
          "output_type": "stream",
          "name": "stderr",
          "text": [
            "\rmeta/llama-3.1-70b-instruct:  86%|████████▌ | 103/120 [21:23<03:31, 12.44s/it]"
          ]
        },
        {
          "output_type": "stream",
          "name": "stdout",
          "text": [
            "[meta/llama-3.1-70b-instruct] error attempt 1: Error code: 400 - {'error': {'message': 'meta/llama-3.1-70b-instruct is not a valid model ID', 'code': 400}, 'user_id': 'user_34kLTCwLzW3rU64I3t6BoCIlFIw'}\n",
            "[meta/llama-3.1-70b-instruct] error attempt 2: Error code: 400 - {'error': {'message': 'meta/llama-3.1-70b-instruct is not a valid model ID', 'code': 400}, 'user_id': 'user_34kLTCwLzW3rU64I3t6BoCIlFIw'}\n",
            "[meta/llama-3.1-70b-instruct] error attempt 3: Error code: 400 - {'error': {'message': 'meta/llama-3.1-70b-instruct is not a valid model ID', 'code': 400}, 'user_id': 'user_34kLTCwLzW3rU64I3t6BoCIlFIw'}\n",
            "[meta/llama-3.1-70b-instruct] error attempt 1: Error code: 400 - {'error': {'message': 'meta/llama-3.1-70b-instruct is not a valid model ID', 'code': 400}, 'user_id': 'user_34kLTCwLzW3rU64I3t6BoCIlFIw'}\n",
            "[meta/llama-3.1-70b-instruct] error attempt 2: Error code: 400 - {'error': {'message': 'meta/llama-3.1-70b-instruct is not a valid model ID', 'code': 400}, 'user_id': 'user_34kLTCwLzW3rU64I3t6BoCIlFIw'}\n",
            "[meta/llama-3.1-70b-instruct] error attempt 3: Error code: 400 - {'error': {'message': 'meta/llama-3.1-70b-instruct is not a valid model ID', 'code': 400}, 'user_id': 'user_34kLTCwLzW3rU64I3t6BoCIlFIw'}\n"
          ]
        },
        {
          "output_type": "stream",
          "name": "stderr",
          "text": [
            "\rmeta/llama-3.1-70b-instruct:  87%|████████▋ | 104/120 [21:35<03:19, 12.44s/it]"
          ]
        },
        {
          "output_type": "stream",
          "name": "stdout",
          "text": [
            "[meta/llama-3.1-70b-instruct] error attempt 1: Error code: 400 - {'error': {'message': 'meta/llama-3.1-70b-instruct is not a valid model ID', 'code': 400}, 'user_id': 'user_34kLTCwLzW3rU64I3t6BoCIlFIw'}\n",
            "[meta/llama-3.1-70b-instruct] error attempt 2: Error code: 400 - {'error': {'message': 'meta/llama-3.1-70b-instruct is not a valid model ID', 'code': 400}, 'user_id': 'user_34kLTCwLzW3rU64I3t6BoCIlFIw'}\n",
            "[meta/llama-3.1-70b-instruct] error attempt 3: Error code: 400 - {'error': {'message': 'meta/llama-3.1-70b-instruct is not a valid model ID', 'code': 400}, 'user_id': 'user_34kLTCwLzW3rU64I3t6BoCIlFIw'}\n",
            "[meta/llama-3.1-70b-instruct] error attempt 1: Error code: 400 - {'error': {'message': 'meta/llama-3.1-70b-instruct is not a valid model ID', 'code': 400}, 'user_id': 'user_34kLTCwLzW3rU64I3t6BoCIlFIw'}\n",
            "[meta/llama-3.1-70b-instruct] error attempt 2: Error code: 400 - {'error': {'message': 'meta/llama-3.1-70b-instruct is not a valid model ID', 'code': 400}, 'user_id': 'user_34kLTCwLzW3rU64I3t6BoCIlFIw'}\n",
            "[meta/llama-3.1-70b-instruct] error attempt 3: Error code: 400 - {'error': {'message': 'meta/llama-3.1-70b-instruct is not a valid model ID', 'code': 400}, 'user_id': 'user_34kLTCwLzW3rU64I3t6BoCIlFIw'}\n"
          ]
        },
        {
          "output_type": "stream",
          "name": "stderr",
          "text": [
            "\rmeta/llama-3.1-70b-instruct:  88%|████████▊ | 105/120 [21:48<03:05, 12.39s/it]"
          ]
        },
        {
          "output_type": "stream",
          "name": "stdout",
          "text": [
            "[meta/llama-3.1-70b-instruct] error attempt 1: Error code: 400 - {'error': {'message': 'meta/llama-3.1-70b-instruct is not a valid model ID', 'code': 400}, 'user_id': 'user_34kLTCwLzW3rU64I3t6BoCIlFIw'}\n",
            "[meta/llama-3.1-70b-instruct] error attempt 2: Error code: 400 - {'error': {'message': 'meta/llama-3.1-70b-instruct is not a valid model ID', 'code': 400}, 'user_id': 'user_34kLTCwLzW3rU64I3t6BoCIlFIw'}\n",
            "[meta/llama-3.1-70b-instruct] error attempt 3: Error code: 400 - {'error': {'message': 'meta/llama-3.1-70b-instruct is not a valid model ID', 'code': 400}, 'user_id': 'user_34kLTCwLzW3rU64I3t6BoCIlFIw'}\n",
            "[meta/llama-3.1-70b-instruct] error attempt 1: Error code: 400 - {'error': {'message': 'meta/llama-3.1-70b-instruct is not a valid model ID', 'code': 400}, 'user_id': 'user_34kLTCwLzW3rU64I3t6BoCIlFIw'}\n",
            "[meta/llama-3.1-70b-instruct] error attempt 2: Error code: 400 - {'error': {'message': 'meta/llama-3.1-70b-instruct is not a valid model ID', 'code': 400}, 'user_id': 'user_34kLTCwLzW3rU64I3t6BoCIlFIw'}\n",
            "[meta/llama-3.1-70b-instruct] error attempt 3: Error code: 400 - {'error': {'message': 'meta/llama-3.1-70b-instruct is not a valid model ID', 'code': 400}, 'user_id': 'user_34kLTCwLzW3rU64I3t6BoCIlFIw'}\n"
          ]
        },
        {
          "output_type": "stream",
          "name": "stderr",
          "text": [
            "\rmeta/llama-3.1-70b-instruct:  88%|████████▊ | 106/120 [22:00<02:53, 12.40s/it]"
          ]
        },
        {
          "output_type": "stream",
          "name": "stdout",
          "text": [
            "[meta/llama-3.1-70b-instruct] error attempt 1: Error code: 400 - {'error': {'message': 'meta/llama-3.1-70b-instruct is not a valid model ID', 'code': 400}, 'user_id': 'user_34kLTCwLzW3rU64I3t6BoCIlFIw'}\n",
            "[meta/llama-3.1-70b-instruct] error attempt 2: Error code: 400 - {'error': {'message': 'meta/llama-3.1-70b-instruct is not a valid model ID', 'code': 400}, 'user_id': 'user_34kLTCwLzW3rU64I3t6BoCIlFIw'}\n",
            "[meta/llama-3.1-70b-instruct] error attempt 3: Error code: 400 - {'error': {'message': 'meta/llama-3.1-70b-instruct is not a valid model ID', 'code': 400}, 'user_id': 'user_34kLTCwLzW3rU64I3t6BoCIlFIw'}\n",
            "[meta/llama-3.1-70b-instruct] error attempt 1: Error code: 400 - {'error': {'message': 'meta/llama-3.1-70b-instruct is not a valid model ID', 'code': 400}, 'user_id': 'user_34kLTCwLzW3rU64I3t6BoCIlFIw'}\n",
            "[meta/llama-3.1-70b-instruct] error attempt 2: Error code: 400 - {'error': {'message': 'meta/llama-3.1-70b-instruct is not a valid model ID', 'code': 400}, 'user_id': 'user_34kLTCwLzW3rU64I3t6BoCIlFIw'}\n",
            "[meta/llama-3.1-70b-instruct] error attempt 3: Error code: 400 - {'error': {'message': 'meta/llama-3.1-70b-instruct is not a valid model ID', 'code': 400}, 'user_id': 'user_34kLTCwLzW3rU64I3t6BoCIlFIw'}\n"
          ]
        },
        {
          "output_type": "stream",
          "name": "stderr",
          "text": [
            "\rmeta/llama-3.1-70b-instruct:  89%|████████▉ | 107/120 [22:13<02:43, 12.54s/it]"
          ]
        },
        {
          "output_type": "stream",
          "name": "stdout",
          "text": [
            "[meta/llama-3.1-70b-instruct] error attempt 1: Error code: 400 - {'error': {'message': 'meta/llama-3.1-70b-instruct is not a valid model ID', 'code': 400}, 'user_id': 'user_34kLTCwLzW3rU64I3t6BoCIlFIw'}\n",
            "[meta/llama-3.1-70b-instruct] error attempt 2: Error code: 400 - {'error': {'message': 'meta/llama-3.1-70b-instruct is not a valid model ID', 'code': 400}, 'user_id': 'user_34kLTCwLzW3rU64I3t6BoCIlFIw'}\n",
            "[meta/llama-3.1-70b-instruct] error attempt 3: Error code: 400 - {'error': {'message': 'meta/llama-3.1-70b-instruct is not a valid model ID', 'code': 400}, 'user_id': 'user_34kLTCwLzW3rU64I3t6BoCIlFIw'}\n",
            "[meta/llama-3.1-70b-instruct] error attempt 1: Error code: 400 - {'error': {'message': 'meta/llama-3.1-70b-instruct is not a valid model ID', 'code': 400}, 'user_id': 'user_34kLTCwLzW3rU64I3t6BoCIlFIw'}\n",
            "[meta/llama-3.1-70b-instruct] error attempt 2: Error code: 400 - {'error': {'message': 'meta/llama-3.1-70b-instruct is not a valid model ID', 'code': 400}, 'user_id': 'user_34kLTCwLzW3rU64I3t6BoCIlFIw'}\n",
            "[meta/llama-3.1-70b-instruct] error attempt 3: Error code: 400 - {'error': {'message': 'meta/llama-3.1-70b-instruct is not a valid model ID', 'code': 400}, 'user_id': 'user_34kLTCwLzW3rU64I3t6BoCIlFIw'}\n"
          ]
        },
        {
          "output_type": "stream",
          "name": "stderr",
          "text": [
            "\rmeta/llama-3.1-70b-instruct:  90%|█████████ | 108/120 [22:29<02:42, 13.50s/it]"
          ]
        },
        {
          "output_type": "stream",
          "name": "stdout",
          "text": [
            "[meta/llama-3.1-70b-instruct] error attempt 1: Error code: 400 - {'error': {'message': 'meta/llama-3.1-70b-instruct is not a valid model ID', 'code': 400}, 'user_id': 'user_34kLTCwLzW3rU64I3t6BoCIlFIw'}\n",
            "[meta/llama-3.1-70b-instruct] error attempt 2: Error code: 400 - {'error': {'message': 'meta/llama-3.1-70b-instruct is not a valid model ID', 'code': 400}, 'user_id': 'user_34kLTCwLzW3rU64I3t6BoCIlFIw'}\n",
            "[meta/llama-3.1-70b-instruct] error attempt 3: Error code: 400 - {'error': {'message': 'meta/llama-3.1-70b-instruct is not a valid model ID', 'code': 400}, 'user_id': 'user_34kLTCwLzW3rU64I3t6BoCIlFIw'}\n",
            "[meta/llama-3.1-70b-instruct] error attempt 1: Error code: 400 - {'error': {'message': 'meta/llama-3.1-70b-instruct is not a valid model ID', 'code': 400}, 'user_id': 'user_34kLTCwLzW3rU64I3t6BoCIlFIw'}\n",
            "[meta/llama-3.1-70b-instruct] error attempt 2: Error code: 400 - {'error': {'message': 'meta/llama-3.1-70b-instruct is not a valid model ID', 'code': 400}, 'user_id': 'user_34kLTCwLzW3rU64I3t6BoCIlFIw'}\n",
            "[meta/llama-3.1-70b-instruct] error attempt 3: Error code: 400 - {'error': {'message': 'meta/llama-3.1-70b-instruct is not a valid model ID', 'code': 400}, 'user_id': 'user_34kLTCwLzW3rU64I3t6BoCIlFIw'}\n"
          ]
        },
        {
          "output_type": "stream",
          "name": "stderr",
          "text": [
            "\rmeta/llama-3.1-70b-instruct:  91%|█████████ | 109/120 [22:41<02:24, 13.13s/it]"
          ]
        },
        {
          "output_type": "stream",
          "name": "stdout",
          "text": [
            "[meta/llama-3.1-70b-instruct] error attempt 1: Error code: 400 - {'error': {'message': 'meta/llama-3.1-70b-instruct is not a valid model ID', 'code': 400}, 'user_id': 'user_34kLTCwLzW3rU64I3t6BoCIlFIw'}\n",
            "[meta/llama-3.1-70b-instruct] error attempt 2: Error code: 400 - {'error': {'message': 'meta/llama-3.1-70b-instruct is not a valid model ID', 'code': 400}, 'user_id': 'user_34kLTCwLzW3rU64I3t6BoCIlFIw'}\n",
            "[meta/llama-3.1-70b-instruct] error attempt 3: Error code: 400 - {'error': {'message': 'meta/llama-3.1-70b-instruct is not a valid model ID', 'code': 400}, 'user_id': 'user_34kLTCwLzW3rU64I3t6BoCIlFIw'}\n",
            "[meta/llama-3.1-70b-instruct] error attempt 1: Error code: 400 - {'error': {'message': 'meta/llama-3.1-70b-instruct is not a valid model ID', 'code': 400}, 'user_id': 'user_34kLTCwLzW3rU64I3t6BoCIlFIw'}\n",
            "[meta/llama-3.1-70b-instruct] error attempt 2: Error code: 400 - {'error': {'message': 'meta/llama-3.1-70b-instruct is not a valid model ID', 'code': 400}, 'user_id': 'user_34kLTCwLzW3rU64I3t6BoCIlFIw'}\n",
            "[meta/llama-3.1-70b-instruct] error attempt 3: Error code: 400 - {'error': {'message': 'meta/llama-3.1-70b-instruct is not a valid model ID', 'code': 400}, 'user_id': 'user_34kLTCwLzW3rU64I3t6BoCIlFIw'}\n"
          ]
        },
        {
          "output_type": "stream",
          "name": "stderr",
          "text": [
            "\rmeta/llama-3.1-70b-instruct:  92%|█████████▏| 110/120 [22:53<02:08, 12.88s/it]"
          ]
        },
        {
          "output_type": "stream",
          "name": "stdout",
          "text": [
            "[meta/llama-3.1-70b-instruct] error attempt 1: Error code: 400 - {'error': {'message': 'meta/llama-3.1-70b-instruct is not a valid model ID', 'code': 400}, 'user_id': 'user_34kLTCwLzW3rU64I3t6BoCIlFIw'}\n",
            "[meta/llama-3.1-70b-instruct] error attempt 2: Error code: 400 - {'error': {'message': 'meta/llama-3.1-70b-instruct is not a valid model ID', 'code': 400}, 'user_id': 'user_34kLTCwLzW3rU64I3t6BoCIlFIw'}\n",
            "[meta/llama-3.1-70b-instruct] error attempt 3: Error code: 400 - {'error': {'message': 'meta/llama-3.1-70b-instruct is not a valid model ID', 'code': 400}, 'user_id': 'user_34kLTCwLzW3rU64I3t6BoCIlFIw'}\n",
            "[meta/llama-3.1-70b-instruct] error attempt 1: Error code: 400 - {'error': {'message': 'meta/llama-3.1-70b-instruct is not a valid model ID', 'code': 400}, 'user_id': 'user_34kLTCwLzW3rU64I3t6BoCIlFIw'}\n",
            "[meta/llama-3.1-70b-instruct] error attempt 2: Error code: 400 - {'error': {'message': 'meta/llama-3.1-70b-instruct is not a valid model ID', 'code': 400}, 'user_id': 'user_34kLTCwLzW3rU64I3t6BoCIlFIw'}\n",
            "[meta/llama-3.1-70b-instruct] error attempt 3: Error code: 400 - {'error': {'message': 'meta/llama-3.1-70b-instruct is not a valid model ID', 'code': 400}, 'user_id': 'user_34kLTCwLzW3rU64I3t6BoCIlFIw'}\n"
          ]
        },
        {
          "output_type": "stream",
          "name": "stderr",
          "text": [
            "\rmeta/llama-3.1-70b-instruct:  92%|█████████▎| 111/120 [23:06<01:54, 12.75s/it]"
          ]
        },
        {
          "output_type": "stream",
          "name": "stdout",
          "text": [
            "[meta/llama-3.1-70b-instruct] error attempt 1: Error code: 400 - {'error': {'message': 'meta/llama-3.1-70b-instruct is not a valid model ID', 'code': 400}, 'user_id': 'user_34kLTCwLzW3rU64I3t6BoCIlFIw'}\n",
            "[meta/llama-3.1-70b-instruct] error attempt 2: Error code: 400 - {'error': {'message': 'meta/llama-3.1-70b-instruct is not a valid model ID', 'code': 400}, 'user_id': 'user_34kLTCwLzW3rU64I3t6BoCIlFIw'}\n",
            "[meta/llama-3.1-70b-instruct] error attempt 3: Error code: 400 - {'error': {'message': 'meta/llama-3.1-70b-instruct is not a valid model ID', 'code': 400}, 'user_id': 'user_34kLTCwLzW3rU64I3t6BoCIlFIw'}\n",
            "[meta/llama-3.1-70b-instruct] error attempt 1: Error code: 400 - {'error': {'message': 'meta/llama-3.1-70b-instruct is not a valid model ID', 'code': 400}, 'user_id': 'user_34kLTCwLzW3rU64I3t6BoCIlFIw'}\n",
            "[meta/llama-3.1-70b-instruct] error attempt 2: Error code: 400 - {'error': {'message': 'meta/llama-3.1-70b-instruct is not a valid model ID', 'code': 400}, 'user_id': 'user_34kLTCwLzW3rU64I3t6BoCIlFIw'}\n",
            "[meta/llama-3.1-70b-instruct] error attempt 3: Error code: 400 - {'error': {'message': 'meta/llama-3.1-70b-instruct is not a valid model ID', 'code': 400}, 'user_id': 'user_34kLTCwLzW3rU64I3t6BoCIlFIw'}\n"
          ]
        },
        {
          "output_type": "stream",
          "name": "stderr",
          "text": [
            "\rmeta/llama-3.1-70b-instruct:  93%|█████████▎| 112/120 [23:18<01:40, 12.61s/it]"
          ]
        },
        {
          "output_type": "stream",
          "name": "stdout",
          "text": [
            "[meta/llama-3.1-70b-instruct] error attempt 1: Error code: 400 - {'error': {'message': 'meta/llama-3.1-70b-instruct is not a valid model ID', 'code': 400}, 'user_id': 'user_34kLTCwLzW3rU64I3t6BoCIlFIw'}\n",
            "[meta/llama-3.1-70b-instruct] error attempt 2: Error code: 400 - {'error': {'message': 'meta/llama-3.1-70b-instruct is not a valid model ID', 'code': 400}, 'user_id': 'user_34kLTCwLzW3rU64I3t6BoCIlFIw'}\n",
            "[meta/llama-3.1-70b-instruct] error attempt 3: Error code: 400 - {'error': {'message': 'meta/llama-3.1-70b-instruct is not a valid model ID', 'code': 400}, 'user_id': 'user_34kLTCwLzW3rU64I3t6BoCIlFIw'}\n",
            "[meta/llama-3.1-70b-instruct] error attempt 1: Error code: 400 - {'error': {'message': 'meta/llama-3.1-70b-instruct is not a valid model ID', 'code': 400}, 'user_id': 'user_34kLTCwLzW3rU64I3t6BoCIlFIw'}\n",
            "[meta/llama-3.1-70b-instruct] error attempt 2: Error code: 400 - {'error': {'message': 'meta/llama-3.1-70b-instruct is not a valid model ID', 'code': 400}, 'user_id': 'user_34kLTCwLzW3rU64I3t6BoCIlFIw'}\n",
            "[meta/llama-3.1-70b-instruct] error attempt 3: Error code: 400 - {'error': {'message': 'meta/llama-3.1-70b-instruct is not a valid model ID', 'code': 400}, 'user_id': 'user_34kLTCwLzW3rU64I3t6BoCIlFIw'}\n"
          ]
        },
        {
          "output_type": "stream",
          "name": "stderr",
          "text": [
            "\rmeta/llama-3.1-70b-instruct:  94%|█████████▍| 113/120 [23:30<01:27, 12.54s/it]"
          ]
        },
        {
          "output_type": "stream",
          "name": "stdout",
          "text": [
            "[meta/llama-3.1-70b-instruct] error attempt 1: Error code: 400 - {'error': {'message': 'meta/llama-3.1-70b-instruct is not a valid model ID', 'code': 400}, 'user_id': 'user_34kLTCwLzW3rU64I3t6BoCIlFIw'}\n",
            "[meta/llama-3.1-70b-instruct] error attempt 2: Error code: 400 - {'error': {'message': 'meta/llama-3.1-70b-instruct is not a valid model ID', 'code': 400}, 'user_id': 'user_34kLTCwLzW3rU64I3t6BoCIlFIw'}\n",
            "[meta/llama-3.1-70b-instruct] error attempt 3: Error code: 400 - {'error': {'message': 'meta/llama-3.1-70b-instruct is not a valid model ID', 'code': 400}, 'user_id': 'user_34kLTCwLzW3rU64I3t6BoCIlFIw'}\n",
            "[meta/llama-3.1-70b-instruct] error attempt 1: Error code: 400 - {'error': {'message': 'meta/llama-3.1-70b-instruct is not a valid model ID', 'code': 400}, 'user_id': 'user_34kLTCwLzW3rU64I3t6BoCIlFIw'}\n",
            "[meta/llama-3.1-70b-instruct] error attempt 2: Error code: 400 - {'error': {'message': 'meta/llama-3.1-70b-instruct is not a valid model ID', 'code': 400}, 'user_id': 'user_34kLTCwLzW3rU64I3t6BoCIlFIw'}\n",
            "[meta/llama-3.1-70b-instruct] error attempt 3: Error code: 400 - {'error': {'message': 'meta/llama-3.1-70b-instruct is not a valid model ID', 'code': 400}, 'user_id': 'user_34kLTCwLzW3rU64I3t6BoCIlFIw'}\n"
          ]
        },
        {
          "output_type": "stream",
          "name": "stderr",
          "text": [
            "\rmeta/llama-3.1-70b-instruct:  95%|█████████▌| 114/120 [23:43<01:14, 12.48s/it]"
          ]
        },
        {
          "output_type": "stream",
          "name": "stdout",
          "text": [
            "[meta/llama-3.1-70b-instruct] error attempt 1: Error code: 400 - {'error': {'message': 'meta/llama-3.1-70b-instruct is not a valid model ID', 'code': 400}, 'user_id': 'user_34kLTCwLzW3rU64I3t6BoCIlFIw'}\n",
            "[meta/llama-3.1-70b-instruct] error attempt 2: Error code: 400 - {'error': {'message': 'meta/llama-3.1-70b-instruct is not a valid model ID', 'code': 400}, 'user_id': 'user_34kLTCwLzW3rU64I3t6BoCIlFIw'}\n",
            "[meta/llama-3.1-70b-instruct] error attempt 3: Error code: 400 - {'error': {'message': 'meta/llama-3.1-70b-instruct is not a valid model ID', 'code': 400}, 'user_id': 'user_34kLTCwLzW3rU64I3t6BoCIlFIw'}\n",
            "[meta/llama-3.1-70b-instruct] error attempt 1: Error code: 400 - {'error': {'message': 'meta/llama-3.1-70b-instruct is not a valid model ID', 'code': 400}, 'user_id': 'user_34kLTCwLzW3rU64I3t6BoCIlFIw'}\n",
            "[meta/llama-3.1-70b-instruct] error attempt 2: Error code: 400 - {'error': {'message': 'meta/llama-3.1-70b-instruct is not a valid model ID', 'code': 400}, 'user_id': 'user_34kLTCwLzW3rU64I3t6BoCIlFIw'}\n",
            "[meta/llama-3.1-70b-instruct] error attempt 3: Error code: 400 - {'error': {'message': 'meta/llama-3.1-70b-instruct is not a valid model ID', 'code': 400}, 'user_id': 'user_34kLTCwLzW3rU64I3t6BoCIlFIw'}\n"
          ]
        },
        {
          "output_type": "stream",
          "name": "stderr",
          "text": [
            "\rmeta/llama-3.1-70b-instruct:  96%|█████████▌| 115/120 [23:55<01:02, 12.43s/it]"
          ]
        },
        {
          "output_type": "stream",
          "name": "stdout",
          "text": [
            "[meta/llama-3.1-70b-instruct] error attempt 1: Error code: 400 - {'error': {'message': 'meta/llama-3.1-70b-instruct is not a valid model ID', 'code': 400}, 'user_id': 'user_34kLTCwLzW3rU64I3t6BoCIlFIw'}\n",
            "[meta/llama-3.1-70b-instruct] error attempt 2: Error code: 400 - {'error': {'message': 'meta/llama-3.1-70b-instruct is not a valid model ID', 'code': 400}, 'user_id': 'user_34kLTCwLzW3rU64I3t6BoCIlFIw'}\n",
            "[meta/llama-3.1-70b-instruct] error attempt 3: Error code: 400 - {'error': {'message': 'meta/llama-3.1-70b-instruct is not a valid model ID', 'code': 400}, 'user_id': 'user_34kLTCwLzW3rU64I3t6BoCIlFIw'}\n",
            "[meta/llama-3.1-70b-instruct] error attempt 1: Error code: 400 - {'error': {'message': 'meta/llama-3.1-70b-instruct is not a valid model ID', 'code': 400}, 'user_id': 'user_34kLTCwLzW3rU64I3t6BoCIlFIw'}\n",
            "[meta/llama-3.1-70b-instruct] error attempt 2: Error code: 400 - {'error': {'message': 'meta/llama-3.1-70b-instruct is not a valid model ID', 'code': 400}, 'user_id': 'user_34kLTCwLzW3rU64I3t6BoCIlFIw'}\n",
            "[meta/llama-3.1-70b-instruct] error attempt 3: Error code: 400 - {'error': {'message': 'meta/llama-3.1-70b-instruct is not a valid model ID', 'code': 400}, 'user_id': 'user_34kLTCwLzW3rU64I3t6BoCIlFIw'}\n"
          ]
        },
        {
          "output_type": "stream",
          "name": "stderr",
          "text": [
            "\rmeta/llama-3.1-70b-instruct:  97%|█████████▋| 116/120 [24:07<00:49, 12.41s/it]"
          ]
        },
        {
          "output_type": "stream",
          "name": "stdout",
          "text": [
            "[meta/llama-3.1-70b-instruct] error attempt 1: Error code: 400 - {'error': {'message': 'meta/llama-3.1-70b-instruct is not a valid model ID', 'code': 400}, 'user_id': 'user_34kLTCwLzW3rU64I3t6BoCIlFIw'}\n",
            "[meta/llama-3.1-70b-instruct] error attempt 2: Error code: 400 - {'error': {'message': 'meta/llama-3.1-70b-instruct is not a valid model ID', 'code': 400}, 'user_id': 'user_34kLTCwLzW3rU64I3t6BoCIlFIw'}\n",
            "[meta/llama-3.1-70b-instruct] error attempt 3: Error code: 400 - {'error': {'message': 'meta/llama-3.1-70b-instruct is not a valid model ID', 'code': 400}, 'user_id': 'user_34kLTCwLzW3rU64I3t6BoCIlFIw'}\n",
            "[meta/llama-3.1-70b-instruct] error attempt 1: Error code: 400 - {'error': {'message': 'meta/llama-3.1-70b-instruct is not a valid model ID', 'code': 400}, 'user_id': 'user_34kLTCwLzW3rU64I3t6BoCIlFIw'}\n",
            "[meta/llama-3.1-70b-instruct] error attempt 2: Error code: 400 - {'error': {'message': 'meta/llama-3.1-70b-instruct is not a valid model ID', 'code': 400}, 'user_id': 'user_34kLTCwLzW3rU64I3t6BoCIlFIw'}\n",
            "[meta/llama-3.1-70b-instruct] error attempt 3: Error code: 400 - {'error': {'message': 'meta/llama-3.1-70b-instruct is not a valid model ID', 'code': 400}, 'user_id': 'user_34kLTCwLzW3rU64I3t6BoCIlFIw'}\n"
          ]
        },
        {
          "output_type": "stream",
          "name": "stderr",
          "text": [
            "\rmeta/llama-3.1-70b-instruct:  98%|█████████▊| 117/120 [24:20<00:37, 12.38s/it]"
          ]
        },
        {
          "output_type": "stream",
          "name": "stdout",
          "text": [
            "[meta/llama-3.1-70b-instruct] error attempt 1: Error code: 400 - {'error': {'message': 'meta/llama-3.1-70b-instruct is not a valid model ID', 'code': 400}, 'user_id': 'user_34kLTCwLzW3rU64I3t6BoCIlFIw'}\n",
            "[meta/llama-3.1-70b-instruct] error attempt 2: Error code: 400 - {'error': {'message': 'meta/llama-3.1-70b-instruct is not a valid model ID', 'code': 400}, 'user_id': 'user_34kLTCwLzW3rU64I3t6BoCIlFIw'}\n",
            "[meta/llama-3.1-70b-instruct] error attempt 3: Error code: 400 - {'error': {'message': 'meta/llama-3.1-70b-instruct is not a valid model ID', 'code': 400}, 'user_id': 'user_34kLTCwLzW3rU64I3t6BoCIlFIw'}\n",
            "[meta/llama-3.1-70b-instruct] error attempt 1: Error code: 400 - {'error': {'message': 'meta/llama-3.1-70b-instruct is not a valid model ID', 'code': 400}, 'user_id': 'user_34kLTCwLzW3rU64I3t6BoCIlFIw'}\n",
            "[meta/llama-3.1-70b-instruct] error attempt 2: Error code: 400 - {'error': {'message': 'meta/llama-3.1-70b-instruct is not a valid model ID', 'code': 400}, 'user_id': 'user_34kLTCwLzW3rU64I3t6BoCIlFIw'}\n",
            "[meta/llama-3.1-70b-instruct] error attempt 3: Error code: 400 - {'error': {'message': 'meta/llama-3.1-70b-instruct is not a valid model ID', 'code': 400}, 'user_id': 'user_34kLTCwLzW3rU64I3t6BoCIlFIw'}\n"
          ]
        },
        {
          "output_type": "stream",
          "name": "stderr",
          "text": [
            "\rmeta/llama-3.1-70b-instruct:  98%|█████████▊| 118/120 [24:32<00:24, 12.41s/it]"
          ]
        },
        {
          "output_type": "stream",
          "name": "stdout",
          "text": [
            "[meta/llama-3.1-70b-instruct] error attempt 1: Error code: 400 - {'error': {'message': 'meta/llama-3.1-70b-instruct is not a valid model ID', 'code': 400}, 'user_id': 'user_34kLTCwLzW3rU64I3t6BoCIlFIw'}\n",
            "[meta/llama-3.1-70b-instruct] error attempt 2: Error code: 400 - {'error': {'message': 'meta/llama-3.1-70b-instruct is not a valid model ID', 'code': 400}, 'user_id': 'user_34kLTCwLzW3rU64I3t6BoCIlFIw'}\n",
            "[meta/llama-3.1-70b-instruct] error attempt 3: Error code: 400 - {'error': {'message': 'meta/llama-3.1-70b-instruct is not a valid model ID', 'code': 400}, 'user_id': 'user_34kLTCwLzW3rU64I3t6BoCIlFIw'}\n",
            "[meta/llama-3.1-70b-instruct] error attempt 1: Error code: 400 - {'error': {'message': 'meta/llama-3.1-70b-instruct is not a valid model ID', 'code': 400}, 'user_id': 'user_34kLTCwLzW3rU64I3t6BoCIlFIw'}\n",
            "[meta/llama-3.1-70b-instruct] error attempt 2: Error code: 400 - {'error': {'message': 'meta/llama-3.1-70b-instruct is not a valid model ID', 'code': 400}, 'user_id': 'user_34kLTCwLzW3rU64I3t6BoCIlFIw'}\n",
            "[meta/llama-3.1-70b-instruct] error attempt 3: Error code: 400 - {'error': {'message': 'meta/llama-3.1-70b-instruct is not a valid model ID', 'code': 400}, 'user_id': 'user_34kLTCwLzW3rU64I3t6BoCIlFIw'}\n"
          ]
        },
        {
          "output_type": "stream",
          "name": "stderr",
          "text": [
            "\rmeta/llama-3.1-70b-instruct:  99%|█████████▉| 119/120 [24:44<00:12, 12.40s/it]"
          ]
        },
        {
          "output_type": "stream",
          "name": "stdout",
          "text": [
            "[meta/llama-3.1-70b-instruct] error attempt 1: Error code: 400 - {'error': {'message': 'meta/llama-3.1-70b-instruct is not a valid model ID', 'code': 400}, 'user_id': 'user_34kLTCwLzW3rU64I3t6BoCIlFIw'}\n",
            "[meta/llama-3.1-70b-instruct] error attempt 2: Error code: 400 - {'error': {'message': 'meta/llama-3.1-70b-instruct is not a valid model ID', 'code': 400}, 'user_id': 'user_34kLTCwLzW3rU64I3t6BoCIlFIw'}\n",
            "[meta/llama-3.1-70b-instruct] error attempt 3: Error code: 400 - {'error': {'message': 'meta/llama-3.1-70b-instruct is not a valid model ID', 'code': 400}, 'user_id': 'user_34kLTCwLzW3rU64I3t6BoCIlFIw'}\n",
            "[meta/llama-3.1-70b-instruct] error attempt 1: Error code: 400 - {'error': {'message': 'meta/llama-3.1-70b-instruct is not a valid model ID', 'code': 400}, 'user_id': 'user_34kLTCwLzW3rU64I3t6BoCIlFIw'}\n",
            "[meta/llama-3.1-70b-instruct] error attempt 2: Error code: 400 - {'error': {'message': 'meta/llama-3.1-70b-instruct is not a valid model ID', 'code': 400}, 'user_id': 'user_34kLTCwLzW3rU64I3t6BoCIlFIw'}\n",
            "[meta/llama-3.1-70b-instruct] error attempt 3: Error code: 400 - {'error': {'message': 'meta/llama-3.1-70b-instruct is not a valid model ID', 'code': 400}, 'user_id': 'user_34kLTCwLzW3rU64I3t6BoCIlFIw'}\n"
          ]
        },
        {
          "output_type": "stream",
          "name": "stderr",
          "text": [
            "meta/llama-3.1-70b-instruct: 100%|██████████| 120/120 [24:57<00:00, 12.48s/it]\n"
          ]
        },
        {
          "output_type": "stream",
          "name": "stdout",
          "text": [
            "💾 Saved: results_meta_llama-3.1-70b-instruct.csv\n",
            "\n",
            "📊 meta/llama-3.1-70b-instruct\n",
            "  Accuracy : 0.000\n",
            "  CSR      : 0.000\n",
            "  ERS-Sim  : 0.000\n",
            "\n",
            "==============================\n",
            "🔥 Running model: mistral/mistral-7b-instruct\n",
            "==============================\n",
            "\n"
          ]
        },
        {
          "output_type": "stream",
          "name": "stderr",
          "text": [
            "\rmistral/mistral-7b-instruct:   0%|          | 0/120 [00:00<?, ?it/s]"
          ]
        },
        {
          "output_type": "stream",
          "name": "stdout",
          "text": [
            "[mistral/mistral-7b-instruct] error attempt 1: Error code: 400 - {'error': {'message': 'mistral/mistral-7b-instruct is not a valid model ID', 'code': 400}, 'user_id': 'user_34kLTCwLzW3rU64I3t6BoCIlFIw'}\n",
            "[mistral/mistral-7b-instruct] error attempt 2: Error code: 400 - {'error': {'message': 'mistral/mistral-7b-instruct is not a valid model ID', 'code': 400}, 'user_id': 'user_34kLTCwLzW3rU64I3t6BoCIlFIw'}\n",
            "[mistral/mistral-7b-instruct] error attempt 3: Error code: 400 - {'error': {'message': 'mistral/mistral-7b-instruct is not a valid model ID', 'code': 400}, 'user_id': 'user_34kLTCwLzW3rU64I3t6BoCIlFIw'}\n",
            "[mistral/mistral-7b-instruct] error attempt 1: Error code: 400 - {'error': {'message': 'mistral/mistral-7b-instruct is not a valid model ID', 'code': 400}, 'user_id': 'user_34kLTCwLzW3rU64I3t6BoCIlFIw'}\n",
            "[mistral/mistral-7b-instruct] error attempt 2: Error code: 400 - {'error': {'message': 'mistral/mistral-7b-instruct is not a valid model ID', 'code': 400}, 'user_id': 'user_34kLTCwLzW3rU64I3t6BoCIlFIw'}\n",
            "[mistral/mistral-7b-instruct] error attempt 3: Error code: 400 - {'error': {'message': 'mistral/mistral-7b-instruct is not a valid model ID', 'code': 400}, 'user_id': 'user_34kLTCwLzW3rU64I3t6BoCIlFIw'}\n"
          ]
        },
        {
          "output_type": "stream",
          "name": "stderr",
          "text": [
            "\rmistral/mistral-7b-instruct:   1%|          | 1/120 [00:12<24:30, 12.36s/it]"
          ]
        },
        {
          "output_type": "stream",
          "name": "stdout",
          "text": [
            "[mistral/mistral-7b-instruct] error attempt 1: Error code: 400 - {'error': {'message': 'mistral/mistral-7b-instruct is not a valid model ID', 'code': 400}, 'user_id': 'user_34kLTCwLzW3rU64I3t6BoCIlFIw'}\n",
            "[mistral/mistral-7b-instruct] error attempt 2: Error code: 400 - {'error': {'message': 'mistral/mistral-7b-instruct is not a valid model ID', 'code': 400}, 'user_id': 'user_34kLTCwLzW3rU64I3t6BoCIlFIw'}\n",
            "[mistral/mistral-7b-instruct] error attempt 3: Error code: 400 - {'error': {'message': 'mistral/mistral-7b-instruct is not a valid model ID', 'code': 400}, 'user_id': 'user_34kLTCwLzW3rU64I3t6BoCIlFIw'}\n",
            "[mistral/mistral-7b-instruct] error attempt 1: Error code: 400 - {'error': {'message': 'mistral/mistral-7b-instruct is not a valid model ID', 'code': 400}, 'user_id': 'user_34kLTCwLzW3rU64I3t6BoCIlFIw'}\n",
            "[mistral/mistral-7b-instruct] error attempt 2: Error code: 400 - {'error': {'message': 'mistral/mistral-7b-instruct is not a valid model ID', 'code': 400}, 'user_id': 'user_34kLTCwLzW3rU64I3t6BoCIlFIw'}\n",
            "[mistral/mistral-7b-instruct] error attempt 3: Error code: 400 - {'error': {'message': 'mistral/mistral-7b-instruct is not a valid model ID', 'code': 400}, 'user_id': 'user_34kLTCwLzW3rU64I3t6BoCIlFIw'}\n"
          ]
        },
        {
          "output_type": "stream",
          "name": "stderr",
          "text": [
            "\rmistral/mistral-7b-instruct:   2%|▏         | 2/120 [00:24<24:14, 12.33s/it]"
          ]
        },
        {
          "output_type": "stream",
          "name": "stdout",
          "text": [
            "[mistral/mistral-7b-instruct] error attempt 1: Error code: 400 - {'error': {'message': 'mistral/mistral-7b-instruct is not a valid model ID', 'code': 400}, 'user_id': 'user_34kLTCwLzW3rU64I3t6BoCIlFIw'}\n",
            "[mistral/mistral-7b-instruct] error attempt 2: Error code: 400 - {'error': {'message': 'mistral/mistral-7b-instruct is not a valid model ID', 'code': 400}, 'user_id': 'user_34kLTCwLzW3rU64I3t6BoCIlFIw'}\n",
            "[mistral/mistral-7b-instruct] error attempt 3: Error code: 400 - {'error': {'message': 'mistral/mistral-7b-instruct is not a valid model ID', 'code': 400}, 'user_id': 'user_34kLTCwLzW3rU64I3t6BoCIlFIw'}\n",
            "[mistral/mistral-7b-instruct] error attempt 1: Error code: 400 - {'error': {'message': 'mistral/mistral-7b-instruct is not a valid model ID', 'code': 400}, 'user_id': 'user_34kLTCwLzW3rU64I3t6BoCIlFIw'}\n",
            "[mistral/mistral-7b-instruct] error attempt 2: Error code: 400 - {'error': {'message': 'mistral/mistral-7b-instruct is not a valid model ID', 'code': 400}, 'user_id': 'user_34kLTCwLzW3rU64I3t6BoCIlFIw'}\n",
            "[mistral/mistral-7b-instruct] error attempt 3: Error code: 400 - {'error': {'message': 'mistral/mistral-7b-instruct is not a valid model ID', 'code': 400}, 'user_id': 'user_34kLTCwLzW3rU64I3t6BoCIlFIw'}\n"
          ]
        },
        {
          "output_type": "stream",
          "name": "stderr",
          "text": [
            "\rmistral/mistral-7b-instruct:   2%|▎         | 3/120 [00:36<24:01, 12.32s/it]"
          ]
        },
        {
          "output_type": "stream",
          "name": "stdout",
          "text": [
            "[mistral/mistral-7b-instruct] error attempt 1: Error code: 400 - {'error': {'message': 'mistral/mistral-7b-instruct is not a valid model ID', 'code': 400}, 'user_id': 'user_34kLTCwLzW3rU64I3t6BoCIlFIw'}\n",
            "[mistral/mistral-7b-instruct] error attempt 2: Error code: 400 - {'error': {'message': 'mistral/mistral-7b-instruct is not a valid model ID', 'code': 400}, 'user_id': 'user_34kLTCwLzW3rU64I3t6BoCIlFIw'}\n",
            "[mistral/mistral-7b-instruct] error attempt 3: Error code: 400 - {'error': {'message': 'mistral/mistral-7b-instruct is not a valid model ID', 'code': 400}, 'user_id': 'user_34kLTCwLzW3rU64I3t6BoCIlFIw'}\n",
            "[mistral/mistral-7b-instruct] error attempt 1: Error code: 400 - {'error': {'message': 'mistral/mistral-7b-instruct is not a valid model ID', 'code': 400}, 'user_id': 'user_34kLTCwLzW3rU64I3t6BoCIlFIw'}\n",
            "[mistral/mistral-7b-instruct] error attempt 2: Error code: 400 - {'error': {'message': 'mistral/mistral-7b-instruct is not a valid model ID', 'code': 400}, 'user_id': 'user_34kLTCwLzW3rU64I3t6BoCIlFIw'}\n",
            "[mistral/mistral-7b-instruct] error attempt 3: Error code: 400 - {'error': {'message': 'mistral/mistral-7b-instruct is not a valid model ID', 'code': 400}, 'user_id': 'user_34kLTCwLzW3rU64I3t6BoCIlFIw'}\n"
          ]
        },
        {
          "output_type": "stream",
          "name": "stderr",
          "text": [
            "\rmistral/mistral-7b-instruct:   3%|▎         | 4/120 [00:49<23:48, 12.32s/it]"
          ]
        },
        {
          "output_type": "stream",
          "name": "stdout",
          "text": [
            "[mistral/mistral-7b-instruct] error attempt 1: Error code: 400 - {'error': {'message': 'mistral/mistral-7b-instruct is not a valid model ID', 'code': 400}, 'user_id': 'user_34kLTCwLzW3rU64I3t6BoCIlFIw'}\n",
            "[mistral/mistral-7b-instruct] error attempt 2: Error code: 400 - {'error': {'message': 'mistral/mistral-7b-instruct is not a valid model ID', 'code': 400}, 'user_id': 'user_34kLTCwLzW3rU64I3t6BoCIlFIw'}\n",
            "[mistral/mistral-7b-instruct] error attempt 3: Error code: 400 - {'error': {'message': 'mistral/mistral-7b-instruct is not a valid model ID', 'code': 400}, 'user_id': 'user_34kLTCwLzW3rU64I3t6BoCIlFIw'}\n",
            "[mistral/mistral-7b-instruct] error attempt 1: Error code: 400 - {'error': {'message': 'mistral/mistral-7b-instruct is not a valid model ID', 'code': 400}, 'user_id': 'user_34kLTCwLzW3rU64I3t6BoCIlFIw'}\n",
            "[mistral/mistral-7b-instruct] error attempt 2: Error code: 400 - {'error': {'message': 'mistral/mistral-7b-instruct is not a valid model ID', 'code': 400}, 'user_id': 'user_34kLTCwLzW3rU64I3t6BoCIlFIw'}\n",
            "[mistral/mistral-7b-instruct] error attempt 3: Error code: 400 - {'error': {'message': 'mistral/mistral-7b-instruct is not a valid model ID', 'code': 400}, 'user_id': 'user_34kLTCwLzW3rU64I3t6BoCIlFIw'}\n"
          ]
        },
        {
          "output_type": "stream",
          "name": "stderr",
          "text": [
            "\rmistral/mistral-7b-instruct:   4%|▍         | 5/120 [01:01<23:34, 12.30s/it]"
          ]
        },
        {
          "output_type": "stream",
          "name": "stdout",
          "text": [
            "[mistral/mistral-7b-instruct] error attempt 1: Error code: 400 - {'error': {'message': 'mistral/mistral-7b-instruct is not a valid model ID', 'code': 400}, 'user_id': 'user_34kLTCwLzW3rU64I3t6BoCIlFIw'}\n",
            "[mistral/mistral-7b-instruct] error attempt 2: Error code: 400 - {'error': {'message': 'mistral/mistral-7b-instruct is not a valid model ID', 'code': 400}, 'user_id': 'user_34kLTCwLzW3rU64I3t6BoCIlFIw'}\n",
            "[mistral/mistral-7b-instruct] error attempt 3: Error code: 400 - {'error': {'message': 'mistral/mistral-7b-instruct is not a valid model ID', 'code': 400}, 'user_id': 'user_34kLTCwLzW3rU64I3t6BoCIlFIw'}\n",
            "[mistral/mistral-7b-instruct] error attempt 1: Error code: 400 - {'error': {'message': 'mistral/mistral-7b-instruct is not a valid model ID', 'code': 400}, 'user_id': 'user_34kLTCwLzW3rU64I3t6BoCIlFIw'}\n"
          ]
        },
        {
          "output_type": "stream",
          "name": "stderr",
          "text": [
            "\rmistral/mistral-7b-instruct:   4%|▍         | 5/120 [01:09<26:45, 13.96s/it]\n"
          ]
        },
        {
          "output_type": "error",
          "ename": "KeyboardInterrupt",
          "evalue": "",
          "traceback": [
            "\u001b[0;31m---------------------------------------------------------------------------\u001b[0m",
            "\u001b[0;31mKeyboardInterrupt\u001b[0m                         Traceback (most recent call last)",
            "\u001b[0;32m/tmp/ipython-input-2932998054.py\u001b[0m in \u001b[0;36m<cell line: 0>\u001b[0;34m()\u001b[0m\n\u001b[1;32m    252\u001b[0m     \u001b[0;32mfor\u001b[0m \u001b[0m_\u001b[0m\u001b[0;34m,\u001b[0m \u001b[0mr\u001b[0m \u001b[0;32min\u001b[0m \u001b[0mtqdm\u001b[0m\u001b[0;34m(\u001b[0m\u001b[0mdf\u001b[0m\u001b[0;34m.\u001b[0m\u001b[0miterrows\u001b[0m\u001b[0;34m(\u001b[0m\u001b[0;34m)\u001b[0m\u001b[0;34m,\u001b[0m \u001b[0mtotal\u001b[0m\u001b[0;34m=\u001b[0m\u001b[0mlen\u001b[0m\u001b[0;34m(\u001b[0m\u001b[0mdf\u001b[0m\u001b[0;34m)\u001b[0m\u001b[0;34m,\u001b[0m \u001b[0mdesc\u001b[0m\u001b[0;34m=\u001b[0m\u001b[0mmodel_name\u001b[0m\u001b[0;34m)\u001b[0m\u001b[0;34m:\u001b[0m\u001b[0;34m\u001b[0m\u001b[0;34m\u001b[0m\u001b[0m\n\u001b[1;32m    253\u001b[0m         \u001b[0mbase_raw\u001b[0m \u001b[0;34m=\u001b[0m \u001b[0mcall_model\u001b[0m\u001b[0;34m(\u001b[0m\u001b[0mmodel_name\u001b[0m\u001b[0;34m,\u001b[0m \u001b[0mr\u001b[0m\u001b[0;34m[\u001b[0m\u001b[0;34m\"baseline_prompt\"\u001b[0m\u001b[0;34m]\u001b[0m\u001b[0;34m)\u001b[0m\u001b[0;34m\u001b[0m\u001b[0;34m\u001b[0m\u001b[0m\n\u001b[0;32m--> 254\u001b[0;31m         \u001b[0mcf_raw\u001b[0m   \u001b[0;34m=\u001b[0m \u001b[0mcall_model\u001b[0m\u001b[0;34m(\u001b[0m\u001b[0mmodel_name\u001b[0m\u001b[0;34m,\u001b[0m \u001b[0mr\u001b[0m\u001b[0;34m[\u001b[0m\u001b[0;34m\"cf_prompt\"\u001b[0m\u001b[0;34m]\u001b[0m\u001b[0;34m)\u001b[0m\u001b[0;34m\u001b[0m\u001b[0;34m\u001b[0m\u001b[0m\n\u001b[0m\u001b[1;32m    255\u001b[0m \u001b[0;34m\u001b[0m\u001b[0m\n\u001b[1;32m    256\u001b[0m         \u001b[0mbase_ans\u001b[0m\u001b[0;34m,\u001b[0m \u001b[0mbase_conf\u001b[0m\u001b[0;34m,\u001b[0m \u001b[0mbase_text\u001b[0m \u001b[0;34m=\u001b[0m \u001b[0mparse_output\u001b[0m\u001b[0;34m(\u001b[0m\u001b[0mbase_raw\u001b[0m\u001b[0;34m)\u001b[0m\u001b[0;34m\u001b[0m\u001b[0;34m\u001b[0m\u001b[0m\n",
            "\u001b[0;32m/tmp/ipython-input-2932998054.py\u001b[0m in \u001b[0;36mcall_model\u001b[0;34m(model_name, prompt, retries)\u001b[0m\n\u001b[1;32m    173\u001b[0m     \u001b[0;32mfor\u001b[0m \u001b[0mattempt\u001b[0m \u001b[0;32min\u001b[0m \u001b[0mrange\u001b[0m\u001b[0;34m(\u001b[0m\u001b[0mretries\u001b[0m\u001b[0;34m)\u001b[0m\u001b[0;34m:\u001b[0m\u001b[0;34m\u001b[0m\u001b[0;34m\u001b[0m\u001b[0m\n\u001b[1;32m    174\u001b[0m         \u001b[0;32mtry\u001b[0m\u001b[0;34m:\u001b[0m\u001b[0;34m\u001b[0m\u001b[0;34m\u001b[0m\u001b[0m\n\u001b[0;32m--> 175\u001b[0;31m             resp = client.chat.completions.create(\n\u001b[0m\u001b[1;32m    176\u001b[0m                 \u001b[0mmodel\u001b[0m\u001b[0;34m=\u001b[0m\u001b[0mmodel_name\u001b[0m\u001b[0;34m,\u001b[0m\u001b[0;34m\u001b[0m\u001b[0;34m\u001b[0m\u001b[0m\n\u001b[1;32m    177\u001b[0m                 \u001b[0mmessages\u001b[0m\u001b[0;34m=\u001b[0m\u001b[0;34m[\u001b[0m\u001b[0;34m{\u001b[0m\u001b[0;34m\"role\"\u001b[0m\u001b[0;34m:\u001b[0m \u001b[0;34m\"user\"\u001b[0m\u001b[0;34m,\u001b[0m \u001b[0;34m\"content\"\u001b[0m\u001b[0;34m:\u001b[0m \u001b[0mprompt\u001b[0m\u001b[0;34m}\u001b[0m\u001b[0;34m]\u001b[0m\u001b[0;34m,\u001b[0m\u001b[0;34m\u001b[0m\u001b[0;34m\u001b[0m\u001b[0m\n",
            "\u001b[0;32m/usr/local/lib/python3.12/dist-packages/openai/_utils/_utils.py\u001b[0m in \u001b[0;36mwrapper\u001b[0;34m(*args, **kwargs)\u001b[0m\n\u001b[1;32m    284\u001b[0m                         \u001b[0mmsg\u001b[0m \u001b[0;34m=\u001b[0m \u001b[0;34mf\"Missing required argument: {quote(missing[0])}\"\u001b[0m\u001b[0;34m\u001b[0m\u001b[0;34m\u001b[0m\u001b[0m\n\u001b[1;32m    285\u001b[0m                 \u001b[0;32mraise\u001b[0m \u001b[0mTypeError\u001b[0m\u001b[0;34m(\u001b[0m\u001b[0mmsg\u001b[0m\u001b[0;34m)\u001b[0m\u001b[0;34m\u001b[0m\u001b[0;34m\u001b[0m\u001b[0m\n\u001b[0;32m--> 286\u001b[0;31m             \u001b[0;32mreturn\u001b[0m \u001b[0mfunc\u001b[0m\u001b[0;34m(\u001b[0m\u001b[0;34m*\u001b[0m\u001b[0margs\u001b[0m\u001b[0;34m,\u001b[0m \u001b[0;34m**\u001b[0m\u001b[0mkwargs\u001b[0m\u001b[0;34m)\u001b[0m\u001b[0;34m\u001b[0m\u001b[0;34m\u001b[0m\u001b[0m\n\u001b[0m\u001b[1;32m    287\u001b[0m \u001b[0;34m\u001b[0m\u001b[0m\n\u001b[1;32m    288\u001b[0m         \u001b[0;32mreturn\u001b[0m \u001b[0mwrapper\u001b[0m  \u001b[0;31m# type: ignore\u001b[0m\u001b[0;34m\u001b[0m\u001b[0;34m\u001b[0m\u001b[0m\n",
            "\u001b[0;32m/usr/local/lib/python3.12/dist-packages/openai/resources/chat/completions/completions.py\u001b[0m in \u001b[0;36mcreate\u001b[0;34m(self, messages, model, audio, frequency_penalty, function_call, functions, logit_bias, logprobs, max_completion_tokens, max_tokens, metadata, modalities, n, parallel_tool_calls, prediction, presence_penalty, prompt_cache_key, reasoning_effort, response_format, safety_identifier, seed, service_tier, stop, store, stream, stream_options, temperature, tool_choice, tools, top_logprobs, top_p, user, verbosity, web_search_options, extra_headers, extra_query, extra_body, timeout)\u001b[0m\n\u001b[1;32m   1145\u001b[0m     ) -> ChatCompletion | Stream[ChatCompletionChunk]:\n\u001b[1;32m   1146\u001b[0m         \u001b[0mvalidate_response_format\u001b[0m\u001b[0;34m(\u001b[0m\u001b[0mresponse_format\u001b[0m\u001b[0;34m)\u001b[0m\u001b[0;34m\u001b[0m\u001b[0;34m\u001b[0m\u001b[0m\n\u001b[0;32m-> 1147\u001b[0;31m         return self._post(\n\u001b[0m\u001b[1;32m   1148\u001b[0m             \u001b[0;34m\"/chat/completions\"\u001b[0m\u001b[0;34m,\u001b[0m\u001b[0;34m\u001b[0m\u001b[0;34m\u001b[0m\u001b[0m\n\u001b[1;32m   1149\u001b[0m             body=maybe_transform(\n",
            "\u001b[0;32m/usr/local/lib/python3.12/dist-packages/openai/_base_client.py\u001b[0m in \u001b[0;36mpost\u001b[0;34m(self, path, cast_to, body, options, files, stream, stream_cls)\u001b[0m\n\u001b[1;32m   1257\u001b[0m             \u001b[0mmethod\u001b[0m\u001b[0;34m=\u001b[0m\u001b[0;34m\"post\"\u001b[0m\u001b[0;34m,\u001b[0m \u001b[0murl\u001b[0m\u001b[0;34m=\u001b[0m\u001b[0mpath\u001b[0m\u001b[0;34m,\u001b[0m \u001b[0mjson_data\u001b[0m\u001b[0;34m=\u001b[0m\u001b[0mbody\u001b[0m\u001b[0;34m,\u001b[0m \u001b[0mfiles\u001b[0m\u001b[0;34m=\u001b[0m\u001b[0mto_httpx_files\u001b[0m\u001b[0;34m(\u001b[0m\u001b[0mfiles\u001b[0m\u001b[0;34m)\u001b[0m\u001b[0;34m,\u001b[0m \u001b[0;34m**\u001b[0m\u001b[0moptions\u001b[0m\u001b[0;34m\u001b[0m\u001b[0;34m\u001b[0m\u001b[0m\n\u001b[1;32m   1258\u001b[0m         )\n\u001b[0;32m-> 1259\u001b[0;31m         \u001b[0;32mreturn\u001b[0m \u001b[0mcast\u001b[0m\u001b[0;34m(\u001b[0m\u001b[0mResponseT\u001b[0m\u001b[0;34m,\u001b[0m \u001b[0mself\u001b[0m\u001b[0;34m.\u001b[0m\u001b[0mrequest\u001b[0m\u001b[0;34m(\u001b[0m\u001b[0mcast_to\u001b[0m\u001b[0;34m,\u001b[0m \u001b[0mopts\u001b[0m\u001b[0;34m,\u001b[0m \u001b[0mstream\u001b[0m\u001b[0;34m=\u001b[0m\u001b[0mstream\u001b[0m\u001b[0;34m,\u001b[0m \u001b[0mstream_cls\u001b[0m\u001b[0;34m=\u001b[0m\u001b[0mstream_cls\u001b[0m\u001b[0;34m)\u001b[0m\u001b[0;34m)\u001b[0m\u001b[0;34m\u001b[0m\u001b[0;34m\u001b[0m\u001b[0m\n\u001b[0m\u001b[1;32m   1260\u001b[0m \u001b[0;34m\u001b[0m\u001b[0m\n\u001b[1;32m   1261\u001b[0m     def patch(\n",
            "\u001b[0;32m/usr/local/lib/python3.12/dist-packages/openai/_base_client.py\u001b[0m in \u001b[0;36mrequest\u001b[0;34m(self, cast_to, options, stream, stream_cls)\u001b[0m\n\u001b[1;32m    980\u001b[0m             \u001b[0mresponse\u001b[0m \u001b[0;34m=\u001b[0m \u001b[0;32mNone\u001b[0m\u001b[0;34m\u001b[0m\u001b[0;34m\u001b[0m\u001b[0m\n\u001b[1;32m    981\u001b[0m             \u001b[0;32mtry\u001b[0m\u001b[0;34m:\u001b[0m\u001b[0;34m\u001b[0m\u001b[0;34m\u001b[0m\u001b[0m\n\u001b[0;32m--> 982\u001b[0;31m                 response = self._client.send(\n\u001b[0m\u001b[1;32m    983\u001b[0m                     \u001b[0mrequest\u001b[0m\u001b[0;34m,\u001b[0m\u001b[0;34m\u001b[0m\u001b[0;34m\u001b[0m\u001b[0m\n\u001b[1;32m    984\u001b[0m                     \u001b[0mstream\u001b[0m\u001b[0;34m=\u001b[0m\u001b[0mstream\u001b[0m \u001b[0;32mor\u001b[0m \u001b[0mself\u001b[0m\u001b[0;34m.\u001b[0m\u001b[0m_should_stream_response_body\u001b[0m\u001b[0;34m(\u001b[0m\u001b[0mrequest\u001b[0m\u001b[0;34m=\u001b[0m\u001b[0mrequest\u001b[0m\u001b[0;34m)\u001b[0m\u001b[0;34m,\u001b[0m\u001b[0;34m\u001b[0m\u001b[0;34m\u001b[0m\u001b[0m\n",
            "\u001b[0;32m/usr/local/lib/python3.12/dist-packages/httpx/_client.py\u001b[0m in \u001b[0;36msend\u001b[0;34m(self, request, stream, auth, follow_redirects)\u001b[0m\n\u001b[1;32m    912\u001b[0m         \u001b[0mauth\u001b[0m \u001b[0;34m=\u001b[0m \u001b[0mself\u001b[0m\u001b[0;34m.\u001b[0m\u001b[0m_build_request_auth\u001b[0m\u001b[0;34m(\u001b[0m\u001b[0mrequest\u001b[0m\u001b[0;34m,\u001b[0m \u001b[0mauth\u001b[0m\u001b[0;34m)\u001b[0m\u001b[0;34m\u001b[0m\u001b[0;34m\u001b[0m\u001b[0m\n\u001b[1;32m    913\u001b[0m \u001b[0;34m\u001b[0m\u001b[0m\n\u001b[0;32m--> 914\u001b[0;31m         response = self._send_handling_auth(\n\u001b[0m\u001b[1;32m    915\u001b[0m             \u001b[0mrequest\u001b[0m\u001b[0;34m,\u001b[0m\u001b[0;34m\u001b[0m\u001b[0;34m\u001b[0m\u001b[0m\n\u001b[1;32m    916\u001b[0m             \u001b[0mauth\u001b[0m\u001b[0;34m=\u001b[0m\u001b[0mauth\u001b[0m\u001b[0;34m,\u001b[0m\u001b[0;34m\u001b[0m\u001b[0;34m\u001b[0m\u001b[0m\n",
            "\u001b[0;32m/usr/local/lib/python3.12/dist-packages/httpx/_client.py\u001b[0m in \u001b[0;36m_send_handling_auth\u001b[0;34m(self, request, auth, follow_redirects, history)\u001b[0m\n\u001b[1;32m    940\u001b[0m \u001b[0;34m\u001b[0m\u001b[0m\n\u001b[1;32m    941\u001b[0m             \u001b[0;32mwhile\u001b[0m \u001b[0;32mTrue\u001b[0m\u001b[0;34m:\u001b[0m\u001b[0;34m\u001b[0m\u001b[0;34m\u001b[0m\u001b[0m\n\u001b[0;32m--> 942\u001b[0;31m                 response = self._send_handling_redirects(\n\u001b[0m\u001b[1;32m    943\u001b[0m                     \u001b[0mrequest\u001b[0m\u001b[0;34m,\u001b[0m\u001b[0;34m\u001b[0m\u001b[0;34m\u001b[0m\u001b[0m\n\u001b[1;32m    944\u001b[0m                     \u001b[0mfollow_redirects\u001b[0m\u001b[0;34m=\u001b[0m\u001b[0mfollow_redirects\u001b[0m\u001b[0;34m,\u001b[0m\u001b[0;34m\u001b[0m\u001b[0;34m\u001b[0m\u001b[0m\n",
            "\u001b[0;32m/usr/local/lib/python3.12/dist-packages/httpx/_client.py\u001b[0m in \u001b[0;36m_send_handling_redirects\u001b[0;34m(self, request, follow_redirects, history)\u001b[0m\n\u001b[1;32m    977\u001b[0m                 \u001b[0mhook\u001b[0m\u001b[0;34m(\u001b[0m\u001b[0mrequest\u001b[0m\u001b[0;34m)\u001b[0m\u001b[0;34m\u001b[0m\u001b[0;34m\u001b[0m\u001b[0m\n\u001b[1;32m    978\u001b[0m \u001b[0;34m\u001b[0m\u001b[0m\n\u001b[0;32m--> 979\u001b[0;31m             \u001b[0mresponse\u001b[0m \u001b[0;34m=\u001b[0m \u001b[0mself\u001b[0m\u001b[0;34m.\u001b[0m\u001b[0m_send_single_request\u001b[0m\u001b[0;34m(\u001b[0m\u001b[0mrequest\u001b[0m\u001b[0;34m)\u001b[0m\u001b[0;34m\u001b[0m\u001b[0;34m\u001b[0m\u001b[0m\n\u001b[0m\u001b[1;32m    980\u001b[0m             \u001b[0;32mtry\u001b[0m\u001b[0;34m:\u001b[0m\u001b[0;34m\u001b[0m\u001b[0;34m\u001b[0m\u001b[0m\n\u001b[1;32m    981\u001b[0m                 \u001b[0;32mfor\u001b[0m \u001b[0mhook\u001b[0m \u001b[0;32min\u001b[0m \u001b[0mself\u001b[0m\u001b[0;34m.\u001b[0m\u001b[0m_event_hooks\u001b[0m\u001b[0;34m[\u001b[0m\u001b[0;34m\"response\"\u001b[0m\u001b[0;34m]\u001b[0m\u001b[0;34m:\u001b[0m\u001b[0;34m\u001b[0m\u001b[0;34m\u001b[0m\u001b[0m\n",
            "\u001b[0;32m/usr/local/lib/python3.12/dist-packages/httpx/_client.py\u001b[0m in \u001b[0;36m_send_single_request\u001b[0;34m(self, request)\u001b[0m\n\u001b[1;32m   1012\u001b[0m \u001b[0;34m\u001b[0m\u001b[0m\n\u001b[1;32m   1013\u001b[0m         \u001b[0;32mwith\u001b[0m \u001b[0mrequest_context\u001b[0m\u001b[0;34m(\u001b[0m\u001b[0mrequest\u001b[0m\u001b[0;34m=\u001b[0m\u001b[0mrequest\u001b[0m\u001b[0;34m)\u001b[0m\u001b[0;34m:\u001b[0m\u001b[0;34m\u001b[0m\u001b[0;34m\u001b[0m\u001b[0m\n\u001b[0;32m-> 1014\u001b[0;31m             \u001b[0mresponse\u001b[0m \u001b[0;34m=\u001b[0m \u001b[0mtransport\u001b[0m\u001b[0;34m.\u001b[0m\u001b[0mhandle_request\u001b[0m\u001b[0;34m(\u001b[0m\u001b[0mrequest\u001b[0m\u001b[0;34m)\u001b[0m\u001b[0;34m\u001b[0m\u001b[0;34m\u001b[0m\u001b[0m\n\u001b[0m\u001b[1;32m   1015\u001b[0m \u001b[0;34m\u001b[0m\u001b[0m\n\u001b[1;32m   1016\u001b[0m         \u001b[0;32massert\u001b[0m \u001b[0misinstance\u001b[0m\u001b[0;34m(\u001b[0m\u001b[0mresponse\u001b[0m\u001b[0;34m.\u001b[0m\u001b[0mstream\u001b[0m\u001b[0;34m,\u001b[0m \u001b[0mSyncByteStream\u001b[0m\u001b[0;34m)\u001b[0m\u001b[0;34m\u001b[0m\u001b[0;34m\u001b[0m\u001b[0m\n",
            "\u001b[0;32m/usr/local/lib/python3.12/dist-packages/httpx/_transports/default.py\u001b[0m in \u001b[0;36mhandle_request\u001b[0;34m(self, request)\u001b[0m\n\u001b[1;32m    248\u001b[0m         )\n\u001b[1;32m    249\u001b[0m         \u001b[0;32mwith\u001b[0m \u001b[0mmap_httpcore_exceptions\u001b[0m\u001b[0;34m(\u001b[0m\u001b[0;34m)\u001b[0m\u001b[0;34m:\u001b[0m\u001b[0;34m\u001b[0m\u001b[0;34m\u001b[0m\u001b[0m\n\u001b[0;32m--> 250\u001b[0;31m             \u001b[0mresp\u001b[0m \u001b[0;34m=\u001b[0m \u001b[0mself\u001b[0m\u001b[0;34m.\u001b[0m\u001b[0m_pool\u001b[0m\u001b[0;34m.\u001b[0m\u001b[0mhandle_request\u001b[0m\u001b[0;34m(\u001b[0m\u001b[0mreq\u001b[0m\u001b[0;34m)\u001b[0m\u001b[0;34m\u001b[0m\u001b[0;34m\u001b[0m\u001b[0m\n\u001b[0m\u001b[1;32m    251\u001b[0m \u001b[0;34m\u001b[0m\u001b[0m\n\u001b[1;32m    252\u001b[0m         \u001b[0;32massert\u001b[0m \u001b[0misinstance\u001b[0m\u001b[0;34m(\u001b[0m\u001b[0mresp\u001b[0m\u001b[0;34m.\u001b[0m\u001b[0mstream\u001b[0m\u001b[0;34m,\u001b[0m \u001b[0mtyping\u001b[0m\u001b[0;34m.\u001b[0m\u001b[0mIterable\u001b[0m\u001b[0;34m)\u001b[0m\u001b[0;34m\u001b[0m\u001b[0;34m\u001b[0m\u001b[0m\n",
            "\u001b[0;32m/usr/local/lib/python3.12/dist-packages/httpcore/_sync/connection_pool.py\u001b[0m in \u001b[0;36mhandle_request\u001b[0;34m(self, request)\u001b[0m\n\u001b[1;32m    254\u001b[0m \u001b[0;34m\u001b[0m\u001b[0m\n\u001b[1;32m    255\u001b[0m             \u001b[0mself\u001b[0m\u001b[0;34m.\u001b[0m\u001b[0m_close_connections\u001b[0m\u001b[0;34m(\u001b[0m\u001b[0mclosing\u001b[0m\u001b[0;34m)\u001b[0m\u001b[0;34m\u001b[0m\u001b[0;34m\u001b[0m\u001b[0m\n\u001b[0;32m--> 256\u001b[0;31m             \u001b[0;32mraise\u001b[0m \u001b[0mexc\u001b[0m \u001b[0;32mfrom\u001b[0m \u001b[0;32mNone\u001b[0m\u001b[0;34m\u001b[0m\u001b[0;34m\u001b[0m\u001b[0m\n\u001b[0m\u001b[1;32m    257\u001b[0m \u001b[0;34m\u001b[0m\u001b[0m\n\u001b[1;32m    258\u001b[0m         \u001b[0;31m# Return the response. Note that in this case we still have to manage\u001b[0m\u001b[0;34m\u001b[0m\u001b[0;34m\u001b[0m\u001b[0m\n",
            "\u001b[0;32m/usr/local/lib/python3.12/dist-packages/httpcore/_sync/connection_pool.py\u001b[0m in \u001b[0;36mhandle_request\u001b[0;34m(self, request)\u001b[0m\n\u001b[1;32m    234\u001b[0m                 \u001b[0;32mtry\u001b[0m\u001b[0;34m:\u001b[0m\u001b[0;34m\u001b[0m\u001b[0;34m\u001b[0m\u001b[0m\n\u001b[1;32m    235\u001b[0m                     \u001b[0;31m# Send the request on the assigned connection.\u001b[0m\u001b[0;34m\u001b[0m\u001b[0;34m\u001b[0m\u001b[0m\n\u001b[0;32m--> 236\u001b[0;31m                     response = connection.handle_request(\n\u001b[0m\u001b[1;32m    237\u001b[0m                         \u001b[0mpool_request\u001b[0m\u001b[0;34m.\u001b[0m\u001b[0mrequest\u001b[0m\u001b[0;34m\u001b[0m\u001b[0;34m\u001b[0m\u001b[0m\n\u001b[1;32m    238\u001b[0m                     )\n",
            "\u001b[0;32m/usr/local/lib/python3.12/dist-packages/httpcore/_sync/connection.py\u001b[0m in \u001b[0;36mhandle_request\u001b[0;34m(self, request)\u001b[0m\n\u001b[1;32m    101\u001b[0m             \u001b[0;32mraise\u001b[0m \u001b[0mexc\u001b[0m\u001b[0;34m\u001b[0m\u001b[0;34m\u001b[0m\u001b[0m\n\u001b[1;32m    102\u001b[0m \u001b[0;34m\u001b[0m\u001b[0m\n\u001b[0;32m--> 103\u001b[0;31m         \u001b[0;32mreturn\u001b[0m \u001b[0mself\u001b[0m\u001b[0;34m.\u001b[0m\u001b[0m_connection\u001b[0m\u001b[0;34m.\u001b[0m\u001b[0mhandle_request\u001b[0m\u001b[0;34m(\u001b[0m\u001b[0mrequest\u001b[0m\u001b[0;34m)\u001b[0m\u001b[0;34m\u001b[0m\u001b[0;34m\u001b[0m\u001b[0m\n\u001b[0m\u001b[1;32m    104\u001b[0m \u001b[0;34m\u001b[0m\u001b[0m\n\u001b[1;32m    105\u001b[0m     \u001b[0;32mdef\u001b[0m \u001b[0m_connect\u001b[0m\u001b[0;34m(\u001b[0m\u001b[0mself\u001b[0m\u001b[0;34m,\u001b[0m \u001b[0mrequest\u001b[0m\u001b[0;34m:\u001b[0m \u001b[0mRequest\u001b[0m\u001b[0;34m)\u001b[0m \u001b[0;34m->\u001b[0m \u001b[0mNetworkStream\u001b[0m\u001b[0;34m:\u001b[0m\u001b[0;34m\u001b[0m\u001b[0;34m\u001b[0m\u001b[0m\n",
            "\u001b[0;32m/usr/local/lib/python3.12/dist-packages/httpcore/_sync/http11.py\u001b[0m in \u001b[0;36mhandle_request\u001b[0;34m(self, request)\u001b[0m\n\u001b[1;32m    134\u001b[0m                 \u001b[0;32mwith\u001b[0m \u001b[0mTrace\u001b[0m\u001b[0;34m(\u001b[0m\u001b[0;34m\"response_closed\"\u001b[0m\u001b[0;34m,\u001b[0m \u001b[0mlogger\u001b[0m\u001b[0;34m,\u001b[0m \u001b[0mrequest\u001b[0m\u001b[0;34m)\u001b[0m \u001b[0;32mas\u001b[0m \u001b[0mtrace\u001b[0m\u001b[0;34m:\u001b[0m\u001b[0;34m\u001b[0m\u001b[0;34m\u001b[0m\u001b[0m\n\u001b[1;32m    135\u001b[0m                     \u001b[0mself\u001b[0m\u001b[0;34m.\u001b[0m\u001b[0m_response_closed\u001b[0m\u001b[0;34m(\u001b[0m\u001b[0;34m)\u001b[0m\u001b[0;34m\u001b[0m\u001b[0;34m\u001b[0m\u001b[0m\n\u001b[0;32m--> 136\u001b[0;31m             \u001b[0;32mraise\u001b[0m \u001b[0mexc\u001b[0m\u001b[0;34m\u001b[0m\u001b[0;34m\u001b[0m\u001b[0m\n\u001b[0m\u001b[1;32m    137\u001b[0m \u001b[0;34m\u001b[0m\u001b[0m\n\u001b[1;32m    138\u001b[0m     \u001b[0;31m# Sending the request...\u001b[0m\u001b[0;34m\u001b[0m\u001b[0;34m\u001b[0m\u001b[0m\n",
            "\u001b[0;32m/usr/local/lib/python3.12/dist-packages/httpcore/_sync/http11.py\u001b[0m in \u001b[0;36mhandle_request\u001b[0;34m(self, request)\u001b[0m\n\u001b[1;32m    104\u001b[0m                     \u001b[0mheaders\u001b[0m\u001b[0;34m,\u001b[0m\u001b[0;34m\u001b[0m\u001b[0;34m\u001b[0m\u001b[0m\n\u001b[1;32m    105\u001b[0m                     \u001b[0mtrailing_data\u001b[0m\u001b[0;34m,\u001b[0m\u001b[0;34m\u001b[0m\u001b[0;34m\u001b[0m\u001b[0m\n\u001b[0;32m--> 106\u001b[0;31m                 ) = self._receive_response_headers(**kwargs)\n\u001b[0m\u001b[1;32m    107\u001b[0m                 trace.return_value = (\n\u001b[1;32m    108\u001b[0m                     \u001b[0mhttp_version\u001b[0m\u001b[0;34m,\u001b[0m\u001b[0;34m\u001b[0m\u001b[0;34m\u001b[0m\u001b[0m\n",
            "\u001b[0;32m/usr/local/lib/python3.12/dist-packages/httpcore/_sync/http11.py\u001b[0m in \u001b[0;36m_receive_response_headers\u001b[0;34m(self, request)\u001b[0m\n\u001b[1;32m    175\u001b[0m \u001b[0;34m\u001b[0m\u001b[0m\n\u001b[1;32m    176\u001b[0m         \u001b[0;32mwhile\u001b[0m \u001b[0;32mTrue\u001b[0m\u001b[0;34m:\u001b[0m\u001b[0;34m\u001b[0m\u001b[0;34m\u001b[0m\u001b[0m\n\u001b[0;32m--> 177\u001b[0;31m             \u001b[0mevent\u001b[0m \u001b[0;34m=\u001b[0m \u001b[0mself\u001b[0m\u001b[0;34m.\u001b[0m\u001b[0m_receive_event\u001b[0m\u001b[0;34m(\u001b[0m\u001b[0mtimeout\u001b[0m\u001b[0;34m=\u001b[0m\u001b[0mtimeout\u001b[0m\u001b[0;34m)\u001b[0m\u001b[0;34m\u001b[0m\u001b[0;34m\u001b[0m\u001b[0m\n\u001b[0m\u001b[1;32m    178\u001b[0m             \u001b[0;32mif\u001b[0m \u001b[0misinstance\u001b[0m\u001b[0;34m(\u001b[0m\u001b[0mevent\u001b[0m\u001b[0;34m,\u001b[0m \u001b[0mh11\u001b[0m\u001b[0;34m.\u001b[0m\u001b[0mResponse\u001b[0m\u001b[0;34m)\u001b[0m\u001b[0;34m:\u001b[0m\u001b[0;34m\u001b[0m\u001b[0;34m\u001b[0m\u001b[0m\n\u001b[1;32m    179\u001b[0m                 \u001b[0;32mbreak\u001b[0m\u001b[0;34m\u001b[0m\u001b[0;34m\u001b[0m\u001b[0m\n",
            "\u001b[0;32m/usr/local/lib/python3.12/dist-packages/httpcore/_sync/http11.py\u001b[0m in \u001b[0;36m_receive_event\u001b[0;34m(self, timeout)\u001b[0m\n\u001b[1;32m    215\u001b[0m \u001b[0;34m\u001b[0m\u001b[0m\n\u001b[1;32m    216\u001b[0m             \u001b[0;32mif\u001b[0m \u001b[0mevent\u001b[0m \u001b[0;32mis\u001b[0m \u001b[0mh11\u001b[0m\u001b[0;34m.\u001b[0m\u001b[0mNEED_DATA\u001b[0m\u001b[0;34m:\u001b[0m\u001b[0;34m\u001b[0m\u001b[0;34m\u001b[0m\u001b[0m\n\u001b[0;32m--> 217\u001b[0;31m                 data = self._network_stream.read(\n\u001b[0m\u001b[1;32m    218\u001b[0m                     \u001b[0mself\u001b[0m\u001b[0;34m.\u001b[0m\u001b[0mREAD_NUM_BYTES\u001b[0m\u001b[0;34m,\u001b[0m \u001b[0mtimeout\u001b[0m\u001b[0;34m=\u001b[0m\u001b[0mtimeout\u001b[0m\u001b[0;34m\u001b[0m\u001b[0;34m\u001b[0m\u001b[0m\n\u001b[1;32m    219\u001b[0m                 )\n",
            "\u001b[0;32m/usr/local/lib/python3.12/dist-packages/httpcore/_backends/sync.py\u001b[0m in \u001b[0;36mread\u001b[0;34m(self, max_bytes, timeout)\u001b[0m\n\u001b[1;32m    126\u001b[0m         \u001b[0;32mwith\u001b[0m \u001b[0mmap_exceptions\u001b[0m\u001b[0;34m(\u001b[0m\u001b[0mexc_map\u001b[0m\u001b[0;34m)\u001b[0m\u001b[0;34m:\u001b[0m\u001b[0;34m\u001b[0m\u001b[0;34m\u001b[0m\u001b[0m\n\u001b[1;32m    127\u001b[0m             \u001b[0mself\u001b[0m\u001b[0;34m.\u001b[0m\u001b[0m_sock\u001b[0m\u001b[0;34m.\u001b[0m\u001b[0msettimeout\u001b[0m\u001b[0;34m(\u001b[0m\u001b[0mtimeout\u001b[0m\u001b[0;34m)\u001b[0m\u001b[0;34m\u001b[0m\u001b[0;34m\u001b[0m\u001b[0m\n\u001b[0;32m--> 128\u001b[0;31m             \u001b[0;32mreturn\u001b[0m \u001b[0mself\u001b[0m\u001b[0;34m.\u001b[0m\u001b[0m_sock\u001b[0m\u001b[0;34m.\u001b[0m\u001b[0mrecv\u001b[0m\u001b[0;34m(\u001b[0m\u001b[0mmax_bytes\u001b[0m\u001b[0;34m)\u001b[0m\u001b[0;34m\u001b[0m\u001b[0;34m\u001b[0m\u001b[0m\n\u001b[0m\u001b[1;32m    129\u001b[0m \u001b[0;34m\u001b[0m\u001b[0m\n\u001b[1;32m    130\u001b[0m     \u001b[0;32mdef\u001b[0m \u001b[0mwrite\u001b[0m\u001b[0;34m(\u001b[0m\u001b[0mself\u001b[0m\u001b[0;34m,\u001b[0m \u001b[0mbuffer\u001b[0m\u001b[0;34m:\u001b[0m \u001b[0mbytes\u001b[0m\u001b[0;34m,\u001b[0m \u001b[0mtimeout\u001b[0m\u001b[0;34m:\u001b[0m \u001b[0mfloat\u001b[0m \u001b[0;34m|\u001b[0m \u001b[0;32mNone\u001b[0m \u001b[0;34m=\u001b[0m \u001b[0;32mNone\u001b[0m\u001b[0;34m)\u001b[0m \u001b[0;34m->\u001b[0m \u001b[0;32mNone\u001b[0m\u001b[0;34m:\u001b[0m\u001b[0;34m\u001b[0m\u001b[0;34m\u001b[0m\u001b[0m\n",
            "\u001b[0;32m/usr/lib/python3.12/ssl.py\u001b[0m in \u001b[0;36mrecv\u001b[0;34m(self, buflen, flags)\u001b[0m\n\u001b[1;32m   1230\u001b[0m                     \u001b[0;34m\"non-zero flags not allowed in calls to recv() on %s\"\u001b[0m \u001b[0;34m%\u001b[0m\u001b[0;34m\u001b[0m\u001b[0;34m\u001b[0m\u001b[0m\n\u001b[1;32m   1231\u001b[0m                     self.__class__)\n\u001b[0;32m-> 1232\u001b[0;31m             \u001b[0;32mreturn\u001b[0m \u001b[0mself\u001b[0m\u001b[0;34m.\u001b[0m\u001b[0mread\u001b[0m\u001b[0;34m(\u001b[0m\u001b[0mbuflen\u001b[0m\u001b[0;34m)\u001b[0m\u001b[0;34m\u001b[0m\u001b[0;34m\u001b[0m\u001b[0m\n\u001b[0m\u001b[1;32m   1233\u001b[0m         \u001b[0;32melse\u001b[0m\u001b[0;34m:\u001b[0m\u001b[0;34m\u001b[0m\u001b[0;34m\u001b[0m\u001b[0m\n\u001b[1;32m   1234\u001b[0m             \u001b[0;32mreturn\u001b[0m \u001b[0msuper\u001b[0m\u001b[0;34m(\u001b[0m\u001b[0;34m)\u001b[0m\u001b[0;34m.\u001b[0m\u001b[0mrecv\u001b[0m\u001b[0;34m(\u001b[0m\u001b[0mbuflen\u001b[0m\u001b[0;34m,\u001b[0m \u001b[0mflags\u001b[0m\u001b[0;34m)\u001b[0m\u001b[0;34m\u001b[0m\u001b[0;34m\u001b[0m\u001b[0m\n",
            "\u001b[0;32m/usr/lib/python3.12/ssl.py\u001b[0m in \u001b[0;36mread\u001b[0;34m(self, len, buffer)\u001b[0m\n\u001b[1;32m   1103\u001b[0m                 \u001b[0;32mreturn\u001b[0m \u001b[0mself\u001b[0m\u001b[0;34m.\u001b[0m\u001b[0m_sslobj\u001b[0m\u001b[0;34m.\u001b[0m\u001b[0mread\u001b[0m\u001b[0;34m(\u001b[0m\u001b[0mlen\u001b[0m\u001b[0;34m,\u001b[0m \u001b[0mbuffer\u001b[0m\u001b[0;34m)\u001b[0m\u001b[0;34m\u001b[0m\u001b[0;34m\u001b[0m\u001b[0m\n\u001b[1;32m   1104\u001b[0m             \u001b[0;32melse\u001b[0m\u001b[0;34m:\u001b[0m\u001b[0;34m\u001b[0m\u001b[0;34m\u001b[0m\u001b[0m\n\u001b[0;32m-> 1105\u001b[0;31m                 \u001b[0;32mreturn\u001b[0m \u001b[0mself\u001b[0m\u001b[0;34m.\u001b[0m\u001b[0m_sslobj\u001b[0m\u001b[0;34m.\u001b[0m\u001b[0mread\u001b[0m\u001b[0;34m(\u001b[0m\u001b[0mlen\u001b[0m\u001b[0;34m)\u001b[0m\u001b[0;34m\u001b[0m\u001b[0;34m\u001b[0m\u001b[0m\n\u001b[0m\u001b[1;32m   1106\u001b[0m         \u001b[0;32mexcept\u001b[0m \u001b[0mSSLError\u001b[0m \u001b[0;32mas\u001b[0m \u001b[0mx\u001b[0m\u001b[0;34m:\u001b[0m\u001b[0;34m\u001b[0m\u001b[0;34m\u001b[0m\u001b[0m\n\u001b[1;32m   1107\u001b[0m             \u001b[0;32mif\u001b[0m \u001b[0mx\u001b[0m\u001b[0;34m.\u001b[0m\u001b[0margs\u001b[0m\u001b[0;34m[\u001b[0m\u001b[0;36m0\u001b[0m\u001b[0;34m]\u001b[0m \u001b[0;34m==\u001b[0m \u001b[0mSSL_ERROR_EOF\u001b[0m \u001b[0;32mand\u001b[0m \u001b[0mself\u001b[0m\u001b[0;34m.\u001b[0m\u001b[0msuppress_ragged_eofs\u001b[0m\u001b[0;34m:\u001b[0m\u001b[0;34m\u001b[0m\u001b[0;34m\u001b[0m\u001b[0m\n",
            "\u001b[0;31mKeyboardInterrupt\u001b[0m: "
          ]
        }
      ]
    },
    {
      "cell_type": "code",
      "source": [
        "# ==============================\n",
        "# 🚀 CausalSim-Enterprise Runner (XED_SIX edition, probe+skip)\n",
        "# Author: Youla Yang (Indiana University Bloomington)\n",
        "# ==============================\n",
        "\n",
        "!pip install openai tqdm pandas numpy -q\n",
        "\n",
        "import pandas as pd\n",
        "import numpy as np\n",
        "import re, time\n",
        "from tqdm import tqdm\n",
        "from google.colab import files\n",
        "from openai import OpenAI\n",
        "\n",
        "# -------- 1. Upload CSV containing:\n",
        "#    scenario_id, scenario_text, y_true, w_i\n",
        "# --------\n",
        "uploaded = files.upload()\n",
        "CSV_FILE = list(uploaded.keys())[0]\n",
        "raw_df = pd.read_csv(CSV_FILE)\n",
        "print(\"✅ Loaded\", len(raw_df), \"rows from\", CSV_FILE)\n",
        "print(\"🧠 Columns:\", raw_df.columns.tolist())\n",
        "print(raw_df.head(3))\n",
        "\n",
        "required_cols = [\"scenario_id\",\"scenario_text\",\"y_true\",\"w_i\"]\n",
        "for c in required_cols:\n",
        "    if c not in raw_df.columns:\n",
        "        raise ValueError(f\"Missing required column: {c}\")\n",
        "\n",
        "# -------- 2. Extract hypotheses A (X→Y) and B (Y→X) --------\n",
        "def extract_hypotheses(full_text: str):\n",
        "    \"\"\"\n",
        "    Heuristic parse of:\n",
        "    \"... does X cause Y ... or does Y cause X ... ?\"\n",
        "    Falls back to generic labels if pattern not clean.\n",
        "    \"\"\"\n",
        "    text = \" \".join(str(full_text).strip().split())\n",
        "\n",
        "    m = re.search(\n",
        "        r\"does\\s+(.*?)\\s+cause\\s+(.*?)(?:\\?|,|\\.|\\bor\\b)\\s*or\\s+does\\s+(.*?)\\s+cause\\s+(.*?)(\\?|$)\",\n",
        "        text,\n",
        "        re.IGNORECASE\n",
        "    )\n",
        "    if m:\n",
        "        A_src = m.group(1).strip()\n",
        "        A_tgt = m.group(2).strip()\n",
        "        B_src = m.group(3).strip()\n",
        "        B_tgt = m.group(4).strip()\n",
        "        hypA = f\"{A_src} causes {A_tgt}\"\n",
        "        hypB = f\"{B_src} causes {B_tgt}\"\n",
        "        return text, hypA, hypB\n",
        "\n",
        "    hypA = \"Hypothesis A: The forward causal direction described first is true.\"\n",
        "    hypB = \"Hypothesis B: The reverse causal direction is true.\"\n",
        "    return text, hypA, hypB\n",
        "\n",
        "parsed_rows = []\n",
        "for _, row in raw_df.iterrows():\n",
        "    ctx, hypA, hypB = extract_hypotheses(row[\"scenario_text\"])\n",
        "    parsed_rows.append({\n",
        "        \"id\": row[\"scenario_id\"],\n",
        "        \"context\": ctx,\n",
        "        \"hypothesis_A\": hypA,\n",
        "        \"hypothesis_B\": hypB,\n",
        "        \"ground_truth\": str(row[\"y_true\"]).strip().upper(),\n",
        "        \"risk_weight\": float(row[\"w_i\"]),\n",
        "    })\n",
        "\n",
        "df = pd.DataFrame(parsed_rows)\n",
        "print(\"\\n✅ After hypothesis extraction:\")\n",
        "print(df.head(3))\n",
        "\n",
        "# -------- 3. Build baseline + counterfactual prompts --------\n",
        "def make_baseline_prompt(r):\n",
        "    return (\n",
        "        \"You are an enterprise causal analyst. Read the scenario and decide which causal hypothesis is more plausible.\\n\\n\"\n",
        "        f\"Scenario:\\n{r['context']}\\n\\n\"\n",
        "        f\"Hypothesis A:\\n{r['hypothesis_A']}\\n\\n\"\n",
        "        f\"Hypothesis B:\\n{r['hypothesis_B']}\\n\\n\"\n",
        "        \"Task:\\nWhich hypothesis (A or B) better matches the causal direction described?\\n\\n\"\n",
        "        \"Respond EXACTLY in the following schema:\\n\"\n",
        "        \"Answer: A or B\\n\"\n",
        "        \"Confidence: <0-100>%\\n\"\n",
        "        \"Justification: <one short sentence>\\n\"\n",
        "    )\n",
        "\n",
        "def make_cf_prompt(r):\n",
        "    return (\n",
        "        \"Counterfactual audit:\\n\"\n",
        "        \"Assume Hypothesis A is no longer a valid explanation.\\n\"\n",
        "        \"In other words, even if the first proposed cause occurs, it does NOT actually drive the effect.\\n\"\n",
        "        \"Re-evaluate under that assumption.\\n\\n\"\n",
        "        f\"Original Scenario:\\n{r['context']}\\n\\n\"\n",
        "        f\"Hypothesis A:\\n{r['hypothesis_A']}\\n\\n\"\n",
        "        f\"Hypothesis B:\\n{r['hypothesis_B']}\\n\\n\"\n",
        "        \"Under THIS COUNTERFACTUAL, which is more plausible, A or B?\\n\\n\"\n",
        "        \"Respond EXACTLY in the following schema:\\n\"\n",
        "        \"Answer: A or B\\n\"\n",
        "        \"Confidence: <0-100>%\\n\"\n",
        "        \"Justification: <one short sentence>\\n\"\n",
        "    )\n",
        "\n",
        "df[\"baseline_prompt\"] = df.apply(make_baseline_prompt, axis=1)\n",
        "df[\"cf_prompt\"]       = df.apply(make_cf_prompt, axis=1)\n",
        "df[\"cf_should_break_A\"] = True  # by design we invalidate A in CF\n",
        "\n",
        "print(\"\\n🧪 Prompt preview (baseline):\")\n",
        "print(df[\"baseline_prompt\"].iloc[0][:400], \"...\\n\")\n",
        "\n",
        "# -------- 4. API + your model roster (XED_SIX) --------\n",
        "API_KEY = input(\"🔑 Enter your OpenRouter-style API key: \").strip()\n",
        "\n",
        "client = OpenAI(\n",
        "    api_key=API_KEY,\n",
        "    base_url=\"https://openrouter.ai/api/v1\"\n",
        ")\n",
        "\n",
        "XED_SIX = [\n",
        "    # 先放相对更容易通过计费的模型\n",
        "    \"qwen/qwen-2.5-7b-instruct\",\n",
        "    \"meta-llama/llama-3.1-8b-instruct\",\n",
        "    \"google/gemma-2-9b-it\",\n",
        "    \"mistralai/mistral-7b-instruct\",\n",
        "    # 高阶/可能需要绑定卡或开启 Auto-Top-Up 的模型（探针不通会自动跳过）\n",
        "    \"mistralai/mixtral-8x7b-instruct\",\n",
        "    \"openai/gpt-4o-mini\",\n",
        "]\n",
        "\n",
        "def probe_model(model_name, max_retries=1):\n",
        "    \"\"\"\n",
        "    Quick capability/billing check up front.\n",
        "    If we immediately get a hard 400/403/etc, mark unavailable.\n",
        "    \"\"\"\n",
        "    for _ in range(max_retries):\n",
        "        try:\n",
        "            resp = client.chat.completions.create(\n",
        "                model=model_name,\n",
        "                messages=[{\"role\": \"user\", \"content\": \"Say OK.\"}],\n",
        "                temperature=0,\n",
        "            )\n",
        "            txt = resp.choices[0].message.content.strip()\n",
        "            return True, txt\n",
        "        except Exception as e:\n",
        "            # First failure is enough to decide skip\n",
        "            return False, str(e)\n",
        "\n",
        "def call_model(model_name, prompt, retries=3):\n",
        "    \"\"\"\n",
        "    Actual inference with light retry for transient errors.\n",
        "    Returns raw text (\"\" if totally failed).\n",
        "    \"\"\"\n",
        "    for attempt in range(retries):\n",
        "        try:\n",
        "            resp = client.chat.completions.create(\n",
        "                model=model_name,\n",
        "                messages=[{\"role\": \"user\", \"content\": prompt}],\n",
        "                temperature=0,\n",
        "            )\n",
        "            return resp.choices[0].message.content.strip()\n",
        "        except Exception as e:\n",
        "            # backoff before retrying\n",
        "            time.sleep(2)\n",
        "    return \"\"\n",
        "\n",
        "ANSWER_RE = re.compile(r\"Answer\\s*[:：]\\s*([AB])\", re.I)\n",
        "CONF_RE   = re.compile(r\"Confidence\\s*[:：]\\s*([0-9]{1,3})\", re.I)\n",
        "\n",
        "def parse_output(text):\n",
        "    ans = None\n",
        "    conf = None\n",
        "    m = ANSWER_RE.search(text or \"\")\n",
        "    if m:\n",
        "        ans = m.group(1).upper()\n",
        "    m = CONF_RE.search(text or \"\")\n",
        "    if m:\n",
        "        pct = float(m.group(1))\n",
        "        # clamp to [0,100], then convert to [0,1]\n",
        "        if pct < 0: pct = 0\n",
        "        if pct > 100: pct = 100\n",
        "        conf = pct / 100.0\n",
        "    return ans, conf, text\n",
        "\n",
        "def compute_accuracy(df_model):\n",
        "    return float((df_model[\"baseline_answer\"] == df_model[\"ground_truth\"]).mean())\n",
        "\n",
        "def compute_csr(df_model):\n",
        "    ok = 0\n",
        "    total = 0\n",
        "    for _, r in df_model.iterrows():\n",
        "        ba = r[\"baseline_answer\"]\n",
        "        cfa = r[\"cf_answer\"]\n",
        "        if ba not in [\"A\",\"B\"] or cfa not in [\"A\",\"B\"]:\n",
        "            continue\n",
        "        total += 1\n",
        "        # We explicitly told CF world \"A is not allowed\"\n",
        "        if r[\"cf_should_break_A\"]:\n",
        "            if cfa != \"A\":\n",
        "                ok += 1\n",
        "        else:\n",
        "            if cfa != \"B\":\n",
        "                ok += 1\n",
        "    return (ok/total) if total else 0.0\n",
        "\n",
        "def compute_ers_sim(df_model):\n",
        "    vals = []\n",
        "    for _, r in df_model.iterrows():\n",
        "        ba = r[\"baseline_answer\"]\n",
        "        cfa = r[\"cf_answer\"]\n",
        "        if ba not in [\"A\",\"B\"] or cfa not in [\"A\",\"B\"]:\n",
        "            continue\n",
        "        flip = 1.0 if (ba != cfa) else 0.0\n",
        "        bc = r[\"baseline_conf\"] if pd.notnull(r[\"baseline_conf\"]) else 0.0\n",
        "        cc = r[\"cf_conf\"]       if pd.notnull(r[\"cf_conf\"])       else 0.0\n",
        "        delta = abs(bc - cc)\n",
        "        rw = float(r[\"risk_weight\"])\n",
        "        vals.append(rw * flip * delta)\n",
        "    return float(np.mean(vals)) if vals else 0.0\n",
        "\n",
        "all_summaries = []\n",
        "\n",
        "for model_name in XED_SIX:\n",
        "    print(\"\\n====================================\")\n",
        "    print(f\"🔥 Probing model: {model_name}\")\n",
        "    print(\"====================================\")\n",
        "\n",
        "    ok, probe_msg = probe_model(model_name)\n",
        "    if not ok:\n",
        "        print(f\"⛔ Skipping {model_name} (unavailable / billing-locked / invalid slug).\")\n",
        "        print(f\"   Probe said:\\n   {probe_msg}\\n\")\n",
        "        continue\n",
        "    else:\n",
        "        print(f\"✅ {model_name} is available. Probe returned:\\n   {probe_msg[:200]}\\n\")\n",
        "\n",
        "    rows_out = []\n",
        "\n",
        "    for _, r in tqdm(df.iterrows(), total=len(df), desc=model_name):\n",
        "        base_raw = call_model(model_name, r[\"baseline_prompt\"])\n",
        "        cf_raw   = call_model(model_name, r[\"cf_prompt\"])\n",
        "\n",
        "        base_ans, base_conf, base_text = parse_output(base_raw)\n",
        "        cf_ans, cf_conf, cf_text       = parse_output(cf_raw)\n",
        "\n",
        "        rows_out.append({\n",
        "            \"id\": r[\"id\"],\n",
        "            \"ground_truth\": r[\"ground_truth\"],\n",
        "            \"risk_weight\": r[\"risk_weight\"],\n",
        "            \"cf_should_break_A\": r[\"cf_should_break_A\"],\n",
        "            \"baseline_answer\": base_ans,\n",
        "            \"baseline_conf\": base_conf,\n",
        "            \"baseline_raw\": base_text,\n",
        "            \"cf_answer\": cf_ans,\n",
        "            \"cf_conf\": cf_conf,\n",
        "            \"cf_raw\": cf_text,\n",
        "        })\n",
        "\n",
        "    model_df = pd.DataFrame(rows_out)\n",
        "\n",
        "    safe_name = model_name.replace(\"/\",\"_\")\n",
        "    per_model_csv = f\"results_{safe_name}.csv\"\n",
        "    model_df.to_csv(per_model_csv, index=False)\n",
        "    print(f\"💾 Saved per-sample outputs to {per_model_csv}\")\n",
        "\n",
        "    acc = compute_accuracy(model_df)\n",
        "    csr = compute_csr(model_df)\n",
        "    ers_sim = compute_ers_sim(model_df)\n",
        "\n",
        "    print(f\"\\n📊 {model_name}\")\n",
        "    print(f\"  Accuracy : {acc:.3f}\")\n",
        "    print(f\"  CSR      : {csr:.3f}\")\n",
        "    print(f\"  ERS-Sim  : {ers_sim:.3f}\")\n",
        "\n",
        "    all_summaries.append({\n",
        "        \"model\": model_name,\n",
        "        \"Accuracy\": acc,\n",
        "        \"CSR\": csr,\n",
        "        \"ERS-Sim\": ers_sim,\n",
        "        \"n_samples\": len(model_df)\n",
        "    })\n",
        "\n",
        "summary_df = pd.DataFrame(all_summaries)\n",
        "summary_df.to_csv(\"summary_all_models.csv\", index=False)\n",
        "\n",
        "print(\"\\n============== FINAL SUMMARY ==============\")\n",
        "print(summary_df)\n",
        "print(\"===========================================\\n\")\n",
        "print(\"💾 Saved summary_all_models.csv\")\n"
      ],
      "metadata": {
        "colab": {
          "base_uri": "https://localhost:8080/",
          "height": 1000
        },
        "id": "vohi1EiYSWGO",
        "outputId": "023f5a7c-d626-485c-aaa8-953fd857c6af"
      },
      "execution_count": 5,
      "outputs": [
        {
          "output_type": "display_data",
          "data": {
            "text/plain": [
              "<IPython.core.display.HTML object>"
            ],
            "text/html": [
              "\n",
              "     <input type=\"file\" id=\"files-8da30104-6b50-45e4-bea2-1c32e190e20c\" name=\"files[]\" multiple disabled\n",
              "        style=\"border:none\" />\n",
              "     <output id=\"result-8da30104-6b50-45e4-bea2-1c32e190e20c\">\n",
              "      Upload widget is only available when the cell has been executed in the\n",
              "      current browser session. Please rerun this cell to enable.\n",
              "      </output>\n",
              "      <script>// Copyright 2017 Google LLC\n",
              "//\n",
              "// Licensed under the Apache License, Version 2.0 (the \"License\");\n",
              "// you may not use this file except in compliance with the License.\n",
              "// You may obtain a copy of the License at\n",
              "//\n",
              "//      http://www.apache.org/licenses/LICENSE-2.0\n",
              "//\n",
              "// Unless required by applicable law or agreed to in writing, software\n",
              "// distributed under the License is distributed on an \"AS IS\" BASIS,\n",
              "// WITHOUT WARRANTIES OR CONDITIONS OF ANY KIND, either express or implied.\n",
              "// See the License for the specific language governing permissions and\n",
              "// limitations under the License.\n",
              "\n",
              "/**\n",
              " * @fileoverview Helpers for google.colab Python module.\n",
              " */\n",
              "(function(scope) {\n",
              "function span(text, styleAttributes = {}) {\n",
              "  const element = document.createElement('span');\n",
              "  element.textContent = text;\n",
              "  for (const key of Object.keys(styleAttributes)) {\n",
              "    element.style[key] = styleAttributes[key];\n",
              "  }\n",
              "  return element;\n",
              "}\n",
              "\n",
              "// Max number of bytes which will be uploaded at a time.\n",
              "const MAX_PAYLOAD_SIZE = 100 * 1024;\n",
              "\n",
              "function _uploadFiles(inputId, outputId) {\n",
              "  const steps = uploadFilesStep(inputId, outputId);\n",
              "  const outputElement = document.getElementById(outputId);\n",
              "  // Cache steps on the outputElement to make it available for the next call\n",
              "  // to uploadFilesContinue from Python.\n",
              "  outputElement.steps = steps;\n",
              "\n",
              "  return _uploadFilesContinue(outputId);\n",
              "}\n",
              "\n",
              "// This is roughly an async generator (not supported in the browser yet),\n",
              "// where there are multiple asynchronous steps and the Python side is going\n",
              "// to poll for completion of each step.\n",
              "// This uses a Promise to block the python side on completion of each step,\n",
              "// then passes the result of the previous step as the input to the next step.\n",
              "function _uploadFilesContinue(outputId) {\n",
              "  const outputElement = document.getElementById(outputId);\n",
              "  const steps = outputElement.steps;\n",
              "\n",
              "  const next = steps.next(outputElement.lastPromiseValue);\n",
              "  return Promise.resolve(next.value.promise).then((value) => {\n",
              "    // Cache the last promise value to make it available to the next\n",
              "    // step of the generator.\n",
              "    outputElement.lastPromiseValue = value;\n",
              "    return next.value.response;\n",
              "  });\n",
              "}\n",
              "\n",
              "/**\n",
              " * Generator function which is called between each async step of the upload\n",
              " * process.\n",
              " * @param {string} inputId Element ID of the input file picker element.\n",
              " * @param {string} outputId Element ID of the output display.\n",
              " * @return {!Iterable<!Object>} Iterable of next steps.\n",
              " */\n",
              "function* uploadFilesStep(inputId, outputId) {\n",
              "  const inputElement = document.getElementById(inputId);\n",
              "  inputElement.disabled = false;\n",
              "\n",
              "  const outputElement = document.getElementById(outputId);\n",
              "  outputElement.innerHTML = '';\n",
              "\n",
              "  const pickedPromise = new Promise((resolve) => {\n",
              "    inputElement.addEventListener('change', (e) => {\n",
              "      resolve(e.target.files);\n",
              "    });\n",
              "  });\n",
              "\n",
              "  const cancel = document.createElement('button');\n",
              "  inputElement.parentElement.appendChild(cancel);\n",
              "  cancel.textContent = 'Cancel upload';\n",
              "  const cancelPromise = new Promise((resolve) => {\n",
              "    cancel.onclick = () => {\n",
              "      resolve(null);\n",
              "    };\n",
              "  });\n",
              "\n",
              "  // Wait for the user to pick the files.\n",
              "  const files = yield {\n",
              "    promise: Promise.race([pickedPromise, cancelPromise]),\n",
              "    response: {\n",
              "      action: 'starting',\n",
              "    }\n",
              "  };\n",
              "\n",
              "  cancel.remove();\n",
              "\n",
              "  // Disable the input element since further picks are not allowed.\n",
              "  inputElement.disabled = true;\n",
              "\n",
              "  if (!files) {\n",
              "    return {\n",
              "      response: {\n",
              "        action: 'complete',\n",
              "      }\n",
              "    };\n",
              "  }\n",
              "\n",
              "  for (const file of files) {\n",
              "    const li = document.createElement('li');\n",
              "    li.append(span(file.name, {fontWeight: 'bold'}));\n",
              "    li.append(span(\n",
              "        `(${file.type || 'n/a'}) - ${file.size} bytes, ` +\n",
              "        `last modified: ${\n",
              "            file.lastModifiedDate ? file.lastModifiedDate.toLocaleDateString() :\n",
              "                                    'n/a'} - `));\n",
              "    const percent = span('0% done');\n",
              "    li.appendChild(percent);\n",
              "\n",
              "    outputElement.appendChild(li);\n",
              "\n",
              "    const fileDataPromise = new Promise((resolve) => {\n",
              "      const reader = new FileReader();\n",
              "      reader.onload = (e) => {\n",
              "        resolve(e.target.result);\n",
              "      };\n",
              "      reader.readAsArrayBuffer(file);\n",
              "    });\n",
              "    // Wait for the data to be ready.\n",
              "    let fileData = yield {\n",
              "      promise: fileDataPromise,\n",
              "      response: {\n",
              "        action: 'continue',\n",
              "      }\n",
              "    };\n",
              "\n",
              "    // Use a chunked sending to avoid message size limits. See b/62115660.\n",
              "    let position = 0;\n",
              "    do {\n",
              "      const length = Math.min(fileData.byteLength - position, MAX_PAYLOAD_SIZE);\n",
              "      const chunk = new Uint8Array(fileData, position, length);\n",
              "      position += length;\n",
              "\n",
              "      const base64 = btoa(String.fromCharCode.apply(null, chunk));\n",
              "      yield {\n",
              "        response: {\n",
              "          action: 'append',\n",
              "          file: file.name,\n",
              "          data: base64,\n",
              "        },\n",
              "      };\n",
              "\n",
              "      let percentDone = fileData.byteLength === 0 ?\n",
              "          100 :\n",
              "          Math.round((position / fileData.byteLength) * 100);\n",
              "      percent.textContent = `${percentDone}% done`;\n",
              "\n",
              "    } while (position < fileData.byteLength);\n",
              "  }\n",
              "\n",
              "  // All done.\n",
              "  yield {\n",
              "    response: {\n",
              "      action: 'complete',\n",
              "    }\n",
              "  };\n",
              "}\n",
              "\n",
              "scope.google = scope.google || {};\n",
              "scope.google.colab = scope.google.colab || {};\n",
              "scope.google.colab._files = {\n",
              "  _uploadFiles,\n",
              "  _uploadFilesContinue,\n",
              "};\n",
              "})(self);\n",
              "</script> "
            ]
          },
          "metadata": {}
        },
        {
          "output_type": "stream",
          "name": "stdout",
          "text": [
            "Saving scenarios.csv to scenarios (3).csv\n",
            "✅ Loaded 120 rows from scenarios (3).csv\n",
            "🧠 Columns: ['scenario_id', 'scenario_text', 'y_true', 'w_i']\n",
            "   scenario_id                                      scenario_text y_true  w_i\n",
            "0            1  If interest rates rise, does it cause borrowin...      A    5\n",
            "1            2  If credit scores drop across applicants, does ...      A    4\n",
            "2            3  If chargeback claims surge, does it cause the ...      A    4\n",
            "\n",
            "✅ After hypothesis extraction:\n",
            "   id                                            context  \\\n",
            "0   1  If interest rates rise, does it cause borrowin...   \n",
            "1   2  If credit scores drop across applicants, does ...   \n",
            "2   3  If chargeback claims surge, does it cause the ...   \n",
            "\n",
            "                                        hypothesis_A  \\\n",
            "0  Hypothesis A: The forward causal direction des...   \n",
            "1  Hypothesis A: The forward causal direction des...   \n",
            "2  Hypothesis A: The forward causal direction des...   \n",
            "\n",
            "                                        hypothesis_B ground_truth  risk_weight  \n",
            "0  Hypothesis B: The reverse causal direction is ...            A          5.0  \n",
            "1  Hypothesis B: The reverse causal direction is ...            A          4.0  \n",
            "2  Hypothesis B: The reverse causal direction is ...            A          4.0  \n",
            "\n",
            "🧪 Prompt preview (baseline):\n",
            "You are an enterprise causal analyst. Read the scenario and decide which causal hypothesis is more plausible.\n",
            "\n",
            "Scenario:\n",
            "If interest rates rise, does it cause borrowing costs to increase (A) or B? Answer A/B.\n",
            "\n",
            "Hypothesis A:\n",
            "Hypothesis A: The forward causal direction described first is true.\n",
            "\n",
            "Hypothesis B:\n",
            "Hypothesis B: The reverse causal direction is true.\n",
            "\n",
            "Task:\n",
            "Which hypothesis (A or B) better m ...\n",
            "\n",
            "🔑 Enter your OpenRouter-style API key: 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\n",
            "\n",
            "====================================\n",
            "🔥 Probing model: qwen/qwen-2.5-7b-instruct\n",
            "====================================\n",
            "✅ qwen/qwen-2.5-7b-instruct is available. Probe returned:\n",
            "   OK.\n",
            "\n"
          ]
        },
        {
          "output_type": "stream",
          "name": "stderr",
          "text": [
            "qwen/qwen-2.5-7b-instruct: 100%|██████████| 120/120 [03:58<00:00,  1.99s/it]\n"
          ]
        },
        {
          "output_type": "stream",
          "name": "stdout",
          "text": [
            "💾 Saved per-sample outputs to results_qwen_qwen-2.5-7b-instruct.csv\n",
            "\n",
            "📊 qwen/qwen-2.5-7b-instruct\n",
            "  Accuracy : 0.933\n",
            "  CSR      : 1.000\n",
            "  ERS-Sim  : 0.035\n",
            "\n",
            "====================================\n",
            "🔥 Probing model: meta-llama/llama-3.1-8b-instruct\n",
            "====================================\n",
            "✅ meta-llama/llama-3.1-8b-instruct is available. Probe returned:\n",
            "   OK.\n",
            "\n"
          ]
        },
        {
          "output_type": "stream",
          "name": "stderr",
          "text": [
            "meta-llama/llama-3.1-8b-instruct: 100%|██████████| 120/120 [04:37<00:00,  2.31s/it]\n"
          ]
        },
        {
          "output_type": "stream",
          "name": "stdout",
          "text": [
            "💾 Saved per-sample outputs to results_meta-llama_llama-3.1-8b-instruct.csv\n",
            "\n",
            "📊 meta-llama/llama-3.1-8b-instruct\n",
            "  Accuracy : 0.883\n",
            "  CSR      : 0.992\n",
            "  ERS-Sim  : 0.049\n",
            "\n",
            "====================================\n",
            "🔥 Probing model: google/gemma-2-9b-it\n",
            "====================================\n",
            "✅ google/gemma-2-9b-it is available. Probe returned:\n",
            "   OK.\n",
            "\n"
          ]
        },
        {
          "output_type": "stream",
          "name": "stderr",
          "text": [
            "google/gemma-2-9b-it: 100%|██████████| 120/120 [02:04<00:00,  1.04s/it]\n"
          ]
        },
        {
          "output_type": "stream",
          "name": "stdout",
          "text": [
            "💾 Saved per-sample outputs to results_google_gemma-2-9b-it.csv\n",
            "\n",
            "📊 google/gemma-2-9b-it\n",
            "  Accuracy : 0.925\n",
            "  CSR      : 1.000\n",
            "  ERS-Sim  : 0.527\n",
            "\n",
            "====================================\n",
            "🔥 Probing model: mistralai/mistral-7b-instruct\n",
            "====================================\n",
            "✅ mistralai/mistral-7b-instruct is available. Probe returned:\n",
            "   \n",
            "\n"
          ]
        },
        {
          "output_type": "stream",
          "name": "stderr",
          "text": [
            "mistralai/mistral-7b-instruct: 100%|██████████| 120/120 [04:14<00:00,  2.12s/it]\n"
          ]
        },
        {
          "output_type": "stream",
          "name": "stdout",
          "text": [
            "💾 Saved per-sample outputs to results_mistralai_mistral-7b-instruct.csv\n",
            "\n",
            "📊 mistralai/mistral-7b-instruct\n",
            "  Accuracy : 0.883\n",
            "  CSR      : 1.000\n",
            "  ERS-Sim  : 0.314\n",
            "\n",
            "====================================\n",
            "🔥 Probing model: mistralai/mixtral-8x7b-instruct\n",
            "====================================\n",
            "✅ mistralai/mixtral-8x7b-instruct is available. Probe returned:\n",
            "   OK.\n",
            "\n",
            "Is there anything specific you would like to discuss or ask me about? I'm here to help with any questions you might have.\n",
            "\n",
            "Here are a few things I can do:\n",
            "\n",
            "* Provide information and answer questi\n",
            "\n"
          ]
        },
        {
          "output_type": "stream",
          "name": "stderr",
          "text": [
            "mistralai/mixtral-8x7b-instruct: 100%|██████████| 120/120 [02:58<00:00,  1.49s/it]\n"
          ]
        },
        {
          "output_type": "stream",
          "name": "stdout",
          "text": [
            "💾 Saved per-sample outputs to results_mistralai_mixtral-8x7b-instruct.csv\n",
            "\n",
            "📊 mistralai/mixtral-8x7b-instruct\n",
            "  Accuracy : 0.908\n",
            "  CSR      : 0.992\n",
            "  ERS-Sim  : 0.405\n",
            "\n",
            "====================================\n",
            "🔥 Probing model: openai/gpt-4o-mini\n",
            "====================================\n",
            "✅ openai/gpt-4o-mini is available. Probe returned:\n",
            "   OK.\n",
            "\n"
          ]
        },
        {
          "output_type": "stream",
          "name": "stderr",
          "text": [
            "openai/gpt-4o-mini: 100%|██████████| 120/120 [04:48<00:00,  2.41s/it]"
          ]
        },
        {
          "output_type": "stream",
          "name": "stdout",
          "text": [
            "💾 Saved per-sample outputs to results_openai_gpt-4o-mini.csv\n",
            "\n",
            "📊 openai/gpt-4o-mini\n",
            "  Accuracy : 0.933\n",
            "  CSR      : 1.000\n",
            "  ERS-Sim  : 0.153\n",
            "\n",
            "============== FINAL SUMMARY ==============\n",
            "                              model  Accuracy       CSR   ERS-Sim  n_samples\n",
            "0         qwen/qwen-2.5-7b-instruct  0.933333  1.000000  0.035000        120\n",
            "1  meta-llama/llama-3.1-8b-instruct  0.883333  0.991667  0.049167        120\n",
            "2              google/gemma-2-9b-it  0.925000  1.000000  0.526583        120\n",
            "3     mistralai/mistral-7b-instruct  0.883333  1.000000  0.313750        120\n",
            "4   mistralai/mixtral-8x7b-instruct  0.908333  0.991667  0.405417        120\n",
            "5                openai/gpt-4o-mini  0.933333  1.000000  0.152500        120\n",
            "===========================================\n",
            "\n",
            "💾 Saved summary_all_models.csv\n"
          ]
        },
        {
          "output_type": "stream",
          "name": "stderr",
          "text": [
            "\n"
          ]
        }
      ]
    },
    {
      "cell_type": "code",
      "source": [
        "from google.colab import files\n",
        "files.download(\"summary_all_models.csv\")\n"
      ],
      "metadata": {
        "colab": {
          "base_uri": "https://localhost:8080/",
          "height": 17
        },
        "id": "REG6gXXxYYZi",
        "outputId": "e64977df-869e-436b-db02-9b1d0206a9c5"
      },
      "execution_count": 6,
      "outputs": [
        {
          "output_type": "display_data",
          "data": {
            "text/plain": [
              "<IPython.core.display.Javascript object>"
            ],
            "application/javascript": [
              "\n",
              "    async function download(id, filename, size) {\n",
              "      if (!google.colab.kernel.accessAllowed) {\n",
              "        return;\n",
              "      }\n",
              "      const div = document.createElement('div');\n",
              "      const label = document.createElement('label');\n",
              "      label.textContent = `Downloading \"${filename}\": `;\n",
              "      div.appendChild(label);\n",
              "      const progress = document.createElement('progress');\n",
              "      progress.max = size;\n",
              "      div.appendChild(progress);\n",
              "      document.body.appendChild(div);\n",
              "\n",
              "      const buffers = [];\n",
              "      let downloaded = 0;\n",
              "\n",
              "      const channel = await google.colab.kernel.comms.open(id);\n",
              "      // Send a message to notify the kernel that we're ready.\n",
              "      channel.send({})\n",
              "\n",
              "      for await (const message of channel.messages) {\n",
              "        // Send a message to notify the kernel that we're ready.\n",
              "        channel.send({})\n",
              "        if (message.buffers) {\n",
              "          for (const buffer of message.buffers) {\n",
              "            buffers.push(buffer);\n",
              "            downloaded += buffer.byteLength;\n",
              "            progress.value = downloaded;\n",
              "          }\n",
              "        }\n",
              "      }\n",
              "      const blob = new Blob(buffers, {type: 'application/binary'});\n",
              "      const a = document.createElement('a');\n",
              "      a.href = window.URL.createObjectURL(blob);\n",
              "      a.download = filename;\n",
              "      div.appendChild(a);\n",
              "      a.click();\n",
              "      div.remove();\n",
              "    }\n",
              "  "
            ]
          },
          "metadata": {}
        },
        {
          "output_type": "display_data",
          "data": {
            "text/plain": [
              "<IPython.core.display.Javascript object>"
            ],
            "application/javascript": [
              "download(\"download_d3e23f97-f128-4841-8626-09b282dbf06d\", \"summary_all_models.csv\", 481)"
            ]
          },
          "metadata": {}
        }
      ]
    },
    {
      "cell_type": "code",
      "source": [
        "import pandas as pd\n",
        "df = pd.read_csv(\"summary_all_models.csv\")\n",
        "print(df)\n"
      ],
      "metadata": {
        "colab": {
          "base_uri": "https://localhost:8080/"
        },
        "id": "B5N9a0WjYi2Z",
        "outputId": "47d88e67-c577-4185-b950-f1923686afdc"
      },
      "execution_count": 7,
      "outputs": [
        {
          "output_type": "stream",
          "name": "stdout",
          "text": [
            "                              model  Accuracy       CSR   ERS-Sim  n_samples\n",
            "0         qwen/qwen-2.5-7b-instruct  0.933333  1.000000  0.035000        120\n",
            "1  meta-llama/llama-3.1-8b-instruct  0.883333  0.991667  0.049167        120\n",
            "2              google/gemma-2-9b-it  0.925000  1.000000  0.526583        120\n",
            "3     mistralai/mistral-7b-instruct  0.883333  1.000000  0.313750        120\n",
            "4   mistralai/mixtral-8x7b-instruct  0.908333  0.991667  0.405417        120\n",
            "5                openai/gpt-4o-mini  0.933333  1.000000  0.152500        120\n"
          ]
        }
      ]
    },
    {
      "cell_type": "code",
      "source": [
        "import re\n",
        "import pandas as pd\n",
        "\n",
        "df = pd.read_csv(\"scenarios.csv\")\n",
        "\n",
        "def invert_label(lbl):\n",
        "    if lbl.strip().upper() == \"A\":\n",
        "        return \"B\"\n",
        "    elif lbl.strip().upper() == \"B\":\n",
        "        return \"A\"\n",
        "    else:\n",
        "        return lbl\n",
        "\n",
        "anti_rows = []\n",
        "\n",
        "for _, row in df.iterrows():\n",
        "    sid = row[\"scenario_id\"]\n",
        "    text = row[\"scenario_text\"]\n",
        "    y_true = row[\"y_true\"]\n",
        "    w_i = row[\"w_i\"]\n",
        "\n",
        "    # 模式: If X, does it cause Y?\n",
        "    m = re.match(r\"^If (.*?), does it cause (.*?)\\?$\", text.strip(), re.IGNORECASE)\n",
        "    if not m:\n",
        "        anti_text = f\"If the result ({text[3:].split(',')[0]}), can we infer the cause reversed?\"  # fallback\n",
        "    else:\n",
        "        cause = m.group(1).strip()\n",
        "        effect = m.group(2).strip()\n",
        "        anti_text = f\"If {effect}, does it cause {cause}?\"\n",
        "\n",
        "    anti_rows.append({\n",
        "        \"scenario_id\": sid,\n",
        "        \"scenario_text_anti\": anti_text,\n",
        "        \"y_true_anti\": invert_label(y_true),\n",
        "        \"w_i\": w_i\n",
        "    })\n",
        "\n",
        "df_anti = pd.DataFrame(anti_rows)\n",
        "df_anti.to_csv(\"scenarios_anti.csv\", index=False)\n",
        "\n",
        "print(\"✅ 已生成反向问法版本 scenarios_anti.csv：\")\n",
        "print(df_anti.head(10))\n",
        "\n"
      ],
      "metadata": {
        "colab": {
          "base_uri": "https://localhost:8080/"
        },
        "id": "GJq1V4N-ZcUa",
        "outputId": "01643062-8376-41ab-9e0a-c6df17625d88"
      },
      "execution_count": 10,
      "outputs": [
        {
          "output_type": "stream",
          "name": "stdout",
          "text": [
            "✅ 已生成反向问法版本 scenarios_anti.csv：\n",
            "   scenario_id                                 scenario_text_anti y_true_anti  \\\n",
            "0            1  If the result (interest rates rise), can we in...           B   \n",
            "1            2  If the result (credit scores drop across appli...           B   \n",
            "2            3  If the result (chargeback claims surge), can w...           B   \n",
            "3            4  If the result (marketing spend increases this ...           B   \n",
            "4            5  If the result (vendor payment terms shorten fr...           B   \n",
            "5            6  If the result (input commodity prices spike), ...           B   \n",
            "6            7  If the result (sales returns increase), can we...           B   \n",
            "7            8  If the result (FX volatility increases), can w...           B   \n",
            "8            9  If the result (overdue receivables rise), can ...           B   \n",
            "9           10  If the result (promotional discounts deepen), ...           B   \n",
            "\n",
            "   w_i  \n",
            "0    5  \n",
            "1    4  \n",
            "2    4  \n",
            "3    3  \n",
            "4    4  \n",
            "5    5  \n",
            "6    3  \n",
            "7    3  \n",
            "8    4  \n",
            "9    3  \n"
          ]
        }
      ]
    },
    {
      "cell_type": "code",
      "source": [
        "# ============================================================\n",
        "# 🧠 One-Click Full Evaluation Pipeline (Causal + Anti-Causal)\n",
        "# Author: Youla Yang (Indiana University Bloomington)\n",
        "# ============================================================\n",
        "\n",
        "import os\n",
        "import time\n",
        "import json\n",
        "import pandas as pd\n",
        "from datetime import datetime\n",
        "import requests\n",
        "from tqdm import tqdm\n",
        "\n",
        "# ========== CONFIGURATION ==========\n",
        "CAUSAL_DATA_PATH = \"scenarios.csv\"\n",
        "ANTI_DATA_PATH   = \"scenarios_anti.csv\"\n",
        "\n",
        "XED_SIX = [\n",
        "    \"qwen/qwen-2.5-7b-instruct\",\n",
        "    \"meta-llama/llama-3.1-8b-instruct\",\n",
        "    \"google/gemma-2-9b-it\",\n",
        "    \"mistralai/mistral-7b-instruct\",\n",
        "    \"mistralai/mixtral-8x7b-instruct\",\n",
        "    \"openai/gpt-4o-mini\",\n",
        "]\n",
        "\n",
        "RESULT_DIR = \"results_run\"\n",
        "os.makedirs(RESULT_DIR, exist_ok=True)\n",
        "\n",
        "# 你自己的 OpenRouter API key\n",
        "OPENROUTER_KEY = input(\"🔑 请输入你的 OpenRouter API Key: \").strip()\n",
        "\n",
        "# ========== MODEL CALL FUNCTION ==========\n",
        "def call_model_api(model_id, prompt, max_retries=3):\n",
        "    url = \"https://openrouter.ai/api/v1/chat/completions\"\n",
        "    headers = {\"Authorization\": f\"Bearer {OPENROUTER_KEY}\"}\n",
        "    data = {\n",
        "        \"model\": model_id,\n",
        "        \"messages\": [{\"role\": \"user\", \"content\": prompt}],\n",
        "        \"max_tokens\": 50,\n",
        "        \"temperature\": 0.0,\n",
        "    }\n",
        "    for attempt in range(max_retries):\n",
        "        try:\n",
        "            r = requests.post(url, headers=headers, json=data, timeout=60)\n",
        "            if r.status_code == 200:\n",
        "                return r.json()[\"choices\"][0][\"message\"][\"content\"].strip()\n",
        "            else:\n",
        "                print(f\"[{model_id}] Error {r.status_code}: {r.text}\")\n",
        "        except Exception as e:\n",
        "            print(f\"[{model_id}] attempt {attempt+1} failed: {e}\")\n",
        "        time.sleep(2)\n",
        "    return \"\"\n",
        "\n",
        "# ========== LABEL PARSING ==========\n",
        "def extract_pred_label(text):\n",
        "    if not text:\n",
        "        return None\n",
        "    text_u = text.upper()\n",
        "    if \"A\" in text_u and ((\"B\" not in text_u) or text_u.index(\"A\") < text_u.index(\"B\")):\n",
        "        return \"A\"\n",
        "    elif \"B\" in text_u:\n",
        "        return \"B\"\n",
        "    return None\n",
        "\n",
        "# ========== PROMPT BUILDER ==========\n",
        "def build_prompt(row, split_name):\n",
        "    q = row.scenario_text if split_name==\"causal\" else row.scenario_text_anti\n",
        "    return f\"{q.strip()}\\n\\nPlease answer with A or B only.\"\n",
        "\n",
        "# ========== METRICS ==========\n",
        "def compute_metrics(pred_rows):\n",
        "    n = len(pred_rows)\n",
        "    if n == 0:\n",
        "        return {\"Accuracy\": None, \"CSR\": None, \"ERS-Sim\": None, \"n_samples\": 0}\n",
        "    acc = sum(r[\"y_true\"]==r[\"y_pred\"] for r in pred_rows if r[\"y_pred\"]) / n\n",
        "    csr = 1.0  # 你那边几乎恒为1\n",
        "    ers = 0.0  # 简单占位；后续可以替换成语义相似度均值\n",
        "    return {\"Accuracy\": acc, \"CSR\": csr, \"ERS-Sim\": ers, \"n_samples\": n}\n",
        "\n",
        "# ========== SINGLE MODEL EVAL ==========\n",
        "def run_one_model_on_split(model_id, data_path, split_name):\n",
        "    df = pd.read_csv(data_path)\n",
        "    preds = []\n",
        "    for row in tqdm(df.itertuples(index=False), total=len(df), desc=f\"{model_id}\"):\n",
        "        prompt = build_prompt(row, split_name)\n",
        "        ans = call_model_api(model_id, prompt)\n",
        "        pred = extract_pred_label(ans)\n",
        "        y_true = row.y_true if split_name==\"causal\" else row.y_true_anti\n",
        "        preds.append({\n",
        "            \"scenario_id\": row.scenario_id,\n",
        "            \"prompt\": prompt,\n",
        "            \"model_answer\": ans,\n",
        "            \"y_true\": y_true,\n",
        "            \"y_pred\": pred,\n",
        "        })\n",
        "    metrics = compute_metrics(preds)\n",
        "    metrics[\"model\"] = model_id\n",
        "    out = pd.DataFrame(preds)\n",
        "    out_path = f\"{RESULT_DIR}/results_{split_name}_{model_id.replace('/','_')}.csv\"\n",
        "    out.to_csv(out_path, index=False)\n",
        "    print(f\"💾 Saved {out_path}\")\n",
        "    return metrics\n",
        "\n",
        "# ========== SPLIT RUNNER ==========\n",
        "def evaluate_split(split_name, data_path, model_list):\n",
        "    all_rows = []\n",
        "    print(f\"\\n================ {split_name.upper()} EVAL ================\")\n",
        "    for m in model_list:\n",
        "        try:\n",
        "            metrics = run_one_model_on_split(m, data_path, split_name)\n",
        "            metrics[\"split\"] = split_name\n",
        "            all_rows.append(metrics)\n",
        "            print(f\"✅ {m}: Acc={metrics['Accuracy']:.3f}, CSR={metrics['CSR']:.3f}, ERS={metrics['ERS-Sim']:.3f}\")\n",
        "        except Exception as e:\n",
        "            print(f\"❌ {m} failed: {e}\")\n",
        "            all_rows.append({\"model\": m, \"Accuracy\": None, \"CSR\": None, \"ERS-Sim\": None, \"n_samples\": None, \"split\": split_name, \"error\": str(e)})\n",
        "    df = pd.DataFrame(all_rows)\n",
        "    df.to_csv(f\"{RESULT_DIR}/summary_{split_name}.csv\", index=False)\n",
        "    return df\n",
        "\n",
        "# ========== CAI MERGE ==========\n",
        "def compute_cai(df_causal, df_anti):\n",
        "    causal = df_causal.set_index(\"model\").add_suffix(\"_causal\")\n",
        "    anti   = df_anti.set_index(\"model\").add_suffix(\"_anti\")\n",
        "    merged = pd.concat([causal, anti], axis=1)\n",
        "    rows = []\n",
        "    for m, r in merged.iterrows():\n",
        "        acc_c, acc_a = r[\"Accuracy_causal\"], r[\"Accuracy_anti\"]\n",
        "        csr_c, csr_a = r[\"CSR_causal\"], r[\"CSR_anti\"]\n",
        "        cai = acc_c - acc_a if acc_c and acc_a else None\n",
        "        b_cai = 0.5*((acc_c-acc_a)+(csr_c-csr_a)) if all(x is not None for x in [acc_c,acc_a,csr_c,csr_a]) else None\n",
        "        rows.append({\n",
        "            \"model\": m,\n",
        "            \"Accuracy_causal\": acc_c,\n",
        "            \"Accuracy_anti\": acc_a,\n",
        "            \"CAI\": cai,\n",
        "            \"Balanced-CAI\": b_cai\n",
        "        })\n",
        "    out = pd.DataFrame(rows).sort_values(\"Accuracy_causal\", ascending=False)\n",
        "    ts = datetime.now().strftime(\"%Y%m%d_%H%M%S\")\n",
        "    out_path = f\"{RESULT_DIR}/causal_vs_anti_summary_{ts}.csv\"\n",
        "    out.to_csv(out_path, index=False)\n",
        "    print(f\"💾 Saved merged CAI summary -> {out_path}\")\n",
        "    print(out)\n",
        "    return out\n",
        "\n",
        "# ========== MAIN ==========\n",
        "if __name__ == \"__main__\":\n",
        "    df_causal = evaluate_split(\"causal\", CAUSAL_DATA_PATH, XED_SIX)\n",
        "    df_anti   = evaluate_split(\"anti\",   ANTI_DATA_PATH,   XED_SIX)\n",
        "    compute_cai(df_causal, df_anti)\n",
        "    print(\"\\n🏁 DONE! All summaries saved in 'results_run/' directory.\")\n"
      ],
      "metadata": {
        "colab": {
          "base_uri": "https://localhost:8080/"
        },
        "id": "HCEDBKB9a3i6",
        "outputId": "a4cccf89-c7d0-4f6a-beba-ca5841fd86c2"
      },
      "execution_count": 12,
      "outputs": [
        {
          "output_type": "stream",
          "name": "stdout",
          "text": [
            "🔑 请输入你的 OpenRouter API Key: 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\n",
            "\n",
            "================ CAUSAL EVAL ================\n"
          ]
        },
        {
          "output_type": "stream",
          "name": "stderr",
          "text": [
            "qwen/qwen-2.5-7b-instruct: 100%|██████████| 120/120 [01:36<00:00,  1.24it/s]\n"
          ]
        },
        {
          "output_type": "stream",
          "name": "stdout",
          "text": [
            "💾 Saved results_run/results_causal_qwen_qwen-2.5-7b-instruct.csv\n",
            "✅ qwen/qwen-2.5-7b-instruct: Acc=0.892, CSR=1.000, ERS=0.000\n"
          ]
        },
        {
          "output_type": "stream",
          "name": "stderr",
          "text": [
            "meta-llama/llama-3.1-8b-instruct: 100%|██████████| 120/120 [01:05<00:00,  1.84it/s]\n"
          ]
        },
        {
          "output_type": "stream",
          "name": "stdout",
          "text": [
            "💾 Saved results_run/results_causal_meta-llama_llama-3.1-8b-instruct.csv\n",
            "✅ meta-llama/llama-3.1-8b-instruct: Acc=0.925, CSR=1.000, ERS=0.000\n"
          ]
        },
        {
          "output_type": "stream",
          "name": "stderr",
          "text": [
            "google/gemma-2-9b-it: 100%|██████████| 120/120 [00:44<00:00,  2.69it/s]\n"
          ]
        },
        {
          "output_type": "stream",
          "name": "stdout",
          "text": [
            "💾 Saved results_run/results_causal_google_gemma-2-9b-it.csv\n",
            "✅ google/gemma-2-9b-it: Acc=0.117, CSR=1.000, ERS=0.000\n"
          ]
        },
        {
          "output_type": "stream",
          "name": "stderr",
          "text": [
            "mistralai/mistral-7b-instruct: 100%|██████████| 120/120 [01:16<00:00,  1.57it/s]\n"
          ]
        },
        {
          "output_type": "stream",
          "name": "stdout",
          "text": [
            "💾 Saved results_run/results_causal_mistralai_mistral-7b-instruct.csv\n",
            "✅ mistralai/mistral-7b-instruct: Acc=0.883, CSR=1.000, ERS=0.000\n"
          ]
        },
        {
          "output_type": "stream",
          "name": "stderr",
          "text": [
            "mistralai/mixtral-8x7b-instruct: 100%|██████████| 120/120 [01:34<00:00,  1.27it/s]\n"
          ]
        },
        {
          "output_type": "stream",
          "name": "stdout",
          "text": [
            "💾 Saved results_run/results_causal_mistralai_mixtral-8x7b-instruct.csv\n",
            "✅ mistralai/mixtral-8x7b-instruct: Acc=0.908, CSR=1.000, ERS=0.000\n"
          ]
        },
        {
          "output_type": "stream",
          "name": "stderr",
          "text": [
            "openai/gpt-4o-mini: 100%|██████████| 120/120 [01:40<00:00,  1.20it/s]\n"
          ]
        },
        {
          "output_type": "stream",
          "name": "stdout",
          "text": [
            "💾 Saved results_run/results_causal_openai_gpt-4o-mini.csv\n",
            "✅ openai/gpt-4o-mini: Acc=0.925, CSR=1.000, ERS=0.000\n",
            "\n",
            "================ ANTI EVAL ================\n"
          ]
        },
        {
          "output_type": "stream",
          "name": "stderr",
          "text": [
            "qwen/qwen-2.5-7b-instruct: 100%|██████████| 120/120 [01:28<00:00,  1.35it/s]\n"
          ]
        },
        {
          "output_type": "stream",
          "name": "stdout",
          "text": [
            "💾 Saved results_run/results_anti_qwen_qwen-2.5-7b-instruct.csv\n",
            "✅ qwen/qwen-2.5-7b-instruct: Acc=0.933, CSR=1.000, ERS=0.000\n"
          ]
        },
        {
          "output_type": "stream",
          "name": "stderr",
          "text": [
            "meta-llama/llama-3.1-8b-instruct: 100%|██████████| 120/120 [01:00<00:00,  1.99it/s]\n"
          ]
        },
        {
          "output_type": "stream",
          "name": "stdout",
          "text": [
            "💾 Saved results_run/results_anti_meta-llama_llama-3.1-8b-instruct.csv\n",
            "✅ meta-llama/llama-3.1-8b-instruct: Acc=0.075, CSR=1.000, ERS=0.000\n"
          ]
        },
        {
          "output_type": "stream",
          "name": "stderr",
          "text": [
            "google/gemma-2-9b-it: 100%|██████████| 120/120 [00:44<00:00,  2.68it/s]\n"
          ]
        },
        {
          "output_type": "stream",
          "name": "stdout",
          "text": [
            "💾 Saved results_run/results_anti_google_gemma-2-9b-it.csv\n",
            "✅ google/gemma-2-9b-it: Acc=0.658, CSR=1.000, ERS=0.000\n"
          ]
        },
        {
          "output_type": "stream",
          "name": "stderr",
          "text": [
            "mistralai/mistral-7b-instruct: 100%|██████████| 120/120 [01:19<00:00,  1.52it/s]\n"
          ]
        },
        {
          "output_type": "stream",
          "name": "stdout",
          "text": [
            "💾 Saved results_run/results_anti_mistralai_mistral-7b-instruct.csv\n",
            "✅ mistralai/mistral-7b-instruct: Acc=0.300, CSR=1.000, ERS=0.000\n"
          ]
        },
        {
          "output_type": "stream",
          "name": "stderr",
          "text": [
            "mistralai/mixtral-8x7b-instruct: 100%|██████████| 120/120 [01:40<00:00,  1.19it/s]\n"
          ]
        },
        {
          "output_type": "stream",
          "name": "stdout",
          "text": [
            "💾 Saved results_run/results_anti_mistralai_mixtral-8x7b-instruct.csv\n",
            "✅ mistralai/mixtral-8x7b-instruct: Acc=0.283, CSR=1.000, ERS=0.000\n"
          ]
        },
        {
          "output_type": "stream",
          "name": "stderr",
          "text": [
            "openai/gpt-4o-mini: 100%|██████████| 120/120 [01:36<00:00,  1.25it/s]"
          ]
        },
        {
          "output_type": "stream",
          "name": "stdout",
          "text": [
            "💾 Saved results_run/results_anti_openai_gpt-4o-mini.csv\n",
            "✅ openai/gpt-4o-mini: Acc=0.808, CSR=1.000, ERS=0.000\n",
            "💾 Saved merged CAI summary -> results_run/causal_vs_anti_summary_20251030_185805.csv\n",
            "                              model  Accuracy_causal  Accuracy_anti       CAI  \\\n",
            "1  meta-llama/llama-3.1-8b-instruct         0.925000       0.075000  0.850000   \n",
            "5                openai/gpt-4o-mini         0.925000       0.808333  0.116667   \n",
            "4   mistralai/mixtral-8x7b-instruct         0.908333       0.283333  0.625000   \n",
            "0         qwen/qwen-2.5-7b-instruct         0.891667       0.933333 -0.041667   \n",
            "3     mistralai/mistral-7b-instruct         0.883333       0.300000  0.583333   \n",
            "2              google/gemma-2-9b-it         0.116667       0.658333 -0.541667   \n",
            "\n",
            "   Balanced-CAI  \n",
            "1      0.425000  \n",
            "5      0.058333  \n",
            "4      0.312500  \n",
            "0     -0.020833  \n",
            "3      0.291667  \n",
            "2     -0.270833  \n",
            "\n",
            "🏁 DONE! All summaries saved in 'results_run/' directory.\n"
          ]
        },
        {
          "output_type": "stream",
          "name": "stderr",
          "text": [
            "\n"
          ]
        }
      ]
    },
    {
      "cell_type": "code",
      "source": [
        "import os\n",
        "import pandas as pd\n",
        "from glob import glob\n",
        "\n",
        "scenarios = pd.read_csv(\"scenarios.csv\")[[\"scenario_id\", \"w_i\"]]\n",
        "print(f\"✅ Loaded {len(scenarios)} scenarios with weights.\")\n",
        "\n",
        "for path in glob(\"results_run/results_*.csv\"):\n",
        "    try:\n",
        "        df = pd.read_csv(path)\n",
        "        if \"w_i\" not in df.columns and \"scenario_id\" in df.columns:\n",
        "            df = df.merge(scenarios, on=\"scenario_id\", how=\"left\")\n",
        "            df.to_csv(path, index=False)\n",
        "            print(f\"💾 Patched weights into {os.path.basename(path)}\")\n",
        "        else:\n",
        "            print(f\"⚙️ Skipped {os.path.basename(path)} (already has w_i)\")\n",
        "    except Exception as e:\n",
        "        print(f\"❌ Error patching {path}: {e}\")\n",
        "\n"
      ],
      "metadata": {
        "colab": {
          "base_uri": "https://localhost:8080/"
        },
        "id": "Xl1nziief5jI",
        "outputId": "18d9ac27-b0a7-44ef-ea25-f31c5d9cf119"
      },
      "execution_count": 14,
      "outputs": [
        {
          "output_type": "stream",
          "name": "stdout",
          "text": [
            "✅ Loaded 120 scenarios with weights.\n",
            "💾 Patched weights into results_anti_openai_gpt-4o-mini.csv\n",
            "💾 Patched weights into results_causal_mistralai_mixtral-8x7b-instruct.csv\n",
            "💾 Patched weights into results_causal_meta-llama_llama-3.1-8b-instruct.csv\n",
            "💾 Patched weights into results_causal_openai_gpt-4o-mini.csv\n",
            "💾 Patched weights into results_anti_qwen_qwen-2.5-7b-instruct.csv\n",
            "💾 Patched weights into results_causal_google_gemma-2-9b-it.csv\n",
            "💾 Patched weights into results_anti_meta-llama_llama-3.1-8b-instruct.csv\n",
            "💾 Patched weights into results_causal_qwen_qwen-2.5-7b-instruct.csv\n",
            "💾 Patched weights into results_anti_google_gemma-2-9b-it.csv\n",
            "💾 Patched weights into results_anti_mistralai_mixtral-8x7b-instruct.csv\n",
            "💾 Patched weights into results_anti_mistralai_mistral-7b-instruct.csv\n",
            "💾 Patched weights into results_causal_mistralai_mistral-7b-instruct.csv\n"
          ]
        }
      ]
    },
    {
      "cell_type": "code",
      "source": [
        "import os\n",
        "import glob\n",
        "import pandas as pd\n",
        "from collections import defaultdict\n",
        "\n",
        "RESULT_DIR = \"results_run\"\n",
        "\n",
        "###############################################################################\n",
        "# 你需要确认这些列名在你的 per-sample CSV 里真的存在\n",
        "# 如果不一样，按实际情况改一下：\n",
        "#\n",
        "# - scenario_id: 题目编号（要能拿来对齐 causal 和 anti 同一题）\n",
        "# - y_true:      正确答案标签，比如 \"A\" / \"B\"\n",
        "# - model_answer:模型最后的离散回答，比如 \"A\" / \"B\"\n",
        "# - w_i:         权重/严重性 (int 或 float)\n",
        "###############################################################################\n",
        "COL_SCENARIO = \"scenario_id\"\n",
        "COL_GOLD     = \"y_true\"\n",
        "COL_PRED     = \"model_answer\"\n",
        "COL_WEIGHT   = \"w_i\"\n",
        "\n",
        "###############################################################################\n",
        "# 小工具函数\n",
        "###############################################################################\n",
        "\n",
        "def load_split_csvs(split_name):\n",
        "    \"\"\"\n",
        "    split_name: \"causal\" 或 \"anti\"\n",
        "    返回 dict:\n",
        "        {\n",
        "          \"<model_id>\": pd.DataFrame([... per-sample rows ...]),\n",
        "          ...\n",
        "        }\n",
        "    自动从 results_run/results_<split>_*.csv 里提取 model_id.\n",
        "    例如 results_causal_meta-llama_llama-3.1-8b-instruct.csv\n",
        "         -> model_id = \"meta-llama/llama-3.1-8b-instruct\"\n",
        "    \"\"\"\n",
        "    pattern = os.path.join(RESULT_DIR, f\"results_{split_name}_*.csv\")\n",
        "    out = {}\n",
        "    for path in glob.glob(pattern):\n",
        "        df = pd.read_csv(path)\n",
        "\n",
        "        # 推断模型名字：\n",
        "        # 文件名一般是 results_<split>_<provider>_<model_name>.csv\n",
        "        # 我们把 \"results_<split>_\" 去掉，剩下的用第一个 '_' 切分 provider vs model\n",
        "        # 然后再拼回成 \"provider/model\"\n",
        "        #\n",
        "        # 例: results_causal_meta-llama_llama-3.1-8b-instruct.csv\n",
        "        # basename -> causal_meta-llama_llama-3.1-8b-instruct.csv (after strip prefix \"results_\")\n",
        "        # parts[0] = \"causal\", parts[1] = \"meta-llama\", parts[2:] joined = \"llama-3.1-8b-instruct\"\n",
        "        #\n",
        "        # 例: results_anti_openai_gpt-4o-mini.csv\n",
        "        # -> \"openai/gpt-4o-mini\"\n",
        "\n",
        "        base = os.path.basename(path)                # results_causal_xxx.csv\n",
        "        no_prefix = base.replace(f\"results_{split_name}_\", \"\")  # meta-llama_llama-3.1-8b-instruct.csv\n",
        "        no_suffix = no_prefix.replace(\".csv\", \"\")    # meta-llama_llama-3.1-8b-instruct\n",
        "\n",
        "        parts = no_suffix.split(\"_\")\n",
        "        if len(parts) >= 2:\n",
        "            provider = parts[0]\n",
        "            model_rest = \"_\".join(parts[1:])\n",
        "            model_id = f\"{provider}/{model_rest}\"\n",
        "        else:\n",
        "            # fallback: 就用整串名字\n",
        "            model_id = no_suffix\n",
        "\n",
        "        out[model_id] = df\n",
        "    return out\n",
        "\n",
        "\n",
        "def compute_accuracy(df, gold_col, pred_col):\n",
        "    \"\"\"普通准确率\"\"\"\n",
        "    correct = (df[gold_col].astype(str).str.strip()\n",
        "               == df[pred_col].astype(str).str.strip())\n",
        "    return correct.mean()\n",
        "\n",
        "\n",
        "def compute_weighted_accuracy(df, gold_col, pred_col, weight_col):\n",
        "    \"\"\"按权重 w_i 的加权准确率\"\"\"\n",
        "    correct = (df[gold_col].astype(str).str.strip()\n",
        "               == df[pred_col].astype(str).str.strip())\n",
        "    w = df[weight_col].astype(float)\n",
        "    if w.sum() == 0:\n",
        "        return None\n",
        "    return (correct * w).sum() / w.sum()\n",
        "\n",
        "\n",
        "def merge_causal_anti(df_causal, df_anti):\n",
        "    \"\"\"\n",
        "    用 scenario_id 对齐同一道题的 causal / anti 回答\n",
        "    返回一个合并后的 df，对每个 scenario_id 有:\n",
        "    - y_true_causal, pred_causal\n",
        "    - y_true_anti,   pred_anti\n",
        "    - w_i\n",
        "    \"\"\"\n",
        "    c_keep = df_causal[[COL_SCENARIO, COL_GOLD, COL_PRED, COL_WEIGHT]].copy()\n",
        "    c_keep = c_keep.rename(columns={\n",
        "        COL_GOLD: f\"{COL_GOLD}_causal\",\n",
        "        COL_PRED: f\"{COL_PRED}_causal\",\n",
        "        COL_WEIGHT: COL_WEIGHT  # 权重我们假设两边一样，保留一份\n",
        "    })\n",
        "\n",
        "    a_keep = df_anti[[COL_SCENARIO, COL_GOLD, COL_PRED, COL_WEIGHT]].copy()\n",
        "    a_keep = a_keep.rename(columns={\n",
        "        COL_GOLD: f\"{COL_GOLD}_anti\",\n",
        "        COL_PRED: f\"{COL_PRED}_anti\",\n",
        "        COL_WEIGHT: f\"{COL_WEIGHT}_anti\"\n",
        "    })\n",
        "\n",
        "    merged = pd.merge(c_keep, a_keep, on=COL_SCENARIO, how=\"inner\")\n",
        "\n",
        "    # sanity: 如果 w_i_anti 跟 w_i 不一样，取平均或取 causal 的都可以\n",
        "    if f\"{COL_WEIGHT}_anti\" in merged.columns:\n",
        "        merged[COL_WEIGHT] = 0.5 * (\n",
        "            merged[COL_WEIGHT].astype(float) +\n",
        "            merged[f\"{COL_WEIGHT}_anti\"].astype(float)\n",
        "        )\n",
        "        merged = merged.drop(columns=[f\"{COL_WEIGHT}_anti\"])\n",
        "\n",
        "    return merged\n",
        "\n",
        "\n",
        "def compute_consistency(merged_df):\n",
        "    \"\"\"\n",
        "    consistency 定义：\n",
        "    同一道题，模型在 causal vs anti 给的“责任判断”是否一致。\n",
        "    这里我们用离散回答是否相等来近似。\n",
        "    返回:\n",
        "      - raw_consistency: 纯一致率\n",
        "      - safe_consistency: 一致而且是正确答案 (两边都答对)\n",
        "    \"\"\"\n",
        "\n",
        "    same_answer = (\n",
        "        merged_df[f\"{COL_PRED}_causal\"].astype(str).str.strip() ==\n",
        "        merged_df[f\"{COL_PRED}_anti\"].astype(str).str.strip()\n",
        "    )\n",
        "\n",
        "    # 两边都正确 (对各自的 gold)\n",
        "    both_correct = (\n",
        "        (merged_df[f\"{COL_PRED}_causal\"].astype(str).str.strip()\n",
        "         == merged_df[f\"{COL_GOLD}_causal\"].astype(str).str.strip())\n",
        "        &\n",
        "        (merged_df[f\"{COL_PRED}_anti\"].astype(str).str.strip()\n",
        "         == merged_df[f\"{COL_GOLD}_anti\"].astype(str).str.strip())\n",
        "    )\n",
        "\n",
        "    raw_consistency = same_answer.mean()\n",
        "    safe_consistency = both_correct.mean()\n",
        "\n",
        "    return raw_consistency, safe_consistency\n",
        "\n",
        "\n",
        "###############################################################################\n",
        "# 主流程\n",
        "###############################################################################\n",
        "\n",
        "def main():\n",
        "    # 1. 读所有 causal / anti CSV\n",
        "    causal_dict = load_split_csvs(\"causal\")\n",
        "    anti_dict   = load_split_csvs(\"anti\")\n",
        "\n",
        "    # 2. 遍历所有模型（出现在 causal 或 anti 任意一边的都算）\n",
        "    all_models = sorted(set(list(causal_dict.keys()) + list(anti_dict.keys())))\n",
        "\n",
        "    summary_rows = []\n",
        "\n",
        "    for model_id in all_models:\n",
        "        df_c = causal_dict.get(model_id)\n",
        "        df_a = anti_dict.get(model_id)\n",
        "\n",
        "        if df_c is None:\n",
        "            print(f\"[WARN] model {model_id} 没有 causal 结果，后面一些指标算不了\")\n",
        "        if df_a is None:\n",
        "            print(f\"[WARN] model {model_id} 没有 anti 结果，后面一些指标算不了\")\n",
        "\n",
        "        # --- causal accuracy / weighted\n",
        "        acc_causal = None\n",
        "        wacc_causal = None\n",
        "        if df_c is not None:\n",
        "            acc_causal = compute_accuracy(df_c, COL_GOLD, COL_PRED)\n",
        "            if COL_WEIGHT in df_c.columns:\n",
        "                wacc_causal = compute_weighted_accuracy(df_c, COL_GOLD, COL_PRED, COL_WEIGHT)\n",
        "\n",
        "        # --- anti accuracy / weighted\n",
        "        acc_anti = None\n",
        "        wacc_anti = None\n",
        "        if df_a is not None:\n",
        "            acc_anti = compute_accuracy(df_a, COL_GOLD, COL_PRED)\n",
        "            if COL_WEIGHT in df_a.columns:\n",
        "                wacc_anti = compute_weighted_accuracy(df_a, COL_GOLD, COL_PRED, COL_WEIGHT)\n",
        "\n",
        "        # --- CAI & Weighted CAI\n",
        "        cai = None\n",
        "        cai_weighted = None\n",
        "        if acc_causal is not None and acc_anti is not None:\n",
        "            cai = acc_causal - acc_anti\n",
        "        if wacc_causal is not None and wacc_anti is not None:\n",
        "            cai_weighted = wacc_causal - wacc_anti\n",
        "\n",
        "        # --- consistency\n",
        "        raw_consistency = None\n",
        "        safe_consistency = None\n",
        "        if (df_c is not None) and (df_a is not None):\n",
        "            merged_pair = merge_causal_anti(df_c, df_a)\n",
        "            raw_consistency, safe_consistency = compute_consistency(merged_pair)\n",
        "\n",
        "        summary_rows.append({\n",
        "            \"model\": model_id,\n",
        "\n",
        "            # 基础准确率\n",
        "            \"Accuracy_causal\": acc_causal,\n",
        "            \"Accuracy_anti\": acc_anti,\n",
        "            \"CAI\": cai,\n",
        "\n",
        "            # 加权指标\n",
        "            \"WeightedAccuracy_causal\": wacc_causal,\n",
        "            \"WeightedAccuracy_anti\": wacc_anti,\n",
        "            \"Weighted_CAI\": cai_weighted,\n",
        "\n",
        "            # 一致性\n",
        "            \"RawConsistency(causal_vs_anti_same_answer)\": raw_consistency,\n",
        "            \"SafeConsistency(both_correct)\": safe_consistency,\n",
        "        })\n",
        "\n",
        "    df_summary = pd.DataFrame(summary_rows)\n",
        "\n",
        "    # 排序一下：先按 Accuracy_causal，再按 CAI 绝对值\n",
        "    if \"Accuracy_causal\" in df_summary.columns:\n",
        "        df_summary = df_summary.sort_values(by=[\"Accuracy_causal\"], ascending=False)\n",
        "\n",
        "    print(\"\\n================ FINAL ANALYSIS SUMMARY ================\")\n",
        "    print(df_summary.to_string(index=False))\n",
        "\n",
        "    out_path = os.path.join(RESULT_DIR, \"final_analysis_summary.csv\")\n",
        "    df_summary.to_csv(out_path, index=False)\n",
        "    print(f\"\\n💾 Saved offline analysis table -> {out_path}\")\n",
        "\n",
        "if __name__ == \"__main__\":\n",
        "    main()\n"
      ],
      "metadata": {
        "colab": {
          "base_uri": "https://localhost:8080/"
        },
        "id": "kSNYB5JhgUqZ",
        "outputId": "2d57568b-3837-4c5b-f650-001f3fa22196"
      },
      "execution_count": 15,
      "outputs": [
        {
          "output_type": "stream",
          "name": "stdout",
          "text": [
            "\n",
            "================ FINAL ANALYSIS SUMMARY ================\n",
            "                           model  Accuracy_causal  Accuracy_anti       CAI  WeightedAccuracy_causal  WeightedAccuracy_anti  Weighted_CAI  RawConsistency(causal_vs_anti_same_answer)  SafeConsistency(both_correct)\n",
            "meta-llama/llama-3.1-8b-instruct         0.925000       0.075000  0.850000                 0.941176               0.058824      0.882353                                    0.925000                       0.033333\n",
            "              openai/gpt-4o-mini         0.925000       0.808333  0.116667                 0.943734               0.833760      0.109974                                    0.183333                       0.775000\n",
            "       qwen/qwen-2.5-7b-instruct         0.891667       0.933333 -0.041667                 0.915601               0.948849     -0.033248                                    0.041667                       0.891667\n",
            "   mistralai/mistral-7b-instruct         0.416667       0.000000  0.416667                 0.457801               0.000000      0.457801                                    0.058333                       0.000000\n",
            "            google/gemma-2-9b-it         0.116667       0.658333 -0.541667                 0.135550               0.667519     -0.531969                                    0.025000                       0.091667\n",
            " mistralai/mixtral-8x7b-instruct         0.000000       0.000000  0.000000                 0.000000               0.000000      0.000000                                    0.000000                       0.000000\n",
            "\n",
            "💾 Saved offline analysis table -> results_run/final_analysis_summary.csv\n"
          ]
        }
      ]
    },
    {
      "cell_type": "code",
      "source": [
        "import os\n",
        "import pandas as pd\n",
        "import numpy as np\n",
        "import matplotlib.pyplot as plt\n",
        "\n",
        "###############################################################################\n",
        "# 0. 读取总结表\n",
        "###############################################################################\n",
        "\n",
        "IN_SUMMARY_PATH = \"results_run/final_analysis_summary.csv\"  # <- 你保存的表\n",
        "OUT_DIR = \"results_run\"\n",
        "os.makedirs(OUT_DIR, exist_ok=True)\n",
        "\n",
        "df = pd.read_csv(IN_SUMMARY_PATH)\n",
        "\n",
        "# 一些列名里有括号/空格，重命名一下，方便处理\n",
        "rename_map = {\n",
        "    'Accuracy_causal': 'Accuracy_causal',\n",
        "    'Accuracy_anti': 'Accuracy_anti',\n",
        "    'CAI': 'CAI',\n",
        "    'WeightedAccuracy_causal': 'WeightedAccuracy_causal',\n",
        "    'WeightedAccuracy_anti': 'WeightedAccuracy_anti',\n",
        "    'Weighted_CAI': 'Weighted_CAI',\n",
        "    'RawConsistency(causal_vs_anti_same_answer)': 'RawConsistency',\n",
        "    'SafeConsistency(both_correct)': 'SafeConsistency'\n",
        "}\n",
        "\n",
        "# 自动匹配上面这些，如果有列名包含某段就映射\n",
        "fixed_cols = {}\n",
        "for col in df.columns:\n",
        "    for k, v in rename_map.items():\n",
        "        if k in col:\n",
        "            fixed_cols[col] = v\n",
        "df = df.rename(columns=fixed_cols)\n",
        "\n",
        "# 再做个简单的清理：有些模型名太长，我们做个短label来画图\n",
        "def short_name(m):\n",
        "    m = str(m)\n",
        "    m = m.replace(\"meta-llama/\", \"llama-\")\n",
        "    m = m.replace(\"mistralai/\", \"\")\n",
        "    m = m.replace(\"openai/\", \"\")\n",
        "    m = m.replace(\"qwen/\", \"qwen-\")\n",
        "    m = m.replace(\"google/\", \"\")\n",
        "    m = m.replace(\"instruct\", \"instr\")\n",
        "    m = m.replace(\"mini\", \"mini\")\n",
        "    m = m.replace(\"mixtral\", \"mixtral\")\n",
        "    m = m.replace(\"mistral\", \"mistral\")\n",
        "    m = m.replace(\"gemma\", \"gemma\")\n",
        "    m = m.replace(\"llama-3.1-8b\", \"llama3.1-8b\")\n",
        "    m = m.replace(\"qwen-2.5-7b\", \"qwen2.5-7b\")\n",
        "    m = m.replace(\"mistral-7b\", \"mistral7b\")\n",
        "    m = m.replace(\"mixtral-8x7b\", \"mixtral8x7b\")\n",
        "    m = m.replace(\"gemma-2-9b-it\", \"gemma2-9b\")\n",
        "    m = m.replace(\"gpt-4o-mini\", \"gpt-4o-mini\")\n",
        "    # 去掉多余的斜杠和下划线空格\n",
        "    m = m.replace(\"/\", \"_\")\n",
        "    return m\n",
        "\n",
        "df[\"model_short\"] = df[\"model\"].apply(short_name)\n",
        "\n",
        "###############################################################################\n",
        "# 1. 图1：成对柱状图 (Accuracy_causal vs Accuracy_anti) + ΔCAI 注释\n",
        "###############################################################################\n",
        "\n",
        "models = df[\"model_short\"].tolist()\n",
        "x = np.arange(len(models))\n",
        "width = 0.35\n",
        "\n",
        "fig1, ax1 = plt.subplots(figsize=(10,5))\n",
        "\n",
        "bars1 = ax1.bar(x - width/2, df[\"Accuracy_causal\"], width, label=\"Causal Acc\")\n",
        "bars2 = ax1.bar(x + width/2, df[\"Accuracy_anti\"], width, label=\"Anti Acc\")\n",
        "\n",
        "ax1.set_ylabel(\"Accuracy\")\n",
        "ax1.set_title(\"Causal vs Anti Accuracy per Model\")\n",
        "ax1.set_xticks(x)\n",
        "ax1.set_xticklabels(models, rotation=30, ha='right')\n",
        "ax1.legend(loc='upper right')\n",
        "\n",
        "# 在图上加 ΔCAI = causal - anti\n",
        "for i, (xc, ac_c, ac_a, cai_val) in enumerate(zip(x, df[\"Accuracy_causal\"], df[\"Accuracy_anti\"], df[\"CAI\"])):\n",
        "    ax1.text(xc, max(ac_c, ac_a) + 0.02,\n",
        "             f\"Δ={cai_val:.2f}\",\n",
        "             ha='center', va='bottom', fontsize=8)\n",
        "\n",
        "ax1.set_ylim(0, 1.15)  # 留空间画Δ\n",
        "\n",
        "fig1.tight_layout()\n",
        "fig1_path = os.path.join(OUT_DIR, \"fig1_causal_vs_anti_accuracy.png\")\n",
        "fig1.savefig(fig1_path, dpi=300)\n",
        "print(f\"[Saved] {fig1_path}\")\n",
        "\n",
        "###############################################################################\n",
        "# 2. 图2：散点图 (Accuracy_causal vs SafeConsistency)\n",
        "#    右上角 = 又准又稳 -> 最佳区（期望 GPT-4o-mini 在这里）\n",
        "###############################################################################\n",
        "\n",
        "fig2, ax2 = plt.subplots(figsize=(6,6))\n",
        "\n",
        "ax2.scatter(df[\"Accuracy_causal\"], df[\"SafeConsistency\"], s=80)\n",
        "\n",
        "for i, row in df.iterrows():\n",
        "    ax2.text(row[\"Accuracy_causal\"]+0.01,\n",
        "             row[\"SafeConsistency\"]+0.01,\n",
        "             row[\"model_short\"],\n",
        "             fontsize=8)\n",
        "\n",
        "ax2.set_xlabel(\"Accuracy (Causal)\")\n",
        "ax2.set_ylabel(\"Safe Consistency (Both Correct)\")\n",
        "ax2.set_title(\"Causal Accuracy vs Safe Consistency\")\n",
        "\n",
        "ax2.set_xlim(0,1.05)\n",
        "ax2.set_ylim(0,1.05)\n",
        "\n",
        "fig2.tight_layout()\n",
        "fig2_path = os.path.join(OUT_DIR, \"fig2_accuracy_vs_safeconsistency.png\")\n",
        "fig2.savefig(fig2_path, dpi=300)\n",
        "print(f\"[Saved] {fig2_path}\")\n",
        "\n",
        "###############################################################################\n",
        "# 3. 图3：模型一致性热力图\n",
        "#\n",
        "# 情况A（你现在有的列）：只有每个模型自己的 RawConsistency，\n",
        "#    没有 “模型i vs 模型j” 的逐题答案重叠率。\n",
        "#    我们就先做一个对角矩阵 + 用 RawConsistency 近似填充对角。\n",
        "#\n",
        "# 情况B（未来升级）：如果你能提供逐题回答表，我们可以真正计算\n",
        "#    sim[i,j] = (# 两个模型在该题上答案一样) / N 。\n",
        "#\n",
        "###############################################################################\n",
        "\n",
        "model_list = df[\"model_short\"].tolist()\n",
        "n = len(model_list)\n",
        "\n",
        "# 先用 NaN 矩阵\n",
        "sim_mat = np.zeros((n, n), dtype=float)\n",
        "\n",
        "# 暂时做一个非常“占位式”的相似度度量：\n",
        "# - 对角线用 SafeConsistency 或 RawConsistency\n",
        "# - 非对角线现在没法真算（缺逐题回答），就先用均值占位\n",
        "#   以后可以重算再画\n",
        "diag_vals = df[\"RawConsistency\"].fillna(0.0).to_numpy()\n",
        "\n",
        "for i in range(n):\n",
        "    for j in range(n):\n",
        "        if i == j:\n",
        "            sim_mat[i, j] = diag_vals[i]\n",
        "        else:\n",
        "            # 简单占位：两模型平均一下它们各自的 RawConsistency\n",
        "            sim_mat[i, j] = (diag_vals[i] + diag_vals[j]) / 2.0\n",
        "\n",
        "fig3, ax3 = plt.subplots(figsize=(6,5))\n",
        "\n",
        "im = ax3.imshow(sim_mat, vmin=0.0, vmax=1.0, aspect='auto')\n",
        "ax3.set_title(\"Model Consistency Heatmap (placeholder)\")\n",
        "ax3.set_xticks(np.arange(n))\n",
        "ax3.set_xticklabels(model_list, rotation=45, ha='right', fontsize=8)\n",
        "ax3.set_yticks(np.arange(n))\n",
        "ax3.set_yticklabels(model_list, fontsize=8)\n",
        "\n",
        "# 在每个cell上写数字\n",
        "for i in range(n):\n",
        "    for j in range(n):\n",
        "        ax3.text(j, i, f\"{sim_mat[i,j]:.2f}\",\n",
        "                 ha='center', va='center', fontsize=6, color='w' if sim_mat[i,j] < 0.5 else 'black')\n",
        "\n",
        "fig3.colorbar(im, ax=ax3, fraction=0.046, pad=0.04)\n",
        "fig3.tight_layout()\n",
        "\n",
        "fig3_path = os.path.join(OUT_DIR, \"fig3_consistency_heatmap.png\")\n",
        "fig3.savefig(fig3_path, dpi=300)\n",
        "print(f\"[Saved] {fig3_path}\")\n",
        "\n",
        "print(\"✅ All plots generated.\")\n"
      ],
      "metadata": {
        "colab": {
          "base_uri": "https://localhost:8080/",
          "height": 1000
        },
        "id": "TfTF02bXhauO",
        "outputId": "a7964377-182e-4042-daa5-d336bd3eda44"
      },
      "execution_count": 16,
      "outputs": [
        {
          "output_type": "stream",
          "name": "stdout",
          "text": [
            "[Saved] results_run/fig1_causal_vs_anti_accuracy.png\n",
            "[Saved] results_run/fig2_accuracy_vs_safeconsistency.png\n",
            "[Saved] results_run/fig3_consistency_heatmap.png\n",
            "✅ All plots generated.\n"
          ]
        },
        {
          "output_type": "display_data",
          "data": {
            "text/plain": [
              "<Figure size 1000x500 with 1 Axes>"
            ],
            "image/png": "[encoded data removed]"
          },
          "metadata": {}
        },
        {
          "output_type": "display_data",
          "data": {
            "text/plain": [
              "<Figure size 600x600 with 1 Axes>"
            ],
            "image/png": "[encoded data removed]"
          },
          "metadata": {}
        },
        {
          "output_type": "display_data",
          "data": {
            "text/plain": [
              "<Figure size 600x500 with 2 Axes>"
            ],
            "image/png": "[encoded data removed]"
          },
          "metadata": {}
        }
      ]
    },
    {
      "cell_type": "code",
      "source": [
        "import shutil\n",
        "import os\n",
        "from google.colab import files  # 如果你在本地Python环境里，可以删掉这一行\n",
        "\n",
        "# 输出目录\n",
        "out_dir = \"results_run\"\n",
        "zip_path = \"final_outputs.zip\"\n",
        "\n",
        "# 如果已有旧压缩包，先删掉\n",
        "if os.path.exists(zip_path):\n",
        "    os.remove(zip_path)\n",
        "\n",
        "# 打包整个 results_run 目录\n",
        "shutil.make_archive(\"final_outputs\", 'zip', out_dir)\n",
        "print(f\"✅ 打包完成: {zip_path}\")\n",
        "\n",
        "# 如果你在 Colab 运行，自动触发下载\n",
        "try:\n",
        "    files.download(zip_path)\n",
        "except Exception as e:\n",
        "    print(f\"⚠️ 无法自动下载，请手动从目录获取: {zip_path}\")\n"
      ],
      "metadata": {
        "colab": {
          "base_uri": "https://localhost:8080/",
          "height": 35
        },
        "id": "k6adbx8BhtI9",
        "outputId": "6caeb4df-22c1-452e-a04e-d886cbdcb64e"
      },
      "execution_count": 17,
      "outputs": [
        {
          "output_type": "stream",
          "name": "stdout",
          "text": [
            "✅ 打包完成: final_outputs.zip\n"
          ]
        },
        {
          "output_type": "display_data",
          "data": {
            "text/plain": [
              "<IPython.core.display.Javascript object>"
            ],
            "application/javascript": [
              "\n",
              "    async function download(id, filename, size) {\n",
              "      if (!google.colab.kernel.accessAllowed) {\n",
              "        return;\n",
              "      }\n",
              "      const div = document.createElement('div');\n",
              "      const label = document.createElement('label');\n",
              "      label.textContent = `Downloading \"${filename}\": `;\n",
              "      div.appendChild(label);\n",
              "      const progress = document.createElement('progress');\n",
              "      progress.max = size;\n",
              "      div.appendChild(progress);\n",
              "      document.body.appendChild(div);\n",
              "\n",
              "      const buffers = [];\n",
              "      let downloaded = 0;\n",
              "\n",
              "      const channel = await google.colab.kernel.comms.open(id);\n",
              "      // Send a message to notify the kernel that we're ready.\n",
              "      channel.send({})\n",
              "\n",
              "      for await (const message of channel.messages) {\n",
              "        // Send a message to notify the kernel that we're ready.\n",
              "        channel.send({})\n",
              "        if (message.buffers) {\n",
              "          for (const buffer of message.buffers) {\n",
              "            buffers.push(buffer);\n",
              "            downloaded += buffer.byteLength;\n",
              "            progress.value = downloaded;\n",
              "          }\n",
              "        }\n",
              "      }\n",
              "      const blob = new Blob(buffers, {type: 'application/binary'});\n",
              "      const a = document.createElement('a');\n",
              "      a.href = window.URL.createObjectURL(blob);\n",
              "      a.download = filename;\n",
              "      div.appendChild(a);\n",
              "      a.click();\n",
              "      div.remove();\n",
              "    }\n",
              "  "
            ]
          },
          "metadata": {}
        },
        {
          "output_type": "display_data",
          "data": {
            "text/plain": [
              "<IPython.core.display.Javascript object>"
            ],
            "application/javascript": [
              "download(\"download_8e5bdd25-b8f6-45df-b2b0-822e4b4b9425\", \"final_outputs.zip\", 494369)"
            ]
          },
          "metadata": {}
        }
      ]
    }
  ]
}